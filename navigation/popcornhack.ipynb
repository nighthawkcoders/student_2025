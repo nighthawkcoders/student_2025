
{
 "cells": [
  {
   "cell_type": "raw",
   "metadata": {
    "vscode": {
     "languageId": "raw"
    }
   },
   "source": [
    "---\n",
    "comments: true\n",
    "layout: post\n",
    "title: JavaScript Data Types and Operators\n",
    "description:Compound assingment.\n",
    "permalink: /popcornhack/\n",
    "categories: []\n",
    "courses: { csse: {week: 6} }\n",
    "type: ccc\n",
    "---"
   ]
  },
  {
   "cell_type": "markdown",
   "metadata": {},
   "source": [
    "### Compound Assignment\n",
    "\n"
   ]
  },
  {
   "cell_type": "code",
   "execution_count": 1,
   "metadata": {
    "vscode": {
     "languageId": "javascript"
    }
   },
    "outputs": [
    {
     "data": {
      "application/javascript": "\n/* Primitive Data Types\nThese are data types that store a single value.\n*/\n\n// Number: Represents numerical values, such as health and speed\nlet health = 100; // Integer\nlet playerSpeed = 5.75; // Float representing the player's speed\n\nconsole.log(\"Health (Number):\", health, \"Type:\", typeof health);\nconsole.log(\"Player Speed (Number):\", playerSpeed, \"Type:\", typeof playerSpeed);\n\n// String: Represents text, such as the user's name or keypress\nlet userName = \"Hero123\"; // User name\nlet keyPress = 'a'; // Keypress\n\nconsole.log(\"User Name (String):\", userName, \"Type:\", typeof userName);\nconsole.log(\"Key Press (String):\", keyPress, \"Type:\", typeof keyPress);\n\n// Compare single character to its ASCII value\nlet asciiValue = keyPress.charCodeAt(0);\nconsole.log(\"ASCII Value of Key Press:\", asciiValue, \"Type:\", typeof asciiValue);\nconsole.log(\"Is Key Press 'a' (ASCII 97)?\", asciiValue === 97);\n\n// Boolean: Represents true/false values, such as isAlive\nlet isAlive = true;\n\nconsole.log(\"Is Alive (Boolean):\", isAlive, \"Type:\", typeof isAlive);\n\n// Undefined: Represents a variable that has been declared but not yet assigned a value\nlet questReward;\n\nconsole.log(\"Quest Reward (Undefined):\", questReward, \"Type:\", typeof questReward);\n\n// Null: Represents the intentional absence of any object value, such as an empty inventory slot\nlet inventorySlot = null;\n\nconsole.log(\"Inventory Slot (Null):\", inventorySlot, \"Type:\", typeof inventorySlot);\n\n// Symbol: Represents a unique and immutable value, often used as unique identifiers for game objects\nlet uniqueID = Symbol('playerID');\n\nconsole.log(\"Unique ID (Symbol):\", uniqueID, \"Type:\", typeof uniqueID);\n\n// BigInt: Represents very large integers, such as the total time played in milliseconds\nlet totalTimePlayed = 1234567890123456789012345678901234567890n;\n\nconsole.log(\"Total Time Played (BigInt):\", totalTimePlayed, \"Type:\", typeof totalTimePlayed);\n\n/* Reference Data Types\nThese are data types that store references to memory locations.\n*/\n\n// Object: Represents a collection of key-value pairs, such as player attributes or game settings\nlet playerAttributes = {\n  name: \"Hero123\",\n  health: 100,\n  mana: 50\n};\n\nconsole.log(\"Player Attributes (Object):\", playerAttributes, \"Type:\", typeof playerAttributes);\n\n// Array: Represents an ordered collection of values, such as a list of high scores or inventory items\nlet highScores = [1500, 1200, 900, 600, 300];\n\nconsole.log(\"High Scores (Array):\", highScores, \"Type:\", typeof highScores);\n\n// Function: Represents a block of code designed to perform a specific task, such as attacking an enemy or saving the game\nfunction attackEnemy() {\n  console.log(\"Enemy attacked!\");\n}\n\nconsole.log(\"Attack Enemy (Function):\", attackEnemy, \"Type:\", typeof attackEnemy);\nattackEnemy();\n",
      "text/plain": [
       "<IPython.core.display.Javascript object>"
      ]
     },
     "metadata": {},
     "output_type": "display_data"
    }
   ],
   "source": [
    "%%js\n",
    "\n",
    "/* Primitive Data Types\n",
    "These are data types that store a single value.\n",
    "*/\n",
    "\n",
    "// Operation: += \n",
    "let number =100 \n",
     "number += 1 \n",
     "\n",
    "// Operation: -= \n",
    "let number =100 \n",
     "number -= 1 \n",
     "\n",
     "// Operation: *= \n",
    "let number =100 \n",
     "number *= 1 \n",
     "\n",
     "// Operation: /= \n",
    "let number =100 \n",
     "number /= 1 \n",
     "\n"
   ]
  },
{
   "cell_type": "markdown",
   "metadata": {},
   "source": [
    "### Popcorn Hack 1\n",
    "\n",
    "Make a code cell that show usage of compound assignment in a Data Type Operations."
   ]
  },
  {
   "cell_type": "markdown",
   "metadata": {},
   "source": [
    "## Scale a Block\n",
    "\n",
    "Scalling is an important Math operation that is used in Gaming.  This example is considering HD formats to construct a block."
   ]
  },
  {
   "cell_type": "code",
   "execution_count": 2,
   "metadata": {
    "vscode": {
     "languageId": "html"
    }
   },
   "outputs": [
    {
     "data": {
      "text/html": [
       "\n",
       "<p>This example uses data types, operators, and functions to scale a block based on a user-defined width.</p>\n",
       "\n",
       "<!-- Input definitions -->\n",
       "<div>\n",
       "  <label for=\"width\">Enter Width (1280, 1920, 2560, 3840):</label>\n",
       "  <input type=\"number\" id=\"width\" name=\"width\" min=\"1280\" max=\"3840\" step=\"640\" value=\"1280\">\n",
       "  <button onclick=\"submitScale()\">Submit</button>\n",
       "</div>\n",
       "\n",
       "<!-- Document Object Model (DOM) output locations -->\n",
       "<div id=\"output\"></div>\n",
       "<div id=\"error\"></div>\n",
       "\n",
       "<!-- Block display -->\n",
       "<div id=\"block\" style=\"width: 64px; height: 36px; background-color: red;\"></div>\n",
       "\n",
       "<script>\n",
       "\n",
       "  // Function to validate and output the scale value\n",
       "  function submitScale() {\n",
       "    const BLOCK_SCALE_DIVISOR = 20;\n",
       "    const ASPECT_RATIO = 9 / 16;\n",
       "    let block = document.getElementById('block');\n",
       "    let width = parseInt(document.getElementById('width').value);\n",
       "    \n",
       "    // Restrict sizes to common HD resolutions\n",
       "    if (width === 1280 || width === 1920 || width === 2560 || width === 3840) {\n",
       "      // Calculate height based on 16:9 aspect ratio\n",
       "      let height = Math.round(width * ASPECT_RATIO);\n",
       "      \n",
       "      // Calculate block size as 1/20th of the scale dimensions\n",
       "      let blockSize = Math.min(width, height) / BLOCK_SCALE_DIVISOR;\n",
       "      \n",
       "      // Set/clear error messages when the value is valid\n",
       "      document.getElementById('error').innerHTML = \"\";\n",
       "      // Output the scale value to the console\n",
       "      document.getElementById('output').innerHTML = \"Scale set to: \" + width + \" x \" + height + \" (Block size: \" + blockSize + \"px)\";\n",
       "      \n",
       "      // Adjust the size of the block\n",
       "      block.style.width = blockSize + \"px\";\n",
       "      block.style.height = blockSize * ASPECT_RATIO + \"px\";\n",
       "    } else {\n",
       "      // Set/clear output messages when there is an error\n",
       "      document.getElementById('output').innerHTML = \"\";\n",
       "      // Output an error message to the console\n",
       "      // Output an error message to the HTML page\n",
       "      document.getElementById('error').innerHTML = \"Invalid HD resolution: \" + width;\n",
       "\n",
       "      // Clear the block size\n",
       "      block.style.width = \"0px\";\n",
       "      block.style.height = \"0px\";\n",
       "    }\n",
       "    console.error(\"HD resolution:\", block.style.width, \"x\", block.style.height);\n",
       "  }\n",
       "</script>\n"
      ],
      "text/plain": [
       "<IPython.core.display.HTML object>"
      ]
     },
     "metadata": {},
     "output_type": "display_data"
    }
   ],
   "source": [
    "%%html \n",
    "\n",
    "<p>This example uses data types, operators, and functions to scale a block based on a user-defined width.</p>\n",
    "\n",
    "<!-- Input definitions -->\n",
    "<div>\n",
    "  <label for=\"width\">Enter Width (1280, 1920, 2560, 3840):</label>\n",
    "  <input type=\"number\" id=\"width\" name=\"width\" min=\"1280\" max=\"3840\" step=\"640\" value=\"1280\">\n",
    "  <button onclick=\"submitScale()\">Submit</button>\n",
    "</div>\n",
    "\n",
    "<!-- Document Object Model (DOM) output locations -->\n",
    "<div id=\"output\"></div>\n",
    "<div id=\"error\"></div>\n",
    "\n",
    "<!-- Block display -->\n",
    "<div id=\"block\" style=\"width: 64px; height: 36px; background-color: red;\"></div>\n",
    "\n",
    "<script>\n",
    "\n",
    "  // Function to validate and output the scale value\n",
    "  function submitScale() {\n",
    "    const BLOCK_SCALE_DIVISOR = 20;\n",
    "    const ASPECT_RATIO = 9 / 16;\n",
    "    let block = document.getElementById('block');\n",
    "    let width = parseInt(document.getElementById('width').value);\n",
    "    \n",
    "    // Restrict sizes to common HD resolutions\n",
    "    if (width === 1280 || width === 1920 || width === 2560 || width === 3840) {\n",
    "      // Calculate height based on 16:9 aspect ratio\n",
    "      let height = Math.round(width * ASPECT_RATIO);\n",
    "      \n",
    "      // Calculate block size as 1/20th of the scale dimensions\n",
    "      let blockSize = Math.min(width, height) / BLOCK_SCALE_DIVISOR;\n",
    "      \n",
    "      // Set/clear error messages when the value is valid\n",
    "      document.getElementById('error').innerHTML = \"\";\n",
    "      // Output the scale value to the console\n",
    "      document.getElementById('output').innerHTML = \"Scale set to: \" + width + \" x \" + height + \" (Block size: \" + blockSize + \"px)\";\n",
    "      \n",
    "      // Adjust the size of the block\n",
    "      block.style.width = blockSize + \"px\";\n",
    "      block.style.height = blockSize * ASPECT_RATIO + \"px\";\n",
    "    } else {\n",
    "      // Set/clear output messages when there is an error\n",
    "      document.getElementById('output').innerHTML = \"\";\n",
    "      // Output an error message to the console\n",
    "      // Output an error message to the HTML page\n",
    "      document.getElementById('error').innerHTML = \"Invalid HD resolution: \" + width;\n",
    "\n",
    "      // Clear the block size\n",
    "      block.style.width = \"0px\";\n",
    "      block.style.height = \"0px\";\n",
    "    }\n",
    "    console.error(\"HD resolution:\", block.style.width, \"x\", block.style.height);\n",
    "  }\n",
    "</script>"
   ]
  },
  {
   "cell_type": "markdown",
   "metadata": {},
   "source": [
    "### Popcorn Hack 2\n",
    "\n",
    "Make a code cell that changes block into a square, versus HD resolution"
   ]
  },
  {
   "cell_type": "markdown",
   "metadata": {},
   "source": [
    "## Placing a Block\n",
    "\n",
    "Often in gaming you will want to position on element in relationship to another."
   ]
  },
  {
   "cell_type": "code",
   "execution_count": 3,
   "metadata": {
    "vscode": {
     "languageId": "html"
    }
   },
   "outputs": [
    {
     "data": {
      "text/html": [
       "\n",
       "<p>This example uses data types, operators, and functions to scale a block based on a user-defined width.</p>\n",
       "\n",
       "<!-- Input definitions -->\n",
       "<div>\n",
       "  <label for=\"widthCanvas\">Enter Width (1280, 1920, 2560, 3840):</label>\n",
       "  <input type=\"number\" id=\"widthCanvas\" name=\"widthCanvas\" min=\"1280\" max=\"3840\" step=\"640\" value=\"1280\">\n",
       "  <button onclick=\"submitScaleImg()\">Submit</button>\n",
       "</div>\n",
       "\n",
       "<!-- Document Object Model (DOM) output locations -->\n",
       "<div id=\"outputMsg\"></div>\n",
       "<div id=\"errorMsg\"></div>\n",
       "\n",
       "<!-- Canvas for background display -->\n",
       "<canvas id=\"canvas\"></canvas>\n",
       "\n",
       "<script>\n",
       "  // Function to validate and output the scale value\n",
       "  function submitScaleImg() {\n",
       "    const BLOCK_SCALE_DIVISOR = 20;\n",
       "    const ASPECT_RATIO = 9 / 16;\n",
       "    const SCALE_DOWN_FACTOR = 0.5;\n",
       "    let canvas = document.getElementById('canvas');\n",
       "    let c = canvas.getContext('2d');\n",
       "    let width = parseInt(document.getElementById('widthCanvas').value);\n",
       "    \n",
       "    // Restrict sizes to common HD resolutions\n",
       "    if (width === 1280 || width === 1920 || width === 2560 || width === 3840) {\n",
       "      // Calculate height based on 16:9 aspect ratio\n",
       "      let height = Math.round(width * ASPECT_RATIO);\n",
       "      \n",
       "      // Set the canvas dimensions\n",
       "      canvas.width = width * SCALE_DOWN_FACTOR;\n",
       "      canvas.height = height * SCALE_DOWN_FACTOR;\n",
       "      \n",
       "      // Calculate block size as 1/20th of the scale dimensions and scale down by 50%\n",
       "      let blockSize = Math.min(width, height) / BLOCK_SCALE_DIVISOR;\n",
       "      \n",
       "      // Set/clear error messages when the value is valid\n",
       "      document.getElementById('errorMsg').innerHTML = \"\";\n",
       "      // Output the scale value to the console\n",
       "      document.getElementById('outputMsg').innerHTML = \"Scale set to: \" + width + \" x \" + height + \" (Block size: \" + blockSize + \"px)\";\n",
       "      \n",
       "      // Load background image\n",
       "      let imageBackground = new Image();\n",
       "      imageBackground.src = 'https://samayass.github.io/samayaCSA/images/background.png';\n",
       "      imageBackground.onload = function() {\n",
       "        // Clear the canvas before drawing\n",
       "        c.clearRect(0, 0, canvas.width, canvas.height);\n",
       "        // Draw the background image on the canvas\n",
       "        c.drawImage(imageBackground, 0, 0, canvas.width, canvas.height);\n",
       "        \n",
       "        // Draw the red block on the canvas\n",
       "        c.fillStyle = 'red';\n",
       "        c.fillRect((canvas.width - blockSize) / 2, (canvas.height - blockSize) / 2, blockSize, blockSize);\n",
       "      };\n",
       "    } else {\n",
       "      // Set/clear output messages when there is an error\n",
       "      document.getElementById('outputMsg').innerHTML = \"\";\n",
       "      // Output an error message to the console\n",
       "      console.error(\"Invalid HD resolution:\", width);\n",
       "      // Output an error message to the HTML page\n",
       "      document.getElementById('errorMsg').innerHTML = \"Invalid HD resolution: \" + width;\n",
       "      \n",
       "      // Clear the canvas\n",
       "      c.clearRect(0, 0, canvas.width, canvas.height);\n",
       "    }\n",
       "  }\n",
       "</script>\n"
      ],
      "text/plain": [
       "<IPython.core.display.HTML object>"
      ]
     },
     "metadata": {},
     "output_type": "display_data"
    }
   ],
   "source": [
    "%%html \n",
    "\n",
    "<p>This example uses data types, operators, and functions to scale a block based on a user-defined width.</p>\n",
    "\n",
    "<!-- Input definitions -->\n",
    "<div>\n",
    "  <label for=\"widthCanvas\">Enter Width (1280, 1920, 2560, 3840):</label>\n",
    "  <input type=\"number\" id=\"widthCanvas\" name=\"widthCanvas\" min=\"1280\" max=\"3840\" step=\"640\" value=\"1280\">\n",
    "  <button onclick=\"submitScaleImg()\">Submit</button>\n",
    "</div>\n",
    "\n",
    "<!-- Document Object Model (DOM) output locations -->\n",
    "<div id=\"outputMsg\"></div>\n",
    "<div id=\"errorMsg\"></div>\n",
    "\n",
    "<!-- Canvas for background display -->\n",
    "<canvas id=\"canvas\"></canvas>\n",
    "\n",
    "<script>\n",
    "  // Function to validate and output the scale value\n",
    "  function submitScaleImg() {\n",
    "    const BLOCK_SCALE_DIVISOR = 20;\n",
    "    const ASPECT_RATIO = 9 / 16;\n",
    "    const SCALE_DOWN_FACTOR = 0.5;\n",
    "    let canvas = document.getElementById('canvas');\n",
    "    let c = canvas.getContext('2d');\n",
    "    let width = parseInt(document.getElementById('widthCanvas').value);\n",
    "    \n",
    "    // Restrict sizes to common HD resolutions\n",
    "    if (width === 1280 || width === 1920 || width === 2560 || width === 3840) {\n",
    "      // Calculate height based on 16:9 aspect ratio\n",
    "      let height = Math.round(width * ASPECT_RATIO);\n",
    "      \n",
    "      // Set the canvas dimensions\n",
    "      canvas.width = width * SCALE_DOWN_FACTOR;\n",
    "      canvas.height = height * SCALE_DOWN_FACTOR;\n",
    "      \n",
    "      // Calculate block size as 1/20th of the scale dimensions and scale down by 50%\n",
    "      let blockSize = Math.min(width, height) / BLOCK_SCALE_DIVISOR;\n",
    "      \n",
    "      // Set/clear error messages when the value is valid\n",
    "      document.getElementById('errorMsg').innerHTML = \"\";\n",
    "      // Output the scale value to the console\n",
    "      document.getElementById('outputMsg').innerHTML = \"Scale set to: \" + width + \" x \" + height + \" (Block size: \" + blockSize + \"px)\";\n",
    "      \n",
    "      // Load background image\n",
    "      let imageBackground = new Image();\n",
    "      imageBackground.src = 'https://samayass.github.io/samayaCSA/images/background.png';\n",
    "      imageBackground.onload = function() {\n",
    "        // Clear the canvas before drawing\n",
    "        c.clearRect(0, 0, canvas.width, canvas.height);\n",
    "        // Draw the background image on the canvas\n",
    "        c.drawImage(imageBackground, 0, 0, canvas.width, canvas.height);\n",
    "        \n",
    "        // Draw the red block on the canvas\n",
    "        c.fillStyle = 'red';\n",
    "        c.fillRect((canvas.width - blockSize) / 2, (canvas.height - blockSize) / 2, blockSize, blockSize);\n",
    "      };\n",
    "    } else {\n",
    "      // Set/clear output messages when there is an error\n",
    "      document.getElementById('outputMsg').innerHTML = \"\";\n",
    "      // Output an error message to the console\n",
    "      console.error(\"Invalid HD resolution:\", width);\n",
    "      // Output an error message to the HTML page\n",
    "      document.getElementById('errorMsg').innerHTML = \"Invalid HD resolution: \" + width;\n",
    "      \n",
    "      // Clear the canvas\n",
    "      c.clearRect(0, 0, canvas.width, canvas.height);\n",
    "    }\n",
    "  }\n",
    "</script>"
   ]
  }
 ],
  "metadata": {
  "kernelspec": {
   "display_name": "venv",
   "language": "python",
   "name": "python3"
  },
  "language_info": {
   "codemirror_mode": {
    "name": "ipython",
    "version": 3
   },
   "file_extension": ".py",
   "mimetype": "text/x-python",
   "name": "python",
   "nbconvert_exporter": "python",
   "pygments_lexer": "ipython3",
   "version": "3.12.5"
  }
 },
 "nbformat": 4,
 "nbformat_minor": 2
}
