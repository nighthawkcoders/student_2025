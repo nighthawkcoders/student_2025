{
 "cells": [
  {
   "cell_type": "markdown",
   "metadata": {},
   "source": [
    "---\n",
    "layout: post\n",
    "title: Sprint 3 Reflection\n",
    "description: Reflection page \n",
    "permalink: /reflection3/\n",
    "---"
   ]
  },
  {
   "cell_type": "code",
   "execution_count": 16,
   "metadata": {},
   "outputs": [
    {
     "name": "stdout",
     "output_type": "stream",
     "text": [
      "On Sprint 3, our group struggled a lot on backend. We couldn't get the backend \n",
      " to work properly and when we thought we fixed the issue, we found that the posts \n",
      " we made were disappearing and likely going somewhere else. Our whole idea was to \n",
      " make a website where people could ask question on numerous subjects like math, \n",
      " history, science, coding, and more. People would be able to buy virtual coffee \n",
      " (for the aesthetics) in the cozy environment of a cafe. Our team didn't have much \n",
      " trouble with frontend and we made a lot of progress on it. We added a menu of \n",
      " coffee cups and altered the colors of our page to match the aesthetic of a cafe. \n",
      " However, on backend, we had no idea how to start and struggled with understanding \n",
      " postman. After going to Mr. Mortenson for help and asking other students, we managed \n",
      " to actually submit a post but the problem was that the post just disappeared from \n",
      " the text box.\n"
     ]
    }
   ],
   "source": [
    "print(\"On Sprint 3, our group  struggled a lot on backend. We couldn't get the backend \\n to work properly and when we thought we fixed the issue, we found that the posts \\n we made were disappearing and likely going somewhere else. Our whole idea was to \\n make a website where people could ask question on numerous subjects like math, \\n history, science, coding, and more. People would be able to buy virtual coffee \\n (for the aesthetics) in the cozy environment of a cafe. Our team didn't have much \\n trouble with frontend and we made a lot of progress on it. We added a menu of \\n coffee cups and altered the colors of our page to match the aesthetic of a cafe. \\n However, on backend, we had no idea how to start and struggled with understanding \\n postman. After going to Mr. Mortenson for help and asking other students, we managed \\n to actually submit a post but the problem was that the post just disappeared from \\n the text box.\")"
   ]
  }
 ],
 "metadata": {
  "kernelspec": {
   "display_name": "myenv",
   "language": "python",
   "name": "python3"
  },
  "language_info": {
   "codemirror_mode": {
    "name": "ipython",
    "version": 3
   },
   "file_extension": ".py",
   "mimetype": "text/x-python",
   "name": "python",
   "nbconvert_exporter": "python",
   "pygments_lexer": "ipython",
   "version": "3.12.3"
  }
 },
 "nbformat": 4,
 "nbformat_minor": 2
}
