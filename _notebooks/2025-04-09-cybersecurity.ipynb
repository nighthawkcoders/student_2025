{
 "cells": [
  {
   "cell_type": "markdown",
   "metadata": {},
   "source": [
    "---\n",
    "layout: post\n",
    "title: Cybersecurity Panel \n",
    "description: Cybersecurity Panel Reflection Blog\n",
    "permalink: /cybersecurity/\n",
    "---"
   ]
  },
  {
   "cell_type": "markdown",
   "metadata": {},
   "source": [
    "# Cyber Security Panel\n",
    "- Cybersecurity is a rapidly evolving field, and the threats are becoming more sophisticated, so it will become increasingly important to educate ourselves about cybersecurity and understand the risks and threats involved."
   ]
  },
  {
   "cell_type": "markdown",
   "metadata": {},
   "source": [
    "# Speakers\n",
    "- David Tomasz - Government\n",
    "- Tricia Mercer - Industry\n",
    "- Victor Nzeata - Academia"
   ]
  },
  {
   "cell_type": "markdown",
   "metadata": {},
   "source": [
    "# Cybersecurity Landscape: Real World Threats\n",
    "- Many foreign governments utilize agencies such as FBI to hunt to down threats such as harmful hackers.\n",
    "- Discovering old data can be really important to finding out who is behind a threat and protecting others' information in the future.\n",
    "- One real world example of an internal threat is an individual stealing company data and working with competing companys. This demonstrates that although there are many external threats, internal threats such as this can cause a huge impact and is something that we should be wary about.\n",
    "    - When private information and data is leaked like this, it can cause the downfall of a company or a business\n",
    "- AI is becoming a cyber attack weapon, therefore we now more than ever need to learn more about cybersecurity and educate ourselves on how to protect our information from these.\n",
    "- Even though policies and training are in place in many companies, there are still many threats such as phishing attacks that we are not aware of which are a real threat to accidentally leaking important information to a cybersecurity threat.\n",
    "- Ethical hacking is a real thing and is used to test the security of a system or network by simulating. Ethical hackerscan be asked to test their systems and networks to identify vulnerabilities and weaknesses.\n",
    "- The ethical concerns about ethical hacking can be if a person puts in a backdoor. This allows the hacker to access the system without the owner's knowledge or consent which violates the ethical principles of hacking. \n",
    "    - Personal moral principles are important to consider when it comes to ethical hacking because ethical hackers should be trusted individuals"
   ]
  },
  {
   "cell_type": "markdown",
   "metadata": {},
   "source": [
    "# Career Opportunities\n",
    "- You can really become someone who tracks down criminals in career opportunities in cybersecurity. \n",
    "- When it comes to learning about computers, it is do-able for everyone as long as you have the discipline and drive to do so. This is the very first step you have to take if you want to pursue a career in cybersecurity.\n",
    "- In cybersecurity, there is always something that poses as a threat whether that be AI, developing computer systems, and more.\n",
    "- If you really want to pursue a career in cybersecurity:\n",
    "    - Have soft skills and develop leadership skills\n",
    "    - Be someone who others find trustworthy and reliable\n",
    "    - Have a degree in IT\n",
    "    - Understand the basics of computing\n",
    "    - Explore the different areas of cybersecurity\n",
    "    - Learn curiously\n",
    "- One of the challenges in the business/industrial world of cybersecurity is convincing business leaders that cybersecurity is a critical investment and how to articulate it into non-technical terms to get others to understand the value of cybersecurity.\n",
    "- From the perspective of an government enforcement organization, one of the challenges was learning and picking things up very quickly and convinving others to report things that they find suscpicious.\n",
    "- One challenge met by the academica world of cybersecurity is having a trustworthy human element in cybersecurity."
   ]
  },
  {
   "cell_type": "markdown",
   "metadata": {},
   "source": [
    "# Future of Cybersecurity\n",
    "\n",
    "- Specialization (in IT and cybersecurity) in a workforce that has the same technical skills of a hacker or an external threat.\n",
    "- AI is likely to replace a significant portion of cybersecurity jobs in 5-10 years.\n",
    "- In the future, many more businesses and companies will prioritize the investment in cybersecurity.\n",
    "    - Area of opportunity: Not many people understand or know how to read software code and understand the vulnerabilities in it while also knowing how to fix them.\n",
    "- Cybersecurity is a rapidly evolving field, and the threats are becoming more sophisticated.\n",
    "- Learn to collaborate with others and be a people person because it will create many more opportunities in the future."
   ]
  },
  {
   "cell_type": "markdown",
   "metadata": {},
   "source": [
    "# Key Takeaways\n",
    "\n",
    "Cybersecurity is becoming increasingly important as cybersecuirty threats grow more advanced, with risks coming from not just external hackers, but internal threats as well. For students with curiosity, discipline, and strong ethical values, the cybersecurity field offers a lot of different job opportunities and one of the suggestions by the panel speakers is to be outgoing and friendly to maxmiize your opportunities. From ethical hacking to AI-driven attacks, the field is constantly evolving, requiring professionals to stay informed, trustworthy, and adaptable. Success in cybersecurity means not just understanding technology but also being able to communicate its importance to others. As more businesses prioritize cybersecurity, those who can read code, spot vulnerabilities, and collaborate well will be especially valuable and important to keep up with the rise of threats in the future."
   ]
  },
  {
   "cell_type": "markdown",
   "metadata": {},
   "source": [
    "# Reflection\n",
    "From this panel, I learned that cybersecurity is not just about having technical skills, but is also about people, trust, and preparation (meaning that you have to always stay one step ahead of evolving threats). If I choose to pursue a career in cyber security, I learned that I should start by exploring different areas of cybersecurity and building a stronger foundation in IT and understand the basics of coding. This panel motivated me to stay curious, taught me about the importance and applications of cybersecurity, and possibly consider a future in cybersecurity."
   ]
  }
 ],
 "metadata": {
  "kernelspec": {
   "display_name": "myenv",
   "language": "python",
   "name": "python3"
  },
  "language_info": {
   "codemirror_mode": {
    "name": "ipython",
    "version": 3
   },
   "file_extension": ".py",
   "mimetype": "text/x-python",
   "name": "python",
   "nbconvert_exporter": "python",
   "pygments_lexer": "ipython3",
   "version": "3.12.3"
  }
 },
 "nbformat": 4,
 "nbformat_minor": 2
}
