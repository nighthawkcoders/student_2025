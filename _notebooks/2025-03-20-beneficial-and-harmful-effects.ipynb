{
 "cells": [
  {
   "cell_type": "markdown",
   "metadata": {},
   "source": [
    "---\n",
    "layout: post\n",
    "title: Beneficial and Harmful Effects\n",
    "description: Notes and Homework\n",
    "permalink: /effects/\n",
    "---"
   ]
  },
  {
   "cell_type": "markdown",
   "metadata": {},
   "source": [
    "**Notes:**\n",
    "**Beneficial effects: technological advancements to help others**\n",
    "- Automated telephone trees: what companies use to redirect you based on your needs\n",
    "- Science and technology: data sequencing, MRI scanning --> allows scientists to develop new medicines and diagnose diseases efficiently\n",
    "- Access to education: encyclopedias, articles, etc. --> databases and other information is more accessible.\n",
    "**- Harmful effects: misuse of technology** \n",
    "- Unsafe Use/Cyberbullying: younger demographics are more susceptible to online scams, inappropriate content, predators, and cyberbullying. \n",
    "- Social media: low self-esteem, dangerous trends, suicide, etc.\n",
    "- Technological Dilemnas - Automated cars: computers might not make the right decision so we shouldn't blindly trust cars while people might freeze up in dangerous situations\n",
    "- **Neutral: potential to have both benefit and harm**\n",
    "-  AI: easy to use and could be beneficial to students but it is known to contribute to global warming and schools argue that AI is taking away from student's learning experiences and replacing their critical thinking skills\n",
    "UAVs/Drones: Drones can be used for search and rescue and to ensure human safety. However, some argue that they violate their security, and unauthorized drones can lead to costly repairs. \n",
    "- Gene Editing: Scientists can better understand how to treat things like genetic diseases and how to make crops pest-resistant in agriculture. It can cause fatal damage in the organisms and also affect future generations of the organism.\n",
    "\n",
    "**Homework:**\n",
    "- Based on the brainstorming you did during the lesson, pick a beneficial or harmful effect and in 5 sentences fully explain why you think this topic is beneficial of harmful.\n",
    "- On the topic of AI, a harmful effect of it is that it takes away from our critical thinking abilities and students' learning experiences in schools. This topic is harmful because AI can easily be used by students in a non-constructive way. For example, people could use Chat GPT or another AI application to write their homework or assignments without taking the time to understand them themselves. When we expect AI to do everything for us, we get less out of the learning experience, like the claims say, and it takes away from the whole point of education. That being said, AI applications still carry many benefits for students, and this is just onw negative example of how it affects our learning."
   ]
  }
 ],
 "metadata": {
  "kernelspec": {
   "display_name": "myenv",
   "language": "python",
   "name": "python3"
  },
  "language_info": {
   "codemirror_mode": {
    "name": "ipython",
    "version": 3
   },
   "file_extension": ".py",
   "mimetype": "text/x-python",
   "name": "python",
   "nbconvert_exporter": "python",
   "pygments_lexer": "ipython3",
   "version": "3.12.3"
  }
 },
 "nbformat": 4,
 "nbformat_minor": 2
}
