{
 "cells": [
  {
   "cell_type": "markdown",
   "metadata": {},
   "source": [
    "---\n",
    "layout: post\n",
    "title: Digital Divide\n",
    "description: Notes and Homework\n",
    "permalink: /divide/\n",
    "---"
   ]
  },
  {
   "cell_type": "markdown",
   "metadata": {},
   "source": [
    "**Notes:**\n",
    "**Digital Divide**\n",
    "Some people don't have access to the Internet, so they don't share the same economic privileges as others.\n",
    "- Lower-income potential, poor health income, isolation, etc.\n",
    "- Ethical and societal issues --> unfair/unequal opportunities caused by the digital divide, social justice, responsibility, etc.\n",
    "- Solutions --> subsidize devices and internet costs, create inclusive technologies, assist struggling communities, public policies prioritizing digital equity --> promote equal access to the internet\n",
    "\n",
    "- 5 sentences about the digital divide in your community. \n",
    "- How location, socio-economic position, etc. can do this\n",
    "- How can you personally help bridge this gap (eg. supporting community-based tech projects)\n",
    "\n",
    "- One example of the digital divide in our community is that many students rely on using their school Chromebooks to participate in class and complete their homework. While having school Chromebooks in itself is a solution to challenge the digital divide in our community, students who can't afford a personal computer are limited in what they can do. The digital divide can be caused by a multitude of reasons, having a lower socio-economic status, living in a location with limited access to technology, and lack of infrastructure, and more. Students who solely rely on their school Chromebooks face limitations when it comes to privacy, access to websites, limited software compatibility/functionality, and more. These factors could discourage these students from pursuing education and/or inhibit the quality of their educational experiences, hence creating the digital divide. Some ways I could help bridge this gap could be by advocating for the implementation of digital inclusion policies and supporting technical projects and local programs. A more personal way I could achieve this may be by giving a lightly used, functional computer to somebody who needs it if I no longer need it. "
   ]
  }
 ],
 "metadata": {
  "kernelspec": {
   "display_name": "myenv",
   "language": "python",
   "name": "python3"
  },
  "language_info": {
   "codemirror_mode": {
    "name": "ipython",
    "version": 3
   },
   "file_extension": ".py",
   "mimetype": "text/x-python",
   "name": "python",
   "nbconvert_exporter": "python",
   "pygments_lexer": "ipython3",
   "version": "3.12.3"
  }
 },
 "nbformat": 4,
 "nbformat_minor": 2
}
