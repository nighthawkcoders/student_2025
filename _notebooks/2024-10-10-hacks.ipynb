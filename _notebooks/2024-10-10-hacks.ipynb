{
 "cells": [
  {
   "cell_type": "raw",
   "metadata": {
    "vscode": {
     "languageId": "raw"
    }
   },
   "source": [
    "Link to individual issue: https://github.com/zoeqinhe/zoehe_2025/issues/9"
   ]
  },
  {
   "cell_type": "markdown",
   "metadata": {},
   "source": [
    "---\n",
    "layout: post\n",
    "title: Hacks/Homework\n",
    "description: python3 Notebook 📖\n",
    "permalink: /HACKS/\n",
    "---"
   ]
  },
  {
   "cell_type": "markdown",
   "metadata": {},
   "source": [
    "## 3.1.1 Homework"
   ]
  },
  {
   "cell_type": "code",
   "execution_count": 1,
   "metadata": {},
   "outputs": [
    {
     "name": "stdout",
     "output_type": "stream",
     "text": [
      "Hotpot (Extra spicy) costs $12.50\n"
     ]
    }
   ],
   "source": [
    "# Popcorn Hack 1 Pascal_case\n",
    "MyFavoriteSport = \"Tennis\"\n",
    "\n",
    "# Popcorn Hack 2 Camel_case\n",
    "myFavoriteNumber = 24\n",
    "\n",
    "# Popcorn Hack 3 Strings\n",
    "favoriteFood = \"Hotpot\"          # String variable\n",
    "levelOfSpice = \"Extra spicy\"     # String variable\n",
    "foodPrice = 12.50                # Float variable\n",
    "\n",
    "# Print statement (fixed)\n",
    "print(f\"{favoriteFood} ({levelOfSpice}) costs ${foodPrice:.2f}\")\n"
   ]
  },
  {
   "cell_type": "markdown",
   "metadata": {},
   "source": [
    "## 3.1.2 Homework"
   ]
  },
  {
   "cell_type": "code",
   "execution_count": 2,
   "metadata": {},
   "outputs": [
    {
     "name": "stdout",
     "output_type": "stream",
     "text": [
      "Dogs (Type: <class 'str'>)\n",
      "100 (Type: <class 'int'>)\n",
      "45.67 (Type: <class 'float'>)\n",
      "False (Type: <class 'bool'>)\n",
      "[1, 2, 3] (Type: <class 'list'>)\n"
     ]
    }
   ],
   "source": [
    "# Hack 1\n",
    "# Step 1: Initialize the variable\n",
    "myVariable = \"Dogs\"  # Start as a string\n",
    "print(f\"{myVariable} (Type: {type(myVariable)})\")\n",
    "\n",
    "# Step 2: Reassign a new type\n",
    "myVariable = 100  # Change to an integer\n",
    "print(f\"{myVariable} (Type: {type(myVariable)})\")\n",
    "\n",
    "# Step 3: Reassign to another type\n",
    "myVariable = 45.67  # Change to a float\n",
    "print(f\"{myVariable} (Type: {type(myVariable)})\")\n",
    "\n",
    "# Step 4: Reassign to a boolean\n",
    "myVariable = False  # Change to a boolean\n",
    "print(f\"{myVariable} (Type: {type(myVariable)})\")\n",
    "\n",
    "# Step 5: Reassign to a list\n",
    "myVariable = [1, 2, 3]  # Change to a list\n",
    "print(f\"{myVariable} (Type: {type(myVariable)})\")"
   ]
  },
  {
   "cell_type": "code",
   "execution_count": 3,
   "metadata": {},
   "outputs": [
    {
     "name": "stdout",
     "output_type": "stream",
     "text": [
      "a = 10\n",
      "b = 5\n"
     ]
    }
   ],
   "source": [
    "# Hack 2\n",
    "# Step 1: Initialize variables\n",
    "a = 5\n",
    "b = 10\n",
    "\n",
    "# Step 2: Swap values without using a temporary variable\n",
    "a = a + b  # Step 2a: a now holds the sum of a and b\n",
    "b = a - b  # Step 2b: b now holds the original value of a\n",
    "a = a - b  # Step 2c: a now holds the original value of b\n",
    "\n",
    "# Step 3: Print the swapped values\n",
    "print(\"a =\", a)\n",
    "print(\"b =\", b)\n"
   ]
  },
  {
   "cell_type": "code",
   "execution_count": 4,
   "metadata": {},
   "outputs": [
    {
     "name": "stdout",
     "output_type": "stream",
     "text": [
      "a and b point to the same memory address: 140581196776976\n"
     ]
    }
   ],
   "source": [
    "# Hack 3\n",
    "# Step 1: Assign the same value to two variables\n",
    "a = 42\n",
    "b = 42\n",
    "\n",
    "# Step 2: Compare memory addresses\n",
    "address_a = id(a)\n",
    "address_b = id(b)\n",
    "\n",
    "# Step 3: Print whether they are stored at the same location\n",
    "if address_a == address_b:\n",
    "    print(\"a and b point to the same memory address:\", address_a)\n",
    "else:\n",
    "    print(\"a and b point to different memory addresses:\", address_a, address_b)\n"
   ]
  },
  {
   "cell_type": "markdown",
   "metadata": {},
   "source": [
    "## Hack 3.1.4"
   ]
  },
  {
   "cell_type": "code",
   "execution_count": 5,
   "metadata": {},
   "outputs": [
    {
     "name": "stdout",
     "output_type": "stream",
     "text": [
      "John Doe, aged 30, can be contacted at johndoe@example.com and has a balance of $1500.00 in his account.\n"
     ]
    }
   ],
   "source": [
    "# Hack 1\n",
    "# User Profile Variables\n",
    "full_name = \"John Doe\"  # User's full name\n",
    "age = 30                 # User's age\n",
    "email = \"johndoe@example.com\"  # User's email\n",
    "account_balance = 1500.00  # User's account balance\n",
    "\n",
    "# Display the information\n",
    "print(f\"{full_name}, aged {age}, can be contacted at {email} and has a balance of ${account_balance:.2f} in his account.\")\n"
   ]
  },
  {
   "cell_type": "code",
   "execution_count": 6,
   "metadata": {},
   "outputs": [
    {
     "name": "stdout",
     "output_type": "stream",
     "text": [
      "The store has 10 units of Laptops priced at $1200.00 each.\n",
      "The store has 25 units of Smartphones priced at $800.00 each.\n"
     ]
    }
   ],
   "source": [
    "# Hack 2\n",
    "# Product 1 Information\n",
    "product_name1 = \"Laptops\"        # Name of the first product\n",
    "product_price1 = 1200.00         # Price of the first product\n",
    "product_stock1 = 10               # Stock quantity of the first product\n",
    "\n",
    "# Product 2 Information\n",
    "product_name2 = \"Smartphones\"     # Name of the second product\n",
    "product_price2 = 800.00           # Price of the second product\n",
    "product_stock2 = 25                # Stock quantity of the second product\n",
    "\n",
    "# Output messages\n",
    "print(f\"The store has {product_stock1} units of {product_name1} priced at ${product_price1:.2f} each.\")\n",
    "print(f\"The store has {product_stock2} units of {product_name2} priced at ${product_price2:.2f} each.\")\n"
   ]
  },
  {
   "cell_type": "code",
   "execution_count": 7,
   "metadata": {},
   "outputs": [
    {
     "name": "stdout",
     "output_type": "stream",
     "text": [
      "The total price for 3 items each priced at $20.0 with a tax rate of 10.0% is $66.00.\n"
     ]
    }
   ],
   "source": [
    "# Hack 3\n",
    "# Define the variables\n",
    "itemPrice = 20.00  # price of a single item\n",
    "quantity = 3       # number of items ordered\n",
    "taxRate = 0.10     # tax rate (10%)\n",
    "\n",
    "# Calculate the total price before tax\n",
    "totalPriceBeforeTax = itemPrice * quantity\n",
    "\n",
    "# Calculate the total tax\n",
    "totalTax = totalPriceBeforeTax * taxRate\n",
    "\n",
    "# Calculate the total price after tax\n",
    "totalPriceAfterTax = totalPriceBeforeTax + totalTax\n",
    "\n",
    "# Print the result\n",
    "print(f\"The total price for {quantity} items each priced at ${itemPrice} with a tax rate of {taxRate * 100}% is ${totalPriceAfterTax:.2f}.\")\n"
   ]
  },
  {
   "cell_type": "markdown",
   "metadata": {},
   "source": [
    "## Hack 3.2.1"
   ]
  },
  {
   "cell_type": "code",
   "execution_count": 8,
   "metadata": {},
   "outputs": [
    {
     "name": "stdout",
     "output_type": "stream",
     "text": [
      "{'fruits': ['apple', 'banana'], 'vegetables': ['carrot', 'broccoli'], 'grains': ['rice', 'quinoa']}\n"
     ]
    }
   ],
   "source": [
    "# Hack1\n",
    "# Creating a dictionary\n",
    "myDictionary = {\n",
    "    \"fruits\": [\"apple\", \"banana\"],\n",
    "    \"vegetables\": [\"carrot\", \"broccoli\"],\n",
    "    \"grains\": [\"rice\", \"quinoa\"]\n",
    "}\n",
    "\n",
    "# Print the dictionary\n",
    "print(myDictionary)\n"
   ]
  },
  {
   "cell_type": "code",
   "execution_count": 9,
   "metadata": {},
   "outputs": [
    {
     "name": "stdout",
     "output_type": "stream",
     "text": [
      "Original dictionary: {'name': 'Zoe', 'age': 16}\n",
      "Updated dictionary: {'name': 'Zoe', 'age': 16, 'city': 'San Diego'}\n"
     ]
    }
   ],
   "source": [
    "# Hack 2\n",
    "# Starting with the given dictionary\n",
    "person = {\"name\": \"Zoe\", \"age\": 16}\n",
    "\n",
    "# Print the original dictionary\n",
    "print(\"Original dictionary:\", person)\n",
    "\n",
    "# Adding a new key-value pair\n",
    "person[\"city\"] = \"San Diego\"\n",
    "\n",
    "# Updating an existing key\n",
    "person[\"age\"] = 16\n",
    "\n",
    "# Print the updated dictionary\n",
    "print(\"Updated dictionary:\", person)\n"
   ]
  },
  {
   "cell_type": "code",
   "execution_count": 10,
   "metadata": {},
   "outputs": [
    {
     "name": "stdout",
     "output_type": "stream",
     "text": [
      "{'name': 'Zoe', 'age': 17}\n"
     ]
    }
   ],
   "source": [
    "# Hack 3\n",
    "# Starting with the given dictionary\n",
    "person = {\"name\": \"Zoe\", \"age\": 16}\n",
    "\n",
    "# Update the age to 17\n",
    "person[\"age\"] = 17\n",
    "\n",
    "# Print the updated dictionary\n",
    "print(person)\n"
   ]
  },
  {
   "cell_type": "code",
   "execution_count": 11,
   "metadata": {},
   "outputs": [
    {
     "name": "stdout",
     "output_type": "stream",
     "text": [
      "{'name': 'Zoe', 'age': 17}\n"
     ]
    }
   ],
   "source": [
    "# Hack 4\n",
    "# Starting with the given dictionary\n",
    "person = {\"name\": \"Zoe\", \"age\": 16}\n",
    "\n",
    "# Update the age to 17\n",
    "person[\"age\"] = 17 \n",
    "\n",
    "# Print the updated dictionary\n",
    "print(person)\n"
   ]
  },
  {
   "cell_type": "markdown",
   "metadata": {},
   "source": [
    "## Hack 3.3"
   ]
  },
  {
   "cell_type": "code",
   "execution_count": 12,
   "metadata": {},
   "outputs": [
    {
     "name": "stdout",
     "output_type": "stream",
     "text": [
      "Addition: 13\n",
      "Subtraction: 7\n",
      "Division: 3.3333333333333335\n",
      "Modulus: 1\n",
      "Power: 1000\n"
     ]
    }
   ],
   "source": [
    "# Hack 1\n",
    "# Function to add two numbers\n",
    "def add(a, b):\n",
    "    return a + b\n",
    "\n",
    "# Function to subtract the second number from the first\n",
    "def subtract(a, b):\n",
    "    return a - b\n",
    "\n",
    "# Function to divide the first number by the second\n",
    "def divide(a, b):\n",
    "    # Check for division by zero to avoid an error\n",
    "    if b == 0:\n",
    "        return \"Error: Division by zero\"\n",
    "    return a / b  # Perform division\n",
    "\n",
    "# Function to find the modulus (remainder) of the first number divided by the second\n",
    "def modulus(a, b):\n",
    "    return a % b  # Return the remainder\n",
    "\n",
    "# Function to raise the first number to the power of the second\n",
    "def power(a, b):\n",
    "    return a ** b  # Perform exponentiation\n",
    "\n",
    "# Main block to demonstrate the functions\n",
    "if __name__ == \"__main__\":\n",
    "    # Define two numbers for demonstration\n",
    "    x = 10\n",
    "    y = 3\n",
    "\n",
    "    # Perform and print the results of various mathematical operations\n",
    "    print(\"Addition:\", add(x, y))          # Output: 13 (10 + 3)\n",
    "    print(\"Subtraction:\", subtract(x, y))  # Output: 7 (10 - 3)\n",
    "    print(\"Division:\", divide(x, y))        # Output: 3.333... (10 / 3)\n",
    "    print(\"Modulus:\", modulus(x, y))        # Output: 1 (10 % 3)\n",
    "    print(\"Power:\", power(x, y))            # Output: 1000 (10^3)\n"
   ]
  },
  {
   "cell_type": "code",
   "execution_count": 13,
   "metadata": {},
   "outputs": [
    {
     "name": "stdout",
     "output_type": "stream",
     "text": [
      "The point on the graph at x = 3 is y = 17\n"
     ]
    }
   ],
   "source": [
    "# Hack 2\n",
    "# Function to calculate the value of f(x) = 5x + 2\n",
    "def f(x):\n",
    "    return 5 * x + 2  # Multiply x by 5 and add 2 to get y\n",
    "\n",
    "# Example usage:\n",
    "x_value = 3  # Define a specific x value to evaluate the function\n",
    "y_value = f(x_value)  # Call the function f with x_value to calculate y\n",
    "\n",
    "# Print the result in a formatted string\n",
    "print(f\"The point on the graph at x = {x_value} is y = {y_value}\")  # Output: 17\n"
   ]
  },
  {
   "cell_type": "markdown",
   "metadata": {},
   "source": [
    "## Hack 3.5"
   ]
  },
  {
   "cell_type": "code",
   "execution_count": 14,
   "metadata": {
    "vscode": {
     "languageId": "javascript"
    }
   },
   "outputs": [
    {
     "ename": "SyntaxError",
     "evalue": "invalid syntax (4079455480.py, line 1)",
     "output_type": "error",
     "traceback": [
      "\u001b[0;36m  Cell \u001b[0;32mIn[14], line 1\u001b[0;36m\u001b[0m\n\u001b[0;31m    // Hack 1\u001b[0m\n\u001b[0m    ^\u001b[0m\n\u001b[0;31mSyntaxError\u001b[0m\u001b[0;31m:\u001b[0m invalid syntax\n"
     ]
    }
   ],
   "source": [
    "// Hack 1\n",
    "function goOutside(temperature, isRaining) {\n",
    "    // Check if the temperature is below 100 degrees and it is raining\n",
    "    if (temperature < 100 && isRaining) {\n",
    "        return true; // It is okay to go outside\n",
    "    }\n",
    "    // Check if the temperature is above 32 degrees and it is not raining\n",
    "    if (temperature > 32 && !isRaining) {\n",
    "        return true; // It is okay to go outside\n",
    "    }\n",
    "    // In all other cases, it is not okay to go outside\n",
    "    return false;\n",
    "}\n",
    "\n",
    "// Example usage:\n",
    "console.log(goOutside(70, false)); // Output: true (warm and not raining)\n",
    "console.log(goOutside(50, true));  // Output: true (cool but raining)\n",
    "console.log(goOutside(30, false)); // Output: false (too cold)\n",
    "console.log(goOutside(101, true)); // Output: false (too hot and raining)"
   ]
  },
  {
   "cell_type": "code",
   "execution_count": null,
   "metadata": {
    "vscode": {
     "languageId": "javascript"
    }
   },
   "outputs": [],
   "source": [
    "// Hack 2 \n",
    "// Expression 1 simplified using De Morgan's Law\n",
    "let isRaining = true; // example value\n",
    "let isCold = false;   // example value\n",
    "\n",
    "let stayInside1 = !isRaining || !isCold;\n",
    "console.log(\"Stay Inside (Expression 1):\", stayInside1); // Output: true\n",
    "\n",
    "// Expression 2 simplified using De Morgan's Law\n",
    "let stayInside2 = !isRaining && !isCold;\n",
    "console.log(\"Stay Inside (Expression 2):\", stayInside2); // Output: false\n",
    "\n"
   ]
  },
  {
   "cell_type": "code",
   "execution_count": 406,
   "metadata": {},
   "outputs": [
    {
     "name": "stdout",
     "output_type": "stream",
     "text": [
      "Hello, World!\n",
      "Welcome to python3 programming.\n",
      "Let's create some awesome scripts!\n",
      "No, I didn't encounter any errors in my code\n"
     ]
    }
   ],
   "source": [
    "# Hack 1 \n",
    "# Creating three strings\n",
    "string1 = \"Hello, World!\"\n",
    "string2 = \"Welcome to python3 programming.\"\n",
    "string3 = \"Let's create some awesome scripts!\"\n",
    "\n",
    "# Printing the strings\n",
    "print(string1)\n",
    "print(string2)\n",
    "print(string3)\n",
    "\n",
    "# Reflection\n",
    "print(\"No, I didn't encounter any errors in my code\")"
   ]
  },
  {
   "cell_type": "code",
   "execution_count": 407,
   "metadata": {},
   "outputs": [
    {
     "name": "stdout",
     "output_type": "stream",
     "text": [
      "My name is Zoe. I am 16 years old. My hobby is painting, my favorite food is hotpot, and I aspire to be a professor.\n"
     ]
    }
   ],
   "source": [
    "# Hack 2\n",
    "# Define strings for Zoe\n",
    "name = \"Zoe\"\n",
    "age = \"16\"  # Example age\n",
    "hobby = \"painting\"\n",
    "favorite_food = \"hotpot\"\n",
    "dream_job = \"professor\"\n",
    "\n",
    "# Concatenate strings\n",
    "introduction = \"My name is \" + name + \". I am \" + age + \" years old. My hobby is \" + hobby + \", my favorite food is \" + favorite_food + \", and I aspire to be a \" + dream_job + \".\"\n",
    "\n",
    "# Print the concatenated string\n",
    "print(introduction)\n"
   ]
  },
  {
   "cell_type": "markdown",
   "metadata": {},
   "source": [
    "## Hack 3.2.4"
   ]
  },
  {
   "cell_type": "code",
   "execution_count": 408,
   "metadata": {},
   "outputs": [
    {
     "name": "stdout",
     "output_type": "stream",
     "text": [
      "Original string: Hello, I'm Zoe!\n",
      "Reversed string: !eoZ m'I ,olleH\n"
     ]
    }
   ],
   "source": [
    "# Hack 1\n",
    "def reverse_string(input_string):\n",
    "    # Reverse the string using slicing\n",
    "    reversed_string = input_string[::-1]\n",
    "    return reversed_string\n",
    "\n",
    "# Example usage\n",
    "input_str = \"Hello, I'm Zoe!\"\n",
    "result = reverse_string(input_str)\n",
    "print(\"Original string:\", input_str)\n",
    "print(\"Reversed string:\", result)\n"
   ]
  },
  {
   "cell_type": "code",
   "execution_count": 409,
   "metadata": {},
   "outputs": [
    {
     "name": "stdout",
     "output_type": "stream",
     "text": [
      "The number of vowels in the string is: 9\n"
     ]
    }
   ],
   "source": [
    "# Hack 2\n",
    "def count_vowels(input_string):\n",
    "    # Define a set of vowels\n",
    "    vowels = 'aeiouAEIOU'\n",
    "    count = 0\n",
    "\n",
    "    # Iterate through each character in the string\n",
    "    for char in input_string:\n",
    "        if char in vowels:\n",
    "            count += 1\n",
    "\n",
    "    return count\n",
    "\n",
    "# Example usage\n",
    "input_str = \"Hello, Zoe! How are you?\"\n",
    "vowel_count = count_vowels(input_str)\n",
    "print(f\"The number of vowels in the string is: {vowel_count}\")"
   ]
  },
  {
   "cell_type": "code",
   "execution_count": 410,
   "metadata": {},
   "outputs": [
    {
     "name": "stdout",
     "output_type": "stream",
     "text": [
      "Original string: abc is a simple abc test.\n",
      "Modified string: xyz is a simple xyz test.\n"
     ]
    }
   ],
   "source": [
    "# Hack 3\n",
    "def replace_abc_with_xyz(input_string):\n",
    "    # Replace 'abc' with 'xyz'\n",
    "    modified_string = input_string.replace('abc', 'xyz')\n",
    "    return modified_string\n",
    "\n",
    "# Example usage\n",
    "input_str = \"abc is a simple abc test.\"\n",
    "result = replace_abc_with_xyz(input_str)\n",
    "print(\"Original string:\", input_str)\n",
    "print(\"Modified string:\", result)"
   ]
  },
  {
   "cell_type": "code",
   "execution_count": 411,
   "metadata": {},
   "outputs": [
    {
     "name": "stdout",
     "output_type": "stream",
     "text": [
      "Is the string \"A man, a plan, a canal, Panama!\" a palindrome? True\n"
     ]
    }
   ],
   "source": [
    "# Hack 4\n",
    "import string\n",
    "\n",
    "def is_palindrome(input_string):\n",
    "    # Remove spaces and punctuation, and convert to lowercase\n",
    "    cleaned_string = ''.join(char.lower() for char in input_string if char.isalnum())\n",
    "    \n",
    "    # Check if the cleaned string is the same forwards and backwards\n",
    "    return cleaned_string == cleaned_string[::-1]\n",
    "\n",
    "# Example usage\n",
    "input_str = \"A man, a plan, a canal, Panama!\"\n",
    "result = is_palindrome(input_str)\n",
    "print(f'Is the string \"{input_str}\" a palindrome? {result}')\n"
   ]
  },
  {
   "cell_type": "code",
   "execution_count": 412,
   "metadata": {},
   "outputs": [
    {
     "name": "stdout",
     "output_type": "stream",
     "text": [
      "The longest word is: programming\n"
     ]
    }
   ],
   "source": [
    "# Hack 5\n",
    "def find_longest_word(sentence):\n",
    "    # Split the sentence into words\n",
    "    words = sentence.split()\n",
    "    \n",
    "    # Initialize variables to keep track of the longest word\n",
    "    longest_word = \"\"\n",
    "    \n",
    "    # Iterate through the words to find the longest one\n",
    "    for word in words:\n",
    "        # Update longest_word if the current word is longer\n",
    "        if len(word) > len(longest_word):\n",
    "            longest_word = word\n",
    "    \n",
    "    return longest_word\n",
    "\n",
    "# Example usage\n",
    "input_sentence = \"I enjoy learning new programming languages every day.\"\n",
    "longest_word = find_longest_word(input_sentence)\n",
    "print(\"The longest word is:\", longest_word)\n"
   ]
  },
  {
   "cell_type": "code",
   "execution_count": 413,
   "metadata": {},
   "outputs": [
    {
     "name": "stdout",
     "output_type": "stream",
     "text": [
      "The total sum of numbers is: 15\n"
     ]
    }
   ],
   "source": [
    "# Hack 6\n",
    "def sum_numbers_in_string(input_string):\n",
    "    # Initialize total sum\n",
    "    total_sum = 0\n",
    "    \n",
    "    # Split the string into words\n",
    "    words = input_string.split()\n",
    "    \n",
    "    # Iterate through each word\n",
    "    for word in words:\n",
    "        # Check if the word is a digit and convert it to an integer\n",
    "        if word.isdigit():\n",
    "            total_sum += int(word)\n",
    "    \n",
    "    return total_sum\n",
    "\n",
    "# Example usage\n",
    "input_str = \"I have 2 apples and 3 oranges, plus 10 bananas.\"\n",
    "total = sum_numbers_in_string(input_str)\n",
    "print(\"The total sum of numbers is:\", total)\n"
   ]
  },
  {
   "cell_type": "markdown",
   "metadata": {},
   "source": [
    "## Hack 3.4.3"
   ]
  },
  {
   "cell_type": "code",
   "execution_count": 414,
   "metadata": {},
   "outputs": [
    {
     "name": "stdout",
     "output_type": "stream",
     "text": [
      "Concatenation Message:\n",
      "Hello, my name is Zoe. I am 16 years old and I live in San Diego.\n",
      "\n",
      "Interpolation Message:\n",
      "Hello, my name is Zoe. I am 16 years old and I live in San Diego.\n"
     ]
    }
   ],
   "source": [
    "# Hack 1\n",
    "# Define the variables\n",
    "name = \"Zoe\"\n",
    "age = 16\n",
    "city = \"San Diego\"\n",
    "\n",
    "# Using concatenation\n",
    "message_concatenation = \"Hello, my name is \" + name + \". I am \" + str(age) + \" years old and I live in \" + city + \".\"\n",
    "print(\"Concatenation Message:\")\n",
    "print(message_concatenation)\n",
    "\n",
    "# Using string interpolation (f-string)\n",
    "message_interpolation = f\"Hello, my name is {name}. I am {age} years old and I live in {city}.\"\n",
    "print(\"\\nInterpolation Message:\")\n",
    "print(message_interpolation)\n"
   ]
  },
  {
   "cell_type": "code",
   "execution_count": 415,
   "metadata": {},
   "outputs": [
    {
     "name": "stdout",
     "output_type": "stream",
     "text": [
      "Extracted word 'quick': quick\n",
      "Extracted word 'lazy': lazy\n",
      "Everything from 'fox' to the end: fox jumps over the lazy dog\n"
     ]
    }
   ],
   "source": [
    "# Given string\n",
    "sentence = \"The quick brown fox jumps over the lazy dog\"\n",
    "\n",
    "# Extract the word \"quick\"\n",
    "quick = sentence[4:9]  # Slicing from index 4 to index 9\n",
    "\n",
    "# Extract the word \"lazy\" using a negative starting index\n",
    "lazy = sentence[-8:-4]  # Slicing from index -8 to index -4\n",
    "\n",
    "# Extract everything from the word \"fox\" to the end of the sentence\n",
    "from_fox_to_end = sentence[16:]  # Slicing from index 16 to the end\n",
    "\n",
    "# Output the extractions\n",
    "print(\"Extracted word 'quick':\", quick)\n",
    "print(\"Extracted word 'lazy':\", lazy)\n",
    "print(\"Everything from 'fox' to the end:\", from_fox_to_end)\n"
   ]
  },
  {
   "cell_type": "code",
   "execution_count": 416,
   "metadata": {},
   "outputs": [
    {
     "name": "stdout",
     "output_type": "stream",
     "text": [
      "Updated string: Al-Andalus, Song Dynasty, The Triple Alliance, Byzantine Empire\n"
     ]
    }
   ],
   "source": [
    "# Given string\n",
    "original_string = \"Spain, Song Dynasty, Aztecs, Byzantine Empire\"\n",
    "\n",
    "# Replace \"Spain\" with \"Al-Andalus\" and \"Aztecs\" with \"The Triple Alliance\"\n",
    "updated_string = original_string.replace(\"Spain\", \"Al-Andalus\").replace(\"Aztecs\", \"The Triple Alliance\")\n",
    "\n",
    "# Output the updated string\n",
    "print(\"Updated string:\", updated_string)"
   ]
  },
  {
   "cell_type": "markdown",
   "metadata": {},
   "source": [
    "## Hack 3.4.4"
   ]
  },
  {
   "cell_type": "code",
   "execution_count": 417,
   "metadata": {},
   "outputs": [
    {
     "name": "stdout",
     "output_type": "stream",
     "text": [
      "List of countries in Africa:\n",
      "['Algeria', 'Angola', 'Benin', 'Botswana', 'Burkina Faso', 'Burundi', 'Cabo Verde', 'Cameroon', 'Central African Republic', 'Chad', 'Comoros', 'Congo (Congo-Brazzaville)', 'Cote d’Ivoire', 'Djibouti', 'DR Congo (Congo-Kinshasa)', 'Egypt', 'Equatorial Guinea', 'Eritrea', 'Eswatini', 'Ethiopia', 'Gabon', 'Gambia', 'Ghana', 'Guinea', 'Guinea-Bissau', 'Kenya', 'Lesotho', 'Liberia', 'Libya', 'Madagascar', 'Malawi', 'Mali', 'Mauritania', 'Mauritius', 'Morocco', 'Mozambique', 'Namibia', 'Niger', 'Nigeria', 'Rwanda', 'Sao Tome and Principe', 'Senegal', 'Seychelles', 'Sierra Leone', 'Somalia', 'South Africa', 'South Sudan', 'Sudan', 'Tanzania', 'Togo', 'Tunisia', 'Uganda', 'Zambia', 'Zimbabwe']\n"
     ]
    }
   ],
   "source": [
    "# Hack 1\n",
    "# Given string of countries in Africa\n",
    "countries_string = \"Algeria, Angola, Benin, Botswana, Burkina Faso, Burundi, Cabo Verde, Cameroon, Central African Republic, Chad, Comoros, Congo (Congo-Brazzaville), Cote d’Ivoire, Djibouti, DR Congo (Congo-Kinshasa), Egypt, Equatorial Guinea, Eritrea, Eswatini, Ethiopia, Gabon, Gambia, Ghana, Guinea, Guinea-Bissau, Kenya, Lesotho, Liberia, Libya, Madagascar, Malawi, Mali, Mauritania, Mauritius, Morocco, Mozambique, Namibia, Niger, Nigeria, Rwanda, Sao Tome and Principe, Senegal, Seychelles, Sierra Leone, Somalia, South Africa, South Sudan, Sudan, Tanzania, Togo, Tunisia, Uganda, Zambia, Zimbabwe\"\n",
    "\n",
    "# Convert the string to a list using split()\n",
    "countries_list = countries_string.split(\", \")\n",
    "\n",
    "# Output the list of countries\n",
    "print(\"List of countries in Africa:\")\n",
    "print(countries_list)\n"
   ]
  },
  {
   "cell_type": "code",
   "execution_count": 418,
   "metadata": {},
   "outputs": [
    {
     "name": "stdout",
     "output_type": "stream",
     "text": [
      "Hello, my name is Zoe. I am 16 years old. My favorite food is hotpot and my favorite book is 'nightingale'.\n"
     ]
    }
   ],
   "source": [
    "# Prompt the user for their details\n",
    "name = input(\"Please enter your name: \")\n",
    "age = input(\"Please enter your age: \")\n",
    "favorite_food = input(\"Please enter your favorite food: \")\n",
    "favorite_book = input(\"Please enter your favorite book: \")\n",
    "\n",
    "# Create a cohesive message using f-string interpolation\n",
    "message = f\"Hello, my name is {name}. I am {age} years old. My favorite food is {favorite_food} and my favorite book is '{favorite_book}'.\"\n",
    "\n",
    "# Output the message\n",
    "print(message)\n"
   ]
  },
  {
   "cell_type": "code",
   "execution_count": 419,
   "metadata": {},
   "outputs": [
    {
     "name": "stdout",
     "output_type": "stream",
     "text": [
      "Cleaned message: The secret to life is (redacted)\n"
     ]
    },
    {
     "data": {
      "text/plain": [
       "42"
      ]
     },
     "execution_count": 419,
     "metadata": {},
     "output_type": "execute_result"
    }
   ],
   "source": [
    "# Hack 3\n",
    "# Given message with noise\n",
    "noisy_message = \"The...secret...to...life...is...(redacted)\"\n",
    "\n",
    "# Remove the \"...\" using replace() method\n",
    "cleaned_message = noisy_message.replace(\"...\", \" \")\n",
    "\n",
    "# Output the cleaned message\n",
    "print(\"Cleaned message:\", cleaned_message)\n",
    "a"
   ]
  },
  {
   "cell_type": "code",
   "execution_count": 420,
   "metadata": {},
   "outputs": [
    {
     "name": "stdout",
     "output_type": "stream",
     "text": [
      "Cleaned output: f\n"
     ]
    }
   ],
   "source": [
    "# Prompt the user for input\n",
    "user_input = input(\"Please enter a string (with possible '...'): \")\n",
    "\n",
    "# Remove \"...\" from the user input\n",
    "cleaned_input = user_input.replace(\"...\", \" \")\n",
    "\n",
    "# Output the cleaned string\n",
    "print(\"Cleaned output:\", cleaned_input)\n"
   ]
  },
  {
   "cell_type": "markdown",
   "metadata": {},
   "source": [
    "## 3.8 Hacks"
   ]
  },
  {
   "cell_type": "code",
   "execution_count": 43,
   "metadata": {},
   "outputs": [
    {
     "name": "stdout",
     "output_type": "stream",
     "text": [
      "The factorial of 9 is 362880.\n",
      "The factorial of 10 is 3628800.\n",
      "The factorial of 11 is 39916800.\n",
      "The factorial of 12 is 479001600.\n",
      "The factorial of 13 is 6227020800.\n"
     ]
    }
   ],
   "source": [
    "# Hack 1\n",
    "def factorial(n):\n",
    "    # Check for non-integer or negative inputs\n",
    "    if not isinstance(n, int) or n < 0:\n",
    "        return \"Error: Please enter a non-negative integer.\"\n",
    "\n",
    "    # Base case: factorial of 0 or 1 is 1\n",
    "    if n == 0 or n == 1:\n",
    "        return 1\n",
    "    \n",
    "    # Recursive case\n",
    "    return n * factorial(n - 1)\n",
    "\n",
    "# Function to display the result for numbers from 9 to 13\n",
    "def display_factorials():\n",
    "    for num in range(9, 14):  # 14 is exclusive, so it goes from 9 to 13\n",
    "        result = factorial(num)\n",
    "        print(f\"The factorial of {num} is {result}.\")\n",
    "\n",
    "# Call the display function\n",
    "display_factorials()"
   ]
  },
  {
   "cell_type": "code",
   "execution_count": 46,
   "metadata": {},
   "outputs": [
    {
     "name": "stdout",
     "output_type": "stream",
     "text": [
      "Numbers divisible by 3:\n",
      "6\n",
      "Numbers divisible by 2:\n",
      "4\n",
      "6\n"
     ]
    }
   ],
   "source": [
    "# Hack 2\n",
    "# Create an empty list\n",
    "nums = []\n",
    "\n",
    "# Get user input for how many numbers they want to add\n",
    "num_of_inputs = int(input(\"How many numbers do you want to add to the list? \"))\n",
    "\n",
    "# Use a loop to get inputs and append them to the list\n",
    "for _ in range(num_of_inputs):\n",
    "    number = int(input(\"Enter a number: \"))\n",
    "    nums.append(number)\n",
    "\n",
    "# Use a for loop to iterate through the list and check divisibility by 3\n",
    "print(\"Numbers divisible by 3:\")\n",
    "for num in nums:\n",
    "    if num % 3 == 0:  # Check if the number is divisible by 3\n",
    "        print(num)\n",
    "\n",
    "# Popcorn hack: Find numbers divisible by 2\n",
    "print(\"Numbers divisible by 2:\")\n",
    "for num in nums:\n",
    "    if num % 2 == 0:  # Check if the number is divisible by 2\n",
    "        print(num)\n"
   ]
  },
  {
   "cell_type": "code",
   "execution_count": 48,
   "metadata": {},
   "outputs": [
    {
     "name": "stdout",
     "output_type": "stream",
     "text": [
      "1\n",
      "2\n",
      "3\n",
      "4\n",
      "5\n"
     ]
    }
   ],
   "source": [
    "# Hack 3\n",
    "# Define the list of numbers\n",
    "numbers = [1, 2, 3, 4, 5]\n",
    "\n",
    "# Use a for loop to iterate through the list\n",
    "for number in numbers:\n",
    "    print(number)  # Print each number"
   ]
  },
  {
   "cell_type": "code",
   "execution_count": 47,
   "metadata": {},
   "outputs": [
    {
     "name": "stdout",
     "output_type": "stream",
     "text": [
      "Colors:\n",
      "red\n",
      "blue\n",
      "green\n",
      "yellow\n"
     ]
    }
   ],
   "source": [
    "# Hack 4\n",
    "# Define the list of colors\n",
    "colors = [\"red\", \"blue\", \"green\", \"yellow\"]\n",
    "\n",
    "# Use a for loop to iterate through the list and print each color\n",
    "print(\"Colors:\")\n",
    "for color in colors:\n",
    "    print(color)  # Print each color\n"
   ]
  },
  {
   "cell_type": "markdown",
   "metadata": {},
   "source": [
    "## Hacks 3.10"
   ]
  },
  {
   "cell_type": "code",
   "execution_count": 49,
   "metadata": {},
   "outputs": [
    {
     "name": "stdout",
     "output_type": "stream",
     "text": [
      "Final list: ['banana', 'date']\n"
     ]
    }
   ],
   "source": [
    "# Popcorn Hack 1\n",
    "# Create a list of fruits\n",
    "fruits = [\"apple\", \"banana\", \"cherry\", \"date\", \"elderberry\"]\n",
    "\n",
    "# Remove the last element\n",
    "fruits.pop()\n",
    "\n",
    "# Remove the first element\n",
    "fruits.pop(0)\n",
    "\n",
    "# Remove an element at index 1 (which is now \"cherry\" after previous removals)\n",
    "fruits.pop(1)\n",
    "\n",
    "# Print the final list\n",
    "print(f\"Final list: {fruits}\")\n"
   ]
  },
  {
   "cell_type": "code",
   "execution_count": 50,
   "metadata": {},
   "outputs": [
    {
     "name": "stdout",
     "output_type": "stream",
     "text": [
      "['elderberry', 'date', 'cherry', 'banana', 'apple']\n"
     ]
    }
   ],
   "source": [
    "# Popcorn Hack 2\n",
    "# Create a list\n",
    "fruits = [\"apple\", \"banana\", \"cherry\", \"date\", \"elderberry\"]\n",
    "\n",
    "# Reverse the list in place\n",
    "fruits.reverse()\n",
    "\n",
    "# Print the final list\n",
    "print(fruits)"
   ]
  },
  {
   "cell_type": "code",
   "execution_count": 51,
   "metadata": {},
   "outputs": [
    {
     "name": "stdout",
     "output_type": "stream",
     "text": [
      "[10, 22, 42, 68]\n"
     ]
    }
   ],
   "source": [
    "# Popcorn Hack 3\n",
    "# Original list of numbers\n",
    "numbers = [10, 15, 22, 33, 42, 55, 68, 79]\n",
    "\n",
    "# Using list comprehension to create a list of even numbers\n",
    "even_numbers = [num for num in numbers if num % 2 == 0]\n",
    "\n",
    "# Print the resulting list of even numbers\n",
    "print(even_numbers)  # Output: [10, 22, 42, 68]"
   ]
  },
  {
   "cell_type": "code",
   "execution_count": 52,
   "metadata": {},
   "outputs": [
    {
     "name": "stdout",
     "output_type": "stream",
     "text": [
      "\n",
      "Options:\n",
      "1. Add element\n",
      "2. Remove element\n",
      "3. Check if element exists\n",
      "4. Display current list\n",
      "5. Find maximum and minimum value\n",
      "6. Exit\n",
      "e not found in the list.\n",
      "\n",
      "Options:\n",
      "1. Add element\n",
      "2. Remove element\n",
      "3. Check if element exists\n",
      "4. Display current list\n",
      "5. Find maximum and minimum value\n",
      "6. Exit\n",
      "Invalid choice. Please try again.\n",
      "\n",
      "Options:\n",
      "1. Add element\n",
      "2. Remove element\n",
      "3. Check if element exists\n",
      "4. Display current list\n",
      "5. Find maximum and minimum value\n",
      "6. Exit\n",
      "Invalid choice. Please try again.\n",
      "\n",
      "Options:\n",
      "1. Add element\n",
      "2. Remove element\n",
      "3. Check if element exists\n",
      "4. Display current list\n",
      "5. Find maximum and minimum value\n",
      "6. Exit\n",
      "Invalid choice. Please try again.\n",
      "\n",
      "Options:\n",
      "1. Add element\n",
      "2. Remove element\n",
      "3. Check if element exists\n",
      "4. Display current list\n",
      "5. Find maximum and minimum value\n",
      "6. Exit\n",
      "Invalid choice. Please try again.\n",
      "\n",
      "Options:\n",
      "1. Add element\n",
      "2. Remove element\n",
      "3. Check if element exists\n",
      "4. Display current list\n",
      "5. Find maximum and minimum value\n",
      "6. Exit\n",
      "Invalid choice. Please try again.\n",
      "\n",
      "Options:\n",
      "1. Add element\n",
      "2. Remove element\n",
      "3. Check if element exists\n",
      "4. Display current list\n",
      "5. Find maximum and minimum value\n",
      "6. Exit\n",
      "Invalid choice. Please try again.\n",
      "\n",
      "Options:\n",
      "1. Add element\n",
      "2. Remove element\n",
      "3. Check if element exists\n",
      "4. Display current list\n",
      "5. Find maximum and minimum value\n",
      "6. Exit\n",
      "Invalid choice. Please try again.\n",
      "\n",
      "Options:\n",
      "1. Add element\n",
      "2. Remove element\n",
      "3. Check if element exists\n",
      "4. Display current list\n",
      "5. Find maximum and minimum value\n",
      "6. Exit\n",
      "Invalid choice. Please try again.\n",
      "\n",
      "Options:\n",
      "1. Add element\n",
      "2. Remove element\n",
      "3. Check if element exists\n",
      "4. Display current list\n",
      "5. Find maximum and minimum value\n",
      "6. Exit\n",
      "Invalid choice. Please try again.\n",
      "\n",
      "Options:\n",
      "1. Add element\n",
      "2. Remove element\n",
      "3. Check if element exists\n",
      "4. Display current list\n",
      "5. Find maximum and minimum value\n",
      "6. Exit\n",
      "Invalid choice. Please try again.\n",
      "\n",
      "Options:\n",
      "1. Add element\n",
      "2. Remove element\n",
      "3. Check if element exists\n",
      "4. Display current list\n",
      "5. Find maximum and minimum value\n",
      "6. Exit\n",
      "Invalid choice. Please try again.\n",
      "\n",
      "Options:\n",
      "1. Add element\n",
      "2. Remove element\n",
      "3. Check if element exists\n",
      "4. Display current list\n",
      "5. Find maximum and minimum value\n",
      "6. Exit\n",
      "Invalid choice. Please try again.\n",
      "\n",
      "Options:\n",
      "1. Add element\n",
      "2. Remove element\n",
      "3. Check if element exists\n",
      "4. Display current list\n",
      "5. Find maximum and minimum value\n",
      "6. Exit\n",
      "Invalid choice. Please try again.\n",
      "\n",
      "Options:\n",
      "1. Add element\n",
      "2. Remove element\n",
      "3. Check if element exists\n",
      "4. Display current list\n",
      "5. Find maximum and minimum value\n",
      "6. Exit\n",
      "Invalid choice. Please try again.\n",
      "\n",
      "Options:\n",
      "1. Add element\n",
      "2. Remove element\n",
      "3. Check if element exists\n",
      "4. Display current list\n",
      "5. Find maximum and minimum value\n",
      "6. Exit\n",
      "Invalid choice. Please try again.\n",
      "\n",
      "Options:\n",
      "1. Add element\n",
      "2. Remove element\n",
      "3. Check if element exists\n",
      "4. Display current list\n",
      "5. Find maximum and minimum value\n",
      "6. Exit\n",
      "Invalid choice. Please try again.\n",
      "\n",
      "Options:\n",
      "1. Add element\n",
      "2. Remove element\n",
      "3. Check if element exists\n",
      "4. Display current list\n",
      "5. Find maximum and minimum value\n",
      "6. Exit\n",
      "Invalid choice. Please try again.\n",
      "\n",
      "Options:\n",
      "1. Add element\n",
      "2. Remove element\n",
      "3. Check if element exists\n",
      "4. Display current list\n",
      "5. Find maximum and minimum value\n",
      "6. Exit\n",
      "Invalid choice. Please try again.\n",
      "\n",
      "Options:\n",
      "1. Add element\n",
      "2. Remove element\n",
      "3. Check if element exists\n",
      "4. Display current list\n",
      "5. Find maximum and minimum value\n",
      "6. Exit\n",
      "Invalid choice. Please try again.\n",
      "\n",
      "Options:\n",
      "1. Add element\n",
      "2. Remove element\n",
      "3. Check if element exists\n",
      "4. Display current list\n",
      "5. Find maximum and minimum value\n",
      "6. Exit\n",
      "Invalid choice. Please try again.\n",
      "\n",
      "Options:\n",
      "1. Add element\n",
      "2. Remove element\n",
      "3. Check if element exists\n",
      "4. Display current list\n",
      "5. Find maximum and minimum value\n",
      "6. Exit\n",
      "Invalid choice. Please try again.\n",
      "\n",
      "Options:\n",
      "1. Add element\n",
      "2. Remove element\n",
      "3. Check if element exists\n",
      "4. Display current list\n",
      "5. Find maximum and minimum value\n",
      "6. Exit\n",
      "Invalid choice. Please try again.\n",
      "\n",
      "Options:\n",
      "1. Add element\n",
      "2. Remove element\n",
      "3. Check if element exists\n",
      "4. Display current list\n",
      "5. Find maximum and minimum value\n",
      "6. Exit\n",
      "Invalid choice. Please try again.\n",
      "\n",
      "Options:\n",
      "1. Add element\n",
      "2. Remove element\n",
      "3. Check if element exists\n",
      "4. Display current list\n",
      "5. Find maximum and minimum value\n",
      "6. Exit\n",
      "Invalid choice. Please try again.\n",
      "\n",
      "Options:\n",
      "1. Add element\n",
      "2. Remove element\n",
      "3. Check if element exists\n",
      "4. Display current list\n",
      "5. Find maximum and minimum value\n",
      "6. Exit\n",
      "Invalid choice. Please try again.\n",
      "\n",
      "Options:\n",
      "1. Add element\n",
      "2. Remove element\n",
      "3. Check if element exists\n",
      "4. Display current list\n",
      "5. Find maximum and minimum value\n",
      "6. Exit\n",
      "Invalid choice. Please try again.\n",
      "\n",
      "Options:\n",
      "1. Add element\n",
      "2. Remove element\n",
      "3. Check if element exists\n",
      "4. Display current list\n",
      "5. Find maximum and minimum value\n",
      "6. Exit\n",
      "Invalid choice. Please try again.\n",
      "\n",
      "Options:\n",
      "1. Add element\n",
      "2. Remove element\n",
      "3. Check if element exists\n",
      "4. Display current list\n",
      "5. Find maximum and minimum value\n",
      "6. Exit\n",
      "Invalid choice. Please try again.\n",
      "\n",
      "Options:\n",
      "1. Add element\n",
      "2. Remove element\n",
      "3. Check if element exists\n",
      "4. Display current list\n",
      "5. Find maximum and minimum value\n",
      "6. Exit\n",
      "Invalid choice. Please try again.\n",
      "\n",
      "Options:\n",
      "1. Add element\n",
      "2. Remove element\n",
      "3. Check if element exists\n",
      "4. Display current list\n",
      "5. Find maximum and minimum value\n",
      "6. Exit\n",
      "Invalid choice. Please try again.\n",
      "\n",
      "Options:\n",
      "1. Add element\n",
      "2. Remove element\n",
      "3. Check if element exists\n",
      "4. Display current list\n",
      "5. Find maximum and minimum value\n",
      "6. Exit\n",
      "Invalid choice. Please try again.\n",
      "\n",
      "Options:\n",
      "1. Add element\n",
      "2. Remove element\n",
      "3. Check if element exists\n",
      "4. Display current list\n",
      "5. Find maximum and minimum value\n",
      "6. Exit\n",
      "Invalid choice. Please try again.\n",
      "\n",
      "Options:\n",
      "1. Add element\n",
      "2. Remove element\n",
      "3. Check if element exists\n",
      "4. Display current list\n",
      "5. Find maximum and minimum value\n",
      "6. Exit\n",
      "Invalid choice. Please try again.\n",
      "\n",
      "Options:\n",
      "1. Add element\n",
      "2. Remove element\n",
      "3. Check if element exists\n",
      "4. Display current list\n",
      "5. Find maximum and minimum value\n",
      "6. Exit\n",
      "Invalid choice. Please try again.\n",
      "\n",
      "Options:\n",
      "1. Add element\n",
      "2. Remove element\n",
      "3. Check if element exists\n",
      "4. Display current list\n",
      "5. Find maximum and minimum value\n",
      "6. Exit\n",
      "Invalid choice. Please try again.\n",
      "\n",
      "Options:\n",
      "1. Add element\n",
      "2. Remove element\n",
      "3. Check if element exists\n",
      "4. Display current list\n",
      "5. Find maximum and minimum value\n",
      "6. Exit\n",
      "Invalid choice. Please try again.\n",
      "\n",
      "Options:\n",
      "1. Add element\n",
      "2. Remove element\n",
      "3. Check if element exists\n",
      "4. Display current list\n",
      "5. Find maximum and minimum value\n",
      "6. Exit\n",
      "Invalid choice. Please try again.\n",
      "\n",
      "Options:\n",
      "1. Add element\n",
      "2. Remove element\n",
      "3. Check if element exists\n",
      "4. Display current list\n",
      "5. Find maximum and minimum value\n",
      "6. Exit\n",
      "Invalid choice. Please try again.\n",
      "\n",
      "Options:\n",
      "1. Add element\n",
      "2. Remove element\n",
      "3. Check if element exists\n",
      "4. Display current list\n",
      "5. Find maximum and minimum value\n",
      "6. Exit\n",
      "Invalid choice. Please try again.\n",
      "\n",
      "Options:\n",
      "1. Add element\n",
      "2. Remove element\n",
      "3. Check if element exists\n",
      "4. Display current list\n",
      "5. Find maximum and minimum value\n",
      "6. Exit\n",
      "Invalid choice. Please try again.\n",
      "\n",
      "Options:\n",
      "1. Add element\n",
      "2. Remove element\n",
      "3. Check if element exists\n",
      "4. Display current list\n",
      "5. Find maximum and minimum value\n",
      "6. Exit\n",
      "Invalid choice. Please try again.\n",
      "\n",
      "Options:\n",
      "1. Add element\n",
      "2. Remove element\n",
      "3. Check if element exists\n",
      "4. Display current list\n",
      "5. Find maximum and minimum value\n",
      "6. Exit\n",
      "Invalid choice. Please try again.\n",
      "\n",
      "Options:\n",
      "1. Add element\n",
      "2. Remove element\n",
      "3. Check if element exists\n",
      "4. Display current list\n",
      "5. Find maximum and minimum value\n",
      "6. Exit\n",
      "Invalid choice. Please try again.\n",
      "\n",
      "Options:\n",
      "1. Add element\n",
      "2. Remove element\n",
      "3. Check if element exists\n",
      "4. Display current list\n",
      "5. Find maximum and minimum value\n",
      "6. Exit\n",
      "Invalid choice. Please try again.\n",
      "\n",
      "Options:\n",
      "1. Add element\n",
      "2. Remove element\n",
      "3. Check if element exists\n",
      "4. Display current list\n",
      "5. Find maximum and minimum value\n",
      "6. Exit\n",
      "Invalid choice. Please try again.\n",
      "\n",
      "Options:\n",
      "1. Add element\n",
      "2. Remove element\n",
      "3. Check if element exists\n",
      "4. Display current list\n",
      "5. Find maximum and minimum value\n",
      "6. Exit\n",
      "Invalid choice. Please try again.\n",
      "\n",
      "Options:\n",
      "1. Add element\n",
      "2. Remove element\n",
      "3. Check if element exists\n",
      "4. Display current list\n",
      "5. Find maximum and minimum value\n",
      "6. Exit\n",
      "Invalid choice. Please try again.\n",
      "\n",
      "Options:\n",
      "1. Add element\n",
      "2. Remove element\n",
      "3. Check if element exists\n",
      "4. Display current list\n",
      "5. Find maximum and minimum value\n",
      "6. Exit\n"
     ]
    },
    {
     "ename": "KeyboardInterrupt",
     "evalue": "Interrupted by user",
     "output_type": "error",
     "traceback": [
      "\u001b[0;31m---------------------------------------------------------------------------\u001b[0m",
      "\u001b[0;31mKeyboardInterrupt\u001b[0m                         Traceback (most recent call last)",
      "Cell \u001b[0;32mIn[52], line 73\u001b[0m\n\u001b[1;32m     71\u001b[0m \u001b[38;5;66;03m# Run the program\u001b[39;00m\n\u001b[1;32m     72\u001b[0m \u001b[38;5;28;01mif\u001b[39;00m \u001b[38;5;18m__name__\u001b[39m \u001b[38;5;241m==\u001b[39m \u001b[38;5;124m\"\u001b[39m\u001b[38;5;124m__main__\u001b[39m\u001b[38;5;124m\"\u001b[39m:\n\u001b[0;32m---> 73\u001b[0m     \u001b[43mmanage_list\u001b[49m\u001b[43m(\u001b[49m\u001b[43m)\u001b[49m\n",
      "Cell \u001b[0;32mIn[52], line 31\u001b[0m, in \u001b[0;36mmanage_list\u001b[0;34m()\u001b[0m\n\u001b[1;32m     28\u001b[0m \u001b[38;5;28mprint\u001b[39m(\u001b[38;5;124m\"\u001b[39m\u001b[38;5;124m5. Find maximum and minimum value\u001b[39m\u001b[38;5;124m\"\u001b[39m)\n\u001b[1;32m     29\u001b[0m \u001b[38;5;28mprint\u001b[39m(\u001b[38;5;124m\"\u001b[39m\u001b[38;5;124m6. Exit\u001b[39m\u001b[38;5;124m\"\u001b[39m)\n\u001b[0;32m---> 31\u001b[0m choice \u001b[38;5;241m=\u001b[39m \u001b[38;5;28;43minput\u001b[39;49m\u001b[43m(\u001b[49m\u001b[38;5;124;43m\"\u001b[39;49m\u001b[38;5;124;43mChoose an option (1-6): \u001b[39;49m\u001b[38;5;124;43m\"\u001b[39;49m\u001b[43m)\u001b[49m\n\u001b[1;32m     33\u001b[0m \u001b[38;5;28;01mif\u001b[39;00m choice \u001b[38;5;241m==\u001b[39m \u001b[38;5;124m'\u001b[39m\u001b[38;5;124m1\u001b[39m\u001b[38;5;124m'\u001b[39m:\n\u001b[1;32m     34\u001b[0m     element \u001b[38;5;241m=\u001b[39m \u001b[38;5;28minput\u001b[39m(\u001b[38;5;124m\"\u001b[39m\u001b[38;5;124mEnter an element to add: \u001b[39m\u001b[38;5;124m\"\u001b[39m)\n",
      "File \u001b[0;32m~/nighthawk/portfolio_2025/zoehe_2025/venv/lib/python33.10/site-packages/ipykernel/kernelbase.py:1282\u001b[0m, in \u001b[0;36mKernel.raw_input\u001b[0;34m(self, prompt)\u001b[0m\n\u001b[1;32m   1280\u001b[0m     msg \u001b[38;5;241m=\u001b[39m \u001b[38;5;124m\"\u001b[39m\u001b[38;5;124mraw_input was called, but this frontend does not support input requests.\u001b[39m\u001b[38;5;124m\"\u001b[39m\n\u001b[1;32m   1281\u001b[0m     \u001b[38;5;28;01mraise\u001b[39;00m StdinNotImplementedError(msg)\n\u001b[0;32m-> 1282\u001b[0m \u001b[38;5;28;01mreturn\u001b[39;00m \u001b[38;5;28;43mself\u001b[39;49m\u001b[38;5;241;43m.\u001b[39;49m\u001b[43m_input_request\u001b[49m\u001b[43m(\u001b[49m\n\u001b[1;32m   1283\u001b[0m \u001b[43m    \u001b[49m\u001b[38;5;28;43mstr\u001b[39;49m\u001b[43m(\u001b[49m\u001b[43mprompt\u001b[49m\u001b[43m)\u001b[49m\u001b[43m,\u001b[49m\n\u001b[1;32m   1284\u001b[0m \u001b[43m    \u001b[49m\u001b[38;5;28;43mself\u001b[39;49m\u001b[38;5;241;43m.\u001b[39;49m\u001b[43m_parent_ident\u001b[49m\u001b[43m[\u001b[49m\u001b[38;5;124;43m\"\u001b[39;49m\u001b[38;5;124;43mshell\u001b[39;49m\u001b[38;5;124;43m\"\u001b[39;49m\u001b[43m]\u001b[49m\u001b[43m,\u001b[49m\n\u001b[1;32m   1285\u001b[0m \u001b[43m    \u001b[49m\u001b[38;5;28;43mself\u001b[39;49m\u001b[38;5;241;43m.\u001b[39;49m\u001b[43mget_parent\u001b[49m\u001b[43m(\u001b[49m\u001b[38;5;124;43m\"\u001b[39;49m\u001b[38;5;124;43mshell\u001b[39;49m\u001b[38;5;124;43m\"\u001b[39;49m\u001b[43m)\u001b[49m\u001b[43m,\u001b[49m\n\u001b[1;32m   1286\u001b[0m \u001b[43m    \u001b[49m\u001b[43mpassword\u001b[49m\u001b[38;5;241;43m=\u001b[39;49m\u001b[38;5;28;43;01mFalse\u001b[39;49;00m\u001b[43m,\u001b[49m\n\u001b[1;32m   1287\u001b[0m \u001b[43m\u001b[49m\u001b[43m)\u001b[49m\n",
      "File \u001b[0;32m~/nighthawk/portfolio_2025/zoehe_2025/venv/lib/python33.10/site-packages/ipykernel/kernelbase.py:1325\u001b[0m, in \u001b[0;36mKernel._input_request\u001b[0;34m(self, prompt, ident, parent, password)\u001b[0m\n\u001b[1;32m   1322\u001b[0m \u001b[38;5;28;01mexcept\u001b[39;00m \u001b[38;5;167;01mKeyboardInterrupt\u001b[39;00m:\n\u001b[1;32m   1323\u001b[0m     \u001b[38;5;66;03m# re-raise KeyboardInterrupt, to truncate traceback\u001b[39;00m\n\u001b[1;32m   1324\u001b[0m     msg \u001b[38;5;241m=\u001b[39m \u001b[38;5;124m\"\u001b[39m\u001b[38;5;124mInterrupted by user\u001b[39m\u001b[38;5;124m\"\u001b[39m\n\u001b[0;32m-> 1325\u001b[0m     \u001b[38;5;28;01mraise\u001b[39;00m \u001b[38;5;167;01mKeyboardInterrupt\u001b[39;00m(msg) \u001b[38;5;28;01mfrom\u001b[39;00m \u001b[38;5;28;01mNone\u001b[39;00m\n\u001b[1;32m   1326\u001b[0m \u001b[38;5;28;01mexcept\u001b[39;00m \u001b[38;5;167;01mException\u001b[39;00m:\n\u001b[1;32m   1327\u001b[0m     \u001b[38;5;28mself\u001b[39m\u001b[38;5;241m.\u001b[39mlog\u001b[38;5;241m.\u001b[39mwarning(\u001b[38;5;124m\"\u001b[39m\u001b[38;5;124mInvalid Message:\u001b[39m\u001b[38;5;124m\"\u001b[39m, exc_info\u001b[38;5;241m=\u001b[39m\u001b[38;5;28;01mTrue\u001b[39;00m)\n",
      "\u001b[0;31mKeyboardInterrupt\u001b[0m: Interrupted by user"
     ]
    }
   ],
   "source": [
    "# Hack 1 (python3)\n",
    "# Function to find the maximum and minimum values in a list using iteration\n",
    "def find_max_min(values):\n",
    "    if not values:  # Check if the list is empty\n",
    "        return None, None  # Return None for both max and min\n",
    "\n",
    "    max_value = values[0]  # Assume the first element is the max\n",
    "    min_value = values[0]  # Assume the first element is the min\n",
    "\n",
    "    for value in values:\n",
    "        if value > max_value:\n",
    "            max_value = value  # Update max_value if a larger value is found\n",
    "        if value < min_value:\n",
    "            min_value = value  # Update min_value if a smaller value is found\n",
    "\n",
    "    return max_value, min_value\n",
    "\n",
    "# Main program to manage the list\n",
    "def manage_list():\n",
    "    user_list = []  # Initialize an empty list\n",
    "\n",
    "    while True:\n",
    "        print(\"\\nOptions:\")\n",
    "        print(\"1. Add element\")\n",
    "        print(\"2. Remove element\")\n",
    "        print(\"3. Check if element exists\")\n",
    "        print(\"4. Display current list\")\n",
    "        print(\"5. Find maximum and minimum value\")\n",
    "        print(\"6. Exit\")\n",
    "\n",
    "        choice = input(\"Choose an option (1-6): \")\n",
    "\n",
    "        if choice == '1':\n",
    "            element = input(\"Enter an element to add: \")\n",
    "            user_list.append(element)  # Add the element to the list\n",
    "            print(f\"{element} added to the list.\")\n",
    "\n",
    "        elif choice == '2':\n",
    "            element = input(\"Enter an element to remove: \")\n",
    "            if element in user_list:\n",
    "                user_list.remove(element)  # Remove the element from the list\n",
    "                print(f\"{element} removed from the list.\")\n",
    "            else:\n",
    "                print(f\"{element} not found in the list.\")\n",
    "\n",
    "        elif choice == '3':\n",
    "            element = input(\"Enter an element to check: \")\n",
    "            if element in user_list:\n",
    "                print(f\"{element} exists in the list.\")\n",
    "            else:\n",
    "                print(f\"{element} does not exist in the list.\")\n",
    "\n",
    "        elif choice == '4':\n",
    "            print(\"Current list:\", user_list)  # Display the current list\n",
    "\n",
    "        elif choice == '5':\n",
    "            max_value, min_value = find_max_min(user_list)  # Find max and min\n",
    "            if max_value is not None and min_value is not None:\n",
    "                print(f\"Maximum value: {max_value}\")\n",
    "                print(f\"Minimum value: {min_value}\")\n",
    "            else:\n",
    "                print(\"The list is empty.\")\n",
    "\n",
    "        elif choice == '6':\n",
    "            print(\"Exiting the program.\")\n",
    "            break  # Exit the loop\n",
    "\n",
    "        else:\n",
    "            print(\"Invalid choice. Please try again.\")\n",
    "\n",
    "# Run the program\n",
    "if __name__ == \"__main__\":\n",
    "    manage_list()\n"
   ]
  },
  {
   "cell_type": "code",
   "execution_count": null,
   "metadata": {
    "vscode": {
     "languageId": "javascript"
    }
   },
   "outputs": [],
   "source": [
    "// Hack 2 (Javascript)\n",
    "// Function to display the shopping cart\n",
    "function displayCart(cart) {\n",
    "    if (cart.length === 0) {\n",
    "        console.log(\"🛒 Your cart is empty.\");\n",
    "    } else {\n",
    "        console.log(\"🛒 Your shopping cart contains:\");\n",
    "        cart.forEach(item => {\n",
    "            console.log(`   - ${item} 🛍️`); // Display each item with a shopping bag icon\n",
    "        });\n",
    "    }\n",
    "}\n",
    "\n",
    "// Main program to manage the shopping cart\n",
    "function shoppingCart() {\n",
    "    const cart = []; // Initialize an empty cart\n",
    "\n",
    "    while (true) {\n",
    "        console.log(\"\\nOptions:\");\n",
    "        console.log(\"1. Add item to cart\");\n",
    "        console.log(\"2. Remove item from cart\");\n",
    "        console.log(\"3. View cart\");\n",
    "        console.log(\"4. Exit\");\n",
    "\n",
    "        const choice = prompt(\"Choose an option (1-4): \");\n",
    "\n",
    "        if (choice === '1') {\n",
    "            const item = prompt(\"Enter the name of the item to add: \");\n",
    "            cart.push(item); // Add the item to the cart\n",
    "            console.log(`${item} has been added to your cart. 🛒`);\n",
    "\n",
    "        } else if (choice === '2') {\n",
    "            const item = prompt(\"Enter the name of the item to remove: \");\n",
    "            const index = cart.indexOf(item);\n",
    "            if (index !== -1) {\n",
    "                cart.splice(index, 1); // Remove the item from the cart\n",
    "                console.log(`${item} has been removed from your cart. 🛒`);\n",
    "            } else {\n",
    "                console.log(`${item} is not in your cart. ❌`);\n",
    "            }\n",
    "\n",
    "        } else if (choice === '3') {\n",
    "            displayCart(cart); // Display the current cart\n",
    "\n",
    "        } else if (choice === '4') {\n",
    "            console.log(\"Exiting the shopping cart program. Happy shopping! 🛍️\");\n",
    "            break; // Exit the loop\n",
    "\n",
    "        } else {\n",
    "            console.log(\"Invalid choice. Please try again.\");\n",
    "        }\n",
    "    }\n",
    "}\n",
    "\n",
    "// Run the program\n",
    "shoppingCart();\n"
   ]
  },
  {
   "cell_type": "code",
   "execution_count": 53,
   "metadata": {},
   "outputs": [
    {
     "name": "stdout",
     "output_type": "stream",
     "text": [
      "Total sum: 182\n",
      "Sorted numbers: [1, 3, 4, 8, 9, 77, 80]\n",
      "Sorted words: ['eight', 'eighty', 'four', 'nine', 'one', 'seventy-seven', 'three']\n"
     ]
    }
   ],
   "source": [
    "# Hack #3\n",
    "from functools import reduce\n",
    "import random\n",
    "\n",
    "# Part 1: Summing numbers using reduce()\n",
    "numbers = [3, 4, 8, 9, 1, 80, 77]\n",
    "total_sum = reduce(lambda x, y: x + y, numbers)\n",
    "print(\"Total sum:\", total_sum)  # Output: 182\n",
    "\n",
    "# Part 2: Create a list of integers in random order and sort\n",
    "random_numbers = [77, 4, 1, 80, 9, 3, 8]\n",
    "sorted_numbers = sorted(random_numbers)\n",
    "print(\"Sorted numbers:\", sorted_numbers)  # Output: [1, 3, 4, 8, 9, 77, 80]\n",
    "\n",
    "# Part 3: Sort numbers written as words\n",
    "numbers_in_words = [\"three\", \"four\", \"eight\", \"nine\", \"one\", \"eighty\", \"seventy-seven\"]\n",
    "sorted_words = sorted(numbers_in_words)\n",
    "print(\"Sorted words:\", sorted_words)  # Output: ['eight', 'eighty', 'four', 'nine', 'one', 'seventy-seven', 'three']"
   ]
  }
 ],
 "metadata": {
  "kernelspec": {
   "display_name": "venv",
   "language": "python3",
   "name": "python33"
  },
  "language_info": {
   "codemirror_mode": {
    "name": "ipython3",
    "version": 3
   },
   "file_extension": ".py",
   "mimetype": "text/x-python3",
   "name": "python3",
   "nbconvert_exporter": "python3",
   "pygments_lexer": "ipython33",
   "version": "3.10.12"
  }
 },
 "nbformat": 4,
 "nbformat_minor": 2
}
