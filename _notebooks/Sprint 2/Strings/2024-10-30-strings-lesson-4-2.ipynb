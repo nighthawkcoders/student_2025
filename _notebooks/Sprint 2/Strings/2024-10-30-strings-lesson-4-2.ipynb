{
 "cells": [
  {
   "cell_type": "code",
   "execution_count": null,
   "id": "901babb1",
   "metadata": {
    "vscode": {
     "languageId": "Javascript"
    }
   },
   "outputs": [],
   "source": [
    "---\n",
    "comments: true\n",
    "layout: post\n",
    "title: Strings and functions\n",
    "description: Strings and functions\n",
    "author: Matthew Borg\n",
    "permalink: /csse/lessons/strings/2024-10-30-strings-lesson-4-2.ipynb/\n",
    "categories: [Strings and Functions]\n",
    "---"
   ]
  },
  {
   "cell_type": "markdown",
   "id": "1062f58b",
   "metadata": {},
   "source": [
    "## Strings and Functions\n",
    "\n",
    "Some strings below can help find the instances of a certain word to replacing a word in a sentence at random\n"
   ]
  },
  {
   "cell_type": "markdown",
   "id": "13ec6077",
   "metadata": {},
   "source": [
    "* const lionFact = sets the value for lionFact\n",
    "* toLowerCase and toUpperCase makes the given sentence in lionFact entirely lowercase or Uppercase"
   ]
  },
  {
   "cell_type": "code",
   "execution_count": null,
   "id": "2e7fe24f",
   "metadata": {},
   "outputs": [],
   "source": [
    "// String Example and Case Conversion\n",
    "const lionFact = \"lions are the only cats that live in groups\";\n",
    "\n",
    "// Convert to lowercase and uppercase\n",
    "console.log(lionFact.toLowerCase());  // Lowercase\n",
    "console.log(lionFact.toUpperCase());  // Uppercase"
   ]
  },
  {
   "cell_type": "markdown",
   "id": "465fc2e8",
   "metadata": {},
   "source": [
    "lions are the only cats that live in groups\n",
    "\n",
    "LIONS ARE THE ONLY CATS THAT LIVE IN GROUPS"
   ]
  },
  {
   "cell_type": "markdown",
   "id": "26214145",
   "metadata": {},
   "source": [
    "## Occurrences\n",
    "* The .match() method returns all matches of the string \"the\" in tiger_fact using a regular expression (/the/g).\n",
    "\n",
    "* The g flag ensures that the following code finds all occurrences in the string, not just the first one."
   ]
  },
  {
   "cell_type": "code",
   "execution_count": null,
   "id": "4db746f6",
   "metadata": {},
   "outputs": [],
   "source": [
    "// Count occurrences of the word 'groups'\n",
    "let count = (lionFact.match(/the/g) || []).length;\n",
    "console.log(count); "
   ]
  },
  {
   "cell_type": "markdown",
   "id": "4604c864",
   "metadata": {},
   "source": [
    "## Finding Index\n",
    "* index is finding the first letter of a given word in a given const"
   ]
  },
  {
   "cell_type": "code",
   "execution_count": null,
   "id": "f5bd3d88",
   "metadata": {},
   "outputs": [],
   "source": [
    "// Example finding Index of a Substring\n",
    "console.log(lionFact.indexOf(\"group\"));  // Find the index of the word 'group'"
   ]
  },
  {
   "cell_type": "markdown",
   "id": "54ab8575",
   "metadata": {},
   "source": [
    "38"
   ]
  },
  {
   "cell_type": "markdown",
   "id": "3dfca524",
   "metadata": {},
   "source": [
    "The g in group was the 38th character in the lionFact "
   ]
  },
  {
   "cell_type": "markdown",
   "id": "094711ee",
   "metadata": {},
   "source": [
    "## Replacing Substrings\n",
    "\n",
    "* .replace can replace a word in a given const to another word as shown below"
   ]
  },
  {
   "cell_type": "code",
   "execution_count": null,
   "id": "a12f44be",
   "metadata": {},
   "outputs": [],
   "source": [
    "// Replacing Substrings\n",
    "let newLionFact = lionFact.replace('lions', 'giraffes');\n",
    "console.log(newLionFact);  // Replaced string\n",
    "\n",
    "// Or replace it directly\n",
    "lionFact = lionFact.replace('lions', 'giraffes');\n",
    "console.log(lionFact);  // Replaced string directly"
   ]
  },
  {
   "cell_type": "markdown",
   "id": "d9fa4289",
   "metadata": {},
   "source": [
    "giraffes are the only cats that live in groups"
   ]
  },
  {
   "cell_type": "markdown",
   "id": "2d8c20dc",
   "metadata": {},
   "source": [
    "## Concatenation\n",
    "* Used to join together multiple variables\n",
    "* can get messy at times as shown below if not in good format"
   ]
  },
  {
   "cell_type": "code",
   "execution_count": null,
   "id": "7d04eb30",
   "metadata": {},
   "outputs": [],
   "source": [
    "// Concatenation\n",
    "let fish = \"fish\";\n",
    "let fish1 = \"angel\";\n",
    "let fish2 = \"cat\";\n",
    "let fish3 = \"puffer\";\n",
    "\n",
    "// Bad format\n",
    "let badFormatSpecies = fish1 + fish + fish2 + fish + fish3 + fish;\n",
    "console.log(badFormatSpecies);\n",
    "\n",
    "// Good format with commas\n",
    "let goodFormatSpecies = `${fish1}${fish}, ${fish2}${fish}, and ${fish3}${fish}`;\n",
    "console.log(goodFormatSpecies);"
   ]
  },
  {
   "cell_type": "markdown",
   "id": "616c7ba2",
   "metadata": {},
   "source": [
    "angelfishcatfishpufferfish\n",
    "\n",
    "angelfish, catfish, pufferfish"
   ]
  },
  {
   "cell_type": "markdown",
   "id": "464372d0",
   "metadata": {},
   "source": [
    "## Explanation for \"Good\" and \"Bad\" formatting\n",
    "\n",
    "* fish1 + fish: Concatenates the value of fish1 with fish. This is equivalent to what you can do in Python with fish1 + fish.\n",
    "\n",
    "* , ' ': The comma and space are explicitly added in between fish1 + fish and fish2 + fish to ensure proper formatting and cleaning output.\n",
    "\n",
    "* ${} Templateliteral.The ${} syntax is used to embed expressions inside the string. Each ${fish1}${fish} inserts the value of fish1 followed by fish into the string."
   ]
  },
  {
   "cell_type": "markdown",
   "id": "95e57c7b",
   "metadata": {},
   "source": [
    "## Formatted Strings\n",
    "\n",
    "* The variable betterFormatSpecies is defined using a template literal (denoted by backticks `).\n",
    "\n",
    "* Inside the template literal, the values of the variables fish1, fish2, fish3, and fish are embedded using ${} syntax from before.\n",
    "\n",
    "* This string uses commas to separate the fish types and includes the word \"and\" before the last fish."
   ]
  },
  {
   "cell_type": "code",
   "execution_count": null,
   "id": "389ccd53",
   "metadata": {},
   "outputs": [],
   "source": [
    "// Formatted Strings\n",
    "let betterFormatSpecies = `${fish1}${fish}, ${fish2}${fish}, and ${fish3}${fish} are my favorite fish!`;\n",
    "console.log(betterFormatSpecies);"
   ]
  },
  {
   "cell_type": "markdown",
   "id": "950f1ade",
   "metadata": {},
   "source": [
    "angelfish, catfish, pufferfish are my favorite fish!"
   ]
  }
 ],
 "metadata": {
  "kernelspec": {
   "display_name": "JavaScript",
   "language": "javascript",
   "name": "javascript"
  },
  "language_info": {
   "name": "javascript",
   "version": "latest"
  }
 },
 "nbformat": 4,
 "nbformat_minor": 5
}
