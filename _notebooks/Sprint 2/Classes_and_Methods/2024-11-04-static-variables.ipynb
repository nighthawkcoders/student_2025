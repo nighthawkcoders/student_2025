{
 "cells": [
  {
   "cell_type": "code",
   "execution_count": null,
   "metadata": {
    "vscode": {
     "languageId": "yaml"
    }
   },
   "outputs": [],
   "source": [
    "---\n",
    "comments: true\n",
    "layout: post\n",
    "title: JavaScript Static Variables\n",
    "description: An introduction to JavaScript Static Variables\n",
    "author: Ethan Fu & Lucas Masterson (reviewer)\n",
    "permalink: /csse/javascript/fundamentals/classes/statics/\n",
    "categories: [JavaScript Fundamentals]\n",
    "---"
   ]
  },
  {
   "cell_type": "markdown",
   "metadata": {},
   "source": [
    "# Static Variables\n",
    "****\n",
    "\n",
    "The keyword ``static`` can be used to define static methods and properties, which apply to entire classes rather than its instances (AKA your objects). Think of these as global variables for classes. Below is an example (taken from online) of how static methods and properties work.\n",
    "\n"
   ]
  },
  {
   "cell_type": "code",
   "execution_count": null,
   "metadata": {
    "vscode": {
     "languageId": "javascript"
    }
   },
   "outputs": [
    {
     "data": {
      "application/javascript": "\nclass ClassWithStaticMethod {\n  static staticProperty = 'someValue';\n  static staticMethod() {\n    return 'static method has been called.';\n  }\n  static {\n    console.log('Class static initialization block called');\n  }\n}\n\nconsole.log(ClassWithStaticMethod.staticProperty);\n// Expected output: \"someValue\"\nconsole.log(ClassWithStaticMethod.staticMethod());\n// Expected output: \"static method has been called.\"\n",
      "text/plain": [
       "<IPython.core.display.Javascript object>"
      ]
     },
     "metadata": {},
     "output_type": "display_data"
    }
   ],
   "source": [
    "%%js\n",
    "\n",
    "class ClassWithStaticMethod {\n",
    "  static staticProperty = 'someValue';\n",
    "  static staticMethod() {\n",
    "    return 'static method has been called.';\n",
    "  }\n",
    "  static {\n",
    "    console.log('Class static initialization block called');\n",
    "  }\n",
    "}\n",
    "\n",
    "console.log(ClassWithStaticMethod.staticProperty);\n",
    "// Expected output: \"someValue\"\n",
    "console.log(ClassWithStaticMethod.staticMethod());\n",
    "// Expected output: \"static method has been called.\""
   ]
  },
  {
   "cell_type": "markdown",
   "metadata": {},
   "source": [
    "## Why use static variables?\n",
    "****\n",
    "\n",
    "Static variables can be used for multiple things, but two of the most common use cases are counting the number of instances of a class object there are and defining global constants throughout a class.\n",
    "\n",
    "### Example 1\n",
    "\n",
    "Below is an example of counting class instances using static variables:"
   ]
  },
  {
   "cell_type": "code",
   "execution_count": null,
   "metadata": {
    "vscode": {
     "languageId": "javascript"
    }
   },
   "outputs": [
    {
     "data": {
      "application/javascript": "\nclass User {\n  static instanceCount = 0; //static variable, starts with a value of zero\n\n  constructor(name) {\n    this.name = name;\n    User.instanceCount++; //increments the instanceCount when a new user is entered\n  }\n\n  static getInstanceCount() {\n    return User.instanceCount; //returns the updated instanceCount variable, which has now been incremented\n  }\n}\n\nconst user1 = new User(\"Ethan\");\nconst user2 = new User(\"Lucas\");\nconst user3 = new User(\"Alex\")\n\nconsole.log(\"Number of users: \" + User.getInstanceCount()); // Expected output: \"Number of users: 3\"\n",
      "text/plain": [
       "<IPython.core.display.Javascript object>"
      ]
     },
     "metadata": {},
     "output_type": "display_data"
    }
   ],
   "source": [
    "%%js\n",
    "\n",
    "class User {\n",
    "  static instanceCount = 0; //static property, starts with a value of zero\n",
    "\n",
    "  constructor(name) {\n",
    "    this.name = name;\n",
    "    User.instanceCount++; //increments the instanceCount when a new user is entered\n",
    "  }\n",
    "\n",
    "  static getInstanceCount() {\n",
    "    return User.instanceCount; //static method, returns the updated instanceCount variable, which has now been incremented\n",
    "  }\n",
    "}\n",
    "\n",
    "const user1 = new User(\"Ethan\");\n",
    "const user2 = new User(\"Lucas\");\n",
    "const user3 = new User(\"Alex\")\n",
    "\n",
    "console.log(\"Number of users: \" + User.getInstanceCount()); // Expected output: \"Number of users: 3\""
   ]
  },
  {
   "cell_type": "markdown",
   "metadata": {},
   "source": [
    "#### Explanation\n",
    "\n",
    "We use instanceCount to start the inital value of the amount of objects there are, then we increment that value each time an object is created using 'User.instanceCount++'. Finally, we use a static method to return the updated instanceCount so it can be updated again later on.\n",
    "\n",
    "If did not use static variables, the value of instanceCount would be \"reset\" each time we made a new object, so we would not be able to count them.\n",
    "\n",
    "### Example 2\n",
    "\n",
    "Below is an example of creating and using a global constant for multiple objects using static variables:"
   ]
  },
  {
   "cell_type": "code",
   "execution_count": null,
   "metadata": {
    "vscode": {
     "languageId": "javascript"
    }
   },
   "outputs": [
    {
     "data": {
      "application/javascript": "\nclass Product {\n    static TAX_RATE = 0.10; // Static variable for tax rate (10%)\n  \n    constructor(name, price) {\n      this.name = name;      // instance property\n      this.price = price;    // instance property\n    }\n  \n    // Instance method to calculate the price including tax\n    calculatePriceWithTax() {\n      return this.price * (1 + Product.TAX_RATE);\n    }\n  }\n  \n  // Creating individual product instances\n  const product1 = new Product(\"Laptop\", 1200);\n  const product2 = new Product(\"Smartphone\", 800);\n  \n  console.log(\"Name of product 1: \" + product1.name); // Output: Laptop\n  console.log(\"Name of product 2: \" + product2.name); // Output: Smartphone\n\n  // Using an instance method to calculate prices with tax\n  console.log(\"Product 1 price pre-tax: \" + product1.price); // Output: 1200\n  console.log(\"Product 2 price pre-tax: \" + product2.price); // Output: 800\n\n  // Using an instance method to calculate prices with tax\n  console.log(\"Product 1 price with tax: \" + product1.calculatePriceWithTax()); // Output: 1296 (1200 + 10% tax)\n  console.log(\"Product 2 price with tax: \" + product2.calculatePriceWithTax()); // Output: 864 (800 + 10% tax)\n  \n  // Accessing the static variable directly from the class\n  console.log(\"Tax rate: \" + Product.TAX_RATE); // Output: 0.10\n  \n",
      "text/plain": [
       "<IPython.core.display.Javascript object>"
      ]
     },
     "metadata": {},
     "output_type": "display_data"
    }
   ],
   "source": [
    "%%js\n",
    "\n",
    "class Product {\n",
    "    static TAX_RATE = 0.10; // Static variable for tax rate (10%)\n",
    "  \n",
    "    constructor(name, price) {\n",
    "      this.name = name;      // instance property\n",
    "      this.price = price;    // instance property\n",
    "    }\n",
    "  \n",
    "    // Instance method to calculate the price including tax\n",
    "    calculatePriceWithTax() {\n",
    "      return this.price * (1 + Product.TAX_RATE);\n",
    "    }\n",
    "  }\n",
    "  \n",
    "  // Creating individual product instances\n",
    "  const product1 = new Product(\"Laptop\", 1200);\n",
    "  const product2 = new Product(\"Smartphone\", 800);\n",
    "  \n",
    "  console.log(\"Name of product 1: \" + product1.name); // Output: Laptop\n",
    "  console.log(\"Name of product 2: \" + product2.name); // Output: Smartphone\n",
    "\n",
    "  // Using an instance method to calculate prices with tax\n",
    "  console.log(\"Product 1 price pre-tax: \" + product1.price); // Output: 1200\n",
    "  console.log(\"Product 2 price pre-tax: \" + product2.price); // Output: 800\n",
    "\n",
    "  // Using an instance method to calculate prices with tax\n",
    "  console.log(\"Product 1 price with tax: \" + product1.calculatePriceWithTax()); // Output: 1320 (1200 + 10% tax)\n",
    "  console.log(\"Product 2 price with tax: \" + product2.calculatePriceWithTax()); // Output: 880 (800 + 10% tax)\n",
    "  \n",
    "  // Accessing the static variable directly from the class\n",
    "  console.log(\"Tax rate: \" + Product.TAX_RATE); // Output: 0.10"
   ]
  },
  {
   "cell_type": "markdown",
   "metadata": {},
   "source": [
    "### Explanation\n",
    "\n",
    "The product class contains a static property TAX_RATE that is assigned a value of 0.10, a constructor that defines the properties of a created object from the given class, and a static method that applies the tax on the price value of the object to get the final price.\n",
    "\n",
    "Here, static variables are given a certain value, then it is applied to all instances of the class. This makes the code simpler and more organized than they would have been otherwise.\n",
    "****\n",
    "\n",
    "## Popcorn Hack 3\n",
    "\n",
    "Try to use static variables to both count the number of class instances you have and apply a multiplier on "
   ]
  },
  {
   "cell_type": "code",
   "execution_count": null,
   "metadata": {
    "vscode": {
     "languageId": "javascript"
    }
   },
   "outputs": [
    {
     "data": {
      "application/javascript": "\nclass Value {\n  static MULTIPLIER = 1.5; // Static variable for tax rate (8%)\n  static totalNumber = 0; // Static variable to track the total number of products\n\n  constructor(value) {\n    this.value = value;     // instance property\n    Value.totalNumber++; // Increment total product count every time a new product is created\n  }\n\n  // Instance method to calculate the price including tax\n  calculateValueWithMultiplier() {\n    return this.value * (Value.MULTIPLIER);\n  }\n\n  // Static method to get the total number of products\n  static getTotalNumbers() {\n    return Value.totalNumber;\n  }\n}\n\n// Creating individual product instances\nconst value1 = new Value(5);\nconst value2 = new Value(10)\n\nconsole.log(\"Value 1: \" + value1.value);\nconsole.log(\"Value 2: \" + value2.value);\n\n// Using an instance method to calculate prices with tax\nconsole.log(\"Value 1 with multiplier: \" + value1.calculateValueWithMultiplier()); // Output: 1296 (1200 + 8% tax)\nconsole.log(\"Value 2 with multiplier: \" + value2.calculateValueWithMultiplier()); // Output: 864 (800 + 8% tax)\n\n// Accessing the static variable directly from the class\nconsole.log(\"Multiplier: \" + Value.MULTIPLIER); // Output: 1.5\n\n// Accessing the static method to get the total number of products\nconsole.log(\"Total number of values: \" + Value.getTotalNumbers()); // Output: 2\n",
      "text/plain": [
       "<IPython.core.display.Javascript object>"
      ]
     },
     "metadata": {},
     "output_type": "display_data"
    }
   ],
   "source": [
    "%%js\n",
    "\n",
    "class Value {\n",
    "  static MULTIPLIER = 1.5; // Static variable for tax rate (8%)\n",
    "  static totalNumber = 0; // Static variable to track the total number of products\n",
    "\n",
    "  constructor(value) {\n",
    "    this.value = value;     // instance property\n",
    "    // TODO: Increment total product count every time a new product is created\n",
    "  }\n",
    "\n",
    "  // Instance method to calculate the price including tax\n",
    "  calculateValueWithMultiplier() {\n",
    "    // TODO: return Value * MULTIPLIER\n",
    "  }\n",
    "\n",
    "  // Static method to get the total number of products\n",
    "  static getTotalNumbers() {\n",
    "    // TODO: return totalNumber\n",
    "  }\n",
    "}\n",
    "\n",
    "// Creating individual product instances\n",
    "const value1 = new Value(5);\n",
    "const value2 = new Value(10)\n",
    "\n",
    "console.log(\"Value 1: \" + value1.value);\n",
    "console.log(\"Value 2: \" + value2.value);\n",
    "\n",
    "// Using an instance method to calculate prices with tax\n",
    "console.log(\"Value 1 with multiplier: \" + value1.calculateValueWithMultiplier()); // Output: 1296 (1200 + 8% tax)\n",
    "console.log(\"Value 2 with multiplier: \" + value2.calculateValueWithMultiplier()); // Output: 864 (800 + 8% tax)\n",
    "\n",
    "// Accessing the static variable directly from the class\n",
    "console.log(\"Multiplier: \" + Value.MULTIPLIER); // Output: 1.5\n",
    "\n",
    "// Accessing the static method to get the total number of products\n",
    "console.log(\"Total number of values: \" + Value.getTotalNumbers()); // Output: 2"
   ]
  },
  {
   "cell_type": "markdown",
   "metadata": {},
   "source": [
    "****\n",
    "\n",
    "*If there is a possibility of several things going wrong, the one that will cause the most damage will be the one to go wrong. Corollary: If there is a worse time for something to go wrong, it will happen then.*"
   ]
  }
 ],
 "metadata": {
  "kernelspec": {
   "display_name": "Python 3",
   "language": "python",
   "name": "python3"
  },
  "language_info": {
   "codemirror_mode": {
    "name": "ipython",
    "version": 3
   },
   "file_extension": ".py",
   "mimetype": "text/x-python",
   "name": "python",
   "nbconvert_exporter": "python",
   "pygments_lexer": "ipython3",
   "version": "3.10.12"
  }
 },
 "nbformat": 4,
 "nbformat_minor": 2
}
