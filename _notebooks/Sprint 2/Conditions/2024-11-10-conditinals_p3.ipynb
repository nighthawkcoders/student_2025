{
 "cells": [
  {
   "cell_type": "raw",
   "metadata": {
    "vscode": {
     "languageId": "raw"
    }
   },
   "source": [
    "---\n",
    "comments: True\n",
    "layout: post\n",
    "title: conditionals lesson on cases and logics\n",
    "description: An introduction to JavaScript conditionals\n",
    "permalink: /csse/javascript/fundamentals/conditionals/p3/\n",
    "type: ccc\n",
    "---"
   ]
  },
  {
   "cell_type": "markdown",
   "metadata": {},
   "source": [
    "<div style=\"display: flex; flex-wrap: wrap; gap: 10px; justify-content: center\">\n",
    "    <a href=\"{{site.baseurl}}/csse/javascript/fundamentals/conditionals/hacks\" style=\"text-decoration: none;\">\n",
    "        <div style=\"background-color: #0b73be; color: black; padding: 10px 20px; border-radius: 5px; font-weight: bold;\">\n",
    "           <center> Hacks</center>\n",
    "        </div>\n",
    "    </a>\n",
    "</div>"
   ]
  },
  {
   "cell_type": "markdown",
   "metadata": {},
   "source": [
    "# Types of logics for your conditionals\n",
    "\n",
    "Some types of conditinals to compare,constrast add, or, and more. 2+ values which eaither runs the loop our countinues to the next segment or next part of the code.\n",
    "```bullets\n",
    "- == value is equal to\n",
    "- === value is strictly equal to (used for strings and more)\n",
    "- != not equal to\n",
    "- !== is not equal to (used for strings and more)\n",
    "- > greater than\n",
    "- < less than\n",
    "- >= greater than or equal to\n",
    "- <= less than or equal to\n",
    "- && and (ex: if(fruit === \"apple\" && isRipe == true))\n",
    "- || or  (ex: if(fruit === \"apple\" || fruit ===\"banana\"))\n",
    "- ! is not\n",
    "```"
   ]
  },
  {
   "cell_type": "markdown",
   "metadata": {},
   "source": [
    "# Swich Statements"
   ]
  },
  {
   "cell_type": "code",
   "execution_count": 15,
   "metadata": {
    "vscode": {
     "languageId": "html"
    }
   },
   "outputs": [
    {
     "data": {
      "text/html": [
       "<div id=\"output1\"></div>\n",
       "\n",
       "<script>\n",
       "function code(){\n",
       "let fruit = \"apple\"\n",
       "const output = document.getElementById(\"output1\")\n",
       "\n",
       "switch(fruit){\n",
       "    case \"apple\":\n",
       "        output.innerHTML = \"Apples sound great!\"\n",
       "        break;\n",
       "    case \"banana\":\n",
       "        output.innerHTML = \"Bananas sound great!\"\n",
       "        break;\n",
       "    case \"durian\":\n",
       "        output.innerHTML = \"YUCK!\"\n",
       "        break;\n",
       "    case  \"\":\n",
       "        output.innerHTML = \"I was looking forward to eating this week :(\"\n",
       "        break;\n",
       "}\n",
       "\n",
       "}\n",
       "code()\n",
       "</script>\n"
      ],
      "text/plain": [
       "<IPython.core.display.HTML object>"
      ]
     },
     "metadata": {},
     "output_type": "display_data"
    }
   ],
   "source": [
    "%%html\n",
    "<div id=\"output1\"></div>\n",
    "\n",
    "<script>\n",
    "function code(){\n",
    "let fruit = \"apple\"\n",
    "const output = document.getElementById(\"output1\")\n",
    "\n",
    "switch(fruit){\n",
    "    case \"apple\":\n",
    "        output.innerHTML = \"Apples sound great!\"\n",
    "        break;\n",
    "    case \"banana\":\n",
    "        output.innerHTML = \"Bananas sound great!\"\n",
    "        break;\n",
    "    case \"durian\":\n",
    "        output.innerHTML = \"YUCK!\"\n",
    "        break;\n",
    "    case  \"\":\n",
    "        output.innerHTML = \"I was looking forward to eating this week :(\"\n",
    "        break;\n",
    "}\n",
    "\n",
    "}\n",
    "code()\n",
    "</script>"
   ]
  },
  {
   "cell_type": "markdown",
   "metadata": {},
   "source": [
    "When you pass a value through a swich statment it will go through all provided cases to see which ones mach<br>\n",
    "\n",
    "a case is determend with the keyword \"case\" folowed by a value which and ended with a \":\"<br>\n",
    "if the perameters inside of your case matches the value provided (ex: you peovide the number 1 and a case sees if <br>its 1) it will run the given code inside of the case"
   ]
  },
  {
   "cell_type": "markdown",
   "metadata": {},
   "source": [
    "# Ternary Operator"
   ]
  },
  {
   "cell_type": "code",
   "execution_count": 16,
   "metadata": {
    "vscode": {
     "languageId": "html"
    }
   },
   "outputs": [
    {
     "data": {
      "text/html": [
       "\n",
       "<div id=\"output2\"></div>\n",
       "\n",
       "<script>\n",
       "    function code(){\n",
       "        let fruit = \"apple\";\n",
       "        let output = document.getElementById(\"output2\");\n",
       "        let message = (fruit === \"apple\") ? \"this item is super effective\" : \"item is bad bad\";\n",
       "        output.innerHTML = message;\n",
       "        console.log(\"ran\")\n",
       "    }\n",
       "code()\n",
       "    </script>\n"
      ],
      "text/plain": [
       "<IPython.core.display.HTML object>"
      ]
     },
     "metadata": {},
     "output_type": "display_data"
    }
   ],
   "source": [
    "%%html\n",
    "\n",
    "<div id=\"output2\"></div>\n",
    "\n",
    "<script>\n",
    "    function code(){\n",
    "        let fruit = \"apple\";\n",
    "        let output = document.getElementById(\"output2\");\n",
    "        let message = (fruit === \"apple\") ? \"this item is super effective\" : \"item is bad bad\";\n",
    "        output.innerHTML = message;\n",
    "        console.log(\"ran\")\n",
    "    }\n",
    "code()\n",
    "    </script>"
   ]
  },
  {
   "cell_type": "markdown",
   "metadata": {},
   "source": [
    "When using (fruit === \"apple\")<br>\n",
    "it will provide a bool value with the output of the given perams<br>\n",
    "If folowed by a ? code : code;<br>\n",
    "the ? is the if part so if its true that code will run whitch in this case sets the value of message<br>\n",
    "the : represents the else so that section of code with run if the requrments are nor met<br>"
   ]
  },
  {
   "cell_type": "markdown",
   "metadata": {},
   "source": [
    "<script src=\"https://utteranc.es/client.js\"\n",
    "        repo=\"mrboiisthebest/william_2025\"\n",
    "        issue-term=\"title\"\n",
    "        label=\"blogpost-comment\"\n",
    "        theme=\"github-dark\"\n",
    "        crossorigin=\"anonymous\"\n",
    "        async>\n",
    "</script>"
   ]
  }
 ],
 "metadata": {
  "kernelspec": {
   "display_name": "venv",
   "language": "python",
   "name": "python3"
  },
  "language_info": {
   "codemirror_mode": {
    "name": "ipython",
    "version": 3
   },
   "file_extension": ".py",
   "mimetype": "text/x-python",
   "name": "python",
   "nbconvert_exporter": "python",
   "pygments_lexer": "ipython3",
   "version": "3.10.12"
  }
 },
 "nbformat": 4,
 "nbformat_minor": 2
}
