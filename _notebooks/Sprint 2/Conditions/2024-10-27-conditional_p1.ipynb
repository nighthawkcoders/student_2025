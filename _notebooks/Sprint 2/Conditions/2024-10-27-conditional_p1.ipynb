{
 "cells": [
  {
   "cell_type": "raw",
   "metadata": {
    "vscode": {
     "languageId": "raw"
    }
   },
   "source": [
    "---\n",
    "comments: true\n",
    "layout: post\n",
    "title: JavaScript Conditional Statements\n",
    "description: An introduction to JavaScript conditional statements\n",
    "permalink: /csse/javascript/fundamentals/conditional-statements/p1/\n",
    "categories: [JavaScript Fundamentals]\n",
    "---"
   ]
  },
  {
   "cell_type": "markdown",
   "metadata": {},
   "source": [
    "## Conditional Statements Part 1\n",
    "\n",
    "Conditional statements are used to direct the flow of the program.\n"
   ]
  },
  {
   "cell_type": "markdown",
   "metadata": {},
   "source": [
    "### if statements\n",
    "\n",
    "These are often used to branch conditions.  This example outputs through HTML using docuemtn."
   ]
  },
  {
   "cell_type": "code",
   "execution_count": 1,
   "metadata": {
    "vscode": {
     "languageId": "html"
    }
   },
   "outputs": [
    {
     "data": {
      "text/html": [
       "\n",
       "<output id=\"output\"></output>\n",
       "\n",
       "<script>\n",
       "function intializeData(data = null) {\n",
       "    // Define default values\n",
       "    let scaleFactor = 9/16;\n",
       "    let animationRate = 1;\n",
       "    let position = [0, 0];\n",
       "\n",
       "    // Check if data is provided\n",
       "    if (data) {\n",
       "        scaleFactor = data.SCALE_FACTOR || scaleFactor;\n",
       "        animationRate = data.ANIMATION_RATE || animationRate;\n",
       "        position = data.INIT_POSITION || position;\n",
       "    }\n",
       "\n",
       "    document.getElementById(\"output\").innerHTML = `\n",
       "        <p>Scale Factor: ${scaleFactor}</p>\n",
       "        <p>Animation Rate: ${animationRate}</p>\n",
       "        <p>Initial Position: ${position}</p>\n",
       "    `;\n",
       "}\n",
       "\n",
       "var data = {\n",
       "    SCALE_FACTOR: 1/1,\n",
       "    ANIMATION_RATE: 25,\n",
       "    INIT_POSITION: [100, 100]\n",
       "}\n",
       "\n",
       "// Uncomment one of the following lines to test the if statement in the function\n",
       "//intializeData();\n",
       "intializeData(data);\n",
       "\n",
       "</script>\n"
      ],
      "text/plain": [
       "<IPython.core.display.HTML object>"
      ]
     },
     "metadata": {},
     "output_type": "display_data"
    }
   ],
   "source": [
    "%%html\n",
    "\n",
    "<output id=\"output\"></output>\n",
    "\n",
    "<script>\n",
    "function intializeData(data = null) {\n",
    "    // Define default values\n",
    "    let scaleFactor = 9/16;\n",
    "    let animationRate = 1;\n",
    "    let position = [0, 0];\n",
    "\n",
    "    // Check if data is provided\n",
    "    if (data) {\n",
    "        scaleFactor = data.SCALE_FACTOR || scaleFactor;\n",
    "        animationRate = data.ANIMATION_RATE || animationRate;\n",
    "        position = data.INIT_POSITION || position;\n",
    "    }\n",
    "\n",
    "    document.getElementById(\"output\").innerHTML = `\n",
    "        <p>Scale Factor: ${scaleFactor}</p>\n",
    "        <p>Animation Rate: ${animationRate}</p>\n",
    "        <p>Initial Position: ${position}</p>\n",
    "    `;\n",
    "}\n",
    "\n",
    "var data = {\n",
    "    SCALE_FACTOR: 1/1,\n",
    "    ANIMATION_RATE: 25,\n",
    "    INIT_POSITION: [100, 100]\n",
    "}\n",
    "\n",
    "// Uncomment one of the following lines to test the if statement in the function\n",
    "//intializeData();\n",
    "intializeData(data);\n",
    "\n",
    "</script>"
   ]
  },
  {
   "cell_type": "markdown",
   "metadata": {},
   "source": [
    "### switch case statement\n",
    "\n",
    "These are often used to branch code when there are a lot of options."
   ]
  },
  {
   "cell_type": "code",
   "execution_count": null,
   "metadata": {
    "vscode": {
     "languageId": "javascript"
    }
   },
   "outputs": [
    {
     "data": {
      "application/javascript": "\nclass GameObject {\n    constructor() {\n        this.velocity = { x: 0, y: 0 };\n        this.direction = '';\n        this.xVelocity = 1;\n        this.yVelocity = 1;\n    }\n\n    handleKeyDown({ keyCode }) {\n        switch (keyCode) {\n            case 87: // 'W' key\n                \n                this.direction = 'up';\n                break;\n            case 65: // 'A' key\n        \n                this.direction = 'left';\n                break;\n            case 83: // 'S' key\n               \n                this.direction = 'down';\n                break;\n            case 68: // 'D' key\n              \n                this.direction = 'right';\n                break;\n        }\n    }\n}\n\n// Example usage\nconst gameObject = new GameObject();\nconsole.log('Initial State:', gameObject);\n\ngameObject.handleKeyDown({ keyCode: 87 }); // Simulate 'W' key press\nconsole.log('After W Key Press:', gameObject);\n\ngameObject.handleKeyDown({ keyCode: 65 }); // Simulate 'A' key press\nconsole.log('After A Key Press:', gameObject);\n\ngameObject.handleKeyDown({ keyCode: 83 }); // Simulate 'S' key press\nconsole.log('After S Key Press:', gameObject);\n\ngameObject.handleKeyDown({ keyCode: 68 }); // Simulate 'D' key press\nconsole.log('After D Key Press:', gameObject);\n",
      "text/plain": [
       "<IPython.core.display.Javascript object>"
      ]
     },
     "metadata": {},
     "output_type": "display_data"
    }
   ],
   "source": [
    "%%javascript\n",
    "\n",
    "class GameObject {\n",
    "    constructor() {\n",
    "        this.velocity = { x: 0, y: 0 };\n",
    "        this.direction = '';\n",
    "        this.xVelocity = 1;\n",
    "        this.yVelocity = 1;\n",
    "    }\n",
    "\n",
    "    handleKeyDown({ keyCode }) {\n",
    "        switch (keyCode) {\n",
    "            case 87: // 'W' key\n",
    "                this.direction = 'up';\n",
    "                break;\n",
    "            case 65: // 'A' key\n",
    "                this.direction = 'left';\n",
    "                break;\n",
    "            case 83: // 'S' key\n",
    "                this.direction = 'down';\n",
    "                break;\n",
    "            case 68: // 'D' key\n",
    "                this.direction = 'right';\n",
    "                break;\n",
    "        }\n",
    "    }\n",
    "}\n",
    "\n",
    "// Example usage\n",
    "const gameObject = new GameObject();\n",
    "console.log('Initial State:', gameObject);\n",
    "\n",
    "gameObject.handleKeyDown({ keyCode: 87 }); // Simulate 'W' key press\n",
    "console.log('After W Key Press:', gameObject);\n",
    "\n",
    "gameObject.handleKeyDown({ keyCode: 65 }); // Simulate 'A' key press\n",
    "console.log('After A Key Press:', gameObject);\n",
    "\n",
    "gameObject.handleKeyDown({ keyCode: 83 }); // Simulate 'S' key press\n",
    "console.log('After S Key Press:', gameObject);\n",
    "\n",
    "gameObject.handleKeyDown({ keyCode: 68 }); // Simulate 'D' key press\n",
    "console.log('After D Key Press:', gameObject);"
   ]
  }
 ],
 "metadata": {
  "kernelspec": {
   "display_name": "venv",
   "language": "python",
   "name": "python3"
  },
  "language_info": {
   "codemirror_mode": {
    "name": "ipython",
    "version": 3
   },
   "file_extension": ".py",
   "mimetype": "text/x-python",
   "name": "python",
   "nbconvert_exporter": "python",
   "pygments_lexer": "ipython3",
   "version": "3.12.5"
  }
 },
 "nbformat": 4,
 "nbformat_minor": 2
}
