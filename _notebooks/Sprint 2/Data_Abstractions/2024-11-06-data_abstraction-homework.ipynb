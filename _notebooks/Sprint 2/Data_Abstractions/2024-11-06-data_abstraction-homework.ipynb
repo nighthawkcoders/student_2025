{
 "cells": [
  {
   "cell_type": "code",
   "execution_count": null,
   "metadata": {
    "vscode": {
     "languageId": "yaml"
    }
   },
   "outputs": [],
   "source": [
    "---\n",
    "comments: True\n",
    "layout: post\n",
    "title: Data Abstraction Homework\n",
    "description: An intro to data abstraction\n",
    "permalink: /csse/javascript/fundamentals/data-abstraction-homework\n",
    "categories: [CSSE JavaScript Fundamentals]\n",
    "author: Akhil Kulkarni, Santhosh Karthik\n",
    "---"
   ]
  },
  {
   "cell_type": "markdown",
   "metadata": {},
   "source": [
    "# JavaScript BankAccount Class - Required Homework\n",
    "\n",
    "Create a `BankAccount` class that returns an object. Inside this function, follow these steps:\n",
    "\n",
    "### 1. **Initialize Balance**:\n",
    "- Create a `balance` variable and initialize it to `100`, or any balance you want (representing $100).\n",
    "\n",
    "### 2. **Methods**:\n",
    "- `deposit(amount)`: Adds a specified amount to the balance.\n",
    "- `withdraw(amount)`: Deducts a specified amount from the balance, but only if there is enough balance.\n",
    "- `getBalance()`: Returns the current balance.\n",
    "- `transfer(amount, targetAccount)`: Transfers a specified amount from this account to another account.\n",
    "\n",
    "### 3. **Encapsulation**:\n",
    "- Only allow access to the `balance` variable through the `deposit`, `withdraw`, `getBalance`, and `transfer` methods.\n",
    "- Make sure to avoid direct access to `balance` from outside the `BankAccount` function.\n",
    "\n",
    "### 4. **Validation**:\n",
    "- A deposit can only add positive amounts.\n",
    "- A withdrawal can only occur if the account has enough balance.\n",
    "- Transfers should be allowed only if both accounts have sufficient balance to complete the transaction.\n",
    "\n",
    "### 5. **Testing**:\n",
    "- Create a new `BankAccount` instance with a starting balance.\n",
    "- Call each method (`deposit`, `withdraw`, `getBalance`, `transfer`) to verify functionality.\n",
    "\n",
    "### 6. **Inheritance**:\n",
    "- Create a subclass of `BankAccount`, called `PremiumBankAccount`, which offers additional benefits like no transaction fees or higher transfer limits, or whatever you want.\n",
    "\n",
    "---\n",
    "\n",
    "### Example Scenario:\n",
    "\n",
    "1. **Create two BankAccount instances**:\n",
    "   - Account 1 has an initial balance of $500.\n",
    "   - Account 2 has an initial balance of $1000.\n",
    "\n",
    "2. **Test the following:**\n",
    "   - Deposit $200 into Account 1.\n",
    "   - Withdraw $50 from Account 1.\n",
    "   - Transfer $100 from Account 2 to Account 1.\n",
    "   - Print the balances of both accounts.\n",
    "\n",
    "Make sure to implement the `transfer` method so that it checks if both accounts have enough balance before transferring money.\n",
    "\n",
    "---\n"
   ]
  },
  {
   "cell_type": "code",
   "execution_count": 7,
   "metadata": {
    "vscode": {
     "languageId": "javascript"
    }
   },
   "outputs": [
    {
     "data": {
      "application/javascript": "    class BankAccount {\n\n    }\n",
      "text/plain": [
       "<IPython.core.display.Javascript object>"
      ]
     },
     "metadata": {},
     "output_type": "display_data"
    }
   ],
   "source": [
    "%%js \n",
    "    class BankAccount {\n",
    "\n",
    "    }"
   ]
  },
  {
   "cell_type": "markdown",
   "metadata": {
    "vscode": {
     "languageId": "javascript"
    }
   },
   "source": [
    "# JavaScript Car Class Code - Optional Homework (Extra Credit)\n",
    "\n",
    "Create a `Car` class that models a car with a few basic properties and methods. Follow these steps:\n",
    "\n",
    "### 1. **Initialize Properties**:\n",
    "- Create properties for `make`, `model`, and `fuelLevel` (a number between 0 and 100 representing the amount of fuel in the car).\n",
    "  \n",
    "### 2. **Methods**:\n",
    "- `drive(distance)`: Decreases the `fuelLevel` by a certain percentage based on the distance traveled.\n",
    "- `refuel(amount)`: Increases the `fuelLevel` by a specified amount, but make sure that it does not exceed 100 (the max fuel capacity).\n",
    "- `getFuelLevel()`: Returns the current `fuelLevel`.\n",
    "\n",
    "### 3. **Encapsulation**:\n",
    "- Keep the `fuelLevel` private, and only allow it to be modified or read via the `drive`, `refuel`, and `getFuelLevel` methods.\n",
    "- Do not allow direct access to `fuelLevel` from outside the class.\n",
    "\n",
    "### 4. **Validation**:\n",
    "- Ensure that when refueling, the `fuelLevel` does not exceed 100.\n",
    "- When driving, ensure that the car does not drive without enough fuel (so if fuel is 0, they cant drive).\n",
    "\n",
    "### 5. **Testing**:\n",
    "- Create a `Car` instance with an initial fuel level.\n",
    "- Test the following:\n",
    "  - Drive the car and check how the fuel level changes.\n",
    "  - Refuel the car and check that the fuel level increases without exceeding 100.\n",
    "  - Try driving the car when the fuel level is 0 and ensure that it cannot drive.\n",
    "\n",
    "---\n",
    "\n",
    "### Example Scenario:\n",
    "\n",
    "1. **Create a Car instance**:\n",
    "   - The car has a `make` of `\"Toyota\"`, a `model` of `\"Corolla\"`, and a `fuelLevel` of 50%.\n",
    "\n",
    "2. **Test the following:**\n",
    "   - Drive the car for 100 km (decreases fuel level by 10%).\n",
    "   - Refuel the car with 30 units (increases fuel level, but should not exceed 100%).\n",
    "   - Try to drive the car with 0 fuel and verify it doesn’t drive.\n",
    "\n",
    "---\n",
    "\n"
   ]
  },
  {
   "cell_type": "code",
   "execution_count": null,
   "metadata": {
    "vscode": {
     "languageId": "javascript"
    }
   },
   "outputs": [],
   "source": [
    "%%js\n",
    "class Car{\n",
    "\n",
    "}"
   ]
  }
 ],
 "metadata": {
  "kernelspec": {
   "display_name": "venv",
   "language": "python",
   "name": "python3"
  },
  "language_info": {
   "codemirror_mode": {
    "name": "ipython",
    "version": 3
   },
   "file_extension": ".py",
   "mimetype": "text/x-python",
   "name": "python",
   "nbconvert_exporter": "python",
   "pygments_lexer": "ipython3",
   "version": "3.12.6"
  }
 },
 "nbformat": 4,
 "nbformat_minor": 2
}
