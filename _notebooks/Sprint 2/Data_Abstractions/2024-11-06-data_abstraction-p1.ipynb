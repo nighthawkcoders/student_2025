{
 "cells": [
  {
   "cell_type": "code",
   "execution_count": null,
   "metadata": {
    "vscode": {
     "languageId": "yaml"
    }
   },
   "outputs": [],
   "source": [
    "---\n",
    "comments: True\n",
    "layout: post\n",
    "title: Data Abstraction\n",
    "description: An intro to data abstraction\n",
    "permalink: /csse/javascript/fundamentals/data-abstraction-p1\n",
    "type: ccc\n",
    "author: Santhosh Karthik\n",
    "---"
   ]
  },
  {
   "cell_type": "markdown",
   "metadata": {},
   "source": [
    "# What is Data Abstraction?\n",
    "Data Abstraction is hiding the complex inner workings of code, and only exposing the part that the user/coder needs to know.\n",
    "## Real Life Examples\n",
    "Some real life examples of Data Abstraction include cars, mobile apps, games, and even the computer that you are using!!\n",
    "### Car example\n",
    "Cars are a real life example of Data Abstraction with their steering wheel. The inner electronics of the system is hidden, and only the steering wheel, and the option of moving the car left and right are shown\n",
    "### Mobile App example\n",
    "Mobile App's are another great example for Data Abstraction. One example of this is the YouTube app. Youtube hides the complex hosting features that is use, and only shows you the actual video. Another example of Data abstraction would be the messages app on your phone. It hides the complex innerworkings of how it is being sent to someone elses phone, and only shows if it is sent or not.\n",
    "### Games example\n",
    "In games such as Minecraft as Pokemon Data abstraction is a necessary, as you need to hide how multiple things are being done in order to simplify the user experience\n",
    "## Relevant examples in Javascript\n",
    "Some examples of Data abstraction in Javascript include classes, function and objects. We will go more in depth into how these are examples"
   ]
  },
  {
   "cell_type": "markdown",
   "metadata": {},
   "source": [
    "# Built in functions\n",
    "Built in Javascript functions are a great example of Data Abstraction. The method to create them is already defined, the user simply has to call it. For example **Math.cos()** is a built in function that takes a number as an argument and returns the cosine of that number. The user does not need to know how the function works, they only need to know that it takes a number as an argument and returns the cosine of that number. "
   ]
  },
  {
   "cell_type": "code",
   "execution_count": null,
   "metadata": {
    "vscode": {
     "languageId": "javascript"
    }
   },
   "outputs": [
    {
     "data": {
      "application/javascript": "let angleInDegrees = 57;\nlet angleInRadians = angleInDegrees * (Math.PI / 180);\n// 11 lines of code to calculate the cosine of an angle without using built in operators\n    function factorial(n) {\n        let result = 1;\n        for (let i = 2; i <= n; i++) { // Start at 2, as multiplying by 1 is unnecessary\n            result *= i;\n        }\n        return result;\n    }\nfunction cosine(x) {\n    return 1 - x**2 / factorial(2) + x**4 / factorial(4) - x**6 / factorial(6) + x**8 / factorial(8) + x**10 / factorial(10);\n}\nlet createdOutput = cosine(angleInRadians);\n\n// 1 line of code to calculate the cosine of an angle using built in operators\nlet inBuiltOutput = Math.cos(angleInRadians);\nconsole.log(\"My created function: \" + createdOutput);\nconsole.log(\"Original function: \" + inBuiltOutput);\n",
      "text/plain": [
       "<IPython.core.display.Javascript object>"
      ]
     },
     "metadata": {},
     "output_type": "display_data"
    }
   ],
   "source": [
    "%%js \n",
    "let angleInDegrees = 57;\n",
    "let angleInRadians = angleInDegrees * (Math.PI / 180);\n",
    "// 11 lines of code to calculate the cosine of an angle without using built in operators\n",
    "    function factorial(n) {\n",
    "        let result = 1;\n",
    "        for (let i = 2; i <= n; i++) { // Start at 2, as multiplying by 1 is unnecessary\n",
    "            result *= i;\n",
    "        }\n",
    "        return result;\n",
    "    }\n",
    "function cosine(x) {\n",
    "    return 1 - x**2 / factorial(2) + x**4 / factorial(4) - x**6 / factorial(6) + x**8 / factorial(8) + x**10 / factorial(10);\n",
    "}\n",
    "let createdOutput = cosine(angleInRadians);\n",
    "\n",
    "// 1 line of code to calculate the cosine of an angle using built in operators\n",
    "let inBuiltOutput = Math.cos(angleInRadians);\n",
    "\n",
    "console.log(\"My created function: \" + createdOutput);\n",
    "console.log(\"Original function: \" + inBuiltOutput);\n",
    "console.log(\"You can also see that my function is less accurate by a little bit\")\n"
   ]
  },
  {
   "cell_type": "markdown",
   "metadata": {},
   "source": [
    "# Functions as Data Abstractions\n",
    "\n",
    "Functions are a great example of data abstraction because they help us simplify complex tasks. Here’s how they do that:\n",
    "\n",
    "1. **Simplification**: Functions take a set of instructions and bundle them together. This way, we don’t have to think about all the details every time we want to use them.\n",
    "\n",
    "2. **Reusability**: Once we create a function, we can use it multiple times throughout our code. This saves time and effort since we don't need to rewrite the same steps.\n",
    "\n",
    "3. **Clarity**: By giving functions clear names, we can easily understand what they do. This makes our code easier to read and follow.\n",
    "\n",
    "In short, functions allow us to focus on the bigger picture without getting lost in the details, making programming simpler and more organized.\n",
    "\n",
    "Below is an example of a reusable function that can add 2 numbers together"
   ]
  },
  {
   "cell_type": "code",
   "execution_count": 1,
   "metadata": {
    "vscode": {
     "languageId": "html"
    }
   },
   "outputs": [
    {
     "data": {
      "text/html": [
       "    <div>\n",
       "        <p>Please put your first number here</p>\n",
       "        <input type=\"number\" id=\"num1\" name=\"num1\">\n",
       "        <p>Please put your second number</p>\n",
       "        <input type=\"number\" id=\"num2\" name=\"num2\">\n",
       "        <br>\n",
       "        <br>\n",
       "        <button onclick=\"addNumbers('num1', 'num2', 'output')\">Submit</button>\n",
       "    </div>\n",
       "    <p id=\"output\"></p>\n",
       "    <div>\n",
       "        <p>Please put your first number here</p>\n",
       "        <input type=\"number\" id=\"number1\" name=\"number1\">\n",
       "        <p>Please put your second number</p>\n",
       "        <input type=\"number\" id=\"number2\" name=\"number2\">\n",
       "        <br>\n",
       "        <br>\n",
       "        <button onclick=\"addNumbers('number1', 'number2', 'output2')\">Submit</button>\n",
       "    </div>\n",
       "    <p id=\"output2\"></p>\n",
       "    <script>\n",
       "        function addNumbers(id1, id2, output) {\n",
       "            let num1 = parseFloat(document.getElementById(id1).value);\n",
       "            let num2 = parseFloat(document.getElementById(id2).value);\n",
       "            let solution = num1 + num2;\n",
       "            document.getElementById(output).innerHTML = solution;\n",
       "        }\n",
       "    </script>\n"
      ],
      "text/plain": [
       "<IPython.core.display.HTML object>"
      ]
     },
     "metadata": {},
     "output_type": "display_data"
    }
   ],
   "source": [
    "%%html\n",
    "    <div>\n",
    "        <p>Please put your first number here</p>\n",
    "        <input type=\"number\" id=\"num1\" name=\"num1\">\n",
    "        <p>Please put your second number</p>\n",
    "        <input type=\"number\" id=\"num2\" name=\"num2\">\n",
    "        <br>\n",
    "        <br>\n",
    "        <button onclick=\"addNumbers('num1', 'num2', 'output')\">Submit</button>\n",
    "    </div>\n",
    "    <p id=\"output\"></p>\n",
    "    <div>\n",
    "        <p>Please put your first number here</p>\n",
    "        <input type=\"number\" id=\"number1\" name=\"number1\">\n",
    "        <p>Please put your second number</p>\n",
    "        <input type=\"number\" id=\"number2\" name=\"number2\">\n",
    "        <br>\n",
    "        <br>\n",
    "        <button onclick=\"addNumbers('number1', 'number2', 'output2')\">Submit</button>\n",
    "    </div>\n",
    "    <p id=\"output2\"></p>\n",
    "    <script>\n",
    "        function addNumbers(id1, id2, output) {\n",
    "            let num1 = parseFloat(document.getElementById(id1).value);\n",
    "            let num2 = parseFloat(document.getElementById(id2).value);\n",
    "            let solution = num1 + num2;\n",
    "            document.getElementById(output).innerHTML = solution;\n",
    "        }\n",
    "    </script>"
   ]
  },
  {
   "cell_type": "markdown",
   "metadata": {},
   "source": [
    "# Classes as Data Abstractions\n",
    "\n",
    "Classes play a crucial role in data abstraction in programming. Here’s how they achieve this:\n",
    "\n",
    "1. **Reusability and Inheritance**:  \n",
    "   Once a class is defined, it can be reused to create multiple instances (objects) without rewriting code. Through inheritance, new classes can inherit properties and methods from existing ones, promoting code reuse and reducing redundancy.\n",
    "\n",
    "2. **Polymorphism**:  \n",
    "   This allows objects of different classes to be treated as objects of a common superclass. It enables more flexible and generic code that can operate on different types of objects, enhancing code extensibility.\n",
    "\n",
    "In summary, classes help create organized, reusable, and understandable code by encapsulating data and behavior, abstracting complexity, and supporting a robust inheritance structure.\n"
   ]
  },
  {
   "cell_type": "markdown",
   "metadata": {},
   "source": [
    "### What is inheritance?\n",
    "Inheritance allows a new class to contain properties from another class using the word **extends**. Below is an example of 2 classes, one being a parent class and the other being a child class. The child class inherits the properties of the parent class such as its **parameters** and **functions**"
   ]
  },
  {
   "cell_type": "code",
   "execution_count": 83,
   "metadata": {
    "vscode": {
     "languageId": "javascript"
    }
   },
   "outputs": [
    {
     "data": {
      "application/javascript": "    // Define the Phone class\n    class Phone {\n        constructor(model, specs) {\n            this.model = model;\n            this.specs = specs;\n        }\n        \n        listSpecs(id) {\n            document.getElementById(id).innerHTML = (\"The \" + this.model + \" weighs \" + this.specs.weight + \n                        \", has a display of \" + this.specs.display + \n                        \" and has a \" + this.specs.chip);\n            console.log(\"The \" + this.model + \" weighs \" + this.specs.weight + \n                        \", has a display of \" + this.specs.display + \n                        \" and has a \" + this.specs.chip);\n        }\n    }\n\n    // Define the iPhone16 class\n    class iPhone16 extends Phone {\n        constructor() {\n            const model = \"iPhone 16\"; // Use const or let here\n            const specs = {\n                weight: \"170 grams\",\n                display: \"6.1 inches\",\n                chip: \"A18\"\n            };\n            super(model, specs); // Call the parent constructor\n        }\n    }\n        let myiPhone;\n        if (typeof myiPhone === 'undefined') {\n            // Create an instance of iPhone16 and call the listSpecs method\n            myiPhone = new iPhone16(); // Create an instance of iPhone16\n        }\n        myiPhone.listSpecs(\"iPhone\"); // Call the listSpecs method\n",
      "text/plain": [
       "<IPython.core.display.Javascript object>"
      ]
     },
     "metadata": {},
     "output_type": "display_data"
    }
   ],
   "source": [
    "%%js\n",
    "    // Define the Phone class\n",
    "    class Phone {\n",
    "        constructor(model, specs) {\n",
    "            this.model = model;\n",
    "            this.specs = specs;\n",
    "        }\n",
    "        \n",
    "        listSpecs(id) {\n",
    "            document.getElementById(id).innerHTML = (\"The \" + this.model + \" weighs \" + this.specs.weight + \n",
    "                        \", has a display of \" + this.specs.display + \n",
    "                        \" and has a \" + this.specs.chip);\n",
    "            console.log(\"The \" + this.model + \" weighs \" + this.specs.weight + \n",
    "                        \", has a display of \" + this.specs.display + \n",
    "                        \" and has a \" + this.specs.chip);\n",
    "        }\n",
    "    }\n",
    "\n",
    "    // Define the iPhone16 class\n",
    "    class iPhone16 extends Phone {\n",
    "        constructor() {\n",
    "            const model = \"iPhone 16\"; // Use const or let here\n",
    "            const specs = {\n",
    "                weight: \"170 grams\",\n",
    "                display: \"6.1 inches\",\n",
    "                chip: \"A18\"\n",
    "            };\n",
    "            super(model, specs); // Call the parent constructor\n",
    "        }\n",
    "    }\n",
    "        let myiPhone;\n",
    "        if (typeof myiPhone === 'undefined') {\n",
    "            // Create an instance of iPhone16 and call the listSpecs method\n",
    "            myiPhone = new iPhone16(); // Create an instance of iPhone16\n",
    "        }\n",
    "        myiPhone.listSpecs(\"iPhone\"); // Call the listSpecs method"
   ]
  },
  {
   "cell_type": "code",
   "execution_count": 84,
   "metadata": {
    "vscode": {
     "languageId": "html"
    }
   },
   "outputs": [
    {
     "data": {
      "text/html": [
       "    <p> These are the specs of the iPhone 16:</p>\n",
       "    <p id=\"iPhone\"></p>\n"
      ],
      "text/plain": [
       "<IPython.core.display.HTML object>"
      ]
     },
     "metadata": {},
     "output_type": "display_data"
    }
   ],
   "source": [
    "%%html\n",
    "    <p> These are the specs of the iPhone 16:</p>\n",
    "    <p id=\"iPhone\"></p>"
   ]
  },
  {
   "cell_type": "markdown",
   "metadata": {},
   "source": [
    "## How to Use `super` in Data Abstraction\n",
    "\n",
    "The `super` function is used to call methods or access variables from a **parent class** in a **child class**. Here’s how it works:\n",
    "\n",
    "- **Access Parent Variables**: You can use `super` to bring in variables or properties that are already defined in the parent class, so you don’t have to rewrite them.\n",
    "- **Modify Parent Methods**: If the parent class has a method, you can use `super` to call that method and then build on it in the child class. For example, if the parent class has a `getPrice` method, you can use `super.getPrice()` in the child class to get the original price, then modify it—like multiplying it by a new factor.\n",
    "\n",
    "Using `super` is helpful when you know the parent method’s output but need to adjust it slightly without re-creating the whole function. This saves time and keeps the code simpler, especially for complex functions. \n",
    "\n",
    "---\n",
    "\n",
    "**Simple Summary**:  \n",
    "`super` lets a child class use parts of a parent class without redoing the work. It’s like copying the basics from a template and adding only the extra details you need."
   ]
  },
  {
   "cell_type": "code",
   "execution_count": 74,
   "metadata": {
    "vscode": {
     "languageId": "javascript"
    }
   },
   "outputs": [
    {
     "data": {
      "application/javascript": "    class Product{\n        constructor(price,size,taxRate) {\n            this.price = price;\n            this.size = size;\n            this.taxRate = taxRate;\n        }   \n        getPrice() {\n            return this.price + this.taxRate * this.price;\n        }\n        product(){\n            const className = this.constructor.name.toLowerCase();\n            return \"You are ordering a \" + className + \" with a price of \" + this.getPrice() + \" dollars, a size of \" + this.size;\n        }\n    }\n    class Bagel extends Product{\n        constructor(price, size, taxRate, flavor) {\n            super(price, size, taxRate);\n            this.flavor = flavor;\n        }\n        getPrice(){\n            return super.getPrice() * this.size;\n        }\n        product(){\n            return super.product() + \" and a flavor of \" + this.flavor;\n        }\n    }\nvar sesameBagel = new Bagel(1.5, 2, 0.07, \"sesame\");\nconsole.log(sesameBagel.product());\n",
      "text/plain": [
       "<IPython.core.display.Javascript object>"
      ]
     },
     "metadata": {},
     "output_type": "display_data"
    }
   ],
   "source": [
    "%%js\n",
    "    class Product{\n",
    "        constructor(price,size,taxRate) {\n",
    "            this.price = price;\n",
    "            this.size = size;\n",
    "            this.taxRate = taxRate;\n",
    "        }   \n",
    "        getPrice() {\n",
    "            return this.price + this.taxRate * this.price;\n",
    "        }\n",
    "        product(){\n",
    "            const className = this.constructor.name.toLowerCase();\n",
    "            return \"You are ordering a \" + className + \" with a price of \" + this.getPrice() + \" dollars, a size of \" + this.size;\n",
    "        }\n",
    "    }\n",
    "    class Bagel extends Product{\n",
    "        constructor(price, size, taxRate, flavor) {\n",
    "            super(price, size, taxRate);\n",
    "            this.flavor = flavor;\n",
    "        }\n",
    "        getPrice(){\n",
    "            return super.getPrice() * this.size;\n",
    "        }\n",
    "        product(){\n",
    "            return super.product() + \" and a flavor of \" + this.flavor;\n",
    "        }\n",
    "    }\n",
    "const sesameBagel = new Bagel(1.5, 2, 0.07, \"sesame\");\n",
    "console.log(sesameBagel.product());"
   ]
  },
  {
   "cell_type": "markdown",
   "metadata": {},
   "source": [
    "# Polymorphism\n",
    "\n",
    "Polymorphism is a fundamental concept in object-oriented programming that allows methods to do different things based on the object that is calling them. It enables objects of different classes to be treated as objects of a common superclass.\n",
    "\n",
    "### Example\n",
    "\n",
    "A base class `Shape` might have a method `area()`. Subclasses like `Circle` and `Square` provide their specific implementations. When `area()` is called, the correct version is executed based on the object type.\n",
    "\n",
    "## Benefits\n",
    "\n",
    "- **Code Reusability**: Use the same interface for different types.\n",
    "- **Flexibility**: Easily extend and manage code.\n"
   ]
  },
  {
   "cell_type": "code",
   "execution_count": 80,
   "metadata": {
    "vscode": {
     "languageId": "javascript"
    }
   },
   "outputs": [
    {
     "data": {
      "application/javascript": "    class RegularShape {\n        constructor(sideLength, apothem){\n            this.sideLength = sideLength;\n            this.apothem = apothem;\n        }\n        area(){\n            throw new Error(\"This method must be overridden!\");\n        }\n        perimeter(){\n            throw new Error(\"This method must be overridden!\");\n        }\n    }\n\n    class Square extends RegularShape {\n        constructor(sideLength){\n            super(sideLength, sideLength/2);\n        }\n        area(){\n            return this.sideLength ** 2;\n        }\n        perimeter(){\n            return this.sideLength * 4;\n        }\n    }\n\n    class RegularPentagon extends RegularShape{\n        constructor(sideLength){\n            super(sideLength, sideLength/2*Math.tan(Math.PI/5));\n        }\n        area(){\n            return 5 * this.sideLength * this.apothem / 2;\n        }\n        perimeter(){\n            return this.sideLength * 5;\n        }\n    }\n    class Arc extends RegularShape{\n        constructor(radius, degrees){\n            // Using sideLength for the arc length of an arc in degrees\n            super(radius, radius);\n            this.radius = radius;\n            this.arcLength = 2 * Math.PI * radius * degrees / 360;\n            if(degrees >0 && degrees <= 360){\n                this.degrees = degrees;\n            }\n            else{\n                throw new Error(\"Degrees must be between 0 and 360\");\n            }\n        }\n        area(){\n            return Math.PI * this.radius ** 2 * this.degrees/360;\n        }\n        perimeter(){\n            return this.arcLength + 2 * this.radius;\n        }\n    }\n\n    let pentagon = new RegularPentagon(9);\n    let square = new Square(5);\n    let arc = new Arc(1,360 )\n    console.log(\"Area of the pentagon: \" + pentagon.area());\n    console.log(\"Perimeter of the pentagon: \" + pentagon.perimeter());\n    console.log(\"Area of the Square: \"+ square.area());\n    console.log(\"Perimeter of the Square: \"+ square.perimeter());\n    console.log(\"Area of the arc: \" + arc.area());\n    console.log(\"Perimeter of the arc: \" + arc.perimeter());\n",
      "text/plain": [
       "<IPython.core.display.Javascript object>"
      ]
     },
     "metadata": {},
     "output_type": "display_data"
    }
   ],
   "source": [
    "%%js\n",
    "    class RegularShape {\n",
    "        constructor(sideLength, apothem){\n",
    "            this.sideLength = sideLength;\n",
    "            this.apothem = apothem;\n",
    "        }\n",
    "        area(){\n",
    "            throw new Error(\"This method must be overridden!\");\n",
    "        }\n",
    "        perimeter(){\n",
    "            throw new Error(\"This method must be overridden!\");\n",
    "        }\n",
    "    }\n",
    "\n",
    "    class Square extends RegularShape {\n",
    "        constructor(sideLength){\n",
    "            super(sideLength, sideLength/2);\n",
    "        }\n",
    "        area(){\n",
    "            return this.sideLength ** 2;\n",
    "        }\n",
    "        perimeter(){\n",
    "            return this.sideLength * 4;\n",
    "        }\n",
    "    }\n",
    "\n",
    "    class RegularPentagon extends RegularShape{\n",
    "        constructor(sideLength){\n",
    "            super(sideLength, sideLength/2*Math.tan(Math.PI/5));\n",
    "        }\n",
    "        area(){\n",
    "            return 5 * this.sideLength * this.apothem / 2;\n",
    "        }\n",
    "        perimeter(){\n",
    "            return this.sideLength * 5;\n",
    "        }\n",
    "    }\n",
    "    class Arc extends RegularShape{\n",
    "        constructor(radius, degrees){\n",
    "            // Using sideLength for the arc length of an arc in degrees\n",
    "            super(radius, radius);\n",
    "            this.radius = radius;\n",
    "            this.arcLength = 2 * Math.PI * radius * degrees / 360;\n",
    "            if(degrees >0 && degrees <= 360){\n",
    "                this.degrees = degrees;\n",
    "            }\n",
    "            else{\n",
    "                throw new Error(\"Degrees must be between 0 and 360\");\n",
    "            }\n",
    "        }\n",
    "        area(){\n",
    "            return Math.PI * this.radius ** 2 * this.degrees/360;\n",
    "        }\n",
    "        perimeter(){\n",
    "            return this.arcLength + 2 * this.radius;\n",
    "        }\n",
    "    }\n",
    "\n",
    "    let pentagon = new RegularPentagon(9);\n",
    "    let square = new Square(5);\n",
    "    let arc = new Arc(1,360 )\n",
    "    console.log(\"Area of the pentagon: \" + pentagon.area());\n",
    "    console.log(\"Perimeter of the pentagon: \" + pentagon.perimeter());\n",
    "    console.log(\"Area of the Square: \"+ square.area());\n",
    "    console.log(\"Perimeter of the Square: \"+ square.perimeter());\n",
    "    console.log(\"Area of the arc: \" + arc.area());\n",
    "    console.log(\"Perimeter of the arc: \" + arc.perimeter());"
   ]
  }
 ],
 "metadata": {
  "kernelspec": {
   "display_name": "venv",
   "language": "python",
   "name": "python3"
  },
  "language_info": {
   "codemirror_mode": {
    "name": "ipython",
    "version": 3
   },
   "file_extension": ".py",
   "mimetype": "text/x-python",
   "name": "python",
   "nbconvert_exporter": "python",
   "pygments_lexer": "ipython3",
   "version": "3.12.6"
  }
 },
 "nbformat": 4,
 "nbformat_minor": 2
}
