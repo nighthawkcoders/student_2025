{
 "cells": [
  {
   "cell_type": "code",
   "execution_count": null,
   "metadata": {},
   "outputs": [],
   "source": [
    "---\n",
    "comments: True\n",
    "layout: post\n",
    "title: Iteration Nested Loops \n",
    "description: An intro to data abstraction\n",
    "permalink: /csse/javascript/fundamentals/iteration/p2\n",
    "categories: [CSSE JavaScript Fundamentals]\n",
    "author: Michael Xu\n",
    "---"
   ]
  },
  {
   "cell_type": "markdown",
   "metadata": {
    "vscode": {
     "languageId": "plaintext"
    }
   },
   "source": [
    "# **For loops**"
   ]
  },
  {
   "cell_type": "markdown",
   "metadata": {},
   "source": [
    "For loops can also be used to iterate through **arrays** and **objects**"
   ]
  },
  {
   "cell_type": "markdown",
   "metadata": {},
   "source": [
    "#### Recall using for loops"
   ]
  },
  {
   "cell_type": "code",
   "execution_count": null,
   "metadata": {
    "vscode": {
     "languageId": "javascript"
    }
   },
   "outputs": [],
   "source": [
    "%%js\n",
    "\n",
    "const fruits = ['apple','bananas','cherries','durian'];\n",
    "\n",
    "for (let i = 0; i < fruits.length; i++){\n",
    "    console.log(i);          // print the indices\n",
    "    console.log(fruits[i]); // print the elements\n",
    "}"
   ]
  },
  {
   "cell_type": "markdown",
   "metadata": {
    "vscode": {
     "languageId": "raw"
    }
   },
   "source": [
    "**output:**\n",
    "\n",
    "0  \n",
    "apple  \n",
    "1  \n",
    "bananas  \n",
    "2  \n",
    "cherries  \n",
    "3  \n",
    "durian"
   ]
  },
  {
   "cell_type": "markdown",
   "metadata": {},
   "source": [
    "We can achieve the same result using the keyword **of** to iterate over arrays"
   ]
  },
  {
   "cell_type": "code",
   "execution_count": null,
   "metadata": {
    "vscode": {
     "languageId": "javascript"
    }
   },
   "outputs": [],
   "source": [
    "%%js\n",
    "\n",
    "const fruits = ['apple','bananas','cherries','durian'];\n",
    "\n",
    "for (let fruit of fruits) { //iterates through each element in the fruits array\n",
    "    console.log(fruit); //prints each element seperately\n",
    "}"
   ]
  },
  {
   "cell_type": "markdown",
   "metadata": {},
   "source": [
    "**output:**\n",
    "\n",
    "apple  \n",
    "bananas  \n",
    "cherries  \n",
    "durian"
   ]
  },
  {
   "cell_type": "markdown",
   "metadata": {},
   "source": [
    "### Objects\n",
    "\n",
    "for loops can also be used to iterate **objects** over each **key** and its **value**"
   ]
  },
  {
   "cell_type": "code",
   "execution_count": null,
   "metadata": {
    "vscode": {
     "languageId": "javascript"
    }
   },
   "outputs": [],
   "source": [
    "%%js \n",
    "\n",
    "const personInfo = { // Define an object\n",
    "    name: \"Alex\",\n",
    "    age: 30,\n",
    "    city: \"San Diego\",\n",
    "    occupation: \"Software Engineer\"\n",
    "};\n",
    "\n",
    "for (let key in personInfo) { // Notice we are using for... in... instead of for... of...\n",
    "    console.log(key + \": \" + personInfo[key]);\n",
    "}"
   ]
  },
  {
   "cell_type": "markdown",
   "metadata": {},
   "source": [
    "#### **in**:\n",
    "Checks for property existence in objects and is used in **for...in** loops to iterate over property keys.\n",
    "#### **of**:\n",
    "Iterates over iterable objects (like arrays) and is used in **for...of** loops to access values directly."
   ]
  },
  {
   "cell_type": "markdown",
   "metadata": {},
   "source": [
    "# **Nested Loops**\n",
    "\n",
    "Nested loops are similar to nested conditions with for loops within other for loops\n",
    "\n",
    "#### Example:"
   ]
  },
  {
   "cell_type": "code",
   "execution_count": null,
   "metadata": {
    "vscode": {
     "languageId": "javascript"
    }
   },
   "outputs": [],
   "source": [
    "%%js\n",
    "\n",
    "const matrix = [ // A 2D array\n",
    "    [1, 2, 3],\n",
    "    [4, 5, 6],\n",
    "    [7, 8, 9]\n",
    "];\n",
    "for (let row of matrix) { \n",
    "    for (let column of row) { \n",
    "        console.log(column); // Output: 1 to 9\n",
    "    }\n",
    "}"
   ]
  },
  {
   "cell_type": "markdown",
   "metadata": {},
   "source": [
    "#### We can also do mix conditions with for loops"
   ]
  },
  {
   "cell_type": "code",
   "execution_count": null,
   "metadata": {
    "vscode": {
     "languageId": "javascript"
    }
   },
   "outputs": [],
   "source": [
    "%%js\n",
    "\n",
    "const numbers = [1,2,3,4,5,6,7,8,9];\n",
    "let evenCount = 0;\n",
    "\n",
    "for (let number of numbers){\n",
    "    if (number % 2 === 0){ // check if the number is even\n",
    "        evenCount++ // increment by 1 \n",
    "    }\n",
    "}\n",
    "console.log(evenCount) // Output: 4"
   ]
  }
 ],
 "metadata": {
  "kernelspec": {
   "display_name": "venv",
   "language": "python",
   "name": "python3"
  },
  "language_info": {
   "codemirror_mode": {
    "name": "ipython",
    "version": 3
   },
   "file_extension": ".py",
   "mimetype": "text/x-python",
   "name": "python",
   "nbconvert_exporter": "python",
   "pygments_lexer": "ipython3",
   "version": "3.12.5"
  }
 },
 "nbformat": 4,
 "nbformat_minor": 2
}
