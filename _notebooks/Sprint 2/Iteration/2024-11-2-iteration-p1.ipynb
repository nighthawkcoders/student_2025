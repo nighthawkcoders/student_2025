{
 "cells": [
  {
   "cell_type": "code",
   "execution_count": null,
   "metadata": {},
   "outputs": [],
   "source": [
    "---\n",
    "comments: True\n",
    "layout: post\n",
    "title: Iteration For Loops\n",
    "description: An intro to data abstraction\n",
    "permalink: /csse/javascript/fundamentals/iteration/p1\n",
    "categories: [CSSE JavaScript Fundamentals]\n",
    "author: Kian Zhu\n",
    "---"
   ]
  },
  {
   "cell_type": "markdown",
   "metadata": {},
   "source": [
    "# What is for loops"
   ]
  },
  {
   "cell_type": "markdown",
   "metadata": {},
   "source": [
    "A for loop is a control flow statement that allows you to execute a block of code a certain number of times. It's particularly useful when you know in advance how many times you want to iterate through a block of code."
   ]
  },
  {
   "cell_type": "markdown",
   "metadata": {},
   "source": [
    "## Syntax of a for Loop\n",
    "The syntax of a for loop consists of three main parts:"
   ]
  },
  {
   "cell_type": "code",
   "execution_count": null,
   "metadata": {
    "vscode": {
     "languageId": "javascript"
    }
   },
   "outputs": [],
   "source": [
    "%%js \n",
    "for (initialization; condition; increment) {\n",
    "    // Code to be executed on each iteration\n",
    "}\n"
   ]
  },
  {
   "cell_type": "markdown",
   "metadata": {},
   "source": [
    "Initialization: This sets up a counter variable and runs once at the beginning of the loop.\n",
    "\n",
    "Condition: Before each iteration, the loop checks this condition. If it's true, the loop continues; if false, the loop ends.\n",
    "\n",
    "Increment: This updates the counter variable after each iteration."
   ]
  },
  {
   "cell_type": "markdown",
   "metadata": {},
   "source": [
    "### Example of a for Loop"
   ]
  },
  {
   "cell_type": "code",
   "execution_count": null,
   "metadata": {
    "vscode": {
     "languageId": "javascript"
    }
   },
   "outputs": [],
   "source": [
    "%%js \n",
    "for (let i = 1; i <= 5; i++) {\n",
    "    console.log(i);\n",
    "}\n"
   ]
  },
  {
   "cell_type": "markdown",
   "metadata": {},
   "source": [
    "Explanation:\n",
    "\n",
    "Initialization: let i = 1 sets the counter variable i to 1.\n",
    "\n",
    "Condition: i <= 5 checks if i is less than or equal to 5.\n",
    "\n",
    "Increment: i++ increases i by 1 after each iteration."
   ]
  },
  {
   "cell_type": "markdown",
   "metadata": {},
   "source": [
    "## Output\n",
    "1\n",
    "\n",
    "2\n",
    "\n",
    "3\n",
    "\n",
    "4\n",
    "\n",
    "5\n"
   ]
  },
  {
   "cell_type": "markdown",
   "metadata": {},
   "source": [
    "### Advanced Usage: Looping Through Arrays\n",
    "You can use a for loop to iterate over elements in an array. Here’s an example:"
   ]
  },
  {
   "cell_type": "code",
   "execution_count": null,
   "metadata": {
    "vscode": {
     "languageId": "javascript"
    }
   },
   "outputs": [],
   "source": [
    "%%js \n",
    "let fruits = [\"apple\", \"banana\", \"cherry\"];\n",
    "\n",
    "for (let i = 0; i < fruits.length; i++) {\n",
    "    console.log(fruits[i]);\n",
    "}\n"
   ]
  },
  {
   "cell_type": "markdown",
   "metadata": {},
   "source": [
    "### output\n",
    "apple\n",
    "\n",
    "banana\n",
    "\n",
    "cherry\n"
   ]
  },
  {
   "cell_type": "markdown",
   "metadata": {},
   "source": [
    "## popcorn 1\n",
    "Calculate the Sum\n",
    " Write a for loop that calculates the sum of all even numbers from 1 to 20. Output the result to the console.\n",
    "\n",
    "**Hint**: Any number divided by two results in a remainder of 1 for odd numbers and 0 for even numbers. The modulo operator (`%`) helps you determine this condition. The statement `if (n % 2 == 0)` would be true when `n` is even."
   ]
  }
 ],
 "metadata": {
  "kernelspec": {
   "display_name": "venv",
   "language": "python",
   "name": "python3"
  },
  "language_info": {
   "codemirror_mode": {
    "name": "ipython",
    "version": 3
   },
   "file_extension": ".py",
   "mimetype": "text/x-python",
   "name": "python",
   "nbconvert_exporter": "python",
   "pygments_lexer": "ipython3",
   "version": "3.12.5"
  }
 },
 "nbformat": 4,
 "nbformat_minor": 2
}
