{
 "cells": [
  {
   "cell_type": "raw",
   "metadata": {
    "vscode": {
     "languageId": "raw"
    }
   },
   "source": [
    "---\n",
    "comments: true\n",
    "layout: post\n",
    "title: CSP Period 4 Unit 3.7.2 Nested Conditionals Javascript Lesson\n",
    "description: Nested conditionals in JavaScript allow for more complex decision-making by placing one conditional statement inside another. This structure enables a program to check additional conditions only if the previous condition is true, creating a layered decision process. In this lesson, students will learn how to implement nested if, else if, and else statements to create more specific control flows in their programs. Through examples and exercises, they will gain a deeper understanding of how to manage multiple conditions effectively, enhancing the logic of their code.\n",
    "permalink: /csp/big-idea/p4/3-7-2\n",
    "type: ccc\n",
    "author: Avantika Chittari\n",
    "menu: nav/csp_units/csp_unit3_p4_fundamentals.html\n",
    "---"
   ]
  },
  {
   "cell_type": "markdown",
   "metadata": {
    "vscode": {
     "languageId": "html"
    }
   },
   "source": [
    "<h2><span style=\"font-family: Ariel; color:#94c4ff\">Homework - Integers, Booleans, AND Random</span></h2>\n",
    "\n",
    "Objective:\n",
    "Write a JavaScript program that randomly assigns a student grade level (from 0 to 12) and outputs the school level the student would be in (kindergarten, elementary, middle, or high school). The program also identifies if the student is in their last year at their current school level.\n",
    "\n",
    "Instructions:\n",
    "\n",
    "Open a JavaScript file (e.g., schoolLevel.js).\n",
    "\n",
    "Generate a Random Grade:\n",
    "\n",
    "Use Math.random() to generate a random number between 0 to 1 and multiply it by 12, which will represent the student’s grade.\n",
    "Round the number to the nearest whole number using Math.round().\n",
    "Store this number in a variable called grade.\n",
    "Print the grade to the console with a message such as, \"You are in ___ grade.\"\n",
    "Determine the School Level:\n",
    "\n",
    "Use if statements to check the value of grade and print which school level the student is in:\n",
    "Kindergarten for grade 0\n",
    "Elementary School for grades 1–5\n",
    "Middle School for grades 6–8\n",
    "High School for grades 9–12\n",
    "For each school level, add an additional check to see if the student is in their final year. If all is done correctly, it will print a message like this, “You will graduate this year from _____.”\n",
    "\n"
   ]
  },
  {
   "cell_type": "markdown",
   "metadata": {
    "vscode": {
     "languageId": "javascript"
    }
   },
   "source": [
    "- Booleans are a data type that can only have two different values True or Flase. \n",
    "- Random generates random values with unpredictable results, usually within a specified range such as 0-1"
   ]
  },
  {
   "cell_type": "code",
   "execution_count": 10,
   "metadata": {
    "vscode": {
     "languageId": "javascript"
    }
   },
   "outputs": [
    {
     "data": {
      "application/javascript": "const grade = Math.round(Math.random()*12)\n//console.log(\"Student is in the \" + grade + \" grade\")\n \nfunction findSchool(studentGrade){\n   console.log(studentGrade)\n   if (studentGrade == 0){\n    return \"Kindergarten School\"\n   }else if(studentGrade == 1 || studentGrade == 2 || studentGrade == 3 || studentGrade == 4 || studentGrade == 5){ // grades 1 -5\n    return \"Elementry School\"\n   }else if(studentGrade == 6 ||studentGrade == 7 ||studentGrade == 8 ){ // grades 6 - 8\n    return \"Middle School\"\n   }else if(studentGrade > 8){ // grades 9 - 12\n    return \"High School\"\n   }\n}\n\nconsole.log(findSchool(grade))\n",
      "text/plain": [
       "<IPython.core.display.Javascript object>"
      ]
     },
     "metadata": {},
     "output_type": "display_data"
    }
   ],
   "source": [
    "%%js\n",
    "const grade = Math.round(Math.random()*12)\n",
    "//console.log(\"Student is in the \" + grade + \" grade\")\n",
    " \n",
    "function findSchool(studentGrade){\n",
    "   console.log(studentGrade)\n",
    "   if (studentGrade == 0){\n",
    "    return \"Kindergarten School\"\n",
    "   }else if(studentGrade == 1 || studentGrade == 2 || studentGrade == 3 || studentGrade == 4 || studentGrade == 5){ // grades 1 -5\n",
    "    return \"Elementry School\"\n",
    "   }else if(studentGrade == 6 ||studentGrade == 7 ||studentGrade == 8 ){ // grades 6 - 8\n",
    "    return \"Middle School\"\n",
    "   }else if(studentGrade > 8){ // grades 9 - 12\n",
    "    return \"High School\"\n",
    "   }\n",
    "}\n",
    "\n",
    "console.log(findSchool(grade))"
   ]
  }
 ],
 "metadata": {
  "kernelspec": {
   "display_name": "venv",
   "language": "python",
   "name": "python3"
  },
  "language_info": {
   "codemirror_mode": {
    "name": "ipython",
    "version": 3
   },
   "file_extension": ".py",
   "mimetype": "text/x-python",
   "name": "python",
   "nbconvert_exporter": "python",
   "pygments_lexer": "ipython3",
   "version": "3.10.12"
  }
 },
 "nbformat": 4,
 "nbformat_minor": 2
}
