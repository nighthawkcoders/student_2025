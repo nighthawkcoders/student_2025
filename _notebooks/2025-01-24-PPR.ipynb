{
 "cells": [
  {
   "cell_type": "markdown",
   "metadata": {},
   "source": [
    "---\n",
    "layout: post\n",
    "title: PPR Review\n",
    "description: PPR Review\n",
    "comments: true\n",
    "sticky_rank: 1\n",
    "permalink: /PPR\n",
    "\n",
    "---"
   ]
  },
  {
   "cell_type": "markdown",
   "metadata": {},
   "source": []
  },
  {
   "cell_type": "markdown",
   "metadata": {},
   "source": [
    "# Poseidon AI PPR REQUIREMENTS\n",
    "\n",
    "A PPR is created to help students prepare for **written response prompts on the exam**. It documents **essential code snippets** used in the **Poseidon AI Chatbot** feature, showcasing **procedures, list usage, and algorithms**.\n",
    "\n",
    "## **Poseidon AI Overview**\n",
    "**Poseidon AI** is an **AI-powered chatbot** that provides **homework assistance** using **Gemini AI**. It supports:\n",
    "- **Text and voice input** for seamless user interaction\n",
    "- **Full CRUD functionality** with stored chat logs in an **SQL database**\n",
    "- **Administrative backend** for chatbot log management\n",
    "- **AI-generated responses** optimized for accuracy\n",
    "\n",
    "### **PPR Submission Requirements**\n",
    "✅ **At least two student-developed procedures**  \n",
    "✅ **Two List-based Code Snippets**  \n",
    "✅ **Demonstration of sequencing, selection, and iteration**  \n"
   ]
  },
  {
   "cell_type": "markdown",
   "source": [
    "\n",
    "## **PPR Snippet Requirements**  \n",
    "### **Function (with Parameters, If-Else, and Sequencing + Selection + Iteration)**  "
   ],
   "metadata": {
    "collapsed": false
   }
  },
  {
   "cell_type": "code",
   "execution_count": null,
   "outputs": [],
   "source": [
    "```python\n",
    "@staticmethod\n",
    "def restore(data):\n",
    "    restored_logs = {}\n",
    "\n",
    "    for log_data in data:\n",
    "        _ = log_data.pop('id', None)\n",
    "        question = log_data.get(\"question\", None)\n",
    "        existing_log = PoseidonChatLog.query.filter_by(_question=question).first()\n",
    "\n",
    "        if existing_log:\n",
    "            existing_log.update(log_data)\n",
    "        else:\n",
    "            new_log = PoseidonChatLog(**log_data)\n",
    "            new_log.create()\n",
    "        \n",
    "        restored_logs[log_data['question']] = new_log\n",
    "    \n",
    "    return restored_logs"
   ],
   "metadata": {
    "collapsed": false
   }
  },
  {
   "cell_type": "markdown",
   "source": [
    "### Explanation:\n",
    "Function Name: restore()\n",
    "Parameters: data (list of dictionaries containing chatbot logs).\n",
    "Sequencing:\n",
    "Extracts each log entry.\n",
    "Checks if it exists in the database.\n",
    "If it exists, it updates the log.\n",
    "Otherwise, it creates a new entry.\n",
    "Selection: Uses an if-else statement to determine whether to update an existing record or insert a new one.\n",
    "Iteration: Loops through the list of chat logs using a for loop, handling each entry appropriately."
   ],
   "metadata": {
    "collapsed": false
   }
  },
  {
   "cell_type": "markdown",
   "source": [
    "## Call to Function ##\n",
    "The function is triggered when a user submits a question in the chatbot interface."
   ],
   "metadata": {
    "collapsed": false
   }
  },
  {
   "cell_type": "code",
   "execution_count": null,
   "outputs": [],
   "source": [
    "async function sendQuestion(question) {\n",
    "    const response = await fetch(`${pythonURI}/api/ai/help`, {\n",
    "        ...fetchOptions,\n",
    "        method: \"POST\",\n",
    "        body: JSON.stringify({ question }),\n",
    "    });\n",
    "\n",
    "    const data = await response.json();\n",
    "    document.getElementById(\"chat-box\").innerHTML += `\n",
    "        <div>\n",
    "            <strong>You:</strong> ${question}\n",
    "            <strong>Poseidon:</strong> ${data.response}\n",
    "        </div>`;\n",
    "}\n"
   ],
   "metadata": {
    "collapsed": false
   }
  },
  {
   "cell_type": "markdown",
   "source": [
    "### Explanation: ###\n",
    "Triggered when a user enters a question in the frontend.\n",
    "Sends request to backend and updates the chatbox with AI response.\n",
    "Ensures seamless UI interaction with backend database."
   ],
   "metadata": {
    "collapsed": false
   }
  },
  {
   "cell_type": "markdown",
   "source": [
    "## List Creation\n",
    "The chatbot stores user queries and AI-generated responses in a list structure."
   ],
   "metadata": {
    "collapsed": false
   }
  },
  {
   "cell_type": "code",
   "execution_count": null,
   "outputs": [],
   "source": [
    "class PoseidonChatLog(db.Model):\n",
    "    __tablename__ = 'poseidon_chat_logs'\n",
    "\n",
    "    id = db.Column(db.Integer, primary_key=True)\n",
    "    _question = db.Column(db.String(500), nullable=False)\n",
    "    _response = db.Column(db.String(2000), nullable=False)\n",
    "\n",
    "    def __init__(self, question, response):\n",
    "        self._question = question\n",
    "        self._response = response\n"
   ],
   "metadata": {
    "collapsed": false
   }
  },
  {
   "cell_type": "markdown",
   "source": [
    "### Explanation:\n",
    "Stores chatbot conversation logs as database records.\n",
    "Ensures efficient retrieval of past interactions for reference."
   ],
   "metadata": {
    "collapsed": false
   }
  },
  {
   "cell_type": "markdown",
   "source": [
    "## List Process\n",
    "This function iterates through stored chat logs and displays them on the frontend."
   ],
   "metadata": {
    "collapsed": false
   }
  },
  {
   "cell_type": "code",
   "execution_count": null,
   "outputs": [],
   "source": [
    "async function fetchChatLogs() {\n",
    "    const response = await fetch(`${pythonURI}/api/chat/logs`, { method: \"GET\" });\n",
    "    const logs = await response.json();\n",
    "\n",
    "    logs.forEach(log => {\n",
    "        document.getElementById(\"chat-box\").innerHTML += `\n",
    "            <div>\n",
    "                <strong>You:</strong> ${log.question}\n",
    "                <strong>Poseidon:</strong> ${log.response}\n",
    "            </div>`;\n",
    "    });\n",
    "}\n"
   ],
   "metadata": {
    "collapsed": false
   }
  },
  {
   "cell_type": "markdown",
   "source": [
    "### Explanation:\n",
    "Loops through stored chatbot logs.\n",
    "Updates frontend dynamically with previous interactions."
   ],
   "metadata": {
    "collapsed": false
   }
  },
  {
   "cell_type": "markdown",
   "source": [
    "## Final Thoughts\n",
    "Poseidon Homework Chatbot is a full-stack AI-driven solution designed to assist students with academic questions. This PPR demonstrates how it integrates procedural abstraction, algorithms, and list handling to provide a seamless learning experience."
   ],
   "metadata": {
    "collapsed": false
   }
  },
  {
   "cell_type": "markdown",
   "source": [
    "<script src=\"https://utteranc.es/client.js\"\n",
    "        repo=\"YashPatil321/yash1_2025\"\n",
    "        issue-term=\"pathname\"\n",
    "        label=\"comment\"\n",
    "        theme=\"github-light\"\n",
    "        crossorigin=\"anonymous\"\n",
    "        async>\n",
    "</script>\n"
   ],
   "metadata": {
    "collapsed": false
   }
  }
 ],
 "metadata": {
  "kernelspec": {
   "display_name": "Python 3",
   "language": "python",
   "name": "python3"
  },
  "language_info": {
   "codemirror_mode": {
    "name": "ipython",
    "version": 3
   },
   "file_extension": ".py",
   "mimetype": "text/x-python",
   "name": "python",
   "nbconvert_exporter": "python",
   "pygments_lexer": "ipython3",
   "version": "3.10.12"
  }
 },
 "nbformat": 4,
 "nbformat_minor": 2
}
