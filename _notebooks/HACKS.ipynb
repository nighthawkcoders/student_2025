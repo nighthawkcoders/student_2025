{
 "cells": [
  {
   "cell_type": "markdown",
   "metadata": {},
   "source": [
    "---\n",
    "layout: post\n",
    "title: Python Hacks\n",
    "description: Python Notebook 📖\n",
    "permalink: /HACKS/\n",
    "---"
   ]
  },
  {
   "cell_type": "markdown",
   "metadata": {},
   "source": [
    "## 3.1.1 Homework"
   ]
  },
  {
   "cell_type": "code",
   "execution_count": 395,
   "metadata": {},
   "outputs": [
    {
     "name": "stdout",
     "output_type": "stream",
     "text": [
      "Hotpot (Extra spicy) costs $12.50\n"
     ]
    }
   ],
   "source": [
    "# Popcorn Hack 1 Pascal_case\n",
    "MyFavoriteSport = \"Tennis\"\n",
    "\n",
    "# Popcorn Hack 2 Camel_case\n",
    "myFavoriteNumber = 24\n",
    "\n",
    "# Popcorn Hack 3 Strings\n",
    "favoriteFood = \"Hotpot\"          # String variable\n",
    "levelOfSpice = \"Extra spicy\"     # String variable\n",
    "foodPrice = 12.50                # Float variable\n",
    "\n",
    "# Print statement (fixed)\n",
    "print(f\"{favoriteFood} ({levelOfSpice}) costs ${foodPrice:.2f}\")\n"
   ]
  },
  {
   "cell_type": "markdown",
   "metadata": {},
   "source": [
    "## 3.1.2 Homework"
   ]
  },
  {
   "cell_type": "code",
   "execution_count": 396,
   "metadata": {},
   "outputs": [
    {
     "name": "stdout",
     "output_type": "stream",
     "text": [
      "Dogs (Type: <class 'str'>)\n",
      "100 (Type: <class 'int'>)\n",
      "45.67 (Type: <class 'float'>)\n",
      "False (Type: <class 'bool'>)\n",
      "[1, 2, 3] (Type: <class 'list'>)\n"
     ]
    }
   ],
   "source": [
    "# Hack 1\n",
    "# Step 1: Initialize the variable\n",
    "myVariable = \"Dogs\"  # Start as a string\n",
    "print(f\"{myVariable} (Type: {type(myVariable)})\")\n",
    "\n",
    "# Step 2: Reassign a new type\n",
    "myVariable = 100  # Change to an integer\n",
    "print(f\"{myVariable} (Type: {type(myVariable)})\")\n",
    "\n",
    "# Step 3: Reassign to another type\n",
    "myVariable = 45.67  # Change to a float\n",
    "print(f\"{myVariable} (Type: {type(myVariable)})\")\n",
    "\n",
    "# Step 4: Reassign to a boolean\n",
    "myVariable = False  # Change to a boolean\n",
    "print(f\"{myVariable} (Type: {type(myVariable)})\")\n",
    "\n",
    "# Step 5: Reassign to a list\n",
    "myVariable = [1, 2, 3]  # Change to a list\n",
    "print(f\"{myVariable} (Type: {type(myVariable)})\")"
   ]
  },
  {
   "cell_type": "code",
   "execution_count": 397,
   "metadata": {},
   "outputs": [
    {
     "name": "stdout",
     "output_type": "stream",
     "text": [
      "a = 10\n",
      "b = 5\n"
     ]
    }
   ],
   "source": [
    "# Hack 2\n",
    "# Step 1: Initialize variables\n",
    "a = 5\n",
    "b = 10\n",
    "\n",
    "# Step 2: Swap values without using a temporary variable\n",
    "a = a + b  # Step 2a: a now holds the sum of a and b\n",
    "b = a - b  # Step 2b: b now holds the original value of a\n",
    "a = a - b  # Step 2c: a now holds the original value of b\n",
    "\n",
    "# Step 3: Print the swapped values\n",
    "print(\"a =\", a)\n",
    "print(\"b =\", b)\n"
   ]
  },
  {
   "cell_type": "code",
   "execution_count": 398,
   "metadata": {},
   "outputs": [
    {
     "name": "stdout",
     "output_type": "stream",
     "text": [
      "a and b point to the same memory address: 140452018685456\n"
     ]
    }
   ],
   "source": [
    "# Hack 3\n",
    "# Step 1: Assign the same value to two variables\n",
    "a = 42\n",
    "b = 42\n",
    "\n",
    "# Step 2: Compare memory addresses\n",
    "address_a = id(a)\n",
    "address_b = id(b)\n",
    "\n",
    "# Step 3: Print whether they are stored at the same location\n",
    "if address_a == address_b:\n",
    "    print(\"a and b point to the same memory address:\", address_a)\n",
    "else:\n",
    "    print(\"a and b point to different memory addresses:\", address_a, address_b)\n"
   ]
  },
  {
   "cell_type": "markdown",
   "metadata": {},
   "source": [
    "## Hack 3.1.4"
   ]
  },
  {
   "cell_type": "code",
   "execution_count": 399,
   "metadata": {},
   "outputs": [
    {
     "name": "stdout",
     "output_type": "stream",
     "text": [
      "John Doe, aged 30, can be contacted at johndoe@example.com and has a balance of $1500.00 in his account.\n"
     ]
    }
   ],
   "source": [
    "# Hack 1\n",
    "# User Profile Variables\n",
    "full_name = \"John Doe\"  # User's full name\n",
    "age = 30                 # User's age\n",
    "email = \"johndoe@example.com\"  # User's email\n",
    "account_balance = 1500.00  # User's account balance\n",
    "\n",
    "# Display the information\n",
    "print(f\"{full_name}, aged {age}, can be contacted at {email} and has a balance of ${account_balance:.2f} in his account.\")\n"
   ]
  },
  {
   "cell_type": "code",
   "execution_count": 400,
   "metadata": {},
   "outputs": [
    {
     "name": "stdout",
     "output_type": "stream",
     "text": [
      "The store has 10 units of Laptops priced at $1200.00 each.\n",
      "The store has 25 units of Smartphones priced at $800.00 each.\n"
     ]
    }
   ],
   "source": [
    "# Hack 2\n",
    "# Product 1 Information\n",
    "product_name1 = \"Laptops\"        # Name of the first product\n",
    "product_price1 = 1200.00         # Price of the first product\n",
    "product_stock1 = 10               # Stock quantity of the first product\n",
    "\n",
    "# Product 2 Information\n",
    "product_name2 = \"Smartphones\"     # Name of the second product\n",
    "product_price2 = 800.00           # Price of the second product\n",
    "product_stock2 = 25                # Stock quantity of the second product\n",
    "\n",
    "# Output messages\n",
    "print(f\"The store has {product_stock1} units of {product_name1} priced at ${product_price1:.2f} each.\")\n",
    "print(f\"The store has {product_stock2} units of {product_name2} priced at ${product_price2:.2f} each.\")\n"
   ]
  },
  {
   "cell_type": "code",
   "execution_count": 401,
   "metadata": {},
   "outputs": [
    {
     "name": "stdout",
     "output_type": "stream",
     "text": [
      "The total price for 3 items each priced at $20.0 with a tax rate of 10.0% is $66.00.\n"
     ]
    }
   ],
   "source": [
    "# Hack 3\n",
    "# Define the variables\n",
    "itemPrice = 20.00  # price of a single item\n",
    "quantity = 3       # number of items ordered\n",
    "taxRate = 0.10     # tax rate (10%)\n",
    "\n",
    "# Calculate the total price before tax\n",
    "totalPriceBeforeTax = itemPrice * quantity\n",
    "\n",
    "# Calculate the total tax\n",
    "totalTax = totalPriceBeforeTax * taxRate\n",
    "\n",
    "# Calculate the total price after tax\n",
    "totalPriceAfterTax = totalPriceBeforeTax + totalTax\n",
    "\n",
    "# Print the result\n",
    "print(f\"The total price for {quantity} items each priced at ${itemPrice} with a tax rate of {taxRate * 100}% is ${totalPriceAfterTax:.2f}.\")\n"
   ]
  },
  {
   "cell_type": "markdown",
   "metadata": {},
   "source": [
    "## Hack 3.2.1"
   ]
  },
  {
   "cell_type": "code",
   "execution_count": 402,
   "metadata": {},
   "outputs": [
    {
     "name": "stdout",
     "output_type": "stream",
     "text": [
      "{'fruits': ['apple', 'banana'], 'vegetables': ['carrot', 'broccoli'], 'grains': ['rice', 'quinoa']}\n"
     ]
    }
   ],
   "source": [
    "# Hack1\n",
    "# Creating a dictionary\n",
    "myDictionary = {\n",
    "    \"fruits\": [\"apple\", \"banana\"],\n",
    "    \"vegetables\": [\"carrot\", \"broccoli\"],\n",
    "    \"grains\": [\"rice\", \"quinoa\"]\n",
    "}\n",
    "\n",
    "# Print the dictionary\n",
    "print(myDictionary)\n"
   ]
  },
  {
   "cell_type": "code",
   "execution_count": 403,
   "metadata": {},
   "outputs": [
    {
     "name": "stdout",
     "output_type": "stream",
     "text": [
      "Original dictionary: {'name': 'Zoe', 'age': 16}\n",
      "Updated dictionary: {'name': 'Zoe', 'age': 16, 'city': 'San Diego'}\n"
     ]
    }
   ],
   "source": [
    "# Hack 2\n",
    "# Starting with the given dictionary\n",
    "person = {\"name\": \"Zoe\", \"age\": 16}\n",
    "\n",
    "# Print the original dictionary\n",
    "print(\"Original dictionary:\", person)\n",
    "\n",
    "# Adding a new key-value pair\n",
    "person[\"city\"] = \"San Diego\"\n",
    "\n",
    "# Updating an existing key\n",
    "person[\"age\"] = 16\n",
    "\n",
    "# Print the updated dictionary\n",
    "print(\"Updated dictionary:\", person)\n"
   ]
  },
  {
   "cell_type": "code",
   "execution_count": 404,
   "metadata": {},
   "outputs": [
    {
     "name": "stdout",
     "output_type": "stream",
     "text": [
      "{'name': 'Zoe', 'age': 17}\n"
     ]
    }
   ],
   "source": [
    "# Hack 3\n",
    "# Starting with the given dictionary\n",
    "person = {\"name\": \"Zoe\", \"age\": 16}\n",
    "\n",
    "# Update the age to 17\n",
    "person[\"age\"] = 17\n",
    "\n",
    "# Print the updated dictionary\n",
    "print(person)\n"
   ]
  },
  {
   "cell_type": "code",
   "execution_count": 405,
   "metadata": {},
   "outputs": [
    {
     "name": "stdout",
     "output_type": "stream",
     "text": [
      "{'name': 'Zoe', 'age': 17}\n"
     ]
    }
   ],
   "source": [
    "# Hack 4\n",
    "# Starting with the given dictionary\n",
    "person = {\"name\": \"Zoe\", \"age\": 16}\n",
    "\n",
    "# Update the age to 17\n",
    "person[\"age\"] = 17\n",
    "\n",
    "# Print the updated dictionary\n",
    "print(person)\n"
   ]
  },
  {
   "cell_type": "markdown",
   "metadata": {},
   "source": [
    "## Hack 3.4.1"
   ]
  },
  {
   "cell_type": "code",
   "execution_count": 406,
   "metadata": {},
   "outputs": [
    {
     "name": "stdout",
     "output_type": "stream",
     "text": [
      "Hello, World!\n",
      "Welcome to Python programming.\n",
      "Let's create some awesome scripts!\n",
      "No, I didn't encounter any errors in my code\n"
     ]
    }
   ],
   "source": [
    "# Hack 1 \n",
    "# Creating three strings\n",
    "string1 = \"Hello, World!\"\n",
    "string2 = \"Welcome to Python programming.\"\n",
    "string3 = \"Let's create some awesome scripts!\"\n",
    "\n",
    "# Printing the strings\n",
    "print(string1)\n",
    "print(string2)\n",
    "print(string3)\n",
    "\n",
    "# Reflection\n",
    "print(\"No, I didn't encounter any errors in my code\")"
   ]
  },
  {
   "cell_type": "code",
   "execution_count": 407,
   "metadata": {},
   "outputs": [
    {
     "name": "stdout",
     "output_type": "stream",
     "text": [
      "My name is Zoe. I am 16 years old. My hobby is painting, my favorite food is hotpot, and I aspire to be a professor.\n"
     ]
    }
   ],
   "source": [
    "# Hack 2\n",
    "# Define strings for Zoe\n",
    "name = \"Zoe\"\n",
    "age = \"16\"  # Example age\n",
    "hobby = \"painting\"\n",
    "favorite_food = \"hotpot\"\n",
    "dream_job = \"professor\"\n",
    "\n",
    "# Concatenate strings\n",
    "introduction = \"My name is \" + name + \". I am \" + age + \" years old. My hobby is \" + hobby + \", my favorite food is \" + favorite_food + \", and I aspire to be a \" + dream_job + \".\"\n",
    "\n",
    "# Print the concatenated string\n",
    "print(introduction)\n"
   ]
  },
  {
   "cell_type": "markdown",
   "metadata": {},
   "source": [
    "## Hack 3.2.4"
   ]
  },
  {
   "cell_type": "code",
   "execution_count": 408,
   "metadata": {},
   "outputs": [
    {
     "name": "stdout",
     "output_type": "stream",
     "text": [
      "Original string: Hello, I'm Zoe!\n",
      "Reversed string: !eoZ m'I ,olleH\n"
     ]
    }
   ],
   "source": [
    "# Hack 1\n",
    "def reverse_string(input_string):\n",
    "    # Reverse the string using slicing\n",
    "    reversed_string = input_string[::-1]\n",
    "    return reversed_string\n",
    "\n",
    "# Example usage\n",
    "input_str = \"Hello, I'm Zoe!\"\n",
    "result = reverse_string(input_str)\n",
    "print(\"Original string:\", input_str)\n",
    "print(\"Reversed string:\", result)\n"
   ]
  },
  {
   "cell_type": "code",
   "execution_count": 409,
   "metadata": {},
   "outputs": [
    {
     "name": "stdout",
     "output_type": "stream",
     "text": [
      "The number of vowels in the string is: 9\n"
     ]
    }
   ],
   "source": [
    "# Hack 2\n",
    "def count_vowels(input_string):\n",
    "    # Define a set of vowels\n",
    "    vowels = 'aeiouAEIOU'\n",
    "    count = 0\n",
    "\n",
    "    # Iterate through each character in the string\n",
    "    for char in input_string:\n",
    "        if char in vowels:\n",
    "            count += 1\n",
    "\n",
    "    return count\n",
    "\n",
    "# Example usage\n",
    "input_str = \"Hello, Zoe! How are you?\"\n",
    "vowel_count = count_vowels(input_str)\n",
    "print(f\"The number of vowels in the string is: {vowel_count}\")"
   ]
  },
  {
   "cell_type": "code",
   "execution_count": 410,
   "metadata": {},
   "outputs": [
    {
     "name": "stdout",
     "output_type": "stream",
     "text": [
      "Original string: abc is a simple abc test.\n",
      "Modified string: xyz is a simple xyz test.\n"
     ]
    }
   ],
   "source": [
    "# Hack 3\n",
    "def replace_abc_with_xyz(input_string):\n",
    "    # Replace 'abc' with 'xyz'\n",
    "    modified_string = input_string.replace('abc', 'xyz')\n",
    "    return modified_string\n",
    "\n",
    "# Example usage\n",
    "input_str = \"abc is a simple abc test.\"\n",
    "result = replace_abc_with_xyz(input_str)\n",
    "print(\"Original string:\", input_str)\n",
    "print(\"Modified string:\", result)"
   ]
  },
  {
   "cell_type": "code",
   "execution_count": 411,
   "metadata": {},
   "outputs": [
    {
     "name": "stdout",
     "output_type": "stream",
     "text": [
      "Is the string \"A man, a plan, a canal, Panama!\" a palindrome? True\n"
     ]
    }
   ],
   "source": [
    "# Hack 4\n",
    "import string\n",
    "\n",
    "def is_palindrome(input_string):\n",
    "    # Remove spaces and punctuation, and convert to lowercase\n",
    "    cleaned_string = ''.join(char.lower() for char in input_string if char.isalnum())\n",
    "    \n",
    "    # Check if the cleaned string is the same forwards and backwards\n",
    "    return cleaned_string == cleaned_string[::-1]\n",
    "\n",
    "# Example usage\n",
    "input_str = \"A man, a plan, a canal, Panama!\"\n",
    "result = is_palindrome(input_str)\n",
    "print(f'Is the string \"{input_str}\" a palindrome? {result}')\n"
   ]
  },
  {
   "cell_type": "code",
   "execution_count": 412,
   "metadata": {},
   "outputs": [
    {
     "name": "stdout",
     "output_type": "stream",
     "text": [
      "The longest word is: programming\n"
     ]
    }
   ],
   "source": [
    "# Hack 5\n",
    "def find_longest_word(sentence):\n",
    "    # Split the sentence into words\n",
    "    words = sentence.split()\n",
    "    \n",
    "    # Initialize variables to keep track of the longest word\n",
    "    longest_word = \"\"\n",
    "    \n",
    "    # Iterate through the words to find the longest one\n",
    "    for word in words:\n",
    "        # Update longest_word if the current word is longer\n",
    "        if len(word) > len(longest_word):\n",
    "            longest_word = word\n",
    "    \n",
    "    return longest_word\n",
    "\n",
    "# Example usage\n",
    "input_sentence = \"I enjoy learning new programming languages every day.\"\n",
    "longest_word = find_longest_word(input_sentence)\n",
    "print(\"The longest word is:\", longest_word)\n"
   ]
  },
  {
   "cell_type": "code",
   "execution_count": 413,
   "metadata": {},
   "outputs": [
    {
     "name": "stdout",
     "output_type": "stream",
     "text": [
      "The total sum of numbers is: 15\n"
     ]
    }
   ],
   "source": [
    "# Hack 6\n",
    "def sum_numbers_in_string(input_string):\n",
    "    # Initialize total sum\n",
    "    total_sum = 0\n",
    "    \n",
    "    # Split the string into words\n",
    "    words = input_string.split()\n",
    "    \n",
    "    # Iterate through each word\n",
    "    for word in words:\n",
    "        # Check if the word is a digit and convert it to an integer\n",
    "        if word.isdigit():\n",
    "            total_sum += int(word)\n",
    "    \n",
    "    return total_sum\n",
    "\n",
    "# Example usage\n",
    "input_str = \"I have 2 apples and 3 oranges, plus 10 bananas.\"\n",
    "total = sum_numbers_in_string(input_str)\n",
    "print(\"The total sum of numbers is:\", total)\n"
   ]
  },
  {
   "cell_type": "markdown",
   "metadata": {},
   "source": [
    "## Hack 3.4.3"
   ]
  },
  {
   "cell_type": "code",
   "execution_count": 414,
   "metadata": {},
   "outputs": [
    {
     "name": "stdout",
     "output_type": "stream",
     "text": [
      "Concatenation Message:\n",
      "Hello, my name is Zoe. I am 16 years old and I live in San Diego.\n",
      "\n",
      "Interpolation Message:\n",
      "Hello, my name is Zoe. I am 16 years old and I live in San Diego.\n"
     ]
    }
   ],
   "source": [
    "# Hack 1\n",
    "# Define the variables\n",
    "name = \"Zoe\"\n",
    "age = 16\n",
    "city = \"San Diego\"\n",
    "\n",
    "# Using concatenation\n",
    "message_concatenation = \"Hello, my name is \" + name + \". I am \" + str(age) + \" years old and I live in \" + city + \".\"\n",
    "print(\"Concatenation Message:\")\n",
    "print(message_concatenation)\n",
    "\n",
    "# Using string interpolation (f-string)\n",
    "message_interpolation = f\"Hello, my name is {name}. I am {age} years old and I live in {city}.\"\n",
    "print(\"\\nInterpolation Message:\")\n",
    "print(message_interpolation)\n"
   ]
  },
  {
   "cell_type": "code",
   "execution_count": 415,
   "metadata": {},
   "outputs": [
    {
     "name": "stdout",
     "output_type": "stream",
     "text": [
      "Extracted word 'quick': quick\n",
      "Extracted word 'lazy': lazy\n",
      "Everything from 'fox' to the end: fox jumps over the lazy dog\n"
     ]
    }
   ],
   "source": [
    "# Given string\n",
    "sentence = \"The quick brown fox jumps over the lazy dog\"\n",
    "\n",
    "# Extract the word \"quick\"\n",
    "quick = sentence[4:9]  # Slicing from index 4 to index 9\n",
    "\n",
    "# Extract the word \"lazy\" using a negative starting index\n",
    "lazy = sentence[-8:-4]  # Slicing from index -8 to index -4\n",
    "\n",
    "# Extract everything from the word \"fox\" to the end of the sentence\n",
    "from_fox_to_end = sentence[16:]  # Slicing from index 16 to the end\n",
    "\n",
    "# Output the extractions\n",
    "print(\"Extracted word 'quick':\", quick)\n",
    "print(\"Extracted word 'lazy':\", lazy)\n",
    "print(\"Everything from 'fox' to the end:\", from_fox_to_end)\n"
   ]
  },
  {
   "cell_type": "code",
   "execution_count": 416,
   "metadata": {},
   "outputs": [
    {
     "name": "stdout",
     "output_type": "stream",
     "text": [
      "Updated string: Al-Andalus, Song Dynasty, The Triple Alliance, Byzantine Empire\n"
     ]
    }
   ],
   "source": [
    "# Given string\n",
    "original_string = \"Spain, Song Dynasty, Aztecs, Byzantine Empire\"\n",
    "\n",
    "# Replace \"Spain\" with \"Al-Andalus\" and \"Aztecs\" with \"The Triple Alliance\"\n",
    "updated_string = original_string.replace(\"Spain\", \"Al-Andalus\").replace(\"Aztecs\", \"The Triple Alliance\")\n",
    "\n",
    "# Output the updated string\n",
    "print(\"Updated string:\", updated_string)"
   ]
  },
  {
   "cell_type": "markdown",
   "metadata": {},
   "source": [
    "## Hack 3.4.4"
   ]
  },
  {
   "cell_type": "code",
   "execution_count": 417,
   "metadata": {},
   "outputs": [
    {
     "name": "stdout",
     "output_type": "stream",
     "text": [
      "List of countries in Africa:\n",
      "['Algeria', 'Angola', 'Benin', 'Botswana', 'Burkina Faso', 'Burundi', 'Cabo Verde', 'Cameroon', 'Central African Republic', 'Chad', 'Comoros', 'Congo (Congo-Brazzaville)', 'Cote d’Ivoire', 'Djibouti', 'DR Congo (Congo-Kinshasa)', 'Egypt', 'Equatorial Guinea', 'Eritrea', 'Eswatini', 'Ethiopia', 'Gabon', 'Gambia', 'Ghana', 'Guinea', 'Guinea-Bissau', 'Kenya', 'Lesotho', 'Liberia', 'Libya', 'Madagascar', 'Malawi', 'Mali', 'Mauritania', 'Mauritius', 'Morocco', 'Mozambique', 'Namibia', 'Niger', 'Nigeria', 'Rwanda', 'Sao Tome and Principe', 'Senegal', 'Seychelles', 'Sierra Leone', 'Somalia', 'South Africa', 'South Sudan', 'Sudan', 'Tanzania', 'Togo', 'Tunisia', 'Uganda', 'Zambia', 'Zimbabwe']\n"
     ]
    }
   ],
   "source": [
    "# Hack 1\n",
    "# Given string of countries in Africa\n",
    "countries_string = \"Algeria, Angola, Benin, Botswana, Burkina Faso, Burundi, Cabo Verde, Cameroon, Central African Republic, Chad, Comoros, Congo (Congo-Brazzaville), Cote d’Ivoire, Djibouti, DR Congo (Congo-Kinshasa), Egypt, Equatorial Guinea, Eritrea, Eswatini, Ethiopia, Gabon, Gambia, Ghana, Guinea, Guinea-Bissau, Kenya, Lesotho, Liberia, Libya, Madagascar, Malawi, Mali, Mauritania, Mauritius, Morocco, Mozambique, Namibia, Niger, Nigeria, Rwanda, Sao Tome and Principe, Senegal, Seychelles, Sierra Leone, Somalia, South Africa, South Sudan, Sudan, Tanzania, Togo, Tunisia, Uganda, Zambia, Zimbabwe\"\n",
    "\n",
    "# Convert the string to a list using split()\n",
    "countries_list = countries_string.split(\", \")\n",
    "\n",
    "# Output the list of countries\n",
    "print(\"List of countries in Africa:\")\n",
    "print(countries_list)\n"
   ]
  },
  {
   "cell_type": "code",
   "execution_count": 418,
   "metadata": {},
   "outputs": [
    {
     "name": "stdout",
     "output_type": "stream",
     "text": [
      "Hello, my name is Zoe. I am 16 years old. My favorite food is hotpot and my favorite book is 'nightingale'.\n"
     ]
    }
   ],
   "source": [
    "# Prompt the user for their details\n",
    "name = input(\"Please enter your name: \")\n",
    "age = input(\"Please enter your age: \")\n",
    "favorite_food = input(\"Please enter your favorite food: \")\n",
    "favorite_book = input(\"Please enter your favorite book: \")\n",
    "\n",
    "# Create a cohesive message using f-string interpolation\n",
    "message = f\"Hello, my name is {name}. I am {age} years old. My favorite food is {favorite_food} and my favorite book is '{favorite_book}'.\"\n",
    "\n",
    "# Output the message\n",
    "print(message)\n"
   ]
  },
  {
   "cell_type": "code",
   "execution_count": 419,
   "metadata": {},
   "outputs": [
    {
     "name": "stdout",
     "output_type": "stream",
     "text": [
      "Cleaned message: The secret to life is (redacted)\n"
     ]
    },
    {
     "data": {
      "text/plain": [
       "42"
      ]
     },
     "execution_count": 419,
     "metadata": {},
     "output_type": "execute_result"
    }
   ],
   "source": [
    "# Hack 3\n",
    "# Given message with noise\n",
    "noisy_message = \"The...secret...to...life...is...(redacted)\"\n",
    "\n",
    "# Remove the \"...\" using replace() method\n",
    "cleaned_message = noisy_message.replace(\"...\", \" \")\n",
    "\n",
    "# Output the cleaned message\n",
    "print(\"Cleaned message:\", cleaned_message)\n",
    "a"
   ]
  },
  {
   "cell_type": "code",
   "execution_count": 420,
   "metadata": {},
   "outputs": [
    {
     "name": "stdout",
     "output_type": "stream",
     "text": [
      "Cleaned output: f\n"
     ]
    }
   ],
   "source": [
    "# Prompt the user for input\n",
    "user_input = input(\"Please enter a string (with possible '...'): \")\n",
    "\n",
    "# Remove \"...\" from the user input\n",
    "cleaned_input = user_input.replace(\"...\", \" \")\n",
    "\n",
    "# Output the cleaned string\n",
    "print(\"Cleaned output:\", cleaned_input)\n"
   ]
  }
 ],
 "metadata": {
  "kernelspec": {
   "display_name": "venv",
   "language": "python",
   "name": "python3"
  },
  "language_info": {
   "codemirror_mode": {
    "name": "ipython",
    "version": 3
   },
   "file_extension": ".py",
   "mimetype": "text/x-python",
   "name": "python",
   "nbconvert_exporter": "python",
   "pygments_lexer": "ipython3",
   "version": "3.10.12"
  }
 },
 "nbformat": 4,
 "nbformat_minor": 2
}
