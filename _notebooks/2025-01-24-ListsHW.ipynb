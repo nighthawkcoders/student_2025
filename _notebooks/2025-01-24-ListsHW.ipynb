{
 "cells": [
  {
   "cell_type": "markdown",
   "metadata": {},
   "source": [
    "---\n",
    "layout: post\n",
    "title: Lists HW\n",
    "description: LISTS HW\n",
    "comments: true\n",
    "sticky_rank: 1\n",
    "permalink: /lists\n",
    "\n",
    "---"
   ]
  },
  {
   "cell_type": "markdown",
   "metadata": {},
   "source": [
    "#  Popcorn &  Homework Hacks\n",
    "\n",
    "---\n",
    "\n",
    "## Popcorn Hack 1  \n",
    "**What are some possible benefits of using lists? What are some real‑world examples of lists being used in code?**\n",
    "\n",
    "**Benefits of Lists**  \n",
    "- **Dynamic sizing:** you can add/remove items without resizing an array.  \n",
    "- **Ordered collection:** maintain insertion order for indexing, slicing, iteration.  \n",
    "- **Heterogeneous storage:** store mixed types (strings, numbers, objects) in one container.  \n",
    "\n",
    "**Real‑World Examples**  \n",
    "1. **To‑do apps:** tasks stored as a list, manipulated by add/remove operations.  \n",
    "2. **Shopping carts:** items in cart held in a list, then iterated to calculate totals.  \n",
    "3. **Music playlists:** track metadata stored in a list for play, skip, shuffle.\n",
    "\n",
    "---\n",
    "\n",
    "## Popcorn Hack 2  \n",
    "**What does this code output?**\n",
    "\n"
   ]
  },
  {
   "cell_type": "code",
   "execution_count": null,
   "metadata": {},
   "outputs": [],
   "source": [
    "```python\n",
    "items = [\"pen\", \"pencil\", \"marker\", \"eraser\"]\n",
    "items.remove(\"pencil\")        # list becomes [\"pen\",\"marker\",\"eraser\"]\n",
    "items.append(\"sharpener\")     # list becomes [\"pen\",\"marker\",\"eraser\",\"sharpener\"]\n",
    "print(items[2])               # zero‑based index 2 → \"eraser\"\n"
   ]
  },
  {
   "cell_type": "markdown",
   "metadata": {},
   "source": [
    "**Output**\n",
    "eraser\n",
    "## Popcorn Hack 3\n",
    "What are some real‑world examples of filtering algorithms?\n",
    "\n",
    "- Email spam filters: scan incoming messages and drop those matching “spam” criteria.\n",
    "\n",
    "- E‑commerce search filters: let you show only “in‑stock” items under $50 or by brand.\n",
    "\n",
    "- Social media feeds: filter posts by relevance, recency, or user preferences.\n",
    "\n",
    "- Firewall rules: inspect network packets and allow/block based on IP, port, protocol.\n",
    "\n",
    "- Data cleaning in pandas: drop rows with missing values or out‑of‑range entries."
   ]
  },
  {
   "cell_type": "markdown",
   "metadata": {},
   "source": [
    "## Homework Hacks"
   ]
  },
  {
   "cell_type": "markdown",
   "metadata": {},
   "source": [
    "## 1 Create & Manipulate a List"
   ]
  },
  {
   "cell_type": "code",
   "execution_count": null,
   "metadata": {},
   "outputs": [],
   "source": [
    "# start with a list of five fruits\n",
    "fruits = [\"apple\", \"banana\", \"cherry\", \"date\", \"elderberry\"]\n",
    "\n",
    "# 1) .append(): add a new fruit\n",
    "fruits.append(\"fig\")            # fruits → [\"apple\",..., \"elderberry\", \"fig\"]\n",
    "\n",
    "# 2) .remove(): remove an item by value\n",
    "fruits.remove(\"date\")           # fruits → [\"apple\", \"banana\", \"cherry\", \"elderberry\", \"fig\"]\n",
    "\n",
    "# 3) .insert(): insert at specific index\n",
    "fruits.insert(2, \"blueberry\")   # fruits → [\"apple\", \"banana\", \"blueberry\", \"cherry\", ...]\n",
    "\n",
    "# 4) .pop(): remove & return last item\n",
    "last = fruits.pop()             # last=\"fig\", fruits now without \"fig\"\n",
    "\n",
    "# 5) .sort(): sort the list alphabetically\n",
    "fruits.sort()                   # fruits → [\"apple\",\"banana\",\"blueberry\",\"cherry\",\"elderberry\"]\n"
   ]
  },
  {
   "cell_type": "markdown",
   "metadata": {},
   "source": [
    "## 2 List Traversal Instructions\n",
    "To process each item one by one, use a for‑loop:\n",
    "\n",
    "- Initialize: take fruits list.\n",
    "\n",
    "- Loop: for item in fruits:\n",
    "\n",
    "- Process: inside loop, print(item) (or any operation).\n",
    "\n",
    "- End: loop automatically advances index from 0→len–1.\n",
    "\n",
    "## 3 Filtering Algorithm (with pandas)\n",
    "Condition: keep only numbers > 10."
   ]
  },
  {
   "cell_type": "code",
   "execution_count": null,
   "metadata": {},
   "outputs": [],
   "source": [
    "import pandas as pd\n",
    "\n",
    "# start with a list of integers\n",
    "numbers = [4, 11, 7, 25, 10, 18, 3]\n",
    "\n",
    "# build DataFrame\n",
    "df = pd.DataFrame(numbers, columns=[\"value\"])\n",
    "\n",
    "# apply filter condition\n",
    "filtered_df = df[df[\"value\"] > 10]\n",
    "\n",
    "# extract filtered list\n",
    "big_numbers = filtered_df[\"value\"].tolist()\n",
    "# big_numbers → [11, 25, 18]\n",
    "\n",
    "\n",
    "Algorithm Steps (plain‑English):\n",
    "\n",
    "Start with numbers list.\n",
    "\n",
    "Convert to a pandas DataFrame (tabular format).\n",
    "\n",
    "Use df[df[\"value\"] > 10] to select rows meeting the condition.\n",
    "\n",
    "Collect the “value” column of the filtered rows into a new list."
   ]
  },
  {
   "cell_type": "markdown",
   "metadata": {},
   "source": [
    "Filtering algorithms let programs automatically pick out only the data you care about—like showing only unread emails or items in stock. Lists provide an easy, ordered way to store and traverse collections of data before and after filtering.\n",
    "\n",
    "Copy code\n"
   ]
  }
 ],
 "metadata": {
  "kernelspec": {
   "display_name": "Python 3",
   "language": "python",
   "name": "python3"
  },
  "language_info": {
   "codemirror_mode": {
    "name": "ipython",
    "version": 3
   },
   "file_extension": ".py",
   "mimetype": "text/x-python",
   "name": "python",
   "nbconvert_exporter": "python",
   "pygments_lexer": "ipython3",
   "version": "3.10.12"
  }
 },
 "nbformat": 4,
 "nbformat_minor": 2
}
