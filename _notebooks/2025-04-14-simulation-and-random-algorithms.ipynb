{
 "cells": [
  {
   "cell_type": "markdown",
   "id": "62eb4115",
   "metadata": {},
   "source": [
    "---\n",
    "layout: post\n",
    "title: Simulation, Games and Random Algorithms\n",
    "description: Notes and Homework\n",
    "permalink: /simulations-games/\n",
    "---"
   ]
  },
  {
   "cell_type": "markdown",
   "id": "343ee25c",
   "metadata": {},
   "source": [
    "**Notes:**\n",
    "\n",
    "**Random Number Generation**: Creating unpredictable outcomes in a program\n",
    "- Used for:\n",
    "  - Simulations (weather, traffic, epidemics)\n",
    "  - Games (dice rolls, card shuffles, enemy moves)\n",
    "  - Security (encryption, password generation)\n",
    "  - Testing (generating sample data)\n",
    "- **Function**: `RANDOM(a, b)` returns a random integer between `a` and `b`, inclusive\n",
    "- Every number in the range has an equal chance of appearing\n",
    "- Each program execution can give different results\n",
    "- Enables dynamic and non-repetitive behavior in simulations and games\n",
    "**Weighted Randomness (Color Spinner)**\n",
    "- Uses probabilities to return certain outcomes more often\n",
    "- Code example uses ranges to represent weight:\n",
    "  - 3/8 chance Green\n",
    "  - 2/8 chance Blue\n",
    "  - Remaining outcomes for Red, Orange, Purple\n",
    "- **Applications**:\n",
    "  - Loot boxes in games\n",
    "  - Decision"
   ]
  },
  {
   "cell_type": "markdown",
   "id": "1de8bfa7",
   "metadata": {},
   "source": [
    "# Popcorn Hack #1\n",
    "\n",
    "1. Random numbers can be used to generate passwords or secure encryption keys. By making the numbers truly random, it makes it harder for hackers to predict or reproduce them. This is especially important for applications that require high security, like banking or cryptocurrency transactions.\n",
    "\n",
    "2. Random number generation can also be used in games to decide outcomes like where enemies spawn, or what items players receive depending on the game. This way, it allows the game to be unpredictable and fun for the player."
   ]
  },
  {
   "cell_type": "markdown",
   "id": "89a0ba00",
   "metadata": {},
   "source": [
    "# Popcorn Hack #2"
   ]
  },
  {
   "cell_type": "code",
   "execution_count": 1,
   "id": "ad5faa93",
   "metadata": {},
   "outputs": [
    {
     "name": "stdout",
     "output_type": "stream",
     "text": [
      "Magic 8-Ball says: Yes\n",
      "Magic 8-Ball says: Ask again later\n",
      "Magic 8-Ball says: No\n",
      "Magic 8-Ball says: No\n",
      "Magic 8-Ball says: Yes\n",
      "Magic 8-Ball says: Ask again later\n",
      "Magic 8-Ball says: Yes\n",
      "Magic 8-Ball says: Yes\n",
      "Magic 8-Ball says: Yes\n",
      "Magic 8-Ball says: Yes\n"
     ]
    }
   ],
   "source": [
    "import random\n",
    "\n",
    "def magic_8_ball():\n",
    "    num = random.randint(0, 3)\n",
    "    if num == 0 or num == 1:\n",
    "        return \"Yes\"\n",
    "    elif num == 2:\n",
    "        return \"No\"\n",
    "    else:\n",
    "        return \"Ask again later\"\n",
    "\n",
    "# Test your function\n",
    "for i in range(10):\n",
    "    print(f\"Magic 8-Ball says: {magic_8_ball()}\")"
   ]
  },
  {
   "cell_type": "markdown",
   "id": "d182ad65",
   "metadata": {},
   "source": [
    "# Popcorn Hack #3"
   ]
  },
  {
   "cell_type": "code",
   "execution_count": 2,
   "id": "d21a8788",
   "metadata": {},
   "outputs": [
    {
     "name": "stdout",
     "output_type": "stream",
     "text": [
      "Time 0: Green\n",
      "Time 1: Green\n",
      "Time 2: Green\n",
      "Time 3: Green\n",
      "Time 4: Green\n",
      "Time 5: Yellow\n",
      "Time 6: Yellow\n",
      "Time 7: Red\n",
      "Time 8: Red\n",
      "Time 9: Red\n",
      "Time 10: Red\n",
      "Time 11: Green\n",
      "Time 12: Green\n",
      "Time 13: Green\n",
      "Time 14: Green\n",
      "Time 15: Green\n",
      "Time 16: Yellow\n",
      "Time 17: Yellow\n",
      "Time 18: Red\n",
      "Time 19: Red\n"
     ]
    }
   ],
   "source": [
    "# Updated Traffic light simulation (no randomness)\n",
    "\n",
    "states = [\"Green\", \"Yellow\", \"Red\"]\n",
    "durations = {\"Green\": 5, \"Yellow\": 2, \"Red\": 4}\n",
    "timeline = []\n",
    "\n",
    "# Simulate 20 time steps\n",
    "time = 0\n",
    "state = \"Green\"\n",
    "counter = 0\n",
    "\n",
    "while time < 20:\n",
    "    timeline.append((time, state))\n",
    "    counter += 1\n",
    "    if counter == durations[state]:\n",
    "        counter = 0\n",
    "        current_index = states.index(state)\n",
    "        state = states[(current_index + 1) % len(states)]\n",
    "    time += 1\n",
    "\n",
    "for t, s in timeline:\n",
    "    print(f\"Time {t}: {s}\")\n"
   ]
  },
  {
   "cell_type": "markdown",
   "id": "643c1440",
   "metadata": {},
   "source": [
    "This is a simulation because it models the behavior of the function of a traffic light in a real world setting. Even though it’s simple and doesn’t use real data or randomness, it still simulates how the light changes state step by step, based on defined durations. In this case, city planners and engineers could use this simulation to test different scenarios and solve any potential issues before making a big investment. "
   ]
  },
  {
   "cell_type": "markdown",
   "id": "ec0d703f",
   "metadata": {},
   "source": [
    "# Homework Hack #1"
   ]
  },
  {
   "cell_type": "code",
   "execution_count": 3,
   "id": "339dcab2",
   "metadata": {},
   "outputs": [
    {
     "name": "stdout",
     "output_type": "stream",
     "text": [
      "Welcome to the Dice Game!\n",
      "You rolled 2 + 5 = 7\n",
      "You win!\n",
      "Current stats – Wins: 1, Losses: 0\n",
      "You rolled 4 + 4 = 8\n",
      "Point is set to 8. Keep rolling...\n",
      "You rolled 6 + 4 = 10\n",
      "You rolled 5 + 3 = 8\n",
      "You rolled the point again. You win!\n",
      "Current stats – Wins: 2, Losses: 0\n",
      "You rolled 3 + 3 = 6\n",
      "Point is set to 6. Keep rolling...\n",
      "You rolled 4 + 3 = 7\n",
      "You rolled a 7. You lose!\n",
      "Current stats – Wins: 2, Losses: 1\n",
      "You rolled 2 + 2 = 4\n",
      "Point is set to 4. Keep rolling...\n",
      "You rolled 5 + 2 = 7\n",
      "You rolled a 7. You lose!\n",
      "Current stats – Wins: 2, Losses: 2\n",
      "You rolled 2 + 2 = 4\n",
      "Point is set to 4. Keep rolling...\n",
      "You rolled 6 + 1 = 7\n",
      "You rolled a 7. You lose!\n",
      "Current stats – Wins: 2, Losses: 3\n",
      "You rolled 5 + 5 = 10\n",
      "Point is set to 10. Keep rolling...\n",
      "You rolled 5 + 4 = 9\n",
      "You rolled 1 + 3 = 4\n",
      "You rolled 4 + 1 = 5\n",
      "You rolled 5 + 5 = 10\n",
      "You rolled the point again. You win!\n",
      "Current stats – Wins: 3, Losses: 3\n",
      "\n",
      "Final stats – Wins: 3, Losses: 3\n",
      "Thanks for playing!\n"
     ]
    }
   ],
   "source": [
    "import random\n",
    "\n",
    "def roll_dice():\n",
    "    \"\"\"Roll two dice and return their values and sum.\"\"\"\n",
    "    die1 = random.randint(1, 6)\n",
    "    die2 = random.randint(1, 6)\n",
    "    total = die1 + die2\n",
    "    print(f\"You rolled {die1} + {die2} = {total}\")\n",
    "    return total\n",
    "\n",
    "def play_dice_game():\n",
    "    \"\"\"\n",
    "    Play one round of the dice game.\n",
    "    Returns True if player wins, False if player loses.\n",
    "    \"\"\"\n",
    "    first_roll = roll_dice()\n",
    "    \n",
    "    if first_roll in [7, 11]:\n",
    "        print(\"You win!\")\n",
    "        return True\n",
    "    elif first_roll in [2, 3, 12]:\n",
    "        print(\"You lose!\")\n",
    "        return False\n",
    "    else:\n",
    "        point = first_roll\n",
    "        print(f\"Point is set to {point}. Keep rolling...\")\n",
    "        \n",
    "        while True:\n",
    "            roll = roll_dice()\n",
    "            if roll == point:\n",
    "                print(\"You rolled the point again. You win!\")\n",
    "                return True\n",
    "            elif roll == 7:\n",
    "                print(\"You rolled a 7. You lose!\")\n",
    "                return False\n",
    "\n",
    "def main():\n",
    "    \"\"\"Main game function with game loop and statistics.\"\"\"\n",
    "    wins = 0\n",
    "    losses = 0\n",
    "    \n",
    "    while True:\n",
    "        choice = input(\"\\nDo you want to play a round? (yes/no): \").lower()\n",
    "        if choice in ['yes', 'y']:\n",
    "            if play_dice_game():\n",
    "                wins += 1\n",
    "            else:\n",
    "                losses += 1\n",
    "            print(f\"Current stats – Wins: {wins}, Losses: {losses}\")\n",
    "        elif choice in ['no', 'n']:\n",
    "            print(f\"\\nFinal stats – Wins: {wins}, Losses: {losses}\")\n",
    "            print(\"Thanks for playing!\")\n",
    "            break\n",
    "        else:\n",
    "            print(\"Please enter 'yes' or 'no'.\")\n",
    "\n",
    "if __name__ == \"__main__\":\n",
    "    print(\"Welcome to the Dice Game!\")\n",
    "    main()\n"
   ]
  }
 ],
 "metadata": {
  "kernelspec": {
   "display_name": "myenv",
   "language": "python",
   "name": "python3"
  },
  "language_info": {
   "codemirror_mode": {
    "name": "ipython",
    "version": 3
   },
   "file_extension": ".py",
   "mimetype": "text/x-python",
   "name": "python",
   "nbconvert_exporter": "python",
   "pygments_lexer": "ipython3",
   "version": "3.12.3"
  }
 },
 "nbformat": 4,
 "nbformat_minor": 5
}
