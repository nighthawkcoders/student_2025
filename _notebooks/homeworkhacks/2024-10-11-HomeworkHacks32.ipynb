{
 "cells": [
  {
   "cell_type": "markdown",
   "metadata": {},
   "source": [
    "---\n",
    "layout: post\n",
    "title: 3.2 hacks\n",
    "description: Homework Hacks\n",
    "permalink: /32/\n",
    "comments: true\n",
    "---"
   ]
  },
  {
   "cell_type": "code",
   "execution_count": 1,
   "metadata": {},
   "outputs": [
    {
     "name": "stdout",
     "output_type": "stream",
     "text": [
      "The sum of 5 and 7 is 12.\n"
     ]
    }
   ],
   "source": [
    "#Popcorn Hack: create a simple python script to add two integers\n",
    "def add_two_numbers(a, b):\n",
    "    return a + b\n",
    "\n",
    "# Example usage\n",
    "num1 = 5\n",
    "num2 = 7\n",
    "\n",
    "# Adding the numbers\n",
    "result = add_two_numbers(num1, num2)\n",
    "\n",
    "# Output the result\n",
    "print(f\"The sum of {num1} and {num2} is {result}.\")\n"
   ]
  },
  {
   "cell_type": "code",
   "execution_count": 2,
   "metadata": {
    "vscode": {
     "languageId": "javascript"
    }
   },
   "outputs": [
    {
     "name": "stdout",
     "output_type": "stream",
     "text": [
      "Numbers divisible by 2: [10, 20, 30]. Easy pickings for a quick PopCorn hack!\n"
     ]
    }
   ],
   "source": [
    "//Popcorn Hack: create a dictionary, update an item, and add an item\n",
    "// Create a dictionary (object)\n",
    "let dictionary = {\n",
    "    apple: \"A fruit that is usually red or green.\",\n",
    "    banana: \"A long yellow fruit.\",\n",
    "    orange: \"A round citrus fruit.\"\n",
    "};\n",
    "\n",
    "// Update an item\n",
    "dictionary.apple = \"A sweet fruit that is usually red, green, or yellow.\";\n",
    "\n",
    "// Add a new item\n",
    "dictionary.grape = \"A small, round fruit, typically used to make wine.\";\n",
    "\n",
    "// Output the updated dictionary\n",
    "console.log(dictionary);\n",
    "\n"
   ]
  },
  {
   "cell_type": "code",
   "execution_count": 3,
   "metadata": {
    "vscode": {
     "languageId": "javascript"
    }
   },
   "outputs": [
    {
     "name": "stdout",
     "output_type": "stream",
     "text": [
      "1\n",
      "2\n",
      "3\n",
      "4\n",
      "5\n"
     ]
    }
   ],
   "source": [
    "//Popcorn Hack: Use JSON to make a dictionary, modify it, and update the changes\n",
    "// Step 1: Create a JSON dictionary as a string\n",
    "let jsonString = `{\n",
    "    \"apple\": \"A fruit that is usually red or green.\",\n",
    "    \"banana\": \"A long yellow fruit.\",\n",
    "    \"orange\": \"A round citrus fruit.\"\n",
    "}`;\n",
    "\n",
    "// Step 2: Parse the JSON string into a JavaScript object (dictionary)\n",
    "let dictionary = JSON.parse(jsonString);\n",
    "\n",
    "// Step 3: Modify an existing item\n",
    "dictionary.apple = \"A sweet fruit that is usually red, green, or yellow.\";\n",
    "\n",
    "// Step 4: Add a new item\n",
    "dictionary.grape = \"A small, round fruit, typically used to make wine.\";\n",
    "\n",
    "// Step 5: Convert the updated dictionary back to a JSON string\n",
    "jsonString = JSON.stringify(dictionary, null, 2); // Pretty print with 2 spaces\n",
    "\n",
    "// Output the updated JSON string\n",
    "console.log(jsonString);\n",
    "\n"
   ]
  },
  {
   "cell_type": "code",
   "execution_count": 2,
   "metadata": {},
   "outputs": [
    {
     "name": "stdout",
     "output_type": "stream",
     "text": [
      "Original Dictionary:\n",
      "{'color': 'blue', 'fruit': 'apple', 'animal': 'dog'}\n",
      "\n",
      "Updated Dictionary:\n",
      "{'name': 'Alice', 'age': 31}\n"
     ]
    }
   ],
   "source": [
    "# 1. Create a dictionary with at least 3 keys\n",
    "my_dictionary = {\n",
    "    \"color\": \"blue\",\n",
    "    \"fruit\": \"apple\",\n",
    "    \"animal\": \"dog\"\n",
    "}\n",
    "\n",
    "# Print the dictionary\n",
    "print(\"Original Dictionary:\")\n",
    "print(my_dictionary)\n",
    "\n",
    "# 2. Start with the given dictionary\n",
    "person = {\"name\": \"Alice\", \"age\": 30}\n",
    "\n",
    "# i. Update the age to 31\n",
    "person[\"age\"] = 31\n",
    "\n",
    "# ii. Print the updated dictionary\n",
    "print(\"\\nUpdated Dictionary:\")\n",
    "print(person)\n"
   ]
  }
 ],
 "metadata": {
  "kernelspec": {
   "display_name": "Python 3",
   "language": "python",
   "name": "python3"
  },
  "language_info": {
   "codemirror_mode": {
    "name": "ipython",
    "version": 3
   },
   "file_extension": ".py",
   "mimetype": "text/x-python",
   "name": "python",
   "nbconvert_exporter": "python",
   "pygments_lexer": "ipython3",
   "version": "3.10.12"
  }
 },
 "nbformat": 4,
 "nbformat_minor": 2
}
