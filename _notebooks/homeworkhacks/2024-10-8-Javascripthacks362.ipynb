{
 "cells": [
  {
   "cell_type": "markdown",
   "metadata": {},
   "source": [
    "---\n",
    "layout: post\n",
    "title: 3.4.4 Javascript Hacks\n",
    "description: Homework Hacks\n",
    "comments: true\n",
    "---"
   ]
  },
  {
   "cell_type": "code",
   "execution_count": 2,
   "metadata": {},
   "outputs": [
    {
     "name": "stdout",
     "output_type": "stream",
     "text": [
      "dlroW olleH\n"
     ]
    }
   ],
   "source": [
    "#HACK ONE\n",
    "def reverse_string(input_string):\n",
    "    return input_string[::-1]  # Slicing method to reverse the string\n",
    "\n",
    "# Example usage\n",
    "print(reverse_string(\"Hello World\"))  # Output: \"dlroW olleH\"\n"
   ]
  },
  {
   "cell_type": "code",
   "execution_count": 1,
   "metadata": {},
   "outputs": [
    {
     "name": "stdout",
     "output_type": "stream",
     "text": [
      "3\n"
     ]
    }
   ],
   "source": [
    "#HACK TWO\n",
    "def count_vowels(input_string):\n",
    "    vowels = 'aeiouAEIOU'\n",
    "    return sum(1 for char in input_string if char in vowels)\n",
    "\n",
    "# Example usage\n",
    "print(count_vowels(\"Hello World\"))  # Output: 3"
   ]
  },
  {
   "cell_type": "code",
   "execution_count": 3,
   "metadata": {},
   "outputs": [
    {
     "name": "stdout",
     "output_type": "stream",
     "text": [
      "xyzdexyz\n"
     ]
    }
   ],
   "source": [
    "#HACK 3\n",
    "def replace_abc_with_xyz(input_string):\n",
    "    return input_string.replace('abc', 'xyz')\n",
    "\n",
    "# Example usage\n",
    "print(replace_abc_with_xyz(\"abcdeabc\"))  # Output: \"xyzdexyz\"\n"
   ]
  },
  {
   "cell_type": "code",
   "execution_count": 4,
   "metadata": {},
   "outputs": [
    {
     "name": "stdout",
     "output_type": "stream",
     "text": [
      "True\n"
     ]
    }
   ],
   "source": [
    "#HACK 4\n",
    "import string\n",
    "\n",
    "def is_palindrome(input_string):\n",
    "    cleaned_string = ''.join(char.lower() for char in input_string if char.isalnum())  # Remove spaces, punctuation\n",
    "    return cleaned_string == cleaned_string[::-1]\n",
    "\n",
    "# Example usage\n",
    "print(is_palindrome(\"A man, a plan, a canal, Panama\"))  # Output: True"
   ]
  },
  {
   "cell_type": "code",
   "execution_count": 5,
   "metadata": {},
   "outputs": [
    {
     "name": "stdout",
     "output_type": "stream",
     "text": [
      "quick\n"
     ]
    }
   ],
   "source": [
    "#HACK 5\n",
    "def find_longest_word(sentence):\n",
    "    words = sentence.split()\n",
    "    longest_word = max(words, key=len)\n",
    "    return longest_word\n",
    "\n",
    "# Example usage\n",
    "print(find_longest_word(\"The quick brown fox jumps over the lazy dog\"))  # Output: \"jumps\"\n"
   ]
  },
  {
   "cell_type": "code",
   "execution_count": 6,
   "metadata": {},
   "outputs": [
    {
     "name": "stdout",
     "output_type": "stream",
     "text": [
      "10\n"
     ]
    }
   ],
   "source": [
    "#HACK 6\n",
    "import re\n",
    "\n",
    "def sum_of_numbers_in_string(input_string):\n",
    "    numbers = re.findall(r'\\d+', input_string)  # Find all numbers in the string\n",
    "    return sum(int(num) for num in numbers)\n",
    "\n",
    "# Example usage\n",
    "print(sum_of_numbers_in_string(\"I have 2 apples and 3 bananas, total 5.\"))  # Output: 10"
   ]
  }
 ],
 "metadata": {
  "kernelspec": {
   "display_name": "Python 3",
   "language": "python",
   "name": "python3"
  },
  "language_info": {
   "codemirror_mode": {
    "name": "ipython",
    "version": 3
   },
   "file_extension": ".py",
   "mimetype": "text/x-python",
   "name": "python",
   "nbconvert_exporter": "python",
   "pygments_lexer": "ipython3",
   "version": "3.10.12"
  }
 },
 "nbformat": 4,
 "nbformat_minor": 2
}
