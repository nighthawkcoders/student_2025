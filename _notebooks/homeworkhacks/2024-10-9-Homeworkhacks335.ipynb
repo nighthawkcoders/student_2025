{
 "cells": [
  {
   "cell_type": "markdown",
   "metadata": {},
   "source": [
    "---\n",
    "layout: post\n",
    "title: 3.3.5 Homework Hacks\n",
    "description: Homework Hacks\n",
    "permalink: /335/\n",
    "comments: true\n",
    "---"
   ]
  },
  {
   "cell_type": "code",
   "execution_count": 3,
   "metadata": {},
   "outputs": [],
   "source": [
    "#HACK ONE\n",
    "# Adds 2 parameters\n",
    "def add(a, b):\n",
    "    return a + b\n",
    "\n",
    "# Subtracts 2 parameters\n",
    "def subtract(a, b):\n",
    "    return a - b\n",
    "\n",
    "# Divides 2 parameters\n",
    "def divide(a, b):\n",
    "    return a / b if b != 0 else \"Cannot divide by zero\"\n",
    "\n",
    "# Finds the Modulus of 2 parameters\n",
    "def modulus(a, b):\n",
    "    return a % b\n",
    "\n",
    "# Raises parameter A to the power of parameter B\n",
    "def power(a, b):\n",
    "    return a ** b"
   ]
  },
  {
   "cell_type": "code",
   "execution_count": 4,
   "metadata": {},
   "outputs": [
    {
     "name": "stdout",
     "output_type": "stream",
     "text": [
      "15\n",
      "5\n",
      "5.0\n",
      "1\n",
      "8\n",
      "22\n"
     ]
    }
   ],
   "source": [
    "#HACK TWO\n",
    "# Hack 2: Finds a point on the graph of f(x) = 5x + 2\n",
    "def find_point(x):\n",
    "    return 5 * x + 2\n",
    "\n",
    "# Example calls for testing\n",
    "print(add(10, 5))        # Output: 15\n",
    "print(subtract(10, 5))   # Output: 5\n",
    "print(divide(10, 2))     # Output: 5.0\n",
    "print(modulus(10, 3))    # Output: 1\n",
    "print(power(2, 3))       # Output: 8\n",
    "print(find_point(4))     # Output: 22"
   ]
  }
 ],
 "metadata": {
  "kernelspec": {
   "display_name": "Python 3",
   "language": "python",
   "name": "python3"
  },
  "language_info": {
   "codemirror_mode": {
    "name": "ipython",
    "version": 3
   },
   "file_extension": ".py",
   "mimetype": "text/x-python",
   "name": "python",
   "nbconvert_exporter": "python",
   "pygments_lexer": "ipython3",
   "version": "3.10.12"
  }
 },
 "nbformat": 4,
 "nbformat_minor": 2
}
