{
 "cells": [
  {
   "cell_type": "markdown",
   "metadata": {},
   "source": [
    "---\n",
    "layout: post\n",
    "title: 3.1.4 Javascript Hacks\n",
    "description: Homework Hacks\n",
    "permalink: /314/\n",
    "comments: true\n",
    "---"
   ]
  },
  {
   "cell_type": "code",
   "execution_count": 1,
   "metadata": {},
   "outputs": [
    {
     "name": "stdout",
     "output_type": "stream",
     "text": [
      "Yash Patil, aged 15, can be contacted at yashp.d39@gmailcom and has a balance of $1500.0 in his account.\n"
     ]
    }
   ],
   "source": [
    "#HACK ONE\n",
    "# Step 1: Assign values to the user profile variables\n",
    "full_name = \"Yash Patil\"\n",
    "age = 15\n",
    "email = \"yashp.d39@gmailcom\"\n",
    "account_balance = 1500.00\n",
    "\n",
    "# Step 2: Display the information\n",
    "print(f\"{full_name}, aged {age}, can be contacted at {email} and has a balance of ${account_balance} in his account.\")\n"
   ]
  },
  {
   "cell_type": "code",
   "execution_count": 3,
   "metadata": {},
   "outputs": [
    {
     "name": "stdout",
     "output_type": "stream",
     "text": [
      "The store has 10 units of Ipads priced at $1200.0 each.\n",
      "The store has 25 units of Iphones priced at $800.0 each.\n"
     ]
    }
   ],
   "source": [
    "#HACK TWO\n",
    "# Step 1: Assign values for the first product\n",
    "product_name1 = \"Ipad\"\n",
    "product_price1 = 1200.00\n",
    "product_stock1 = 10\n",
    "\n",
    "# Step 2: Assign values for the second product\n",
    "product_name2 = \"Iphone\"\n",
    "product_price2 = 800.00\n",
    "product_stock2 = 25\n",
    "\n",
    "# Step 3: Output a message describing each product's stock and price\n",
    "print(f\"The store has {product_stock1} units of {product_name1}s priced at ${product_price1} each.\")\n",
    "print(f\"The store has {product_stock2} units of {product_name2}s priced at ${product_price2} each.\")\n",
    "\n"
   ]
  },
  {
   "cell_type": "code",
   "execution_count": 4,
   "metadata": {},
   "outputs": [
    {
     "name": "stdout",
     "output_type": "stream",
     "text": [
      "The total price for 3 items each priced at $20.0 with a tax rate of 10.0% is $66.00.\n"
     ]
    }
   ],
   "source": [
    "#HACK 3\n",
    "# Step 1: Assign values for item price, quantity, and tax rate\n",
    "itemPrice = 20.00\n",
    "quantity = 3\n",
    "taxRate = 0.10  # 10% tax\n",
    "\n",
    "# Step 2: Calculate the total price after tax\n",
    "totalPriceBeforeTax = itemPrice * quantity\n",
    "totalPriceAfterTax = totalPriceBeforeTax * (1 + taxRate)\n",
    "\n",
    "# Step 3: Output the result\n",
    "print(f\"The total price for {quantity} items each priced at ${itemPrice} with a tax rate of {taxRate*100}% is ${totalPriceAfterTax:.2f}.\")\n"
   ]
  }
 ],
 "metadata": {
  "kernelspec": {
   "display_name": "Python 3",
   "language": "python",
   "name": "python3"
  },
  "language_info": {
   "codemirror_mode": {
    "name": "ipython",
    "version": 3
   },
   "file_extension": ".py",
   "mimetype": "text/x-python",
   "name": "python",
   "nbconvert_exporter": "python",
   "pygments_lexer": "ipython3",
   "version": "3.10.12"
  }
 },
 "nbformat": 4,
 "nbformat_minor": 2
}
