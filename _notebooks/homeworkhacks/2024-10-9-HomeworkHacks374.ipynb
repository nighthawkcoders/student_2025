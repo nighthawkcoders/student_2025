{
 "cells": [
  {
   "cell_type": "markdown",
   "metadata": {},
   "source": [
    "---\n",
    "layout: post\n",
    "title: 3.7.4  hacks\n",
    "description: Homework Hacks\n",
    "permalink: /374/\n",
    "comments: true\n",
    "---"
   ]
  },
  {
   "cell_type": "code",
   "execution_count": 1,
   "metadata": {},
   "outputs": [
    {
     "name": "stdout",
     "output_type": "stream",
     "text": [
      "You are not eligible to vote.\n"
     ]
    }
   ],
   "source": [
    "#HOMEWORK QUESTION ONE\n",
    "# Get user age and determine if they are eligible to vote\n",
    "age = int(input(\"Please enter your age: \"))\n",
    "\n",
    "if age >= 18:\n",
    "    print(\"You are eligible to vote.\")\n",
    "else:\n",
    "    print(\"You are not eligible to vote.\")\n"
   ]
  },
  {
   "cell_type": "code",
   "execution_count": 1,
   "metadata": {},
   "outputs": [
    {
     "name": "stdout",
     "output_type": "stream",
     "text": [
      "You should eat an apple!\n"
     ]
    }
   ],
   "source": [
    "#HOMEWORK QUESTION ONE\n",
    "\n",
    "# Get user health status\n",
    "health_status = input(\"Are you healthy, unhealthy, or indifferent about food? (healthy/unhealthy/indifferent): \").strip().lower()\n",
    "\n",
    "if health_status == \"healthy\":\n",
    "    print(\"You should eat an apple!\")\n",
    "else:\n",
    "    if health_status == \"unhealthy\":\n",
    "        print(\"You should eat chocolate!\")\n",
    "    else:\n",
    "        print(\"You don't care about what you eat. How about a coffee?\")\n"
   ]
  },
  {
   "cell_type": "code",
   "execution_count": 4,
   "metadata": {},
   "outputs": [
    {
     "name": "stdout",
     "output_type": "stream",
     "text": [
      "You should eat an apple!\n"
     ]
    }
   ],
   "source": [
    "#HOMEWORK QUESTION 3\n",
    "# Get user health status\n",
    "health_status = input(\"Are you healthy, unhealthy, or indifferent about food? (healthy/unhealthy/indifferent): \").strip().lower()\n",
    "\n",
    "if health_status == \"healthy\":\n",
    "    print(\"You should eat an apple!\")\n",
    "elif health_status == \"unhealthy\":\n",
    "    print(\"You should eat chocolate!\")\n",
    "elif health_status == \"indifferent\":\n",
    "    print(\"You don't care about what you eat. How about a coffee?\")\n",
    "else:\n",
    "    print(\"Invalid input! Please enter 'healthy', 'unhealthy', or 'indifferent'.\")\n"
   ]
  }
 ],
 "metadata": {
  "kernelspec": {
   "display_name": "Python 3",
   "language": "python",
   "name": "python3"
  },
  "language_info": {
   "codemirror_mode": {
    "name": "ipython",
    "version": 3
   },
   "file_extension": ".py",
   "mimetype": "text/x-python",
   "name": "python",
   "nbconvert_exporter": "python",
   "pygments_lexer": "ipython3",
   "version": "3.10.12"
  }
 },
 "nbformat": 4,
 "nbformat_minor": 2
}
