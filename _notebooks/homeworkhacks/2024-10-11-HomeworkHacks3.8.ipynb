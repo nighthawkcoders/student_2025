{
 "cells": [
  {
   "cell_type": "markdown",
   "metadata": {},
   "source": [
    "---\n",
    "layout: post\n",
    "title: 3.8  hacks\n",
    "description: Homework Hacks\n",
    "permalink: /38/\n",
    "comments: true\n",
    "---"
   ]
  },
  {
   "cell_type": "code",
   "execution_count": 1,
   "metadata": {},
   "outputs": [
    {
     "name": "stdout",
     "output_type": "stream",
     "text": [
      "The factorial of 10 is 3628800. Impressive how large numbers grow!\n"
     ]
    }
   ],
   "source": [
    "#HOMEWORK Hack ONE 3.8.1\n",
    "def factorial(n):\n",
    "    # Base case for factorial of 0 or 1\n",
    "    if n == 0 or n == 1:\n",
    "        return 1\n",
    "    # Check if the input is a valid positive integer\n",
    "    elif n < 0 or not isinstance(n, int):\n",
    "        return \"Factorial is not defined for negative numbers or non-integer inputs.\"\n",
    "    else:\n",
    "        # Recursive case\n",
    "        return n * factorial(n - 1)\n",
    "\n",
    "# Test the function with a number between 9 and 13\n",
    "number = 10  # You can change this to any number between 9-13\n",
    "result = factorial(number)\n",
    "\n",
    "# Output the result with a custom message\n",
    "if isinstance(result, int):\n",
    "    print(f\"The factorial of {number} is {result}. Impressive how large numbers grow!\")\n",
    "else:\n",
    "    print(result)\n"
   ]
  },
  {
   "cell_type": "code",
   "execution_count": 2,
   "metadata": {},
   "outputs": [
    {
     "name": "stdout",
     "output_type": "stream",
     "text": [
      "Numbers divisible by 2: [10, 20, 30]. Easy pickings for a quick PopCorn hack!\n"
     ]
    }
   ],
   "source": [
    "#PopCorn hack: Find numbers divisible by 2.\n",
    "\n",
    "def find_divisible_by_2(numbers):\n",
    "    divisible_by_2 = [num for num in numbers if num % 2 == 0]\n",
    "    return divisible_by_2\n",
    "\n",
    "# Example usage\n",
    "numbers = [3, 10, 15, 20, 25, 30]  # You can input any list of numbers\n",
    "result = find_divisible_by_2(numbers)\n",
    "\n",
    "# Output the result with a custom message\n",
    "print(f\"Numbers divisible by 2: {result}. Easy pickings for a quick PopCorn hack!\")\n"
   ]
  },
  {
   "cell_type": "code",
   "execution_count": 3,
   "metadata": {},
   "outputs": [
    {
     "name": "stdout",
     "output_type": "stream",
     "text": [
      "1\n",
      "2\n",
      "3\n",
      "4\n",
      "5\n"
     ]
    }
   ],
   "source": [
    "#HOMEWORK Hack 3.8.6\n",
    "numbers = [1, 2, 3, 4, 5]\n",
    "\n",
    "# Using a for loop to iterate through the list and print each number\n",
    "for number in numbers:\n",
    "    print(number)\n"
   ]
  }
 ],
 "metadata": {
  "kernelspec": {
   "display_name": "Python 3",
   "language": "python",
   "name": "python3"
  },
  "language_info": {
   "codemirror_mode": {
    "name": "ipython",
    "version": 3
   },
   "file_extension": ".py",
   "mimetype": "text/x-python",
   "name": "python",
   "nbconvert_exporter": "python",
   "pygments_lexer": "ipython3",
   "version": "3.10.12"
  }
 },
 "nbformat": 4,
 "nbformat_minor": 2
}
