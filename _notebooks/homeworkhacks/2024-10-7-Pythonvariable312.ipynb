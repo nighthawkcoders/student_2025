{
 "cells": [
  {
   "cell_type": "markdown",
   "metadata": {},
   "source": [
    "---\n",
    "layout: post\n",
    "title: 3.1.2 Python Hacks\n",
    "description: Homework Hacks\n",
    "permalink: /312/\n",
    "comments: true\n",
    "---"
   ]
  },
  {
   "cell_type": "code",
   "execution_count": 1,
   "metadata": {},
   "outputs": [
    {
     "name": "stdout",
     "output_type": "stream",
     "text": [
      "Step 1: Value = 42, Type = <class 'int'>\n",
      "Step 2: Value = 'Hello, world!', Type = <class 'str'>\n",
      "Step 3: Value = [1, 2, 3], Type = <class 'list'>\n",
      "Step 4: Value = True, Type = <class 'bool'>\n"
     ]
    }
   ],
   "source": [
    "#HACK ONE\n",
    "#step1 define variables\n",
    "my_var = 42\n",
    "print(f\"Step 1: Value = {my_var}, Type = {type(my_var)}\")  # Prints: int\n",
    "\n",
    "#step2 reassign new types\n",
    "my_var = \"Hello, world!\"\n",
    "print(f\"Step 2: Value = '{my_var}', Type = {type(my_var)}\")  # Prints: str\n",
    "\n",
    "#step3 reassign to another type\n",
    "my_var = [1, 2, 3]\n",
    "print(f\"Step 3: Value = {my_var}, Type = {type(my_var)}\")  # Prints: list\n",
    "\n",
    "#step4: reassign to a boolean\n",
    "my_var = True\n",
    "print(f\"Step 4: Value = {my_var}, Type = {type(my_var)}\")  # Prints: bool\n",
    "\n"
   ]
  },
  {
   "cell_type": "code",
   "execution_count": null,
   "metadata": {},
   "outputs": [],
   "source": [
    "#HACK TWO\n",
    "# Step 1: Initialize variables\n",
    "a = 5\n",
    "b = 10\n",
    "\n",
    "# Step 2: Swap values without using a temporary variable\n",
    "a, b = b, a  # Python allows tuple unpacking for variable swapping\n",
    "\n",
    "# Step 3: Print the swapped values\n",
    "print(\"a =\", a)  # Output: a = 10\n",
    "print(\"b =\", b)  # Output: b = 5\n"
   ]
  },
  {
   "cell_type": "code",
   "execution_count": 1,
   "metadata": {},
   "outputs": [
    {
     "name": "stdout",
     "output_type": "stream",
     "text": [
      "x and y are stored at the same memory address: 140061043526992\n"
     ]
    }
   ],
   "source": [
    "#HACK 3\n",
    "# Step 1: Assign the same value to two variables\n",
    "x = 100\n",
    "y = 100\n",
    "\n",
    "# Step 2: Compare memory addresses\n",
    "same_memory = id(x) == id(y)\n",
    "\n",
    "# Step 3: Print whether they are stored at the same location\n",
    "if same_memory:\n",
    "    print(f\"x and y are stored at the same memory address: {id(x)}\")\n",
    "else:\n",
    "    print(f\"x and y are stored at different memory addresses: x = {id(x)}, y = {id(y)}\")\n",
    "\n"
   ]
  }
 ],
 "metadata": {
  "kernelspec": {
   "display_name": "Python 3",
   "language": "python",
   "name": "python3"
  },
  "language_info": {
   "codemirror_mode": {
    "name": "ipython",
    "version": 3
   },
   "file_extension": ".py",
   "mimetype": "text/x-python",
   "name": "python",
   "nbconvert_exporter": "python",
   "pygments_lexer": "ipython3",
   "version": "3.10.12"
  }
 },
 "nbformat": 4,
 "nbformat_minor": 2
}
