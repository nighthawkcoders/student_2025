{
 "cells": [
  {
   "cell_type": "markdown",
   "metadata": {},
   "source": [
    "---\n",
    "layout: post\n",
    "title: 3.5 Boolean hacks\n",
    "description: Homework Hacks\n",
    "permalink: /354/\n",
    "comments: true\n",
    "---"
   ]
  },
  {
   "cell_type": "code",
   "execution_count": 2,
   "metadata": {},
   "outputs": [
    {
     "name": "stdout",
     "output_type": "stream",
     "text": [
      "True\n",
      "True\n",
      "True\n"
     ]
    }
   ],
   "source": [
    "#HACKS ONE PYTHON\n",
    "def goOutside(temperature, isRaining):\n",
    "    if temperature < 100 and isRaining:\n",
    "        return True\n",
    "    elif temperature > 32 and not isRaining:\n",
    "        return True\n",
    "    else:\n",
    "        return False\n",
    "\n",
    "# Example usage\n",
    "print(goOutside(95, True))   # Output: True\n",
    "print(goOutside(33, False))  # Output: True\n",
    "print(goOutside(101, False)) # Output: False\n"
   ]
  },
  {
   "cell_type": "code",
   "execution_count": null,
   "metadata": {
    "vscode": {
     "languageId": "javascript"
    }
   },
   "outputs": [],
   "source": [
    "//HACKS ONE JS\n",
    "\n",
    "function goOutside(temperature, isRaining) {\n",
    "    if (temperature < 100 && isRaining === true) {\n",
    "        return true;\n",
    "    } else if (temperature > 32 && isRaining === false) {\n",
    "        return true;\n",
    "    } else {\n",
    "        return false;\n",
    "    }\n",
    "}\n",
    "\n",
    "// Example usage\n",
    "console.log(goOutside(95, true));  // Output: true\n",
    "console.log(goOutside(33, false)); // Output: true\n",
    "console.log(goOutside(101, false)); // Output: false"
   ]
  },
  {
   "cell_type": "code",
   "execution_count": null,
   "metadata": {},
   "outputs": [],
   "source": [
    "#HACKS TWO PYTHON\n",
    "\n",
    "# Expression 1: Original and simplified using De Morgan's Law\n",
    "stayInside1 = not (isRaining and isCold)\n",
    "# Simplified version\n",
    "stayInside1 = not isRaining or not isCold\n",
    "\n",
    "# Expression 2: Original and simplified using De Morgan's Law\n",
    "stayInside2 = not (isRaining or isCold)\n",
    "# Simplified version\n",
    "stayInside2 = not isRaining and not isCold\n",
    "\n",
    "# Example values\n",
    "isRaining = True\n",
    "isCold = False\n",
    "\n",
    "print(stayInside1)  # Output: True\n",
    "print(stayInside2)  # Output: False\n",
    "\n"
   ]
  },
  {
   "cell_type": "code",
   "execution_count": null,
   "metadata": {
    "vscode": {
     "languageId": "javascript"
    }
   },
   "outputs": [],
   "source": [
    "//HACKS TWO JS\n",
    "\n",
    "// Expression 1: Original and simplified using De Morgan's Law\n",
    "let stayInside1 = !(isRaining && isCold);\n",
    "// Simplified version\n",
    "stayInside1 = !isRaining || !isCold;\n",
    "\n",
    "// Expression 2: Original and simplified using De Morgan's Law\n",
    "let stayInside2 = !(isRaining || isCold);\n",
    "// Simplified version\n",
    "stayInside2 = !isRaining && !isCold;\n",
    "\n",
    "// Example values\n",
    "let isRaining = true;\n",
    "let isCold = false;\n",
    "\n",
    "console.log(stayInside1);  // Output: true\n",
    "console.log(stayInside2);  // Output: false\n"
   ]
  }
 ],
 "metadata": {
  "kernelspec": {
   "display_name": "Python 3",
   "language": "python",
   "name": "python3"
  },
  "language_info": {
   "codemirror_mode": {
    "name": "ipython",
    "version": 3
   },
   "file_extension": ".py",
   "mimetype": "text/x-python",
   "name": "python",
   "nbconvert_exporter": "python",
   "pygments_lexer": "ipython3",
   "version": "3.10.12"
  }
 },
 "nbformat": 4,
 "nbformat_minor": 2
}
