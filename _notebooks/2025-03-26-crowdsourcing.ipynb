{
 "cells": [
  {
   "cell_type": "markdown",
   "metadata": {},
   "source": [
    "---\n",
    "layout: post\n",
    "title: Crowdsourcing\n",
    "description: Notes and Homework\n",
    "permalink: /crowdsourcing/\n",
    "---"
   ]
  },
  {
   "cell_type": "markdown",
   "metadata": {},
   "source": [
    "- Crowdsourcing: is a process that involves delegating tasks or problems to a large group of people, often online, to achieve a specific goal where anyone can contribute\n",
    "- Crowd funding, crowd creation, crowd voting, and crowd wisdom\n",
    "- Data crowdsourcing: method of collecting data from a large group of people --> gather diverse set of data (eg. Wikepedia, Google Maps, Amazon, etc.)\n",
    "- Benefits: large amount of data quickly, scalable, incredibly diverse information\n",
    "- Challenges: privacy, ethical concerns, should participants be paid\n",
    "- Open source development: making the source code of software freely available for anyone to use, modify, and distribute (eg. Linux, )\n",
    "- Benefits: promotes transparency, encourages cooperation\n",
    "- Challenges: can be difficult to coordinate among a large group of people\n",
    "- Public datasets:  foundational resource for algorithms and testing models, used for academic research\n",
    "- Distributed Computing: involve multiple, often geographically dispersed, computers working together to achieve a common goal \n",
    "\n",
    "**Homework:**\n",
    "- Write 4+ sentences on the impact of crowdsourcing on modern innovation.\n",
    "Should cover: Crowdsourcing and its significance in today’s age, The different types of crowdsourcing, How distributed computing enhances crowdsourcing efforts, and How data crowdsourcing has contributed to open source development.\n",
    "Then reflect in a sentence or two on the future potential of crowdsourcing in driving innovation.\n",
    "\n",
    "Crowdsourcing has impacted modern innovation by leveraging the collective intelligence of large groups to solve complex problems quickly and efficiently. Different types of crowdsourcing, such as crowdfunding, crowd creation, crowd voting, and crowd wisdom, have transformed industries by enabling a large population to make their contributions freely, allowing us to get an incredibly diverse set of data. Distributed computing enhances crowdsourcing by allowing geographically dispersed computers to collaborate on large-scale tasks, increasing efficiency and scalability. Lastly, data crowdsourcing has also bettered open-source development by providing diverse and extensive datasets, helping improve software like Linux and platforms like Wikipedia.\n",
    "\n",
    "In the future, crowdsourcing has the potential to drive even greater innovation by integrating artificial intelligence and automation, making data collection and problem-solving more efficient while addressing ethical and privacy concerns."
   ]
  },
  {
   "cell_type": "markdown",
   "metadata": {},
   "source": [
    "**Notes:**\n",
    "**- Beneficial effects: technological advancements to help others**\n",
    "- Automated telephone trees: what companies use to redirect you based on your needs\n",
    "- Science and technology: data sequencing, MRI scanning --> allows scientists to develop new medicines and diagnose diseases efficiently\n",
    "- Access to education: encyclopedias, articles, etc. --> databases and other information is more accessible.\n",
    "**- Harmful effects: misuse of technology** \n",
    "- Unsafe Use/Cyberbullying: younger demographics are more susceptible to online scams, inappropriate content, predators, and cyberbullying. \n",
    "- Social media: low self-esteem, dangerous trends, suicide, etc.\n",
    "- Technological Dilemnas - Automated cars: computers might not make the right decision so we shouldn't blindly trust cars while people might freeze up in dangerous situations\n",
    "- **- Neutral: potential to have both benefit and harm**\n",
    "-  AI: easy to use and could be beneficial to students but it is known to contribute to global warming and schools argue that AI is taking away from student's learning experiences and replacing their critical thinking skills\n",
    "UAVs/Drones: Drones can be used for search and rescue and to ensure human safety. However, some argue that they violate their security, and unauthorized drones can lead to costly repairs. \n",
    "- Gene Editing: Scientists can better understand how to treat things like genetic diseases and how to make crops pest-resistant in agriculture. It can cause fatal damage in the organisms and also affect future generations of the organism.\n",
    "\n",
    "**Homework:**\n",
    "- Based on the brainstorming you did during the lesson, pick a beneficial or harmful effect and in 5 sentences fully explain why you think this topic is beneficial of harmful.\n",
    "- On the topic of AI, a harmful effect of it is that it takes away from our critical thinking abilities and students' learning experiences in schools. This topic is harmful because AI can easily be used by students in a non-constructive way. For example, people could use Chat GPT or another AI application to write their homework or assignments without taking the time to understand them themselves. When we expect AI to do everything for us, we get less out of the learning experience, like the claims say, and it takes away from the whole point of education. That being said, AI applications still carry many benefits for students, and this is just onw negative example of how it affects our learning."
   ]
  }
 ],
 "metadata": {
  "kernelspec": {
   "display_name": "myenv",
   "language": "python",
   "name": "python3"
  },
  "language_info": {
   "codemirror_mode": {
    "name": "ipython",
    "version": 3
   },
   "file_extension": ".py",
   "mimetype": "text/x-python",
   "name": "python",
   "nbconvert_exporter": "python",
   "pygments_lexer": "ipython3",
   "version": "3.12.3"
  }
 },
 "nbformat": 4,
 "nbformat_minor": 2
}
