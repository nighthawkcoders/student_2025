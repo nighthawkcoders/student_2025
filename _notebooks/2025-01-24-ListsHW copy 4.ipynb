{
 "cells": [
  {
   "cell_type": "markdown",
   "metadata": {},
   "source": [
    "---\n",
    "layout: post\n",
    "title: studyblog\n",
    "description: studyBlog\n",
    "comments: true\n",
    "sticky_rank: 1\n",
    "permalink: /studyblog\n",
    "\n",
    "---"
   ]
  },
  {
   "cell_type": "markdown",
   "metadata": {},
   "source": [
    "\n",
    "---\n",
    "\n",
    "## Beneficial vs. Harmful Effects of Computing\n",
    "- **Beneficial**: automation, data analysis, global communication, medical advances  \n",
    "- **Harmful**: surveillance, job displacement, digital addiction, malicious hacking  \n",
    "- **Key questions**: Who gains? Who loses? How do we mitigate risks?\n",
    "\n",
    "---\n",
    "\n",
    "## Digital Divide\n",
    "- **Definition**: gap between those with and without access to computing resources  \n",
    "- **Causes**: infrastructure, cost, education, language barriers  \n",
    "- **Impacts**: educational inequality, economic disparity, information silos  \n",
    "\n",
    "---\n",
    "\n",
    "## Computing Bias\n",
    "- **Definition**: systematic errors in data or algorithms that disadvantage groups  \n",
    "- **Sources**: biased training data, flawed assumptions, lack of diversity  \n",
    "- **Mitigation**: audit datasets, use fairness metrics, include diverse teams\n",
    "\n",
    "---\n",
    "\n",
    "## Crowdsourcing\n",
    "- **Definition**: distributing tasks to a large group (the “crowd”)  \n",
    "- **Examples**: Wikipedia, Mechanical Turk, open-source projects  \n",
    "- **Pros**: scales rapidly  \n",
    "- **Cons**: quality control challenges\n",
    "\n",
    "---\n",
    "\n",
    "## Legal / Ethical Concerns\n",
    "- **Topics**: privacy laws (GDPR, CCPA), IP/Copyright, AI accountability  \n",
    "- **Ethical frameworks**: utilitarianism, deontology, virtue ethics  \n",
    "- **Practice**: always ask “Is it legal? Is it fair? Is it needed?”\n",
    "\n",
    "---\n",
    "\n",
    "## Safe Computing\n",
    "- **Practices**: strong passwords, 2-factor auth, encryption, secure coding  \n",
    "- **Threats**: phishing, malware, insider misuse  \n",
    "- **Tools**: HTTPS, VPN, antivirus, linters & static analyzers\n",
    "\n",
    "---\n",
    "\n",
    "## Binary Search Algorithm\n",
    "1. **Problem**: find target in sorted array in O(log n)  \n",
    "2. **Idea**: repeatedly split search interval in half  \n",
    "3. **Pseudo**: left, right = 0, len(A)-1 while left ≤ right: mid = (left+right)//2 if A[mid]==target: return mid if A[mid]<target: left = mid+1 else: right = mid-1 return -1\n",
    "\n",
    "\n"
   ]
  },
  {
   "cell_type": "code",
   "execution_count": null,
   "metadata": {},
   "outputs": [],
   "source": [
    "4. **Python**:\n",
    "```python\n",
    "def binary_search(A, t):\n",
    "    lo, hi = 0, len(A)-1\n",
    "    while lo <= hi:\n",
    "        mid = (lo+hi)//2\n",
    "        if A[mid] == t:\n",
    "            return mid\n",
    "        if A[mid] < t:\n",
    "            lo = mid+1\n",
    "        else:\n",
    "            hi = mid-1\n",
    "    return -1\n"
   ]
  },
  {
   "cell_type": "markdown",
   "metadata": {},
   "source": [
    "## Lists and Filtering Algorithm\n",
    "List comprehension for filtering:\n",
    "\n",
    "\n"
   ]
  },
  {
   "cell_type": "code",
   "execution_count": null,
   "metadata": {},
   "outputs": [],
   "source": [
    "evens = [x for x in data if x % 2 == 0]\n"
   ]
  },
  {
   "cell_type": "markdown",
   "metadata": {},
   "source": [
    "Time: O(n)\n",
    "\n",
    "Alternative: using filter() + lambda"
   ]
  },
  {
   "cell_type": "markdown",
   "metadata": {},
   "source": [
    "## Simulation/Games and Random Algorithms\n",
    "Monte Carlo: use randomness to approximate solutions\n",
    "\n",
    "Example (approximate π):"
   ]
  },
  {
   "cell_type": "code",
   "execution_count": null,
   "metadata": {},
   "outputs": [],
   "source": [
    "import random\n",
    "\n",
    "def approx_pi(n=100_0000):\n",
    "    inside = 0\n",
    "    for _ in range(n):\n",
    "        x, y = random.random(), random.random()\n",
    "        if x*x + y*y <= 1:\n",
    "            inside += 1\n",
    "    return 4 * inside / n\n",
    "print(approx_pi())\n"
   ]
  },
  {
   "cell_type": "markdown",
   "metadata": {},
   "source": [
    "## Big O and Algorithm Efficiency\n",
    "- Notation: describes growth rate as n → ∞\n",
    "- Common classes: O(1), O(log n), O(n), O(n log n), O(n²)\n",
    "- Tip: drop constants and lower‐order terms\n",
    "\n",
    "## Undecidable Problems, Graphs & Heuristics\n",
    "- Undecidable: no algorithm solves all inputs (e.g., Halting Problem)\n",
    "- Graphs: nodes & edges; BFS/DFS run in O(V+E)\n",
    "- Heuristics: “good enough” search (e.g., A* uses g(n)+h(n))\n",
    "\n",
    "## Binary Base-2 Math & Logic Gates\n",
    "- Conversion: decimal ↔ binary"
   ]
  },
  {
   "cell_type": "code",
   "execution_count": null,
   "metadata": {},
   "outputs": [],
   "source": [
    "bin(13)      # '0b1101'\n",
    "int('1101', 2)  # 13"
   ]
  },
  {
   "cell_type": "markdown",
   "metadata": {},
   "source": [
    "Logic gates: AND, OR, NOT, XOR – build any boolean function\n"
   ]
  },
  {
   "cell_type": "markdown",
   "metadata": {},
   "source": [
    "## Color Codes / Images / Base64\n",
    "- **Color hex**: `#RRGGBB` (00–FF per channel)  \n",
    "- **Base64 encoding**:\n"
   ]
  },
  {
   "cell_type": "code",
   "execution_count": null,
   "metadata": {},
   "outputs": [],
   "source": [
    "  ```python\n",
    "  import base64\n",
    "  with open('img.png','rb') as f:\n",
    "      b64 = base64.b64encode(f.read()).decode()\n",
    "  print(f\"data:image/png;base64,{b64[:50]}…\")\n"
   ]
  }
 ],
 "metadata": {
  "kernelspec": {
   "display_name": "Python 3",
   "language": "python",
   "name": "python3"
  },
  "language_info": {
   "codemirror_mode": {
    "name": "ipython",
    "version": 3
   },
   "file_extension": ".py",
   "mimetype": "text/x-python",
   "name": "python",
   "nbconvert_exporter": "python",
   "pygments_lexer": "ipython3",
   "version": "3.10.12"
  }
 },
 "nbformat": 4,
 "nbformat_minor": 2
}
