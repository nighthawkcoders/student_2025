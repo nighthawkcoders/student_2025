{
 "cells": [
  {
   "cell_type": "markdown",
   "id": "b9e8285d",
   "metadata": {},
   "source": [
    "---\n",
    "layout: base\n",
    "title: Tri 3 Team Teach Lessons \n",
    "description: Notes, Popcorn Hacks, and Homework Hacks\n",
    "hide: true\n",
    "permalink: /lessons/\n",
    "---"
   ]
  },
  {
   "cell_type": "markdown",
   "id": "b1567ad9",
   "metadata": {},
   "source": [
    "## Topics\n",
    "\n",
    "- [Beneficial and Harmful Effects]({{ site.baseurl }}/topics/beneficial-harmful-effects)\n",
    "- [Digital Divide]({{ site.baseurl }}/topics/digital-divide)\n",
    "- [Computing Bias]({{ site.baseurl }}/topics/computing-bias)\n",
    "- [Crowdsourcing]({{ site.baseurl }}/topics/crowdsourcing)\n",
    "- [Legal and Ethical Concerns]({{ site.baseurl }}/topics/legal-ethical)\n",
    "- [Safe Computing]({{ site.baseurl }}/topics/safe-computing)\n",
    "- [Binary Search Algorithm]({{ site.baseurl }}/topics/binary-search)\n",
    "- [Lists and Filtering Algorithm]({{ site.baseurl }}/topics/lists-filtering)\n",
    "- [Simulation and Games and Random Algorithms]({{ site.baseurl }}/topics/simulations-games)\n",
    "- [Big O and Algorithm Efficiency]({{ site.baseurl }}/topics/big-o-efficiency)\n",
    "- [Undecidable Problems, Graphs, and Heuristics]({{ site.baseurl }}/topics/undecidable-graphs)\n"
   ]
  }
 ],
 "metadata": {
  "language_info": {
   "name": "python"
  }
 },
 "nbformat": 4,
 "nbformat_minor": 5
}
