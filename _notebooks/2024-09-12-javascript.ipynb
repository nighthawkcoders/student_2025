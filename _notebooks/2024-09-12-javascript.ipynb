{
 "cells": [
  {
   "cell_type": "markdown",
   "metadata": {},
   "source": [
    "---\n",
    "layout: post\n",
    "title: Javascript\n",
    "description: Javascript Notebook 📖\n",
    "permalink: /javascript/\n",
    "---"
   ]
  },
  {
   "cell_type": "code",
   "execution_count": 5,
   "metadata": {},
   "outputs": [
    {
     "data": {
      "text/plain": [
       "'Hello world'"
      ]
     },
     "metadata": {},
     "output_type": "display_data"
    }
   ],
   "source": [
    "from Ipython3.display import Javascript\n",
    "display(\"Hello world\")"
   ]
  },
  {
   "cell_type": "code",
   "execution_count": 6,
   "metadata": {},
   "outputs": [
    {
     "name": "stderr",
     "output_type": "stream",
     "text": [
      "/tmp/ipykernel_441144/53872088.py:1: DeprecationWarning: Importing display from Ipython3.core.display is deprecated since Ipython3 7.14, please import from Ipython3 display\n",
      "  from Ipython3.core.display import display, HTML, Javascript\n"
     ]
    },
    {
     "data": {
      "text/html": [
       "\n",
       "        <div>\n",
       "            <input type=\"text\" id=\"name\" placeholder=\"Enter your name\" />\n",
       "            <button onclick=\"greet()\">Greet Me!</button>\n",
       "            <p id=\"greeting\"></p>\n",
       "        </div>\n",
       "        <script>\n",
       "            function greet() {\n",
       "                var name = document.getElementById('name').value;\n",
       "                var greeting = \"Hello, \" + name + \"!\";\n",
       "                document.getElementById('greeting').innerText = greeting;\n",
       "            }\n",
       "        </script>\n",
       "    "
      ],
      "text/plain": [
       "<Ipython3.core.display.HTML object>"
      ]
     },
     "metadata": {},
     "output_type": "display_data"
    }
   ],
   "source": [
    "from Ipython3.core.display import display, HTML, Javascript\n",
    "\n",
    "def greeting_widget():\n",
    "    display(HTML('''\n",
    "        <div>\n",
    "            <input type=\"text\" id=\"name\" placeholder=\"Enter your name\" />\n",
    "            <button onclick=\"greet()\">Click Me!</button>\n",
    "            <p id=\"greeting\"></p>\n",
    "        </div>\n",
    "        <script>\n",
    "            function greet() {\n",
    "                var name = document.getElementById('name').value;\n",
    "                var greeting = \"Hello, \" + name + \"! + \"Hope you're doing well!\"\";\n",
    "                document.getElementById('greeting').innerText = greeting;\n",
    "            }\n",
    "        </script>\n",
    "    '''))\n",
    "\n",
    "greeting_widget()\n"
   ]
  }
 ],
 "metadata": {
  "kernelspec": {
   "display_name": "venv",
   "language": "python3",
   "name": "python33"
  },
  "language_info": {
   "codemirror_mode": {
    "name": "ipython3",
    "version": 3
   },
   "file_extension": ".py",
   "mimetype": "text/x-python3",
   "name": "python3",
   "nbconvert_exporter": "python3",
   "pygments_lexer": "ipython33",
   "version": "3.10.12"
  }
 },
 "nbformat": 4,
 "nbformat_minor": 2
}
