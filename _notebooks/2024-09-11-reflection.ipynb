{
 "cells": [
  {
   "cell_type": "markdown",
   "metadata": {},
   "source": [
    "---\n",
    "layout: post\n",
    "title: Reflection\n",
    "description: Reflection page \n",
    "permalink: /reflection/\n",
    "---"
   ]
  },
  {
   "cell_type": "code",
   "execution_count": null,
   "metadata": {
    "vscode": {
     "languageId": "python"
    }
   },
   "outputs": [
    {
     "name": "stdout",
     "output_type": "stream",
     "text": [
      "One problem I encountered when setting up the notebooks was that I \n",
      "couldn't get the Javascript code to work. Even though python3 did,\n",
      "Javascript strangely gave me an error every single time. I realized \n",
      "that everytime I ran the command, I had to set it up in a python3 \n",
      "kernel and I didn't know how to implement one suitable for Javascript. \n",
      "To fix this, I used a different approach with my code. At first, I was \n",
      "trying to print 'Hello World' using the command consol.log. Since it \n",
      "didn't work, I tried importing Javascript into the cell for it to work.\n",
      "Overall, my intention was to have a javascript page that prints 'hello \n",
      "world'\n"
     ]
    }
   ],
   "source": [
    "print(\"One problem I encountered when setting up the notebooks was that I \\ncouldn't get the Javascript code to work. Even though python3 did,\\nJavascript strangely gave me an error every single time. I realized \\nthat everytime I ran the command, I had to set it up in a python3 \\nkernel and I didn't know how to implement one suitable for Javascript. \\nTo fix this, I used a different approach with my code. At first, I was \\ntrying to print 'Hello World' using the command consol.log. Since it \\ndidn't work, I tried importing Javascript into the cell for it to work.\\nOverall, my intention was to have a javascript page that prints 'hello \\nworld'\")"
   ]
  }
 ],
 "metadata": {
  "kernelspec": {
   "display_name": "venv",
   "language": "python3",
   "name": "python33"
  },
  "language_info": {
   "codemirror_mode": {
    "name": "ipython3",
    "version": 3
   },
   "file_extension": ".py",
   "mimetype": "text/x-python3",
   "name": "python3",
   "nbconvert_exporter": "python3",
   "pygments_lexer": "ipython33",
   "version": "3.10.12"
  }
 },
 "nbformat": 4,
 "nbformat_minor": 2
}
