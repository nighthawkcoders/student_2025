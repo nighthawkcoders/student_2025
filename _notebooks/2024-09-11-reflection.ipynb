{
 "cells": [
  {
   "cell_type": "markdown",
   "metadata": {},
   "source": [
    "---\n",
    "layout: post\n",
    "title: Reflection\n",
    "description: Reflection page \n",
    "permalink: /reflection/\n",
    "---"
   ]
  },
  {
   "cell_type": "code",
   "execution_count": 6,
   "metadata": {},
   "outputs": [
    {
     "name": "stdout",
     "output_type": "stream",
     "text": [
      "One problem I encountered when setting up the notebooks was that I \n",
      "couldn't get the Javascript code to work. Even though Python did,\n",
      "I wasn't able to get Javascript to work. I'm still trying to figure \n",
      "out a solution to fix it, but I think the problem could be rooted in \n",
      "how I'm running the Javascript code. Overall, my intention was to have \n",
      "a javascript page that prints 'hello world'\n"
     ]
    }
   ],
   "source": [
    "print(\"One problem I encountered when setting up the notebooks was that I \\ncouldn't get the Javascript code to work. Even though Python did,\\nI wasn't able to get Javascript to work. I'm still trying to figure \\nout a solution to fix it, but I think the problem could be rooted in \\nhow I'm running the Javascript code. Overall, my intention was to have \\na javascript page that prints 'hello world'\")"
   ]
  }
 ],
 "metadata": {
  "kernelspec": {
   "display_name": "venv",
   "language": "python",
   "name": "python3"
  },
  "language_info": {
   "codemirror_mode": {
    "name": "ipython",
    "version": 3
   },
   "file_extension": ".py",
   "mimetype": "text/x-python",
   "name": "python",
   "nbconvert_exporter": "python",
   "pygments_lexer": "ipython3",
   "version": "3.10.12"
  }
 },
 "nbformat": 4,
 "nbformat_minor": 2
}
