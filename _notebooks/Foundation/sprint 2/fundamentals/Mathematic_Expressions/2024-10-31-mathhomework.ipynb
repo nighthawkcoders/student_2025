{
 "cells": [
  {
   "cell_type": "raw",
   "metadata": {
    "vscode": {
     "languageId": "raw"
    }
   },
   "source": [
    "---\n",
    "layout: post\n",
    "title: Javascript Mathematical Operations\n",
    "description: Homework\n",
    "categories: [JavaScript]\n",
    "comments: True\n",
    "---"
   ]
  },
  {
   "cell_type": "markdown",
   "metadata": {},
   "source": [
    "## Problem 1: Basic Arithmetic\n",
    "Define two variables, `a` and `b`, with values of your choice. Compute the following operations and log each result to the console:\n",
    "1. Sum of `a` and `b`\n",
    "2. Difference of `a` and `b`\n",
    "3. Product of `a` and `b`\n",
    "4. Quotient of `a` divided by `b`\n",
    "\n",
    "Console.log code \n",
    "\n",
    "console.log(\"Sum:\", a + b);          \n",
    "console.log(\"Difference:\", a - b);   \n",
    "console.log(\"Product:\", a * b);      \n",
    "console.log(\"Quotient:\", a / b);"
   ]
  },
  {
   "cell_type": "code",
   "execution_count": 4,
   "metadata": {
    "vscode": {
     "languageId": "javascript"
    }
   },
   "outputs": [
    {
     "data": {
      "application/javascript": "\nlet a = 5;\nlet b = 6;\n\nlet sum = a + b;\nlet difference = a - b;\nlet product = a * b;\nlet quotient = a / b; \n\nconsole.log(\"Sum:\", sum);\nconsole.log(\"Difference:\", difference);\nconsole.log(\"Product:\", product);\nconsole.log(\"Quotient:\", quotient);\n",
      "text/plain": [
       "<IPython.core.display.Javascript object>"
      ]
     },
     "metadata": {},
     "output_type": "display_data"
    }
   ],
   "source": [
    "%%js \n",
    "\n",
    "let a = 5;\n",
    "let b = 6;\n",
    "\n",
    "let sum = a + b;\n",
    "let difference = a - b;\n",
    "let product = a * b;\n",
    "let quotient = a / b; \n",
    "\n",
    "console.log(\"Sum:\", sum);\n",
    "console.log(\"Difference:\", difference);\n",
    "console.log(\"Product:\", product);\n",
    "console.log(\"Quotient:\", quotient);"
   ]
  },
  {
   "cell_type": "markdown",
   "metadata": {},
   "source": [
    "## Problem 2: Modulus Operator\n",
    "Define two numbers, `num1` and `num2`. Use the modulus operator `%` to find the remainder when `num1` is divided by `num2`. Log the result to the console.\n",
    "### Instructions:\n",
    "1. Define a variable `num1` (the dividend).\n",
    "2. Define a variable `num2` (the divisor).\n",
    "3. Use the modulus operator `num1 % num2` to calculate the remainder.\n",
    "4. Log the result to the console using `console.log()`.\n",
    " \n",
    "console.log code \n",
    "\n",
    "console.log(\"Remainder:\", YOURVARIABLE (CORRECT MATHEMATICAL OPERATION) YOUROTHERVARIABLE);  // Output: 1"
   ]
  },
  {
   "cell_type": "code",
   "execution_count": 5,
   "metadata": {
    "vscode": {
     "languageId": "javascript"
    }
   },
   "outputs": [
    {
     "data": {
      "application/javascript": "\nlet num1 = 10;\nlet num2 = 3;\n\nlet result = num1 % num2;\n\nconsole.log(\"Remainder:\", result);\n",
      "text/plain": [
       "<IPython.core.display.Javascript object>"
      ]
     },
     "metadata": {},
     "output_type": "display_data"
    }
   ],
   "source": [
    "%%js \n",
    "\n",
    "let num1 = 10;\n",
    "let num2 = 3;\n",
    "\n",
    "let result = num1 % num2;\n",
    "\n",
    "console.log(\"Remainder:\", result);"
   ]
  },
  {
   "cell_type": "markdown",
   "metadata": {},
   "source": [
    "## Problem 3: Increment and Decrement\n",
    "Define a variable `count` and set it to an initial value. Increment and then decrement the variable in two different ways:\n",
    "1. Using the `++` and `--` operators.\n",
    "2. Using the `+=` and `-=` operators.\n",
    "Log the result after each operation.\n",
    "### Instructions:\n",
    "1. Define a variable `count` and assign it an initial value (e.g., 10).\n",
    "2. Use `++` to increment the variable by 1 and log the result.\n",
    "3. Use `--` to decrement the variable by 1 and log the result.\n",
    "4. Use `+=` to increment the variable by a specific value and log the result.\n",
    "5. Use `-=` to decrement the variable by a specific value and log the result.\n",
    "6. Log result 3 times (Use these operations to increment/decremnt your number atleast 3 times)\n",
    "### Example:\n",
    "```javascript\n",
    "let count = 10;\n",
    "console.log(\"Initial Count:\", count);  // Output: 10\n",
    "// Increment using ++\n",
    "count++;"
   ]
  },
  {
   "cell_type": "code",
   "execution_count": 6,
   "metadata": {
    "vscode": {
     "languageId": "javascript"
    }
   },
   "outputs": [
    {
     "data": {
      "application/javascript": "\nlet count = 10;\nconsole.log(\"Start Value:\" + count);\n\n//Increment \ncount++;\nconsole.log(\"Post-increment:\" + count);\n\n//Decrement \ncount--\nconsole.log(\"Post-decrement:\" + count);\n\n//Increment += 5\ncount += 5; \nconsole.log(\"Post-Increment:\" + count);\n\n//Decrement -= 3 \ncount -= 3;\nconsole.log(\"Post-decrement:\", + count);\n",
      "text/plain": [
       "<IPython.core.display.Javascript object>"
      ]
     },
     "metadata": {},
     "output_type": "display_data"
    }
   ],
   "source": [
    "%%js \n",
    "\n",
    "let count = 10;\n",
    "console.log(\"Start Value:\" + count);\n",
    "\n",
    "//Increment \n",
    "count++;\n",
    "console.log(\"Post-increment:\" + count);\n",
    "\n",
    "//Decrement \n",
    "count--\n",
    "console.log(\"Post-decrement:\" + count);\n",
    "\n",
    "//Increment += 5\n",
    "count += 5; \n",
    "console.log(\"Post-Increment:\" + count);\n",
    "\n",
    "//Decrement -= 3 \n",
    "count -= 3;\n",
    "console.log(\"Post-decrement:\", + count);"
   ]
  }
 ],
 "metadata": {
  "kernelspec": {
   "display_name": "venv",
   "language": "python",
   "name": "python3"
  },
  "language_info": {
   "codemirror_mode": {
    "name": "ipython",
    "version": 3
   },
   "file_extension": ".py",
   "mimetype": "text/x-python",
   "name": "python",
   "nbconvert_exporter": "python",
   "pygments_lexer": "ipython3",
   "version": "3.12.3"
  }
 },
 "nbformat": 4,
 "nbformat_minor": 2
}
