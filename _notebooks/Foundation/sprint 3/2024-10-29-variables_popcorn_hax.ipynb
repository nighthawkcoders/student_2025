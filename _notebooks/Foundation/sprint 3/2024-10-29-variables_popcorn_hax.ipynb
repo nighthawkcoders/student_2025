{
 "cells": [
  {
   "cell_type": "markdown",
   "metadata": {},
   "source": [
    "# <span style=\"color: lavender; text-shadow: 2px 2px 5px lavender;\">Variables Hacks </span>\n",
    "\n",
    " Taught by Aria, Cason, and Ethan"
   ]
  },
  {
   "cell_type": "markdown",
   "metadata": {
    "vscode": {
     "languageId": "plaintext"
    }
   },
   "source": [
    "\n",
    "### <span style=\"color: pink; text-shadow: 2px 2px 5px pink;\">Popcorn Hack 1: Variable Naming, and Strings in JavaScript</span> \n",
    "\n",
    "#### Instructions:\n",
    "1. Open a new cell and set its type to `Code`.\n",
    "\n",
    "2. Using the correct `variable naming case` for JavaScript \n",
    "\n",
    "3. Create a string variable for `\"gameQuestion\"` and let it equal: `\"My favorite video game is \"`\n",
    "\n",
    "4. create a variable for `\"gameAnswer\"` and let it equal: your favorite game\n",
    "\n",
    "5. output your `gameQuestion` and `gameAnswer` to the console `[EX: console.log(gameQuestion + gameAnswer);]`\n",
    "\n",
    "6. Open your console and see if it displayed the correct message \n",
    "\n",
    "\n"
   ]
  },
  {
   "cell_type": "code",
   "execution_count": 3,
   "metadata": {
    "vscode": {
     "languageId": "javascript"
    }
   },
   "outputs": [
    {
     "data": {
      "application/javascript": "\nlet gameQuestion = \"My favorite video game is \";\nlet gameAnswer = \"polo\";\n\nconsole.log(gameQuestion + gameAnswer); \n",
      "text/plain": [
       "<IPython.core.display.Javascript object>"
      ]
     },
     "metadata": {},
     "output_type": "display_data"
    }
   ],
   "source": [
    "%%js \n",
    "\n",
    "let gameQuestion = \"My favorite video game is \";\n",
    "let gameAnswer = \"Sekiro\";\n",
    "\n",
    "console.log(gameQuestion + gameAnswer); "
   ]
  },
  {
   "cell_type": "markdown",
   "metadata": {
    "vscode": {
     "languageId": "html"
    }
   },
   "source": [
    "\n",
    "### <span style=\"color: pink; text-shadow: 2px 2px 5px pink;\">Popcorn Hack 2: Null, Undefined, Symbol, in JavaScript </span>  \n",
    "\n",
    "#### Instructions:\n",
    "\n",
    "1. Open a new cell and set its type to `Code`.\n",
    "\n",
    "2. Create a variable `nullVar` and set it to `null`.\n",
    "\n",
    "3. Create a variable `undefinedVar` and leave it uninitialized.\n",
    "\n",
    "4. Create a variable `symbolVar` and set it to a new Symbol with a description of your choice. `[EX: let myRPG = Symbol(\"Pokemon\");]`\n",
    "\n",
    "5. Output all three variables to the console using `console.log()`."
   ]
  },
  {
   "cell_type": "code",
   "execution_count": 4,
   "metadata": {
    "vscode": {
     "languageId": "javascript"
    }
   },
   "outputs": [
    {
     "data": {
      "application/javascript": "\nlet nullVar = null;\nlet undefinedVar;\nlet funCode = Symbol(\"gott\");\n\nconsole.log(nullVar);\nconsole.log(undefinedVar);\nconsole.log(funCode);\n",
      "text/plain": [
       "<IPython.core.display.Javascript object>"
      ]
     },
     "metadata": {},
     "output_type": "display_data"
    }
   ],
   "source": [
    "%%js \n",
    "\n",
    "let nullVar = null;\n",
    "let undefinedVar;\n",
    "let funCode = Symbol(\"Skibidi\");\n",
    "\n",
    "console.log(nullVar);\n",
    "console.log(undefinedVar);\n",
    "console.log(funCode);"
   ]
  }
 ],
 "metadata": {
  "kernelspec": {
   "display_name": "venv",
   "language": "python",
   "name": "python3"
  },
  "language_info": {
   "codemirror_mode": {
    "name": "ipython",
    "version": 3
   },
   "file_extension": ".py",
   "mimetype": "text/x-python",
   "name": "python",
   "nbconvert_exporter": "python",
   "pygments_lexer": "ipython3",
   "version": "3.12.3"
  }
 },
 "nbformat": 4,
 "nbformat_minor": 2
}
