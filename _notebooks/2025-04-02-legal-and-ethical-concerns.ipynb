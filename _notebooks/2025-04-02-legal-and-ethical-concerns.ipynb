{
 "cells": [
  {
   "cell_type": "markdown",
   "metadata": {},
   "source": [
    "---\n",
    "layout: post\n",
    "title: Legal and Ethical Concerns\n",
    "description: Notes and Homework\n",
    "permalink: /concerns/\n",
    "---"
   ]
  },
  {
   "cell_type": "markdown",
   "metadata": {},
   "source": [
    "**Notes:**\n",
    "**Legal and Ethical Concerns**\n",
    "- Legal concerns: violating software licenses, copyright/incorrect citation of work, using code from a repo without a license\n",
    "- Ethic concerns: profitting off of someone else's work, exploitation of open source code\n",
    "- Intellectual property --> Copyright (protects rights of original creator), patents (protects inventions), trademarks (company identity), trade secrets (company secrets)\n",
    "- Licensing --> software license: legal agreement that defines how others can use, modify and share your code. Without a license, you cannot legally use your code.\n",
    "- Open source/access --> Software publically available to everyone --> Open source code encourages people to collaborate to creations \n",
    "asily be used by students in a non-constructive way. For example, people could use Chat GPT or another AI application to write their homework or assignments without taking the time to understand them themselves. When we expect AI to do everything for us, we get less out of the learning experience, like the claims say, and it takes away from the whole point of education. That being said, AI applications still carry many benefits for students, and this is just onw negative example of how it affects our learning."
   ]
  }
 ],
 "metadata": {
  "kernelspec": {
   "display_name": "myenv",
   "language": "python",
   "name": "python3"
  },
  "language_info": {
   "codemirror_mode": {
    "name": "ipython",
    "version": 3
   },
   "file_extension": ".py",
   "mimetype": "text/x-python",
   "name": "python",
   "nbconvert_exporter": "python",
   "pygments_lexer": "ipython3",
   "version": "3.12.3"
  }
 },
 "nbformat": 4,
 "nbformat_minor": 2
}
