{
 "cells": [
  {
   "cell_type": "markdown",
   "metadata": {},
   "source": [
    "---\n",
    "layout: post\n",
    "title: Safe Computing\n",
    "description: Notes and Homework\n",
    "permalink: /safe-computing/\n",
    "---"
   ]
  },
  {
   "cell_type": "markdown",
   "metadata": {},
   "source": [
    "**Notes:**\n",
    "**Safe Computing**\n",
    "- PII: information that identifies a use (eg. license plate, SS#, email, etc.)\n",
    "- Cookies track your PII, track your history on the site, and provide recommendations based on that history\n",
    "- Password Security: websites requiring more sophisticated passwords where the more characters and complexity you have the in your password, the safer you are\n",
    "- Symmetric Encryption: The same key is used for both encryption and decryption\n",
    "- Asymmetric Encription: Different keys are used in encryption and decryption\n",
    "- Hashes: Converts data into a fixed length string that cannot be reversed and stores passwords securely\n",
    "- Phishing: Cyber-attacks where scanners trick you into giving personal information\n",
    "- Website Spoofing: attackers can create fake versions of popular websites to steal login credentials (to avoid malicious links, look for HTTPS link infront of the URL)\n",
    "- Hackers also send fake text images pretending to be from banks, delivery services, or government agencies to get you to click on a malicious link (do not click on links from unknown numbers)\n",
    "- Verification: crucial aspect of safe computing, ensuring that users, systems, and software are legitimate (MFA, Digital Structures, CAPTCHA)"
   ]
  },
  {
   "cell_type": "markdown",
   "metadata": {},
   "source": [
    "**Homework Hack**"
   ]
  },
  {
   "cell_type": "code",
   "execution_count": 1,
   "metadata": {},
   "outputs": [
    {
     "name": "stdout",
     "output_type": "stream",
     "text": [
      "Result: b\n"
     ]
    }
   ],
   "source": [
    "import random\n",
    "\n",
    "def caesar_cipher(text, shift, mode):\n",
    "    result = \"\"\n",
    "    for char in text:\n",
    "        if char.isalpha():  # Encrypts only letters\n",
    "            shift_amount = shift if mode == \"encrypt\" else -shift\n",
    "            new_char = chr(((ord(char.lower()) - 97 + shift_amount) % 26) + 97)\n",
    "            result += new_char.upper() if char.isupper() else new_char\n",
    "        else:\n",
    "            result += char  # Keeps spaces and non-letter characters unchanged\n",
    "    return result\n",
    "\n",
    "# Get user input\n",
    "mode = input(\"Do you want to encrypt or decrypt? \").strip().lower()\n",
    "message = input(\"Enter your message: \")\n",
    "shift_input = input(\"Enter shift value (number of places to shift or 'random'): \").strip().lower()\n",
    "\n",
    "# Determine shift value\n",
    "if shift_input == \"random\":\n",
    "    shift = random.randint(1, 25)\n",
    "    print(f\"Random shift value selected: {shift}\")\n",
    "else:\n",
    "    shift = int(shift_input)\n",
    "\n",
    "# Perform encryption/decryption\n",
    "output = caesar_cipher(message, shift, mode)\n",
    "print(f\"Result: {output}\")\n"
   ]
  }
 ],
 "metadata": {
  "kernelspec": {
   "display_name": "myenv",
   "language": "python",
   "name": "python3"
  },
  "language_info": {
   "codemirror_mode": {
    "name": "ipython",
    "version": 3
   },
   "file_extension": ".py",
   "mimetype": "text/x-python",
   "name": "python",
   "nbconvert_exporter": "python",
   "pygments_lexer": "ipython3",
   "version": "3.12.3"
  }
 },
 "nbformat": 4,
 "nbformat_minor": 2
}
