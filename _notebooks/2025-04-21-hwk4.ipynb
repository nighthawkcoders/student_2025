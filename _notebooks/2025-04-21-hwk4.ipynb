{
 "cells": [
  {
   "cell_type": "markdown",
   "metadata": {},
   "source": [
    "---\n",
    "layout: post\n",
    "title: Big O and Algorithmic Efficiency\n",
    "description: Notes and Homework\n",
    "permalink: /big-o/\n",
    "---"
   ]
  },
  {
   "cell_type": "markdown",
   "metadata": {},
   "source": [
    "# Big O and Algorithmic Efficiency"
   ]
  },
  {
   "cell_type": "markdown",
   "metadata": {},
   "source": [
    "**Notes**\n",
    "**Big O Algorithmic Efficiency**\n",
    "- PII: information that identifies a use (eg. license plate, SS#, email, etc.)\n",
    "- Cookies track your PII, track your history on the site, and provide recommendations based on that history\n",
    "- Password Security: websites requiring more sophisticated passwords where the more characters and complexity you have the in your password, the safer you are\n",
    "- Symmetric Encryption: The same key is used for both encryption and decryption\n",
    "- Asymmetric Encription: Different keys are used in encryption and decryption\n",
    "- Hashes: Converts data into a fixed length string that cannot be reversed and stores passwords securely\n",
    "- Phishing: Cyber-attacks where scanners trick you into giving personal information\n",
    "- Website Spoofing: attackers can create fake versions of popular websites to steal login credentials (to avoid malicious links, look for HTTPS link infront of the URL)\n",
    "- Hackers also send fake text images pretending to be from banks, delivery services, or government agencies to get you to click on a malicious link (do not click on links from unknown numbers)\n",
    "- Verification: crucial aspect of safe computing, ensuring that users, systems, and software are legitimate (MFA, Digital Structures, CAPTCHA)\n"
   ]
  },
  {
   "cell_type": "markdown",
   "metadata": {},
   "source": [
    "# Popcorn Hack #1\n",
    "\n",
    "The best two ways would be number 2 and 4 because the modulus operator is the most efficient and direct way to check for evenness in constant time (O(1)). Checking the last digit is also O(1) and works well because even numbers always end in 0, 2, 4, 6, or 8."
   ]
  },
  {
   "cell_type": "markdown",
   "metadata": {},
   "source": [
    "**Popcorn Hack #2 - Even/Odd Check Challenge**\n",
    "1. Linear search has a time complexity of O(n) because it goes through each element one by one until it finds the target. This means that in the worst case, it might need to look at every single item in the list. Binary search, on the other hand, has a time complexity of O(log n). It works by dividing the list in half repeatedly, which makes it much faster for large sorted lists.\n",
    "\n",
    "2. Binary search can be hundreds of thousands of times faster than linear search in theory. For a list of 10 million elements, linear search may do up to 10 million checks, while binary search does only about 23. In practice, Python's overhead and other factors make the actual speedup closer to 500x to 1000x. Still, binary search is dramatically more efficient on large data sets.\n",
    "\n",
    "3. If you make the data size  20 million, linear search will take about twice as long to complete. This is because it still has to scan through most or all of the list. Binary search will only be slightly slower since it adds just one more step to divide the list further. The performance gap between them grows even wider as the dataset increases."
   ]
  },
  {
   "cell_type": "markdown",
   "metadata": {},
   "source": [
    "# Homework Hack #1"
   ]
  },
  {
   "cell_type": "code",
   "execution_count": 2,
   "metadata": {},
   "outputs": [
    {
     "name": "stdout",
     "output_type": "stream",
     "text": [
      "Bubble Sort time: 0.000545 seconds\n",
      "Merge Sort time: 0.000585 seconds\n",
      "Bubble Sort is faster.\n"
     ]
    }
   ],
   "source": [
    "import random\n",
    "import time\n",
    "\n",
    "# Generate 100 random numbers between 1 and 1000\n",
    "data = [random.randint(1, 1000) for _ in range(100)]\n",
    "\n",
    "# Bubble Sort (O(n^2))\n",
    "def bubble_sort(arr):\n",
    "    n = len(arr)\n",
    "    for i in range(n):\n",
    "        for j in range(0, n - i - 1):\n",
    "            if arr[j] > arr[j + 1]:\n",
    "                arr[j], arr[j + 1] = arr[j + 1], arr[j]\n",
    "    return arr\n",
    "\n",
    "# Merge Sort (O(n log n))\n",
    "def merge_sort(arr):\n",
    "    if len(arr) <= 1:\n",
    "        return arr\n",
    "\n",
    "    mid = len(arr) // 2\n",
    "    left = merge_sort(arr[:mid])\n",
    "    right = merge_sort(arr[mid:])\n",
    "\n",
    "    return merge(left, right)\n",
    "\n",
    "def merge(left, right):\n",
    "    merged = []\n",
    "    i = j = 0\n",
    "\n",
    "    while i < len(left) and j < len(right):\n",
    "        if left[i] < right[j]:\n",
    "            merged.append(left[i])\n",
    "            i += 1\n",
    "        else:\n",
    "            merged.append(right[j])\n",
    "            j += 1\n",
    "\n",
    "    merged.extend(left[i:])\n",
    "    merged.extend(right[j:])\n",
    "    return merged\n",
    "\n",
    "# Copy data so both sorts get the same input\n",
    "data_bubble = data[:]\n",
    "data_merge = data[:]\n",
    "\n",
    "# Time Bubble Sort\n",
    "start = time.time()\n",
    "bubble_sort(data_bubble)\n",
    "bubble_time = time.time() - start\n",
    "print(f\"Bubble Sort time: {bubble_time:.6f} seconds\")\n",
    "\n",
    "# Time Merge Sort\n",
    "start = time.time()\n",
    "merge_sort(data_merge)\n",
    "merge_time = time.time() - start\n",
    "print(f\"Merge Sort time: {merge_time:.6f} seconds\")\n",
    "\n",
    "# Which is faster?\n",
    "if bubble_time < merge_time:\n",
    "    print(\"Bubble Sort is faster.\")\n",
    "else:\n",
    "    print(\"Merge Sort is faster.\")\n"
   ]
  },
  {
   "cell_type": "markdown",
   "metadata": {},
   "source": [
    "**Final Question**\n",
    "Merge Sort is more efficient because it breaks the list into smaller pieces and sorts them using divide-and-conquer, which reduces the number of comparisons. Bubble Sort repeatedly swaps adjacent elements, leading to many unnecessary operations, especially in large lists. As a result, Merge Sort has a better time complexity and scales much better than Bubble Sort."
   ]
  }
 ],
 "metadata": {
  "kernelspec": {
   "display_name": "myenv",
   "language": "python",
   "name": "python3"
  },
  "language_info": {
   "codemirror_mode": {
    "name": "ipython",
    "version": 3
   },
   "file_extension": ".py",
   "mimetype": "text/x-python",
   "name": "python",
   "nbconvert_exporter": "python",
   "pygments_lexer": "ipython3",
   "version": "3.12.3"
  }
 },
 "nbformat": 4,
 "nbformat_minor": 2
}
