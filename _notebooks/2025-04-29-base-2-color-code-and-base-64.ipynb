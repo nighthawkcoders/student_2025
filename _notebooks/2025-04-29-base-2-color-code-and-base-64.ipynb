{
 "cells": [
  {
   "cell_type": "markdown",
   "id": "491a11f1",
   "metadata": {},
   "source": [
    "---\n",
    "layout: base\n",
    "title: Color Codes and Base 64\n",
    "description: Notes and Homework Hacks\n",
    "hide: true\n",
    "permalink: /base64/\n",
    "---"
   ]
  },
  {
   "cell_type": "markdown",
   "id": "51e70e62",
   "metadata": {},
   "source": [
    "## Notes\n",
    "\n",
    "- The more pixels images have the clearer the image is \n",
    "- Types of image file and formats\n",
    "    - jpeg - best for photographs\n",
    "    - png - best for graphics\n",
    "    - gif - best for animations\n",
    "- Base 64 is a way to encode binary into a text based format using 64 characters\n",
    "- We need base 64 because many systems like URLs and APIs can only handle text, not binary\n",
    "    - Base 64 allows us to turn binary form into a text format that allows the binary data to pass through these systems\n",
    "- Encoding steps:\n",
    "    - Convert characters to binary\n",
    "    - Group into 6-bit chunks\n",
    "    - Convert each 6-bit chunk to decimal\n",
    "    - Map to Base64 characters\n",
    "- We use base 64 to encode binary data into text\n",
    "- It's great for transmitting data safely over systems that only handle text."
   ]
  },
  {
   "cell_type": "markdown",
   "id": "cb0dd5a3",
   "metadata": {},
   "source": [
    "## Popcorn Hack #1\n",
    "1. Png \n",
    "2. Jpeg \n",
    "3. Gif\n",
    "\n",
    "--- \n",
    "## Popcorn Hack #2\n",
    "1. U1Q encoded as base 64 is ST \n",
    "\n",
    "## Popcorn Hack #1-3\n",
    "1. True\n",
    "2. False\n",
    "3. True"
   ]
  },
  {
   "cell_type": "markdown",
   "id": "f2d905dd",
   "metadata": {},
   "source": [
    "## Homework Hacks Link\n",
    "https://zoeqinhe.github.io/zoehe_2025/"
   ]
  }
 ],
 "metadata": {
  "kernelspec": {
   "display_name": "myenv",
   "language": "python",
   "name": "python3"
  },
  "language_info": {
   "codemirror_mode": {
    "name": "ipython",
    "version": 3
   },
   "file_extension": ".py",
   "mimetype": "text/x-python",
   "name": "python",
   "nbconvert_exporter": "python",
   "pygments_lexer": "ipython3",
   "version": "3.12.3"
  }
 },
 "nbformat": 4,
 "nbformat_minor": 5
}
