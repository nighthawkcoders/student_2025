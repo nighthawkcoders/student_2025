{
 "cells": [
  {
   "cell_type": "markdown",
   "metadata": {
    "vscode": {
     "languageId": "plaintext"
    }
   },
   "source": [
    "# Popcorn HW  Booleans\n",
    "Boolean values represent true/false conditions. By creating Boolean variables, you can store these simple \"yes or no\" states and check them as you code.\n",
    "\n",
    "In this example, you’ll create Boolean variables to represent various conditions and display them using console.log().\n",
    "\n",
    "Steps:\n",
    "Create Boolean Variables: Define some Boolean variables representing different scenarios.\n",
    "Display the Variables: Use console.log() to print out each condition along with a message.Make sure after the stament is true or false, there is a dialogue for ex: if level=rihgt, congratulations, you have complete the level and recived the holy grail\n",
    "Example Variables\n",
    "Here's an expanded list of Boolean variables representing different conditions in daily life:\n",
    "\n",
    "isQuestcomplete: Is the quest complete?\n",
    "\n",
    "completedChores: Have you completed all your quest?\n",
    "\n",
    "LevelCheck: ARe you the right level?\n",
    "\n",
    "MobCount: Did you kill the right amount of mobs?\n",
    "\n",
    "ItemCrafting: Do you have the items required to craft this?\n",
    "\n",
    "isLoggedIn: Are you logged into your account?\n",
    "\n",
    "GoldCoins: Do you have enough coins?\n",
    "isNight: Is it daylight?\n"
   ]
  }
 ],
 "metadata": {
  "kernelspec": {
   "display_name": "venv",
   "language": "python",
   "name": "python3"
  },
  "language_info": {
   "codemirror_mode": {
    "name": "ipython",
    "version": 3
   },
   "file_extension": ".py",
   "mimetype": "text/x-python",
   "name": "python",
   "nbconvert_exporter": "python",
   "pygments_lexer": "ipython3",
   "version": "3.10.12"
  }
 },
 "nbformat": 4,
 "nbformat_minor": 2
}
