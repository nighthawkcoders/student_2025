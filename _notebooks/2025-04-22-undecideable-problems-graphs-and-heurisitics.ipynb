{
 "cells": [
  {
   "cell_type": "markdown",
   "metadata": {},
   "source": [
    "---\n",
    "layout: post\n",
    "title: Undecideable Problems, Graphs, and Heuristics\n",
    "description: Notes and Homework\n",
    "permalink: /problems-graphs-heuristics/\n",
    "---"
   ]
  },
  {
   "cell_type": "markdown",
   "metadata": {},
   "source": [
    "**Notes:**\n",
    "**Undecideable Problems, Graphs, and Heuristics**\n",
    "- Decidable problem: decision problem for which an algorithm can be written to produce a correct output for all inputs\n",
    "- Undecidable problem: a problem that has no algorithm that can provide a yes or no answer\n",
    "- The halting problem: a program takes an input and will either eventually stop (halt) or run forever\n",
    "- Graphs: a fundamental data structure in computer science used to model relationships between objects.\n",
    "- Adjacency Matrix: a way of representing a graph through booleans and 0s and 1s\n",
    "- Adjacency List: An array of lists stores edges between two vertices.\n",
    "- The size of an adjacency list is equal to the number of vertices/nodes\n",
    "- Heuristic: A heuristic is an approach to a problem that produces a solution that is not guaranteed to be optimal but may be used when techniques that are guaranteed to always find an optimal solution are impractical.\n",
    "-  Nearest Neighbor Heuristic: The algorithm picks the closest unvisited location at each step. It’s fast, but not always optimal.\n",
    "- Greedy Algorithms: Takes the largest value first, but is not optimal\n",
    "- Heuristic Search Strategies:  search algorithms find solutions faster by guessing which path is best to try next.\n",
    "\n"
   ]
  },
  {
   "cell_type": "code",
   "execution_count": null,
   "metadata": {
    "vscode": {
     "languageId": "plaintext"
    }
   },
   "outputs": [],
   "source": []
  }
 ],
 "metadata": {
  "kernelspec": {
   "display_name": "myenv",
   "language": "python",
   "name": "python3"
  },
  "language_info": {
   "codemirror_mode": {
    "name": "ipython",
    "version": 3
   },
   "file_extension": ".py",
   "mimetype": "text/x-python",
   "name": "python",
   "nbconvert_exporter": "python",
   "pygments_lexer": "ipython3",
   "version": "3.12.3"
  }
 },
 "nbformat": 4,
 "nbformat_minor": 2
}
