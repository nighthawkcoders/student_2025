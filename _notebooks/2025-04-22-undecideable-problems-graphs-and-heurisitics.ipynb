{
 "cells": [
  {
   "cell_type": "markdown",
   "metadata": {},
   "source": [
    "---\n",
    "layout: post\n",
    "title: Undecideable Problems, Graphs, and Heuristics\n",
    "description: Notes and Homework\n",
    "permalink: /problems-graphs-heuristics/\n",
    "---"
   ]
  },
  {
   "cell_type": "markdown",
   "metadata": {},
   "source": [
    "**Notes:**\n",
    "**Undecideable Problems, Graphs, and Heuristics**\n",
    "- Decidable problem: decision problem for which an algorithm can be written to produce a correct output for all inputs\n",
    "- Undecidable problem: a problem that has no algorithm that can provide a yes or no answer\n",
    "- The halting problem: a program takes an input and will either eventually stop (halt) or run forever\n",
    "- Graphs: a fundamental data structure in computer science used to model relationships between objects.\n",
    "- Adjacency Matrix: a way of representing a graph through booleans and 0s and 1s\n",
    "- Adjacency List: An array of lists stores edges between two vertices.\n",
    "- The size of an adjacency list is equal to the number of vertices/nodes\n",
    "- Heuristic: A heuristic is an approach to a problem that produces a solution that is not guaranteed to be optimal but may be used when techniques that are guaranteed to always find an optimal solution are impractical.\n",
    "-  Nearest Neighbor Heuristic: The algorithm picks the closest unvisited location at each step. It’s fast, but not always optimal.\n",
    "- Greedy Algorithms: Takes the largest value first, but is not optimal\n",
    "- Heuristic Search Strategies:  search algorithms find solutions faster by guessing which path is best to try next.\n",
    "\n"
   ]
  },
  {
   "cell_type": "markdown",
   "metadata": {
    "vscode": {
     "languageId": "bat"
    }
   },
   "source": [
    " # Popcorn Hack #1 - Graphs\n",
    " ![results](../images/popcornroute.png)"
   ]
  },
  {
   "cell_type": "markdown",
   "metadata": {},
   "source": [
    "# Homework Hack #1 - Graphs\n",
    "\n",
    "1.  In which of the configurations is it possible to have redundant routing between devices Q and V?\n",
    "    - The answer would be A. Configuration I only because redundant routing means that there is more than one distinct path between two devices and devices Q and V are connected by many different paths.\n",
    "2. In configuration I, what is the minimum number of connections that must be broken or removed before device T can no longer communicate with device U?\n",
    "    - The answer would be B. 2 because to break the connection between device T and U, you could remove the connections between T and V and T and P."
   ]
  },
  {
   "cell_type": "markdown",
   "metadata": {},
   "source": [
    "# Popcorn Hack #2 - Heuristics"
   ]
  },
  {
   "cell_type": "code",
   "execution_count": null,
   "metadata": {},
   "outputs": [],
   "source": [
    "def greedy_coin_change(amount, coins=[1, 5, 10, 25]):\n",
    "    change = []\n",
    "    for coin in coins:\n",
    "        while amount >= coin:\n",
    "            amount -= coin\n",
    "            change.append(coin)\n",
    "    return change\n",
    "\n",
    "# Example usage:\n",
    "amount = 63\n",
    "result = greedy_coin_change(amount)\n",
    "print(f\"Change for {amount}¢: {result}\")\n",
    "print(f\"Total coins used: {len(result)}\")\n"
   ]
  },
  {
   "cell_type": "markdown",
   "metadata": {},
   "source": [
    "# Homework Hack #2 - Heuristics\n",
    "1. Changing the order of the coins from [25, 10, 5, 1] to [1, 5, 10, 25] made it so that the number of coins used was increasing.\n",
    "2. The original algorithm, which started with the largest coin, used fewer coins. This is because it makes larger reductions to the amount at each step, reaching the target with fewer, larger coin denominations.\n",
    "3. Greedy algorithms work well in scenarios where local optimal choices lead to a global optimal solution. For example, they’re effective when the problem has simple, clear rules and a direct path to the optimal solution (like with coin denominations that are multiples of one another). However, they can fail when the problem involves non-optimal local choices that don't add up to the best overall solution, such as in cases with unusual or non-multiple coin denominations.\n",
    "4. I changed the order of coins from largest to smallest to smallest to largest. This showed that the greedy algorithm isn't always efficient when applied in reverse, highlighting that starting with larger coins can minimize the number of coins used, while starting with smaller ones can result in a less efficient solution.\n",
    "5. **Summary:** Changing the order of coins in the greedy algorithm increased the number of coins used by starting with the smaller denominations. The original algorithm, which used larger coins first, resulted in fewer coins. Greedy algorithms work well when local choices lead to the optimal solution, but they can fail when they don’t align with the overall optimal outcome."
   ]
  }
 ],
 "metadata": {
  "kernelspec": {
   "display_name": "myenv",
   "language": "python",
   "name": "python3"
  },
  "language_info": {
   "codemirror_mode": {
    "name": "ipython",
    "version": 3
   },
   "file_extension": ".py",
   "mimetype": "text/x-python",
   "name": "python",
   "nbconvert_exporter": "python",
   "pygments_lexer": "ipython3",
   "version": "3.12.3"
  }
 },
 "nbformat": 4,
 "nbformat_minor": 2
}
