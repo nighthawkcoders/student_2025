{
 "cells": [
  {
   "cell_type": "markdown",
   "metadata": {
    "vscode": {
     "languageId": "raw"
    }
   },
   "source": [
    "---\n",
    "layout: post\n",
    "title: Running JS Notebook\n",
    "description: JS Notebook 📖\n",
    "permalink: /test/\n",
    "---"
   ]
  },
  {
   "cell_type": "code",
   "execution_count": 2,
   "metadata": {
    "vscode": {
     "languageId": "javascript"
    }
   },
   "outputs": [
    {
     "data": {
      "application/javascript": "\nvar accounting_joke_list = [\n    \"Why did the accountant cross the road? To bore the people on the other side.\",\n    \"What do accountants do when they're constipated? They work it out with a pencil.\",\n    \"Why don't accountants read novels? Because the only numbers in them are page numbers.\",\n    \"How does an accountant stay out of debt? He learns to act his wage.\",\n    \"Why did the accountant break up with the calculator? It couldn't handle his complex calculations.\",\n    \"Why did the accountant stare at his glass of orange juice for three hours? Because on the box it said 'concentrate'.\",\n    \"Why did the accountant bring a ladder to work? To reach the high interest rates.\",\n    \"Why did the accountant get promoted? Because he knew how to balance his work and play.\",\n    \"Why did the accountant go broke? Because he lost his balance.\",\n    \"Why did the accountant get a job at the bakery? Because he was good at making dough.\",\n    \"Why did the accountant get a job at the zoo? Because he was good with cheetahs.\",\n    \"Why did the accountant get a job at the bank? Because he was good at counting on it.\",\n    \"Why did the accountant get a job at the library? Because he was good at keeping books.\",\n    \"Why did the accountant get a job at the circus? Because he was good at juggling numbers.\",\n    \"Why did the accountant get a job at the restaurant? Because he was good at serving up the numbers.\",\n    \"Why did the accountant get a job at the gym? Because he was good at working out the numbers.\",\n    \"Why did the accountant get a job at the hospital? Because he was good at taking care of the accounts.\",\n    \"Why did the accountant get a job at the school? Because he was good at teaching the numbers.\",\n    \"Why did the accountant get a job at the farm? Because he was good at counting the chickens before they hatched.\"\n]\nvar randomIndex = Math.floor(Math.random() * accounting_joke_list.length);\nconsole.log(\"Joke #\" + (randomIndex + 1) + \": \" + accounting_joke_list[randomIndex]);\n",
      "text/plain": [
       "<IPython.core.display.Javascript object>"
      ]
     },
     "metadata": {},
     "output_type": "display_data"
    }
   ],
   "source": [
    "javascript\n",
    "\n",
    "var accounting_joke_list = [\n",
    "    \"Why did the accountant cross the road? To bore the people on the other side.\",\n",
    "    \"What do accountants do when they're constipated? They work it out with a pencil.\",\n",
    "    \"Why don't accountants read novels? Because the only numbers in them are page numbers.\",\n",
    "    \"How does an accountant stay out of debt? He learns to act his wage.\",\n",
    "    \"Why did the accountant break up with the calculator? It couldn't handle his complex calculations.\",\n",
    "    \"Why did the accountant stare at his glass of orange juice for three hours? Because on the box it said 'concentrate'.\",\n",
    "    \"Why did the accountant bring a ladder to work? To reach the high interest rates.\",\n",
    "    \"Why did the accountant get promoted? Because he knew how to balance his work and play.\",\n",
    "    \"Why did the accountant go broke? Because he lost his balance.\",\n",
    "    \"Why did the accountant get a job at the bakery? Because he was good at making dough.\",\n",
    "    \"Why did the accountant get a job at the zoo? Because he was good with cheetahs.\",\n",
    "    \"Why did the accountant get a job at the bank? Because he was good at counting on it.\",\n",
    "    \"Why did the accountant get a job at the library? Because he was good at keeping books.\",\n",
    "    \"Why did the accountant get a job at the circus? Because he was good at juggling numbers.\",\n",
    "    \"Why did the accountant get a job at the restaurant? Because he was good at serving up the numbers.\",\n",
    "    \"Why did the accountant get a job at the gym? Because he was good at working out the numbers.\",\n",
    "    \"Why did the accountant get a job at the hospital? Because he was good at taking care of the accounts.\",\n",
    "    \"Why did the accountant get a job at the school? Because he was good at teaching the numbers.\",\n",
    "    \"Why did the accountant get a job at the farm? Because he was good at counting the chickens before they hatched.\"\n",
    "]\n",
    "var randomIndex = Math.floor(Math.random() * accounting_joke_list.length);\n",
    "console.log(\"Joke #\" + (randomIndex + 1) + \": \" + accounting_joke_list[randomIndex]);"
   ]
  }
 ],
 "metadata": {
  "kernelspec": {
   "display_name": "venv",
   "language": "python",
   "name": "python3"
  },
  "language_info": {
   "codemirror_mode": {
    "name": "ipython",
    "version": 3
   },
   "file_extension": ".py",
   "mimetype": "text/x-python",
   "name": "python",
   "nbconvert_exporter": "python",
   "pygments_lexer": "ipython3",
   "version": "3.10.12"
  }
 },
 "nbformat": 4,
 "nbformat_minor": 2
}
