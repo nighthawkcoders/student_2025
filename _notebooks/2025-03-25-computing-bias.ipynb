{
 "cells": [
  {
   "cell_type": "markdown",
   "metadata": {},
   "source": [
    "---\n",
    "layout: post\n",
    "title: Beneficial and Harmful Effects\n",
    "description: Notes and Homework\n",
    "permalink: /computing-bias/\n",
    "---"
   ]
  },
  {
   "cell_type": "markdown",
   "metadata": {},
   "source": [
    "**Notes:**\n",
    "\n",
    "**Computing Bias**: When errors or discrimination in computer systems lead to unfair and/or inaccurate\n",
    "\n",
    "- Majority Preference Bias: recommending mostly popular content --> harder for less popular or niche content to be discovered.\n",
    "- Filtering Bias:\n",
    "filtering out content that doesn’t fit a user’s perceived interests based on limited viewing history (eg. Netflix recommendations)\n",
    "- Computing bias can happen if:\n",
    "    - Unrepresentative/incomplete data\n",
    "    - Flawed/biased data\n",
    "    - Data collection and labeling\n",
    "- Types of bias can be algorithmic, data, cognitive, etc.\n",
    "- Unintentional bias vs intentional bias\n",
    "    - An example of unintentional would be a computer facial recognizing system that can't detect black people.  \n",
    "    - An example of intentional would be if a job interviewer was intentionally racist against an African American applicant\n",
    "- Phases of mitigation are used to prevent computing bias from occuring in future applications"
   ]
  }
 ],
 "metadata": {
  "kernelspec": {
   "display_name": "myenv",
   "language": "python",
   "name": "python3"
  },
  "language_info": {
   "codemirror_mode": {
    "name": "ipython",
    "version": 3
   },
   "file_extension": ".py",
   "mimetype": "text/x-python",
   "name": "python",
   "nbconvert_exporter": "python",
   "pygments_lexer": "ipython3",
   "version": "3.12.3"
  }
 },
 "nbformat": 4,
 "nbformat_minor": 2
}
