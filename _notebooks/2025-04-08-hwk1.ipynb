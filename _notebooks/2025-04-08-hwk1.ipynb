{
 "cells": [
  {
   "cell_type": "markdown",
   "metadata": {},
   "source": [
    "---\n",
    "layout: post\n",
    "title: Homework\n",
    "description: Homework page \n",
    "permalink: /hwk5/\n",
    "---"
   ]
  },
  {
   "cell_type": "markdown",
   "metadata": {},
   "source": [
    "## 1. Create a list that includes at least five items"
   ]
  },
  {
   "cell_type": "code",
   "execution_count": 9,
   "metadata": {},
   "outputs": [],
   "source": [
    "# Import pandas for later use\n",
    "import pandas as pd\n",
    "\n",
    "# Create a list with at least five items\n",
    "sports = [\"badminton\", \"football\", \"swimming\", \"rugby\", \"tennis\"]\n",
    "\n",
    "# 1. Append - adds a new item to the end of the list\n",
    "sports.append(\"water polo\")  # Now the list is: [\"badminton\", \"football\", \"swimming\", \"rugby\", \"tennis\", \"water polo\"]\n",
    "\n",
    "# 2. Insert - adds an item at a specific index\n",
    "sports.insert(2, \"soccer\")  # Inserts at index 2: [\"badminton\", \"football\", \"swimming\", \"rugby\", \"tennis\", \"water polo\", \"soccer\"]\n",
    "\n",
    "# 3. Remove - deletes a specific item by value\n",
    "sports.remove(\"badminton\")  # Removes \"badminton\": [\"football\", \"swimming\", \"rugby\", \"tennis\", \"water polo\", \"soccer\"]\n"
   ]
  },
  {
   "cell_type": "markdown",
   "metadata": {},
   "source": [
    "## 2. List Traversal Instructions:"
   ]
  },
  {
   "cell_type": "code",
   "execution_count": 10,
   "metadata": {},
   "outputs": [
    {
     "name": "stdout",
     "output_type": "stream",
     "text": [
      "Current sport: badminton\n",
      "Current sport: football\n",
      "Current sport: swimming\n",
      "Current sport: rugby\n",
      "Current sport: tennis\n"
     ]
    }
   ],
   "source": [
    "# Sample list\n",
    "sports = [\"badminton\", \"football\", \"swimming\", \"rugby\", \"tennis\"]\n",
    "\n",
    "# Traverse the list using a for loop\n",
    "for sport in sports:\n",
    "    print(\"Current sport:\", sport)\n"
   ]
  },
  {
   "cell_type": "markdown",
   "metadata": {},
   "source": [
    "## 3. Filtering Algorithm (Use pandas - database filtering) Instructions:"
   ]
  },
  {
   "cell_type": "code",
   "execution_count": 11,
   "metadata": {},
   "outputs": [
    {
     "name": "stdout",
     "output_type": "stream",
     "text": [
      "Filtered sports that start with 'b': ['badminton', 'basketball']\n"
     ]
    }
   ],
   "source": [
    "import pandas as pd\n",
    "\n",
    "# Step 1: Start with a list\n",
    "sports = [\"badminton\", \"basketball\",\"football\", \"swimming\", \"rugby\", \"tennis\"]\n",
    "\n",
    "# Step 2: Convert the list into a pandas DataFrame\n",
    "df = pd.DataFrame(sports, columns=[\"sport\"])\n",
    "\n",
    "# Step 3: Go through each item (traversal happens using .apply())\n",
    "# Step 4: Apply condition - keep sports that start with \"b\"\n",
    "filtered_df = df[df[\"sport\"].apply(lambda x: x.startswith(\"b\"))]\n",
    "\n",
    "# Step 5: Build a new list with only the matching items\n",
    "filtered_sports = filtered_df[\"sport\"].tolist()\n",
    "\n",
    "# Output the result\n",
    "print(\"Filtered sports that start with 'b':\", filtered_sports)\n"
   ]
  },
  {
   "cell_type": "markdown",
   "metadata": {},
   "source": [
    "## 4. 2 Sentence Reflection"
   ]
  },
  {
   "cell_type": "markdown",
   "metadata": {},
   "source": [
    "- Filtering algorithms and lists are often used in our daily lives to sort through data, like pulling out emails from a specific sender or figuring out which customers meet a particular age requirement. By breaking down large amounts of information into smaller, more manageable groups, these tools help us quickly find what we need and make smarter decisions."
   ]
  }
 ],
 "metadata": {
  "kernelspec": {
   "display_name": "myenv",
   "language": "python",
   "name": "python3"
  },
  "language_info": {
   "codemirror_mode": {
    "name": "ipython",
    "version": 3
   },
   "file_extension": ".py",
   "mimetype": "text/x-python",
   "name": "python",
   "nbconvert_exporter": "python",
   "pygments_lexer": "ipython3",
   "version": "3.12.3"
  }
 },
 "nbformat": 4,
 "nbformat_minor": 2
}
