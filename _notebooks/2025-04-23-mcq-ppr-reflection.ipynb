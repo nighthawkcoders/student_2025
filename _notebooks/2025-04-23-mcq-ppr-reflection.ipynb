{
 "cells": [
  {
   "cell_type": "markdown",
   "id": "b9e8285d",
   "metadata": {},
   "source": [
    "---\n",
    "layout: base\n",
    "title: MCQ and PPR reflection \n",
    "description: Notes, Popcorn Hacks, and Homework Hacks\n",
    "hide: true\n",
    "permalink: /mcq-ppr-reflection/\n",
    "---"
   ]
  },
  {
   "cell_type": "markdown",
   "id": "b1567ad9",
   "metadata": {},
   "source": [
    "**2021 Practice Exam MCQ**\n",
    "- Score: 44/70\n",
    "![results](../images/results.png)"
   ]
  },
  {
   "cell_type": "markdown",
   "id": "4d450982",
   "metadata": {},
   "source": [
    "**Category of Big Ideas**\n",
    "| Category                | Big Ideas               |\n",
    "|------------------------|---------------------------|\n",
    "| Really Needs Improvement | 0-24.99% - 1.2: Program Function and Purpose, 1.4: Identifying and Correcting Errors, 2.2: Data Compression, 2.4: Using Programs with Data, 3.6: Conditionals, 3.9: Developing Algorithms, 3.18: Undecideable Problems  |\n",
    "| Needs Improvement        | 25-49.99% - 3.5: Boolean Expressions, 3.10: Lists, 3.12: Calling Procedures |\n",
    "| Needs Slight Improvement | 50-74.99% - 3.3: Mathematical Expressions, 3.7: Nested Conditionals, 3.8: Iteration, 3.15: Random Values, 5.1: Beneficial and Harmful Effects, 5.4: Crowdsourcing |\n",
    "| Little to No Improvement Needed    | 75-100% - 1.1: Collaboration, 2.1: Binary Numbers, 2.3: Extracting Information from Data, 2.3: Extracting Information from Data, 3.1: Variables and Assignments, 3.11: Binary Search, 3.13: Developing Procedures, 3.16: Simulations, 3.17: Algorithmic Efficiency, 4.1: The Internet, 4.2: Fault Tolerance, 4.3: Parallel and Distributed Computing, 5.2: Digital Divide, 5.3: Computing Bias, 5.5: Legal and Ethical Concerns, 5.6: Safe Computing |\n"
   ]
  },
  {
   "cell_type": "markdown",
   "id": "30f8d0be",
   "metadata": {},
   "source": [
    "**Questions of Topics I Need to Improve On**\n",
    "- Question 58: 1.2 Program Function and Purpose\n",
    "![image.png](../images/image-1.png)\n",
    "   - Explanation: The correct answer is C and not A because knowing the user's location takes priority over what routes are near their home. Logically, if the person wanted to run near them and they were not home, then the app would not be useful. To do this effectively, it needs to know where the user is are right now. Knowing routes near your home isn't helpful if you're somewhere else and want to run. Your phone's GPS provides that current location.\n",
    "- Question 14: 1.4 Identifying and Correcting Errors\n",
    "![image-2.png](../images/image-2.png)\n",
    "   - Explanation: The correct answer is C and not A because in this problem, the procedure intends to count values greater than target. The loop iterates while count is less than or equal to the list length. Inside the loop, it checks if the element at index i is greater than target and increments count if it is. The core issue is that i is incremented unconditionally, potentially going out of bounds.\n",
    "- Question 24: 2.2 Data Compression\n",
    "![image-3.png](../images/image-3.png)\n",
    "   - Explanation: The correct answer is C and not D because lossy compression sacrifices some data to achieve a smaller file size. In this case, storing music files on a smartphone to maximize the number of songs is a scenario where capacity is prioritized over perfect audio fidelity. The slight reduction in sound quality from lossy compression is often harmless on smaller devices.\n",
    "      - Understand lossy vs. lossless compression\n",
    "- Question 47: 2.4 Using Programs with Data\n",
    "![image-4.png](../images/image-4.png)\n",
    "   - Explanation: The correct answer is B and not D because here, the goal was to count restaurants with a medium price range AND an average rating of at least 4.0. B correctly uses the AND operator to ensure both conditions must be true for a restaurant to be counted.\n",
    "- Question 7: 3.6 Conditionals\n",
    "![image-5.png](../images/image-5.png)\n",
    "   - Explanation: The correct answer is C and not A because the rule for black squares is to move the game piece one position to the left. Since there are exactly four black squares in a row from the starting position to the first red square, you'll make a total of four moves to land on red and end the game. If you make four moves across the black squares before reaching the red one, the value of the counter at the end of the game will be 4."
   ]
  },
  {
   "cell_type": "markdown",
   "id": "234ee86a",
   "metadata": {},
   "source": [
    "**Summary of MCQ**\n",
    "- I noticed that a lot of the topics that I struggled on with this MCQ were topics that I struggled on with the previous practice MCQ and that I missed a lot more questions surrounding only these specific topics in the \"Really Needs Improvement\" category. It’s clear that the same handful of topics keep showing up as problem areas for me, which means I haven’t fully nailed them down yet. Since I missed even more questions in those specific categories this time around, it’s a sign that I need to take a more focused approach to mastering them instead of just doing general review. For the APCSP exam, I can improve by targeting these weak spots maybe through extra practice problems through Khan Academy, watching topic-specific videos as I have found a source on Youtube, or going over the previous tests and looking through my blogs to go over my areas of weakness . "
   ]
  }
 ],
 "metadata": {
  "language_info": {
   "name": "python"
  }
 },
 "nbformat": 4,
 "nbformat_minor": 5
}
