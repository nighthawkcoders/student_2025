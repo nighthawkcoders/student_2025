{
 "cells": [
  {
   "cell_type": "code",
   "execution_count": null,
   "metadata": {},
   "outputs": [],
   "source": [
    "---\n",
    "toc: true\n",
    "comments: false\n",
    "layout: post\n",
    "title: BI 4.1 Internet - Web Server \n",
    "description: Quick launch into Flask, sending and receiving data from a web server.\n",
    "courses: { csp: {week: 14 } }\n",
    "type: ccc\n",
    "---"
   ]
  },
  {
   "cell_type": "markdown",
   "metadata": {},
   "source": [
    "## Introduction\n",
    "\n",
    "Welcome to this journey into the world of web servers and the Flask framework! In the previous weeks, you've successfully set up a web server using GitHub Pages, converting Jupyter Notebooks into Markdown for a seamless online presentation. Today, we'll take that knowledge to the next level as we dive into creating your very own web server using Flask.\n",
    "\n",
    "### Understanding Web Servers\n",
    "What is a Web Server?\n",
    "\n",
    "Traditionally, we had librarians at libraries that would help you find books or information. Today in the digital world, thousands upon thousands of home pages, search engines, and digital archives have been built using web servers.\n",
    "\n",
    "### GitHub Pages vs. Flask\n",
    "\n",
    "You've already experienced a form of web server through GitHub Pages. Think of GitHub Pages as a library that has established rules for publishing Markdown notes and Jupyter Notebooks neatly on a bookshelf.\n",
    "\n",
    "Now, let's introduce Flask, your personal web server. Flask can create and manage any type of content, including customizing everything according to your preferences, and even serve additional information (like a database with APIs).\n",
    "\n",
    "The Flask Framework\n",
    "Flask is a micro web framework written in Python. It's designed to be minimal and easy to use, making it perfect for building web applications, APIs, and, yes, even your web server. Today, we will start with the basics of Flask and see how it empowers you to create and manage web content."
   ]
  },
  {
   "attachments": {},
   "cell_type": "markdown",
   "metadata": {},
   "source": [
    "##  Our Goals for Today\n",
    "Here's what we'll accomplish in this session:\n",
    "\n",
    "- Create a minimal Flask server.\n",
    "- Explore the Python/Flask process.\n",
    "- Access data from our Flask server using Python.\n",
    "- Access data from our Flask server using JavaScript.\n",
    "- Learn how to stop the Python/Flask process gracefully.\n",
    "\n"
   ]
  },
  {
   "cell_type": "markdown",
   "metadata": {},
   "source": [
    "### Install required libraries\n",
    "These libraries are required to run and interact with the Python web server."
   ]
  },
  {
   "cell_type": "code",
   "execution_count": 1,
   "metadata": {},
   "outputs": [
    {
     "name": "stdout",
     "output_type": "stream",
     "text": [
      "Collecting flask\n",
      "  Using cached flask-3.1.0-py3-none-any.whl (102 kB)\n",
      "Collecting flask-cors\n",
      "  Using cached Flask_Cors-5.0.0-py2.py3-none-any.whl (14 kB)\n",
      "Requirement already satisfied: requests in /home/yashpatil/nighthawk/yash1_2025/venv/lib/python3.10/site-packages (2.32.3)\n",
      "Collecting blinker>=1.9\n",
      "  Using cached blinker-1.9.0-py3-none-any.whl (8.5 kB)\n",
      "Requirement already satisfied: Jinja2>=3.1.2 in /home/yashpatil/nighthawk/yash1_2025/venv/lib/python3.10/site-packages (from flask) (3.1.4)\n",
      "Collecting Werkzeug>=3.1\n",
      "  Using cached werkzeug-3.1.3-py3-none-any.whl (224 kB)\n",
      "Collecting itsdangerous>=2.2\n",
      "  Using cached itsdangerous-2.2.0-py3-none-any.whl (16 kB)\n",
      "Collecting click>=8.1.3\n",
      "  Using cached click-8.1.7-py3-none-any.whl (97 kB)\n",
      "Requirement already satisfied: certifi>=2017.4.17 in /home/yashpatil/nighthawk/yash1_2025/venv/lib/python3.10/site-packages (from requests) (2024.8.30)\n",
      "Requirement already satisfied: charset-normalizer<4,>=2 in /home/yashpatil/nighthawk/yash1_2025/venv/lib/python3.10/site-packages (from requests) (3.4.0)\n",
      "Requirement already satisfied: urllib3<3,>=1.21.1 in /home/yashpatil/nighthawk/yash1_2025/venv/lib/python3.10/site-packages (from requests) (2.2.3)\n",
      "Requirement already satisfied: idna<4,>=2.5 in /home/yashpatil/nighthawk/yash1_2025/venv/lib/python3.10/site-packages (from requests) (3.10)\n",
      "Requirement already satisfied: MarkupSafe>=2.0 in /home/yashpatil/nighthawk/yash1_2025/venv/lib/python3.10/site-packages (from Jinja2>=3.1.2->flask) (3.0.2)\n",
      "Installing collected packages: Werkzeug, itsdangerous, click, blinker, flask, flask-cors\n",
      "Successfully installed Werkzeug-3.1.3 blinker-1.9.0 click-8.1.7 flask-3.1.0 flask-cors-5.0.0 itsdangerous-2.2.0\n"
     ]
    }
   ],
   "source": [
    "!pip install flask flask-cors requests"
   ]
  },
  {
   "cell_type": "markdown",
   "metadata": {},
   "source": [
    "### Start Web Server\n",
    "This Python code provides a simple server with an accessible API.\n",
    "\n",
    "Note: Jupyter magic commmand `%%python --bg` that follows runs the server in background.  This enables us to continue interacting with the subsequent Notebook cells."
   ]
  },
  {
   "cell_type": "code",
   "execution_count": 2,
   "metadata": {},
   "outputs": [],
   "source": [
    "%%python --bg\n",
    "\n",
    "from flask import Flask, jsonify\n",
    "from flask_cors import CORS\n",
    "\n",
    "# initialize a flask application (app)\n",
    "app = Flask(__name__)\n",
    "CORS(app, supports_credentials=True, origins='*')  # Allow all origins (*)\n",
    "\n",
    "# ... your existing Flask\n",
    "\n",
    "# add an api endpoint to flask app\n",
    "@app.route('/api/data')\n",
    "def get_data():\n",
    "    # start a list, to be used like a information database\n",
    "    InfoDb = []\n",
    "\n",
    "    # add a row to list, an Info record\n",
    "    InfoDb.append({\n",
    "        \"FirstName\": \"John\",\n",
    "        \"LastName\": \"Mortensen\",\n",
    "        \"DOB\": \"October 21\",\n",
    "        \"Residence\": \"San Diego\",\n",
    "        \"Email\": \"jmortensen@powayusd.com\",\n",
    "        \"Owns_Cars\": [\"2015-Fusion\", \"2011-Ranger\", \"2003-Excursion\", \"1997-F350\", \"1969-Cadillac\"]\n",
    "    })\n",
    "\n",
    "    # add a row to list, an Info record\n",
    "    InfoDb.append({\n",
    "        \"FirstName\": \"Shane\",\n",
    "        \"LastName\": \"Lopez\",\n",
    "        \"DOB\": \"February 27\",\n",
    "        \"Residence\": \"San Diego\",\n",
    "        \"Email\": \"slopez@powayusd.com\",\n",
    "        \"Owns_Cars\": [\"2021-Insight\"]\n",
    "    })\n",
    "    \n",
    "    return jsonify(InfoDb)\n",
    "\n",
    "# add an HTML endpoint to flask app\n",
    "@app.route('/')\n",
    "def say_hello():\n",
    "    html_content = \"\"\"\n",
    "    <html>\n",
    "    <head>\n",
    "        <title>Hellox</title>\n",
    "    </head>\n",
    "    <body>\n",
    "        <h2>Hello, World!</h2>\n",
    "    </body>\n",
    "    </html>\n",
    "    \"\"\"\n",
    "    return html_content\n",
    "\n",
    "if __name__ == '__main__':\n",
    "    # starts flask server on default port, http://127.0.0.1:5001\n",
    "    app.run(port=5001)"
   ]
  },
  {
   "cell_type": "markdown",
   "metadata": {},
   "source": [
    "### Explore the Python/Flask process with Linux\n",
    "This script discovers the running flask process on your machine using Linux commands.\n",
    "\n",
    "1. lsof - list open files\n",
    "2. `lsof` and `awk` return the process id, so `ps` can list details, the vericle bar is called a `pipe`.  A pipe flows output from one command to the next.\n",
    "3. `curl` is a Linux utiltity that is easiest way to test if web server is responding"
   ]
  },
  {
   "cell_type": "code",
   "execution_count": 3,
   "metadata": {
    "vscode": {
     "languageId": "bat"
    }
   },
   "outputs": [
    {
     "name": "stdout",
     "output_type": "stream",
     "text": [
      "Python open files on port 5001\n",
      "COMMAND    PID      USER   FD   TYPE  DEVICE SIZE/OFF NODE NAME\n",
      "python  379334 yashpatil    3u  IPv4 3552022      0t0  TCP localhost:5001 (LISTEN)\n",
      "\n",
      "Python process\n"
     ]
    },
    {
     "name": "stderr",
     "output_type": "stream",
     "text": [
      "your 131072x1 screen size is bogus. expect trouble\n"
     ]
    },
    {
     "name": "stdout",
     "output_type": "stream",
     "text": [
      "    PID TTY          TIME CMD\n",
      " 320005 pts/2    00:00:00 sh\n",
      " 320006 pts/2    00:00:00 sh\n",
      " 320011 pts/2    00:00:00 sh\n",
      " 320015 pts/2    00:00:42 node\n",
      " 320053 pts/2    00:00:02 node\n",
      " 320076 pts/2    00:02:06 node\n",
      " 320116 pts/2    00:00:13 node\n",
      " 320168 pts/2    00:00:00 pet\n",
      " 320445 pts/2    00:00:00 node\n",
      " 320568 pts/2    00:00:16 node\n",
      " 374664 pts/2    00:00:17 node\n",
      " 374715 pts/2    00:00:00 node\n",
      " 374727 pts/2    00:00:02 node\n",
      " 374788 pts/2    00:00:02 pet\n",
      " 375142 pts/2    00:00:21 node\n",
      " 379101 pts/2    00:00:00 python\n",
      " 379334 pts/2    00:00:00 python\n",
      " 379336 pts/2    00:00:00 bash\n",
      " 379342 pts/2    00:00:00 xargs\n",
      " 379343 pts/2    00:00:00 ps\n",
      "\n",
      "Content of the Python root endpoint (aka /), using curl,\n"
     ]
    },
    {
     "name": "stderr",
     "output_type": "stream",
     "text": [
      "  % Total    % Received % Xferd  Average Speed   Time    Time     Time  Current\n",
      "                                 Dload  Upload   Total   Spent    Left  Speed\n",
      "100   135  100   135    0     0  34597      0 --:--:-- --:--:-- --:--:-- 45000\n"
     ]
    },
    {
     "name": "stdout",
     "output_type": "stream",
     "text": [
      "\n",
      "    <html>\n",
      "    <head>\n",
      "        <title>Hellox</title>\n",
      "    </head>\n",
      "    <body>\n",
      "        <h2>Hello, World!</h2>\n",
      "    </body>\n",
      "    </html>\n",
      "    "
     ]
    }
   ],
   "source": [
    "%%script bash\n",
    "\n",
    "# After app.run(), see the the Python open files on port 5001\n",
    "echo \"Python open files on port 5001\" \n",
    "lsof -i :5001\n",
    "# see the the Python process \n",
    "echo\n",
    "echo \"Python process\"\n",
    "lsof -i :5001 | awk '/Python/ {print $2}' | xargs ps\n",
    "# show ontent of the Python server using curl\n",
    "echo\n",
    "echo \"Content of the Python root endpoint (aka /), using curl\",  \n",
    "curl http://localhost:5001/\n",
    "\n"
   ]
  },
  {
   "cell_type": "markdown",
   "metadata": {},
   "source": [
    "### Access data from our Flask server using Python\n",
    "The code block below shows alternate ways to access the Web Server.\n",
    "1. Import requests and use it to obtain response from endpoints\n",
    "2. The response is a Python object that contains status codes and data\n",
    "3. The data can be in different forms, we will be focussed on JSON responses in Full-Stack."
   ]
  },
  {
   "cell_type": "code",
   "execution_count": 4,
   "metadata": {},
   "outputs": [
    {
     "name": "stdout",
     "output_type": "stream",
     "text": [
      "Print Status Message: <Response [200]>\n",
      "\n",
      "Print Raw HTML:\n",
      " \n",
      "    <html>\n",
      "    <head>\n",
      "        <title>Hellox</title>\n",
      "    </head>\n",
      "    <body>\n",
      "        <h2>Hello, World!</h2>\n",
      "    </body>\n",
      "    </html>\n",
      "    \n"
     ]
    },
    {
     "data": {
      "text/html": [
       "\n",
       "    <html>\n",
       "    <head>\n",
       "        <title>Hellox</title>\n",
       "    </head>\n",
       "    <body>\n",
       "        <h2>Hello, World!</h2>\n",
       "    </body>\n",
       "    </html>\n",
       "    "
      ],
      "text/plain": [
       "<IPython.core.display.HTML object>"
      ]
     },
     "metadata": {},
     "output_type": "display_data"
    },
    {
     "name": "stdout",
     "output_type": "stream",
     "text": [
      "Print Status Message: <Response [404]>\n"
     ]
    }
   ],
   "source": [
    "import requests\n",
    "from IPython.display import HTML, display\n",
    "\n",
    "# call api root endpoint (aka '/'), often called home page\n",
    "response = requests.get('http://127.0.0.1:5001/')\n",
    "# output response in different forms\n",
    "print(\"Print Status Message:\", response)\n",
    "print(\"\\nPrint Raw HTML:\\n\", response.text)\n",
    "display(HTML(response.text))\n",
    "\n",
    "# call unknown api endpoint\n",
    "response = requests.get('http://127.0.0.1:5001/unknown-page')\n",
    "print(\"Print Status Message:\", response)"
   ]
  },
  {
   "cell_type": "code",
   "execution_count": 5,
   "metadata": {},
   "outputs": [
    {
     "data": {
      "text/plain": [
       "[{'DOB': 'October 21',\n",
       "  'Email': 'jmortensen@powayusd.com',\n",
       "  'FirstName': 'John',\n",
       "  'LastName': 'Mortensen',\n",
       "  'Owns_Cars': ['2015-Fusion',\n",
       "   '2011-Ranger',\n",
       "   '2003-Excursion',\n",
       "   '1997-F350',\n",
       "   '1969-Cadillac'],\n",
       "  'Residence': 'San Diego'},\n",
       " {'DOB': 'February 27',\n",
       "  'Email': 'slopez@powayusd.com',\n",
       "  'FirstName': 'Shane',\n",
       "  'LastName': 'Lopez',\n",
       "  'Owns_Cars': ['2021-Insight'],\n",
       "  'Residence': 'San Diego'}]"
      ]
     },
     "execution_count": 5,
     "metadata": {},
     "output_type": "execute_result"
    }
   ],
   "source": [
    "import requests\n",
    "# an api endpoint most commonly returns JSON data\n",
    "response = requests.get('http://127.0.0.1:5001/api/data')\n",
    "response.json()"
   ]
  },
  {
   "cell_type": "markdown",
   "metadata": {},
   "source": [
    "### Access data from our Flask server using JavaScript\n",
    "This sample is very similar to Full-Stack as the JavaScript is running through Jupyter and the Web server is a Python Process running on our machine (local server).\n",
    "\n",
    "1. HTML is used to setup basics of a table\n",
    "2. The script block, has javascript fetch that passes endpoint (url) and options.  The options are critical to communicating request requirements.\n",
    "3. Similar to python examples, data is extracted and that data is written to the document, which is what is viewable to the user as the page is rendered.  Headings are static in the document, but rows are dynamically extracted according to the information contained in the server."
   ]
  },
  {
   "cell_type": "code",
   "execution_count": 6,
   "metadata": {
    "vscode": {
     "languageId": "html"
    }
   },
   "outputs": [
    {
     "data": {
      "text/html": [
       "\n",
       "<h1>Access data from our Flask server using JavaScript</h1>\n",
       "\n",
       "<p>This code extracts data \"live\" from a local Web Server with JavaScript fetch.  Additionally, it formats the data into a table.</p>\n",
       "\n",
       "<!-- Head contains information to Support the Document -->\n",
       "\n",
       "\n",
       "<!-- HTML table fragment for page -->\n",
       "<table id=\"demo\" class=\"table\">\n",
       "  <thead>\n",
       "      <tr>\n",
       "          <th>First Name</th>\n",
       "          <th>Last Name</th>\n",
       "          <th>Residence</th>\n",
       "      </tr>\n",
       "  </thead>\n",
       "  <tbody id=\"result\">\n",
       "    <!-- javascript generated data -->\n",
       "  </tbody>\n",
       "</table>\n",
       "\n",
       "<script>\n",
       "  // prepare HTML result container for new output\n",
       "  let resultContainer = document.getElementById(\"result\");\n",
       "  \n",
       "  // prepare URL\n",
       "  url = \"http://127.0.0.1:5001/api/data\";\n",
       "\n",
       "  // set options for cross origin header request\n",
       "  let options = {\n",
       "    method: 'GET', // *GET, POST, PUT, DELETE, etc.\n",
       "    mode: 'cors', // no-cors, *cors, same-origin\n",
       "    cache: 'default', // *default, no-cache, reload, force-cache, only-if-cached\n",
       "    credentials: 'include', // include, *same-origin, omit\n",
       "    headers: {\n",
       "      'Content-Type': 'application/json',\n",
       "    },\n",
       "  };\n",
       "\n",
       "  // fetch the API\n",
       "  fetch(url, options)\n",
       "    // response is a RESTful \"promise\" on any successful fetch\n",
       "    .then(response => {\n",
       "      // check for response errors and display\n",
       "      if (response.status !== 200) {\n",
       "          console.error(response.status);\n",
       "          return;\n",
       "      }\n",
       "      // valid response will contain json data\n",
       "      response.json().then(data => {\n",
       "          console.log(data);\n",
       "          for (const row of data) {\n",
       "            // tr and td build out for each row\n",
       "            const tr = document.createElement(\"tr\");\n",
       "            const firstname = document.createElement(\"td\");\n",
       "            const lastname = document.createElement(\"td\");\n",
       "            const residence = document.createElement(\"td\");\n",
       "            // data is specific to the API\n",
       "            firstname.innerHTML = row.FirstName; \n",
       "            lastname.innerHTML = row.LastName; \n",
       "            residence.innerHTML = row.Residence; \n",
       "            // this builds each td into tr\n",
       "            tr.appendChild(firstname);\n",
       "            tr.appendChild(lastname);\n",
       "            tr.appendChild(residence);\n",
       "            // add HTML to container\n",
       "            resultContainer.appendChild(tr);\n",
       "          }\n",
       "      })\n",
       "  })\n",
       "  \n",
       "</script>\n",
       "\n"
      ],
      "text/plain": [
       "<IPython.core.display.HTML object>"
      ]
     },
     "metadata": {},
     "output_type": "display_data"
    }
   ],
   "source": [
    "%%html\n",
    "\n",
    "<h1>Access data from our Flask server using JavaScript</h1>\n",
    "\n",
    "<p>This code extracts data \"live\" from a local Web Server with JavaScript fetch.  Additionally, it formats the data into a table.</p>\n",
    "\n",
    "<!-- Head contains information to Support the Document -->\n",
    "\n",
    "\n",
    "<!-- HTML table fragment for page -->\n",
    "<table id=\"demo\" class=\"table\">\n",
    "  <thead>\n",
    "      <tr>\n",
    "          <th>First Name</th>\n",
    "          <th>Last Name</th>\n",
    "          <th>Residence</th>\n",
    "      </tr>\n",
    "  </thead>\n",
    "  <tbody id=\"result\">\n",
    "    <!-- javascript generated data -->\n",
    "  </tbody>\n",
    "</table>\n",
    "\n",
    "<script>\n",
    "  // prepare HTML result container for new output\n",
    "  let resultContainer = document.getElementById(\"result\");\n",
    "  \n",
    "  // prepare URL\n",
    "  url = \"http://127.0.0.1:5001/api/data\";\n",
    "\n",
    "  // set options for cross origin header request\n",
    "  let options = {\n",
    "    method: 'GET', // *GET, POST, PUT, DELETE, etc.\n",
    "    mode: 'cors', // no-cors, *cors, same-origin\n",
    "    cache: 'default', // *default, no-cache, reload, force-cache, only-if-cached\n",
    "    credentials: 'include', // include, *same-origin, omit\n",
    "    headers: {\n",
    "      'Content-Type': 'application/json',\n",
    "    },\n",
    "  };\n",
    "\n",
    "  // fetch the API\n",
    "  fetch(url, options)\n",
    "    // response is a RESTful \"promise\" on any successful fetch\n",
    "    .then(response => {\n",
    "      // check for response errors and display\n",
    "      if (response.status !== 200) {\n",
    "          console.error(response.status);\n",
    "          return;\n",
    "      }\n",
    "      // valid response will contain json data\n",
    "      response.json().then(data => {\n",
    "          console.log(data);\n",
    "          for (const row of data) {\n",
    "            // tr and td build out for each row\n",
    "            const tr = document.createElement(\"tr\");\n",
    "            const firstname = document.createElement(\"td\");\n",
    "            const lastname = document.createElement(\"td\");\n",
    "            const residence = document.createElement(\"td\");\n",
    "            // data is specific to the API\n",
    "            firstname.innerHTML = row.FirstName; \n",
    "            lastname.innerHTML = row.LastName; \n",
    "            residence.innerHTML = row.Residence; \n",
    "            // this builds each td into tr\n",
    "            tr.appendChild(firstname);\n",
    "            tr.appendChild(lastname);\n",
    "            tr.appendChild(residence);\n",
    "            // add HTML to container\n",
    "            resultContainer.appendChild(tr);\n",
    "          }\n",
    "      })\n",
    "  })\n",
    "  \n",
    "</script>\n",
    "\n"
   ]
  },
  {
   "cell_type": "markdown",
   "metadata": {},
   "source": [
    "### Stop the Python/Flask process\n",
    "This script ends Python/Flask process using pipes to obtain the python process.  Then echo the python process to `kill -9`.  "
   ]
  },
  {
   "cell_type": "code",
   "execution_count": 1,
   "metadata": {
    "vscode": {
     "languageId": "bat"
    }
   },
   "outputs": [
    {
     "name": "stdout",
     "output_type": "stream",
     "text": [
      "Killing python process with PID: \n"
     ]
    },
    {
     "name": "stderr",
     "output_type": "stream",
     "text": [
      "\n",
      "Usage:\n",
      " kill [options] <pid> [...]\n",
      "\n",
      "Options:\n",
      " <pid> [...]            send signal to every <pid> listed\n",
      " -<signal>, -s, --signal <signal>\n",
      "                        specify the <signal> to be sent\n",
      " -q, --queue <value>    integer value to be sent with the signal\n",
      " -l, --list=[<signal>]  list all signal names, or convert one to a name\n",
      " -L, --table            list all signal names in a nice table\n",
      "\n",
      " -h, --help     display this help and exit\n",
      " -V, --version  output version information and exit\n",
      "\n",
      "For more details see kill(1).\n"
     ]
    },
    {
     "ename": "CalledProcessError",
     "evalue": "Command 'b'\\npython_ps=$(lsof -i :5001 | awk \\'/python/ {print $2}\\')\\necho \"Killing python process with PID: $python_ps\"\\necho $python_ps | xargs kill -9\\n'' returned non-zero exit status 123.",
     "output_type": "error",
     "traceback": [
      "\u001b[0;31m---------------------------------------------------------------------------\u001b[0m",
      "\u001b[0;31mCalledProcessError\u001b[0m                        Traceback (most recent call last)",
      "Cell \u001b[0;32mIn[1], line 1\u001b[0m\n\u001b[0;32m----> 1\u001b[0m \u001b[43mget_ipython\u001b[49m\u001b[43m(\u001b[49m\u001b[43m)\u001b[49m\u001b[38;5;241;43m.\u001b[39;49m\u001b[43mrun_cell_magic\u001b[49m\u001b[43m(\u001b[49m\u001b[38;5;124;43m'\u001b[39;49m\u001b[38;5;124;43mscript\u001b[39;49m\u001b[38;5;124;43m'\u001b[39;49m\u001b[43m,\u001b[49m\u001b[43m \u001b[49m\u001b[38;5;124;43m'\u001b[39;49m\u001b[38;5;124;43mbash\u001b[39;49m\u001b[38;5;124;43m'\u001b[39;49m\u001b[43m,\u001b[49m\u001b[43m \u001b[49m\u001b[38;5;124;43m'\u001b[39;49m\u001b[38;5;130;43;01m\\n\u001b[39;49;00m\u001b[38;5;124;43mpython_ps=$(lsof -i :5001 | awk \u001b[39;49m\u001b[38;5;130;43;01m\\'\u001b[39;49;00m\u001b[38;5;124;43m/python/ \u001b[39;49m\u001b[38;5;124;43m{\u001b[39;49m\u001b[38;5;124;43mprint $2}\u001b[39;49m\u001b[38;5;130;43;01m\\'\u001b[39;49;00m\u001b[38;5;124;43m)\u001b[39;49m\u001b[38;5;130;43;01m\\n\u001b[39;49;00m\u001b[38;5;124;43mecho \u001b[39;49m\u001b[38;5;124;43m\"\u001b[39;49m\u001b[38;5;124;43mKilling python process with PID: $python_ps\u001b[39;49m\u001b[38;5;124;43m\"\u001b[39;49m\u001b[38;5;130;43;01m\\n\u001b[39;49;00m\u001b[38;5;124;43mecho $python_ps | xargs kill -9\u001b[39;49m\u001b[38;5;130;43;01m\\n\u001b[39;49;00m\u001b[38;5;124;43m'\u001b[39;49m\u001b[43m)\u001b[49m\n",
      "File \u001b[0;32m~/.local/lib/python3.10/site-packages/IPython/core/interactiveshell.py:2541\u001b[0m, in \u001b[0;36mInteractiveShell.run_cell_magic\u001b[0;34m(self, magic_name, line, cell)\u001b[0m\n\u001b[1;32m   2539\u001b[0m \u001b[38;5;28;01mwith\u001b[39;00m \u001b[38;5;28mself\u001b[39m\u001b[38;5;241m.\u001b[39mbuiltin_trap:\n\u001b[1;32m   2540\u001b[0m     args \u001b[38;5;241m=\u001b[39m (magic_arg_s, cell)\n\u001b[0;32m-> 2541\u001b[0m     result \u001b[38;5;241m=\u001b[39m \u001b[43mfn\u001b[49m\u001b[43m(\u001b[49m\u001b[38;5;241;43m*\u001b[39;49m\u001b[43margs\u001b[49m\u001b[43m,\u001b[49m\u001b[43m \u001b[49m\u001b[38;5;241;43m*\u001b[39;49m\u001b[38;5;241;43m*\u001b[39;49m\u001b[43mkwargs\u001b[49m\u001b[43m)\u001b[49m\n\u001b[1;32m   2543\u001b[0m \u001b[38;5;66;03m# The code below prevents the output from being displayed\u001b[39;00m\n\u001b[1;32m   2544\u001b[0m \u001b[38;5;66;03m# when using magics with decorator @output_can_be_silenced\u001b[39;00m\n\u001b[1;32m   2545\u001b[0m \u001b[38;5;66;03m# when the last Python token in the expression is a ';'.\u001b[39;00m\n\u001b[1;32m   2546\u001b[0m \u001b[38;5;28;01mif\u001b[39;00m \u001b[38;5;28mgetattr\u001b[39m(fn, magic\u001b[38;5;241m.\u001b[39mMAGIC_OUTPUT_CAN_BE_SILENCED, \u001b[38;5;28;01mFalse\u001b[39;00m):\n",
      "File \u001b[0;32m~/.local/lib/python3.10/site-packages/IPython/core/magics/script.py:315\u001b[0m, in \u001b[0;36mScriptMagics.shebang\u001b[0;34m(self, line, cell)\u001b[0m\n\u001b[1;32m    310\u001b[0m \u001b[38;5;28;01mif\u001b[39;00m args\u001b[38;5;241m.\u001b[39mraise_error \u001b[38;5;129;01mand\u001b[39;00m p\u001b[38;5;241m.\u001b[39mreturncode \u001b[38;5;241m!=\u001b[39m \u001b[38;5;241m0\u001b[39m:\n\u001b[1;32m    311\u001b[0m     \u001b[38;5;66;03m# If we get here and p.returncode is still None, we must have\u001b[39;00m\n\u001b[1;32m    312\u001b[0m     \u001b[38;5;66;03m# killed it but not yet seen its return code. We don't wait for it,\u001b[39;00m\n\u001b[1;32m    313\u001b[0m     \u001b[38;5;66;03m# in case it's stuck in uninterruptible sleep. -9 = SIGKILL\u001b[39;00m\n\u001b[1;32m    314\u001b[0m     rc \u001b[38;5;241m=\u001b[39m p\u001b[38;5;241m.\u001b[39mreturncode \u001b[38;5;129;01mor\u001b[39;00m \u001b[38;5;241m-\u001b[39m\u001b[38;5;241m9\u001b[39m\n\u001b[0;32m--> 315\u001b[0m     \u001b[38;5;28;01mraise\u001b[39;00m CalledProcessError(rc, cell)\n",
      "\u001b[0;31mCalledProcessError\u001b[0m: Command 'b'\\npython_ps=$(lsof -i :5001 | awk \\'/python/ {print $2}\\')\\necho \"Killing python process with PID: $python_ps\"\\necho $python_ps | xargs kill -9\\n'' returned non-zero exit status 123."
     ]
    }
   ],
   "source": [
    "%%script bash\n",
    "\n",
    "python_ps=$(lsof -i :5001 | awk '/python/ {print $2}')\n",
    "echo \"Killing python process with PID: $python_ps\"\n",
    "echo $python_ps | xargs kill -9"
   ]
  },
  {
   "cell_type": "markdown",
   "metadata": {},
   "source": [
    "## Hacks\n",
    "Edit, stop and start the web server.\n",
    "- Add to the Home Page\n",
    "- Add your own information to the Web API\n",
    "- Use from Template to start your own Team Flask project https://github.com/nighthawkcoders/flocker_backend"
   ]
  }
 ],
 "metadata": {
  "kernelspec": {
   "display_name": "Python 3",
   "language": "python",
   "name": "python3"
  },
  "language_info": {
   "codemirror_mode": {
    "name": "ipython",
    "version": 3
   },
   "file_extension": ".py",
   "mimetype": "text/x-python",
   "name": "python",
   "nbconvert_exporter": "python",
   "pygments_lexer": "ipython3",
   "version": "3.10.12"
  },
  "orig_nbformat": 4
 },
 "nbformat": 4,
 "nbformat_minor": 2
}
