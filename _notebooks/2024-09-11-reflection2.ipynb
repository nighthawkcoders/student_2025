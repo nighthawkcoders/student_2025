{
 "cells": [
  {
   "cell_type": "markdown",
   "metadata": {},
   "source": [
    "---\n",
    "layout: post\n",
    "title: Sprint 2 Reflection\n",
    "description: Reflection page \n",
    "permalink: /reflection2/\n",
    "---"
   ]
  },
  {
   "cell_type": "code",
   "execution_count": 10,
   "metadata": {},
   "outputs": [
    {
     "name": "stdout",
     "output_type": "stream",
     "text": [
      "On Sprint 2, the main thing that our group and I personally struggled with was properly collaborating \n",
      " and communicating with each other. Though we all technically finished all of our lesssons, We had a lot \n",
      " of trouble getting everyone to coordinate pushing and pulling commits. When we did eventually figure it \n",
      " out, we were met with merge conflicts and repeatedly struggled with getting closed pull requests. Another \n",
      "  thing that we didn't think about was having a different and unique style in our pages. It wasn't until \n",
      " towards the end where we tried and failed to make the background of the pages different colors. However, \n",
      " thanks to another student from a different group, the style of our period's lesson was changed to be more \n",
      " unique. From this Sprint, I learned more about the functions and differences between conditionals and nested \n",
      " conditionals and what 'else', 'if' , and 'elif' statements meant. More generally, I learned how to collaborate \n",
      " with multiple people when working on the same project both in coding and just communicating with others.\n"
     ]
    }
   ],
   "source": [
    "print(\"On Sprint 2, the main thing that our group and I personally struggled with was properly collaborating \\n and communicating with each other. Though we all technically finished all of our lesssons, We had a lot \\n of trouble getting everyone to coordinate pushing and pulling commits. When we did eventually figure it \\n out, we were met with merge conflicts and repeatedly struggled with getting closed pull requests. Another \\n  thing that we didn't think about was having a different and unique style in our pages. It wasn't until \\n towards the end where we tried and failed to make the background of the pages different colors. However, \\n thanks to another student from a different group, the style of our period's lesson was changed to be more \\n unique. From this Sprint, I learned more about the functions and differences between conditionals and nested \\n conditionals and what 'else', 'if' , and 'elif' statements meant. More generally, I learned how to collaborate \\n with multiple people when working on the same project both in coding and just communicating with others.\")"
   ]
  }
 ],
 "metadata": {
  "kernelspec": {
   "display_name": "myenv",
   "language": "python",
   "name": "python3"
  },
  "language_info": {
   "codemirror_mode": {
    "name": "ipython",
    "version": 3
   },
   "file_extension": ".py",
   "mimetype": "text/x-python",
   "name": "python",
   "nbconvert_exporter": "python",
   "pygments_lexer": "ipython3",
   "version": "3.12.3"
  }
 },
 "nbformat": 4,
 "nbformat_minor": 2
}
