{
 "cells": [
  {
   "cell_type": "markdown",
   "metadata": {},
   "source": [
    "---\n",
    "layout: post\n",
    "title: Frontend\n",
    "description:  Frontend Development 📖\n",
    "permalink: /frontend/\n",
    "---"
   ]
  },
  {
   "cell_type": "markdown",
   "metadata": {},
   "source": [
    "%%markdown\n",
    "\n",
    "### Markdown: This is a Heading\n",
    "\n",
    "Hi! This is another Jupyter Notebook cell. "
   ]
  },
  {
   "cell_type": "code",
   "execution_count": 1,
   "metadata": {
    "vscode": {
     "languageId": "html"
    }
   },
   "outputs": [
    {
     "data": {
      "text/html": [
       "\n",
       "<h3>Heading:</h3>\n",
       "<a href=\"https://delnorte.powayusd.com/\"\n",
       "    button class=\"button\"> Click this Button!\n",
       "</a>\n",
       "\n",
       "<!-- first information -->\n",
       "<div>\n",
       "    <!-- notice how tags can be put INSIDE eachother -->\n",
       "    <p>This takes you to the DNHS Website</p>\n",
       "</div>\n"
      ],
      "text/plain": [
       "<Ipython.core.display.HTML object>"
      ]
     },
     "metadata": {},
     "output_type": "display_data"
    }
   ],
   "source": [
    "%%html\n",
    "\n",
    "<h3>Heading:</h3>\n",
    "<a href=\"https://delnorte.powayusd.com/\"\n",
    "    button class=\"button\"> Click this Button!\n",
    "</a>\n",
    "\n",
    "<!-- first information -->\n",
    "<div>\n",
    "    <!-- notice how tags can be put INSIDE eachother -->\n",
    "    <p>This takes you to the DNHS Website</p>\n",
    "</div>"
   ]
  }
 ],
 "metadata": {
  "kernelspec": {
   "display_name": "venv",
   "language": "python",
   "name": "python3"
  },
  "language_info": {
   "codemirror_mode": {
    "name": "ipython",
    "version": 3
   },
   "file_extension": ".py",
   "mimetype": "text/x-python",
   "name": "python",
   "nbconvert_exporter": "python",
   "pygments_lexer": "ipython3",
   "version": "3.10.12"
  }
 },
 "nbformat": 4,
 "nbformat_minor": 2
}
