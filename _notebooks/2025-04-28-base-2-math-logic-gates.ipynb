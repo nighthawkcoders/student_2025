{
 "cells": [
  {
   "cell_type": "markdown",
   "id": "491a11f1",
   "metadata": {},
   "source": [
    "---\n",
    "layout: base\n",
    "title: Base 2 Math and Logic Gates\n",
    "description: Notes and Homework Hacks\n",
    "hide: true\n",
    "permalink: /base2/\n",
    "---"
   ]
  },
  {
   "cell_type": "markdown",
   "id": "51e70e62",
   "metadata": {},
   "source": [
    "## Notes\n",
    "\n",
    "- Binary is a number system using two digits: 0 and 1, also known as Base-2\n",
    "- Binary is easier to store\n",
    "- You multiply each bit by 2^(n-1), n representing the place value\n",
    "    - 1010101 = 42\n",
    "- Steps to converting decimal to binary\n",
    "    - Divide decimal number by 2\n",
    "    - Record the remainder (0 or 1)\n",
    "    - Repeat until you reach 0\n",
    "    - Read from bottom to top"
   ]
  },
  {
   "cell_type": "markdown",
   "id": "cb0dd5a3",
   "metadata": {},
   "source": [
    "## Popcorn Hack #1\n",
    "1. It is binary because it only has 1's and 0's\n",
    "2. It is not binary because it consists of numbers that are not just 1 and/or 0\n",
    "3. It is binary because it only has 1's and 0's\n",
    "\n",
    "--- \n",
    "## Popcorn Hack #2\n",
    "1. 101 + 110 = 1011\n",
    "2. 1101 + 1011 = 010\n",
    "3. 111 + 1001 = 1110\n",
    "\n",
    "## Popcorn Hack #1-3\n",
    "1. True\n",
    "2. False\n",
    "3. True"
   ]
  },
  {
   "cell_type": "markdown",
   "id": "f2d905dd",
   "metadata": {},
   "source": [
    "## Homework Hack #1"
   ]
  },
  {
   "cell_type": "code",
   "execution_count": 1,
   "id": "ec6210b4",
   "metadata": {},
   "outputs": [
    {
     "name": "stdout",
     "output_type": "stream",
     "text": [
      "Decimal to Binary:\n",
      "10 → 1010\n",
      "-10 → -1010\n",
      "0 → 0\n",
      "\n",
      "Binary to Decimal:\n",
      "1010 → 10\n",
      "-1010 → -10\n",
      "0 → 0\n"
     ]
    }
   ],
   "source": [
    "def decimal_to_binary(decimal_number):\n",
    "    \"\"\"Converts a decimal number to a binary string.\"\"\"\n",
    "    if decimal_number >= 0:\n",
    "        return bin(decimal_number)[2:]  # Remove '0b' prefix\n",
    "    else:\n",
    "        return '-' + bin(abs(decimal_number))[2:]\n",
    "\n",
    "def binary_to_decimal(binary_string):\n",
    "    \"\"\"Converts a binary string to a decimal number.\"\"\"\n",
    "    if binary_string.startswith('-'):\n",
    "        return -int(binary_string[1:], 2)\n",
    "    else:\n",
    "        return int(binary_string, 2)\n",
    "\n",
    "# Test Cases\n",
    "print(\"Decimal to Binary:\")\n",
    "print(f\"10 → {decimal_to_binary(10)}\")\n",
    "print(f\"-10 → {decimal_to_binary(-10)}\")\n",
    "print(f\"0 → {decimal_to_binary(0)}\")\n",
    "\n",
    "print(\"\\nBinary to Decimal:\")\n",
    "print(f\"1010 → {binary_to_decimal('1010')}\")\n",
    "print(f\"-1010 → {binary_to_decimal('-1010')}\")\n",
    "print(f\"0 → {binary_to_decimal('0')}\")\n"
   ]
  },
  {
   "cell_type": "markdown",
   "id": "14ff3342",
   "metadata": {},
   "source": [
    "## Homework Hack #2"
   ]
  },
  {
   "cell_type": "code",
   "execution_count": 2,
   "id": "e7e4fbdc",
   "metadata": {},
   "outputs": [
    {
     "name": "stdout",
     "output_type": "stream",
     "text": [
      "Please enter a valid difficulty level.\n",
      "Difficulty set to: easy\n"
     ]
    }
   ],
   "source": [
    "import time\n",
    "\n",
    "difficulty = input(\"Enter difficulty (easy, medium, hard): \").lower().strip()\n",
    "\n",
    "while difficulty != \"easy\" and difficulty != \"medium\" and difficulty != \"hard\":\n",
    "    print(\"Please enter a valid difficulty level.\")\n",
    "    time.sleep(0.5)\n",
    "    difficulty = input(\"Enter difficulty (easy, medium, hard): \").lower().strip()\n",
    "\n",
    "print(\"Difficulty set to:\", difficulty)\n"
   ]
  }
 ],
 "metadata": {
  "kernelspec": {
   "display_name": "myenv",
   "language": "python",
   "name": "python3"
  },
  "language_info": {
   "codemirror_mode": {
    "name": "ipython",
    "version": 3
   },
   "file_extension": ".py",
   "mimetype": "text/x-python",
   "name": "python",
   "nbconvert_exporter": "python",
   "pygments_lexer": "ipython3",
   "version": "3.12.3"
  }
 },
 "nbformat": 4,
 "nbformat_minor": 5
}
