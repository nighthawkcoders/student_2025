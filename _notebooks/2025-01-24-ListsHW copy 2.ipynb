{
 "cells": [
  {
   "cell_type": "markdown",
   "metadata": {},
   "source": [
    "---\n",
    "layout: post\n",
    "title: Big O\n",
    "description: BigO\n",
    "comments: true\n",
    "sticky_rank: 1\n",
    "permalink: /BigO\n",
    "\n",
    "---"
   ]
  },
  {
   "cell_type": "markdown",
   "metadata": {},
   "source": [
    "#  Popcorn &  Homework Hacks\n",
    "\n",
    "---\n",
    "\n",
    "## The Even/Odd Check Challenge\n",
    "\n",
    "**Challenge:** You need to check if a number is even or odd. Which **TWO** strategies are the most efficient? (O(1) time)\n",
    "\n",
    "1. **Check if the last digit is 0, 2, 4, 6, or 8 manually**  \n",
    "2. **Use the modulus operator (%) to check if the remainder when divided by 2 is 0**\n",
    "\n",
    "> **Why these?**  \n",
    "> Both methods perform a single, constant‑time operation—either a direct digit comparison or one integer modulo—without loops or extra data structures, giving true O(1) performance. Other listed approaches (repeated subtraction, list lookups) introduce loops or larger overhead.\n",
    "\n",
    "---\n",
    "## Popcorn Hack: Search Performance\n",
    "\n",
    "1. **Time complexity of each algorithm**  \n",
    "   - **Linear search:** O(n)  \n",
    "   - **Binary search:** O(log n)\n",
    "\n",
    "2. **How many times faster is binary search than linear search?**  \n",
    "   On a 10 000 000‑element list, binary search can be on the order of 400 000× faster (n / log₂n ≈ 10 000 000 / 24 ≈ 416 667).\n",
    "\n",
    "3. **What happens if you increase `data_size` to 20 000 000?**  \n",
    "   - **Linear search** runtime roughly **doubles** (O(n)).  \n",
    "   - **Binary search** adds at most **one extra comparison** (log₂(20 000 000) ≈ 25), so its runtime increases negligibly.\n",
    "\n"
   ]
  },
  {
   "cell_type": "code",
   "execution_count": null,
   "metadata": {},
   "outputs": [],
   "source": [
    "```python\n",
    "import random\n",
    "\n",
    "def magic_8_ball():\n",
    "    \"\"\"Return “Yes” ~50%, “No” ~25%, “Ask again later” ~25%.\"\"\"\n",
    "    r = random.random()  # uniform in [0.0, 1.0)\n",
    "    if r < 0.50:\n",
    "        return \"Yes\"\n",
    "    elif r < 0.75:\n",
    "        return \"No\"\n",
    "    else:\n",
    "        return \"Ask again later\"\n",
    "\n",
    "# Test the function 10 times\n",
    "for i in range(10):\n",
    "    print(f\"Magic 8‑Ball says: {magic_8_ball()}\")"
   ]
  },
  {
   "cell_type": "markdown",
   "metadata": {},
   "source": [
    "Homework Hack #1: Sorting Showdown – Code Edition\n",
    "Objective: Implement Bubble Sort vs. Merge Sort on 100 random numbers (1–1000), time each, and report:"
   ]
  },
  {
   "cell_type": "code",
   "execution_count": null,
   "metadata": {},
   "outputs": [],
   "source": [
    "import time, random\n",
    "\n",
    "# Generate data\n",
    "arr = [random.randint(1, 1000) for _ in range(100)]\n",
    "\n",
    "# Bubble sort\n",
    "def bubble_sort(a):\n",
    "    n = len(a)\n",
    "    for i in range(n):\n",
    "        for j in range(0, n - i - 1):\n",
    "            if a[j] > a[j+1]:\n",
    "                a[j], a[j+1] = a[j+1], a[j]\n",
    "\n",
    "# Merge sort\n",
    "def merge_sort(a):\n",
    "    if len(a) > 1:\n",
    "        mid = len(a) // 2\n",
    "        L, R = a[:mid], a[mid:]\n",
    "        merge_sort(L); merge_sort(R)\n",
    "        i = j = k = 0\n",
    "        while i < len(L) and j < len(R):\n",
    "            if L[i] < R[j]:\n",
    "                a[k] = L[i]; i += 1\n",
    "            else:\n",
    "                a[k] = R[j]; j += 1\n",
    "            k += 1\n",
    "        while i < len(L):\n",
    "            a[k] = L[i]; i += 1; k += 1\n",
    "        while j < len(R):\n",
    "            a[k] = R[j]; j += 1; k += 1\n",
    "\n",
    "# Time them\n",
    "for name, func in [(\"Bubble Sort\", bubble_sort), (\"Merge Sort\", merge_sort)]:\n",
    "    data = arr.copy()\n",
    "    start = time.time()\n",
    "    func(data)\n",
    "    print(f\"{name} took {time.time() - start:.6f} s\")\n"
   ]
  },
  {
   "cell_type": "markdown",
   "metadata": {},
   "source": [
    "Which is faster?\n",
    "Merge Sort consistently beats Bubble Sort on even small arrays.\n",
    "\n",
    "Why?\n",
    "\n",
    "Merge Sort runs in O(n log n) by recursively dividing and merging in linear passes, while Bubble Sort uses nested loops for O(n²) swaps. As n grows, the n² behavior of Bubble Sort quickly becomes much slower than the n log n performance of Merge Sort."
   ]
  },
  {
   "cell_type": "markdown",
   "metadata": {},
   "source": [
    "## Homework Hack #2: Search Race – Code Edition\n",
    "Objective: Compare Linear Search vs. Binary Search on a sorted list of 100 000 numbers, counting comparisons."
   ]
  },
  {
   "cell_type": "code",
   "execution_count": null,
   "metadata": {},
   "outputs": [],
   "source": [
    "import random\n",
    "\n",
    "# Prepare data\n",
    "arr = sorted(random.sample(range(1, 100001), 100000))\n",
    "target = random.choice(arr)\n",
    "\n",
    "# Linear Search\n",
    "def linear_search(a, t):\n",
    "    count = 0\n",
    "    for x in a:\n",
    "        count += 1\n",
    "        if x == t:\n",
    "            return count\n",
    "    return count\n",
    "\n",
    "# Binary Search\n",
    "def binary_search(a, t):\n",
    "    left, right = 0, len(a)-1\n",
    "    count = 0\n",
    "    while left <= right:\n",
    "        count += 1\n",
    "        mid = (left + right)//2\n",
    "        if a[mid] == t:\n",
    "            return count\n",
    "        elif a[mid] < t:\n",
    "            left = mid + 1\n",
    "        else:\n",
    "            right = mid - 1\n",
    "    return count\n",
    "\n",
    "ls = linear_search(arr, target)\n",
    "bs = binary_search(arr, target)\n",
    "print(f\"Linear comparisons: {ls}\")\n",
    "print(f\"Binary comparisons: {bs}\")\n"
   ]
  },
  {
   "cell_type": "markdown",
   "metadata": {},
   "source": [
    "Which search is faster, and why?\n",
    "Binary Search is faster—O(log n) steps by halving the range each time, versus O(n) in Linear Search.\n",
    "\n",
    "What happens if you run both on an unsorted list?\n",
    "Binary Search no longer works correctly (it relies on order), while Linear Search still finds the target in O(n)."
   ]
  }
 ],
 "metadata": {
  "kernelspec": {
   "display_name": "Python 3",
   "language": "python",
   "name": "python3"
  },
  "language_info": {
   "codemirror_mode": {
    "name": "ipython",
    "version": 3
   },
   "file_extension": ".py",
   "mimetype": "text/x-python",
   "name": "python",
   "nbconvert_exporter": "python",
   "pygments_lexer": "ipython3",
   "version": "3.10.12"
  }
 },
 "nbformat": 4,
 "nbformat_minor": 2
}
