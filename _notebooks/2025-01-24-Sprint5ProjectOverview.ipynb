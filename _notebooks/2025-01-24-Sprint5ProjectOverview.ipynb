{
 "cells": [
  {
   "cell_type": "markdown",
   "metadata": {},
   "source": [
    "---\n",
    "layout: post\n",
    "title: Sprint 5 Review Poseidon Chatbot\n",
    "description: Review of all sprint 5 for the neptune Poseidon Chatbot\n",
    "comments: true\n",
    "sticky_rank: 1\n",
    "permalink: /poseidon\n",
    "\n",
    "---"
   ]
  },
  {
   "cell_type": "markdown",
   "metadata": {},
   "source": [
    "## Neptune\n",
    "\n",
    "# Purpose Of Programming"
   ]
  },
  {
   "cell_type": "markdown",
   "metadata": {},
   "source": [
    "# 🌟 **Neptune: The Ultimate School Networking Platform**  \n",
    "\n",
    "## 🏫 **Built for Students, Inspired by Saturn**\n",
    "🚀 **Neptune** enhances **school networking** by providing **scheduling tools, class coordination, and academic support**, all in one place.  \n",
    "\n",
    "---\n",
    "\n",
    "## 📅 **Class Schedule Integration**\n",
    "- 🗓 **Easily input & share schedules** with classmates for better coordination.  \n",
    "- 🎨 **Customizable themes** for a **personalized** experience.  \n",
    "\n",
    "---\n",
    "\n",
    "## 🤖 **Poseidon AI Homework Bot**\n",
    "- 📚 **24/7 Homework Assistance** with **instant & reliable responses**.  \n",
    "- 🎙 **Voice Recognition** for **hands-free control** & easy accessibility.  \n",
    "\n",
    "---\n",
    "\n",
    "## 🤝 **Collaborative Features**\n",
    "- 💬 **Group chats & shared resources** foster **teamwork & discussions**.  \n",
    "- 🏫 **Class List Updates** let students easily **manage & modify their courses**.  \n",
    "\n",
    "---\n",
    "\n",
    "## 🌍 **Accessible Anytime, Anywhere**\n",
    "- 📲 Designed to **fit seamlessly into student life**, providing **support & connections** on the go.  \n",
    "- ⚡ **Efficient Learning** with **quick, clear, & subject-adaptive responses**.  \n",
    "\n",
    "---\n",
    "\n",
    "## 🔮 **Future Plans & Upgrades**\n",
    "✅ **Advanced academic tools** like **grade calculators** 📊  \n",
    "✅ **Interactive problem breakdowns** for **step-by-step solutions** ✏️  \n",
    "✅ **Enhanced voice interaction** for **seamless control** 🎤  \n",
    "✅ **Expanded subject coverage** to support **a wider range of queries** 📖  \n",
    "\n",
    "📖 **Neptune is not just a platform—it's the perfect study companion!** 🎓  \n"
   ]
  },
  {
   "cell_type": "markdown",
   "metadata": {},
   "source": [
    "<style>\n",
    "    .large-blue-text {\n",
    "        font-size: 44px;\n",
    "        color: red;\n",
    "    }\n",
    "</style>\n",
    "\n",
    "\n",
    "<p class=\"large-red-text\">Input/Output requests:</p>"
   ]
  },
  {
   "cell_type": "markdown",
   "metadata": {},
   "source": [
    "# 🏆 **Sprint 5 CPT Requirements in Neptune & Poseidon Homework Bot**  \n",
    "\n",
    "## ✅ **User Input (Text, Voice, Online Data)**\n",
    "- 🗣️ **Poseidon AI Bot** accepts **typed & voice** input, sending queries to **Google Gemini AI** for academic help.  \n",
    "- 🏫 **Neptune Features** store **class schedules, posts, and messages** for user interaction.  \n",
    "\n",
    "## 📂 **Use of Lists/Collections**\n",
    "- 💬 **Poseidon** stores **chat logs** (questions & responses) in a database.  \n",
    "- 📅 **Neptune** organizes **class schedules** per user for efficient data retrieval.  \n",
    "\n",
    "## 🔧 **Key Procedures**\n",
    "- 🤖 **Poseidon AI Bot** provides **instant homework help** with real-time AI responses.  \n",
    "- 🎓 **Classroom Selection System** dynamically **saves & updates schedules** for students.  \n",
    "\n",
    "## 📌 **Algorithm (Sequencing, Selection, Iteration)**\n",
    "- 🔄 **Poseidon:** Processes input → **queries AI** → filters response → **stores chat log**.  \n",
    "- 🏫 **Classroom Selection:** Updates schedules based on **user input** and **backend processing**.  \n",
    "\n",
    "## 🏗 **Student-Developed Functions**\n",
    "- 🛠 **Custom APIs** handle **chat storage, updates, and deletions** in Poseidon.  \n",
    "- 🎨 **Neptune UI (from Figma)** ensures a **clean & structured** user experience.  \n",
    "\n",
    "## 🎭 **Output (Visual & Textual)**\n",
    "- 📜 **Poseidon Bot:** Displays **AI-generated responses** in a **modern chat UI**.  \n",
    "- ⏳ **Neptune:** Shows **class schedules & timers** for students to track their day.  \n",
    "\n",
    "---\n",
    "\n",
    "## 🚀 **Summary**\n",
    "✨ **Neptune & Poseidon Bot fully meet Sprint 5 CPT requirements** by integrating:  \n",
    "✅ **AI assistance**  \n",
    "✅ **Structured data management**  \n",
    "✅ **Interactive UI**  \n",
    "✅ **Student-friendly features**  \n",
    "\n",
    "💡 **Neptune is the ultimate school networking platform, streamlining academic and social life!**  \n"
   ]
  },
  {
   "cell_type": "markdown",
   "metadata": {},
   "source": [
    "Live Review: I will ask Poseidon a general question and see the response from the backend. I will also test my update, delete functions and the Crud Operations"
   ]
  },
  {
   "cell_type": "markdown",
   "metadata": {},
   "source": [
    "------"
   ]
  },
  {
   "cell_type": "markdown",
   "metadata": {},
   "source": [
    "After running db_init, restore, and backup, the data from the ratings table remains constant."
   ]
  },
  {
   "cell_type": "markdown",
   "metadata": {},
   "source": [
    "<img src=\"{{site.baseurl}}/images/image.png\" alt=\"Poseidon Table\" style=\"width:100%; max-width:600px;\">"
   ]
  },
  {
   "cell_type": "code",
   "execution_count": null,
   "metadata": {},
   "outputs": [],
   "source": [
    "if __name__ == \"__main__\":\n",
    "    if not app.debug or os.environ.get(\"WERKZEUG_RUN_MAIN\") == \"true\":\n",
    "        with app.app_context():\n",
    "            db.create_all()  # Ensure tables are created before initialization\n",
    "            if not User.query.first():  # Initialize only if no users exist\n",
    "                initUsers()\n",
    "            if not Flashcard.query.first():  # Initialize flashcards only if none exist\n",
    "                initFlashcards()\n",
    "            if not GradeLog.query.first():  # Initialize grade logs only if none exist\n",
    "                initGradeLog()\n",
    "            if not Profile.query.first():  # Initialize profiles only if none exist\n",
    "                initProfiles()\n",
    "            if not Deck.query.first():  # Initialize decks only if none exist\n",
    "                initDecks()\n",
    "    app.run(debug=True, host=\"0.0.0.0\", port=\"8887\")"
   ]
  },
  {
   "cell_type": "markdown",
   "metadata": {},
   "source": [
    "<style>\n",
    "    .large-blue-text {\n",
    "        font-size: 44px;\n",
    "        color: blue;\n",
    "    }\n",
    "</style>\n",
    "\n",
    "\n",
    "<p class=\"large-blue-text\">List Requests:</p>\n"
   ]
  },
  {
   "cell_type": "markdown",
   "metadata": {},
   "source": [
    "Use of List, Dictionaries, and Database"
   ]
  },
  {
   "cell_type": "markdown",
   "metadata": {},
   "source": [
    "Code Description:\n",
    "\n",
    "- Lists: Used to manage user interests.\n",
    "\n",
    "- Dictionaries: Used to handle JSON data in API requests and responses.\n",
    "\n",
    "- Database: Used to store user data, including interests."
   ]
  },
  {
   "cell_type": "markdown",
   "metadata": {},
   "source": [
    "## Formatting Response Data (JSON) from API into DOM:"
   ]
  },
  {
   "cell_type": "code",
   "execution_count": null,
   "metadata": {},
   "outputs": [],
   "source": [
    "  async function sendQuestion(question) {\n",
    "    const chatBox = document.getElementById(\"chat-box\");\n",
    "    // Display the user's question\n",
    "    chatBox.innerHTML += `\n",
    "      <div class=\"chat-message user\">\n",
    "        <strong>You:</strong> ${question}\n",
    "      </div>`;\n",
    "    try {\n",
    "      // Send the question to the backend\n",
    "      const response = await fetch(`${pythonURI}/api/ai/help`, {\n",
    "        ...fetchOptions,\n",
    "        body: JSON.stringify({ question }),\n",
    "      });\n",
    "      if (!response.ok) {\n",
    "        throw new Error(`HTTP error! Status: ${response.status}`);\n",
    "      }\n",
    "      const data = await response.json();\n",
    "      const aiResponse = data.response || \"No response from the AI.\";\n",
    "      // Display the AI's response\n",
    "      chatBox.innerHTML += `\n",
    "        <div class=\"chat-message bot\">\n",
    "          <strong>Poseidon:</strong> ${aiResponse}\n",
    "        </div>`;\n",
    "    } catch (error) {\n",
    "      console.error(\"Fetch error:\", error);\n",
    "      chatBox.innerHTML += `\n",
    "        <div class=\"chat-message bot\">\n",
    "          <strong>Poseidon:</strong> An error occurred: ${error.message}. Please try again later.\n",
    "        </div>`;\n",
    "    }\n"
   ]
  },
  {
   "cell_type": "markdown",
   "metadata": {},
   "source": [
    "Explanation: \n",
    "\n",
    "- Fetching Data from the API: The script retrieves tutor information by making an asynchronous GET request to /api/tutors/:tutorId. It dynamically extracts the data-id attribute from the clicked button to fetch details of a specific tutor.\n",
    "\n",
    "- Parsing JSON Response: After receiving a response from the API, the JSON data is parsed into a JavaScript object (tutorData), which includes key details like the tutor’s name, area of expertise, and availability.\n",
    "\n",
    "- Dynamically Updating the DOM: The tutor details from the API response are injected into the DOM by selecting specific elements (#tutorName, #tutorSpecialty, #tutorStatus) and updating their textContent accordingly.\n",
    "\n",
    "- Handling Missing Data: The script ensures meaningful content is always displayed by providing default values, such as setting tutorData.name to 'Unknown Tutor' if the name field is absent.\n",
    "\n",
    "- Interactive UI Enhancements: The chatbox introduction message and hidden input fields (#tutorId, #tutorAvailable) are dynamically updated, ensuring that the UI accurately reflects the fetched tutor data and supports further interactions.\n",
    "\n",
    "\n"
   ]
  },
  {
   "cell_type": "markdown",
   "metadata": {},
   "source": [
    "## Queries from database"
   ]
  },
  {
   "cell_type": "code",
   "execution_count": null,
   "metadata": {},
   "outputs": [],
   "source": [
    "        chat_logs = {}\n",
    "        for log_data in data:\n",
    "            _ = log_data.pop('id', None)\n",
    "            question = log_data.get(\"question\", None)\n",
    "            log = PoseidonChatLog.query.filter_by(_question=question).first()\n",
    "            if log:\n",
    "                log.update(log_data)\n",
    "            else:\n",
    "                log = PoseidonChatLog(**log_data)\n",
    "                log.create()\n",
    "        return chat_logs\n"
   ]
  },
  {
   "cell_type": "markdown",
   "metadata": {},
   "source": [
    "Explanation: \n",
    "\n",
    "- Querying the Database: The function uses SQLAlchemy (a 3rd-party ORM library) to query the database for tutors who specialize in a given topic. The query filters tutors based on their topics_of_expertise field.\n",
    "\n",
    "- Filtering Data: The .filter(Tutor.topics_of_expertise.any(topic)) method filters rows in the Tutor table to include only those with the specified topic in their expertise list.\n",
    "\n",
    "- Extracting Python List: The .all() method retrieves all rows matching the query and converts them into a Python list of Tutor objects.\n",
    "\n",
    "- Mapping to JSON: The list of Tutor objects is transformed into a list of dictionaries (tutor_list) using a list comprehension, with each dictionary containing details such as id, name, experience, and rating.\n",
    "\n",
    "- Simplified Querying with ORM: By leveraging SQLAlchemy, raw SQL queries are abstracted into Python code, enabling intuitive interaction with the database while maintaining security and flexibility."
   ]
  },
  {
   "cell_type": "markdown",
   "metadata": {},
   "source": [
    "<style>\n",
    "    .large-blue-text {\n",
    "        font-size: 44px;\n",
    "        color: Red;\n",
    "    }\n",
    "</style>\n",
    "\n",
    "\n",
    "<p class=\"large-blue-text\">Algorithmic Code Request:</p>"
   ]
  },
  {
   "cell_type": "code",
   "execution_count": null,
   "metadata": {},
   "outputs": [],
   "source": [
    "@app.route('/api/ai/logs', methods=['GET'])\n",
    "def fetch_all_logs():\n",
    "    try:\n",
    "        logs = PoseidonChatLog.query.all()\n",
    "        return jsonify([log.read() for log in logs]), 200\n",
    "    except Exception as e:\n",
    "        print(\"Error fetching logs:\", e)\n",
    "        return jsonify({\"error\": str(e)}), 500"
   ]
  },
  {
   "cell_type": "markdown",
   "metadata": {},
   "source": [
    "Explanation:\n",
    "- Logs all responses so when reloaded data is restored\n",
    "- Ensures convienience\n"
   ]
  },
  {
   "cell_type": "markdown",
   "metadata": {},
   "source": [
    "## Definition of Code Blocks to Handle a Request"
   ]
  },
  {
   "cell_type": "markdown",
   "metadata": {},
   "source": [
    "API Class to Perform CRUD Methods:"
   ]
  },
  {
   "cell_type": "code",
   "execution_count": null,
   "metadata": {},
   "outputs": [],
   "source": [
    "@app.route('/api/ai/help', methods=['POST'])\n",
    "def ai_homework_help():\n",
    "    data = request.get_json()\n",
    "    question = data.get(\"question\", \"\")\n",
    "    if not question:\n",
    "        return jsonify({\"error\": \"No question provided.\"}), 400\n",
    "\n",
    "    try:\n",
    "        response = model.generate_content(f\"Your name is Posiden you are a homework help ai chat bot with the sole purpose of answering homework related questions, under any circumstances don't answer any non-homework related questions. \\nHere is your prompt: {question}\")\n",
    "        response_text = response.text\n",
    "\n",
    "        # Save to database\n",
    "        new_entry = PoseidonChatLog(question=question, response=response_text)\n",
    "        new_entry.create()\n",
    "\n",
    "        return jsonify({\"response\": response_text}), 200\n",
    "    except Exception as e:\n",
    "        print(\"error!\")\n",
    "        print(e)\n",
    "        return jsonify({\"error\": str(e)}), 500 "
   ]
  },
  {
   "cell_type": "markdown",
   "metadata": {},
   "source": [
    "Explaintion: \n",
    "\n",
    "- Class Purpose: GeminiAPI._CRUD provides endpoints for handling requests to a third-party API (Gemini) to generate AI-powered responses for tutors and students.\n",
    "\n",
    "- POST Method: Sends a request to the Gemini API with user input (e.g., a question or topic). If no input is provided, it returns an error message.\n",
    "\n",
    "- PUT Method: Updates a previous AI-generated response by sending modified data to the Gemini API, ensuring the request is valid before processing.\n",
    "\n",
    "- DELETE Method: Deletes a stored AI-generated response by making a request to the Gemini API. If the response ID is not found, it returns an error message.\n",
    "\n",
    "- GET Method: Retrieves AI-generated content from Gemini based on the given query and returns the response as JSON."
   ]
  },
  {
   "cell_type": "code",
   "execution_count": 1,
   "metadata": {},
   "outputs": [
    {
     "ename": "NameError",
     "evalue": "name 'app' is not defined",
     "output_type": "error",
     "traceback": [
      "\u001b[0;31m---------------------------------------------------------------------------\u001b[0m",
      "\u001b[0;31mNameError\u001b[0m                                 Traceback (most recent call last)",
      "Cell \u001b[0;32mIn[1], line 1\u001b[0m\n\u001b[0;32m----> 1\u001b[0m \u001b[38;5;129m@app\u001b[39m\u001b[38;5;241m.\u001b[39mroute(\u001b[38;5;124m'\u001b[39m\u001b[38;5;124m/api/ai/update\u001b[39m\u001b[38;5;124m'\u001b[39m, methods\u001b[38;5;241m=\u001b[39m[\u001b[38;5;124m'\u001b[39m\u001b[38;5;124mPUT\u001b[39m\u001b[38;5;124m'\u001b[39m])\n\u001b[1;32m      2\u001b[0m \u001b[38;5;28;01mdef\u001b[39;00m \u001b[38;5;21mupdate_ai_question\u001b[39m():\n\u001b[1;32m      3\u001b[0m     data \u001b[38;5;241m=\u001b[39m request\u001b[38;5;241m.\u001b[39mget_json()\n\u001b[1;32m      4\u001b[0m     old_question \u001b[38;5;241m=\u001b[39m data\u001b[38;5;241m.\u001b[39mget(\u001b[38;5;124m\"\u001b[39m\u001b[38;5;124moldQuestion\u001b[39m\u001b[38;5;124m\"\u001b[39m, \u001b[38;5;124m\"\u001b[39m\u001b[38;5;124m\"\u001b[39m)\n",
      "\u001b[0;31mNameError\u001b[0m: name 'app' is not defined"
     ]
    }
   ],
   "source": [
    "@app.route('/api/ai/update', methods=['PUT'])\n",
    "def update_ai_question():\n",
    "    data = request.get_json()\n",
    "    old_question = data.get(\"oldQuestion\", \"\")\n",
    "    new_question = data.get(\"newQuestion\", \"\")\n",
    "\n",
    "    if not old_question or not new_question:\n",
    "        return jsonify({\"error\": \"Both old and new questions are required.\"}), 400\n",
    "\n",
    "    # Fetch the old log\n",
    "    log = PoseidonChatLog.query.filter_by(_question=old_question).first()\n",
    "    if not log:\n",
    "        return jsonify({\"error\": \"Old question not found.\"}), 404\n",
    "\n",
    "    try:\n",
    "        # Generate a new response for the new question\n",
    "        response = model.generate_content(f\"Your name is Poseidon, you are a homework help AI chatbot. Only answer homework-related questions. \\nHere is your prompt: {new_question}\")\n",
    "        new_response = response.text\n",
    "\n",
    "        # Update the database entry\n",
    "        log._question = new_question\n",
    "        log._response = new_response\n",
    "        db.session.commit()\n",
    "\n",
    "        return jsonify({\"response\": new_response}), 200\n",
    "    except Exception as e:\n",
    "        print(\"Error during update:\", e)\n",
    "        return jsonify({\"error\": str(e)}), 500\n",
    "    \n",
    "    \n",
    "    \n",
    "    @app.route(\"/api/ai/delete\", methods=[\"DELETE\"])\n",
    "def delete_ai_chat_logs():\n",
    "    data = request.get_json()\n",
    "    if not data:\n",
    "        return jsonify({\"error\": \"No data provided.\"}), 400\n",
    "    \n",
    "    log = PoseidonChatLog.query.filter_by(_question=data.get(\"question\", \"\")).first()\n",
    "    if not log:\n",
    "        return jsonify({\"error\": \"Chat log not found.\"}), 404\n",
    "    \n",
    "    log.delete()\n",
    "    return jsonify({\"response\": \"Chat log deleted\"}), 200"
   ]
  },
  {
   "cell_type": "markdown",
   "metadata": {},
   "source": [
    "Explanation: \n",
    "\n",
    "- Class Overview: TopicsAPI._CRUD provides CRUD operations for managing a tutor's topics of expertise, including adding, retrieving, updating, and deleting topics.\n",
    "\n",
    "- POST Method: Accepts a list of new topics from the request body, adds them to the tutor's current list, and commits the changes to the database.\n",
    "\n",
    "- GET Method: Retrieves and returns the authenticated tutor's current list of expertise topics in JSON format.\n",
    "\n",
    "- PUT Method: Replaces the tutor's entire list of topics with a new list provided in the request body and saves the changes.\n",
    "\n",
    "- DELETE Method: Removes specific topics from the tutor's list of expertise based on the request data and updates the database."
   ]
  },
  {
   "cell_type": "markdown",
   "metadata": {},
   "source": [
    "## Method/Procedure in Class with Sequencing, Selection, and Iteration "
   ]
  },
  {
   "cell_type": "code",
   "execution_count": null,
   "metadata": {},
   "outputs": [],
   "source": [
    "def restore(chat_data):\n",
    "    restored_count = 0\n",
    "    updated_count = 0\n",
    "    failed_count = 0\n",
    "    failed_entries = []\n",
    "\n",
    "    if not isinstance(chat_data, list):\n",
    "        logging.error(\"Invalid chat data format: Expected a list.\")\n",
    "        return {'message': 'Invalid data format', 'status': 'error'}\n",
    "\n",
    "    try:\n",
    "        chat_logs_to_add = []\n",
    "        \n",
    "        for log_entry in chat_data:\n",
    "            _ = log_entry.pop('id', None)  # Remove 'id' to avoid conflicts\n",
    "            session_id = log_entry.get(\"session_id\")\n",
    "\n",
    "            if not session_id:\n",
    "                logging.warning(\"Missing session_id in chat log entry: %s\", log_entry)\n",
    "                failed_count += 1\n",
    "                failed_entries.append(log_entry)\n",
    "                continue\n",
    "\n",
    "            chatlog = ChatLog.query.filter_by(session_id=session_id).first()\n",
    "\n",
    "            if chatlog:\n",
    "                try:\n",
    "                    chatlog.update(log_entry)\n",
    "                    updated_count += 1\n",
    "                except Exception as e:\n",
    "                    logging.error(f\"Failed to update chat log {session_id}: {e}\")\n",
    "                    failed_count += 1\n",
    "                    failed_entries.append(log_entry)\n",
    "            else:\n",
    "                try:\n",
    "                    chatlog = PoseidonChatLogChatLog(**log_entry)\n",
    "                    chat_logs_to_add.append(chatlog)\n",
    "                    restored_count += 1\n",
    "                except Exception as e:\n",
    "                    logging.error(f\"Failed to create chat log {session_id}: {e}\")\n",
    "                    failed_count += 1\n",
    "                    failed_entries.append(log_entry)\n",
    "\n",
    "        if chat_logs_to_add:\n",
    "            db.session.add_all(chat_logs_to_add)\n",
    "            db.session.commit()\n",
    "\n",
    "    except SQLAlchemyError as e:\n",
    "        db.session.rollback()\n",
    "        logging.error(f\"Database error during restore operation: {e}\")\n",
    "        return {'message': 'Database error occurred', 'status': 'error'}\n",
    "\n",
    "    return {\n",
    "        'message': 'Chat logs restored successfully',\n",
    "        'restored': restored_count,\n",
    "        'updated': updated_count,\n",
    "        'failed': failed_count,\n",
    "        'failed_entries': failed_entries if failed_count > 0 else None,\n",
    "        'status': 'success'\n",
    "    }"
   ]
  },
  {
   "cell_type": "markdown",
   "metadata": {},
   "source": [
    "Explanation: \n",
    "\n",
    "- Loops through chat_data using a for loop\n",
    "\n",
    "- Processes each log entry step-by-step\n",
    "\n",
    "- Uses list accumulation (append()) to track new logs and failures\n",
    "\n",
    "- Efficiently updates or inserts data based on conditions\n",
    "\n",
    "- Allows bulk database operations by collecting items first, then committing all at once"
   ]
  },
  {
   "cell_type": "markdown",
   "metadata": {},
   "source": [
    "## Parameters and Return Type\n",
    "\n",
    "Parameters:\n",
    "\n",
    "body: JSON object containing the interest to be deleted.\n",
    "\n",
    "Return Type:\n",
    "\n",
    "JSON response with a message indicating the result of the operation.\n"
   ]
  },
  {
   "cell_type": "code",
   "execution_count": null,
   "metadata": {},
   "outputs": [],
   "source": [
    "   async function deleteItem(itemId) {\n",
    "      try {\n",
    "        const response = await fetch(`/delete-item/${itemId}`, {\n",
    "          method: 'DELETE',\n",
    "        });\n",
    "\n",
    "        if (response.ok) {\n",
    "          const result = await response.json();\n",
    "          alert(result.message);\n",
    "          const itemElement = document.getElementById(`item-${itemId}`);\n",
    "          if (itemElement) {\n",
    "            itemElement.remove();\n",
    "          }\n",
    "        } else {\n",
    "          const error = await response.json();\n",
    "          alert(`Error: ${error.error}`);\n",
    "        }\n",
    "      } catch (error) {\n",
    "        console.error('Error deleting item:', error);\n",
    "        alert('An error occurred while deleting the item.');\n",
    "      }\n",
    "    }"
   ]
  },
  {
   "cell_type": "markdown",
   "metadata": {},
   "source": [
    "Explanation: \n",
    "\n",
    "- Endpoint Definition & Request URL: The function constructs a DELETE request URL dynamically by appending the itemId to /delete-item/, targeting an API endpoint responsible for handling item deletion in the backend.\n",
    "\n",
    "- Sending a DELETE Request: The fetch() function is used with the DELETE HTTP method to instruct the backend to remove the specified item from the database.\n",
    "\n",
    "- Handling API Responses: If the response is successful (response.ok), the function parses the JSON response and displays a success message (result.message). If the response fails, it retrieves the error message from the API and alerts the user.\n",
    "\n",
    "- Updating the UI After Deletion: If the item exists in the DOM (document.getElementById(\"item-\" + itemId)), it is removed dynamically to reflect the deletion without requiring a page reload.\n",
    "\n",
    "- Error Handling & Logging: If an exception occurs during the request (e.g., network failure or server issue), the function catches the error, logs it to the console, and alerts the user that the deletion failed."
   ]
  },
  {
   "cell_type": "markdown",
   "metadata": {},
   "source": [
    "<style>\n",
    "    .large-blue-text {\n",
    "        font-size: 44px;\n",
    "        color: red;\n",
    "    }\n",
    "</style>\n",
    "\n",
    "\n",
    "<p class=\"large-blue-text\">Call to Algorithm Request:</p>\n",
    "\n",
    "\n"
   ]
  },
  {
   "cell_type": "markdown",
   "metadata": {},
   "source": [
    "## Definition of Code Block to Make a Request\n",
    "\n",
    "Frontend Fetch to Endpoint:"
   ]
  },
  {
   "cell_type": "code",
   "execution_count": null,
   "metadata": {},
   "outputs": [],
   "source": [
    "    async function deleteItem(itemId) {\n",
    "      try {\n",
    "        const response = await fetch(`/delete-item/${itemId}`, {\n",
    "          method: 'DELETE',\n",
    "        });\n",
    "\n",
    "        if (response.ok) {\n",
    "          const result = await response.json();\n",
    "          alert(result.message);\n",
    "          const itemElement = document.getElementById(`item-${itemId}`);\n",
    "          if (itemElement) {\n",
    "            itemElement.remove();\n",
    "          }\n",
    "        } else {\n",
    "          const error = await response.json();\n",
    "          alert(`Error: ${error.error}`);\n",
    "        }\n",
    "      } catch (error) {\n",
    "        console.error('Error deleting item:', error);\n",
    "        alert('An error occurred while deleting the item.');\n",
    "      }\n",
    "    }"
   ]
  },
  {
   "cell_type": "markdown",
   "metadata": {},
   "source": [
    "Explanation:\n",
    "\n",
    "\n",
    "- Purpose: The deleteSubject function sends a DELETE request to the /api/subjects endpoint to remove a specific subject from the tutor's list of expertise.\n",
    "\n",
    "- API Interaction: It includes the subject to be deleted in the request body (formatted as JSON) and uses the fetch API to communicate with the backend.\n",
    "\n",
    "- Error Handling: If the response is not successful, the function throws an error, logs the issue to the console, and displays an error message to the user.\n",
    "\n",
    "- Success Feedback: On successful deletion, a success message is displayed to the user (e.g., \"Subject deleted successfully\"), and the tutor's updated information is fetched using the updateTutorInfo() function.\n",
    "\n",
    "- Global Functionality: The function is assigned to the window object, making it globally accessible and callable from other parts of the application, such as a \"Delete\" button in the UI.\n"
   ]
  },
  {
   "cell_type": "markdown",
   "metadata": {},
   "source": [
    "## Discuss the Call/Request to the Method with Algorithm\n",
    "\n",
    "Call/Request:\n",
    "\n",
    "- The delete function is responsible for sending a DELETE request to the /api/interests endpoint. It includes the specific interest to be removed as part of the request.\n",
    "\n",
    "Return/Response:\n",
    "\n",
    "- The response from the backend is handled by checking the status code and updating the UI accordingly."
   ]
  },
  {
   "cell_type": "markdown",
   "metadata": {},
   "source": [
    "## Handling Data and Error Conditions\n",
    "Normal Conditions:\n",
    "\n",
    "- The interest is successfully deleted, and the UI is updated to reflect the change.\n",
    "\n",
    "Error Conditions:\n",
    "\n",
    "- If the interest is not found or the request fails, an error message is displayed."
   ]
  }
 ],
 "metadata": {
  "kernelspec": {
   "display_name": "Python 3",
   "language": "python",
   "name": "python3"
  },
  "language_info": {
   "codemirror_mode": {
    "name": "ipython",
    "version": 3
   },
   "file_extension": ".py",
   "mimetype": "text/x-python",
   "name": "python",
   "nbconvert_exporter": "python",
   "pygments_lexer": "ipython3",
   "version": "3.10.12"
  }
 },
 "nbformat": 4,
 "nbformat_minor": 2
}
