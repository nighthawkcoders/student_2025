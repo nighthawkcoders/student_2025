{
 "cells": [
  {
   "cell_type": "markdown",
   "metadata": {},
   "source": [
    "# <span style=\"color: lavender; text-shadow: 2px 2px 5px lavender;\">Variables Hacks </span>\n",
    "\n",
    " Taught by Aria, Cason, and Ethan"
   ]
  },
  {
   "cell_type": "markdown",
   "metadata": {
    "vscode": {
     "languageId": "plaintext"
    }
   },
   "source": [
    "\n",
    "### <span style=\"color: pink; text-shadow: 2px 2px 5px pink;\">Popcorn Hack 1: Variable Naming, and Strings in JavaScript</span> \n",
    "\n",
    "#### Instructions:\n",
    "1. Open a new cell and set its type to `Code`.\n",
    "\n",
    "2. Using the correct `variable naming case` for JavaScript \n",
    "\n",
    "3. Create a string variable for `\"gameQuestion\"` and let it equal: `\"My favorite video game is \"`\n",
    "\n",
    "4. create a variable for `\"gameAnswer\"` and let it equal: your favorite game\n",
    "\n",
    "5. output your `gameQuestion` and `gameAnswer` to the console `[EX: console.log(gameQuestion + gameAnswer);]`\n",
    "\n",
    "6. Open your console and see if it displayed the correct message \n",
    "\n",
    "\n"
   ]
  },
  {
   "cell_type": "code",
   "execution_count": null,
   "metadata": {},
   "outputs": [
    {
     "data": {
      "application/javascript": "let favorite-game==school\nlet gameanswer ==favorite-game\n",
      "text/plain": [
       "<IPython.core.display.Javascript object>"
      ]
     },
     "metadata": {},
     "output_type": "display_data"
    }
   ],
   "source": [
    "%%js\n",
    "let favoritegame==school\n",
    "let gameanswer"
   ]
  },
  {
   "cell_type": "markdown",
   "metadata": {
    "vscode": {
     "languageId": "html"
    }
   },
   "source": [
    "\n",
    "### <span style=\"color: pink; text-shadow: 2px 2px 5px pink;\">Popcorn Hack 2: Null, Undefined, Symbol, in JavaScript </span>  \n",
    "\n",
    "#### Instructions:\n",
    "\n",
    "1. Open a new cell and set its type to `Code`.\n",
    "\n",
    "2. Create a variable `nullVar` and set it to `null`.\n",
    "\n",
    "3. Create a variable `undefinedVar` and leave it uninitialized.\n",
    "\n",
    "4. Create a variable `symbolVar` and set it to a new Symbol with a description of your choice. `[EX: let myRPG = Symbol(\"Pokemon\");]`\n",
    "\n",
    "5. Output all three variables to the console using `console.log()`."
   ]
  }
 ],
 "metadata": {
  "kernelspec": {
   "display_name": "Python 3",
   "language": "python",
   "name": "python3"
  },
  "language_info": {
   "codemirror_mode": {
    "name": "ipython",
    "version": 3
   },
   "file_extension": ".py",
   "mimetype": "text/x-python",
   "name": "python",
   "nbconvert_exporter": "python",
   "pygments_lexer": "ipython3",
   "version": "3.10.12"
  }
 },
 "nbformat": 4,
 "nbformat_minor": 2
}
