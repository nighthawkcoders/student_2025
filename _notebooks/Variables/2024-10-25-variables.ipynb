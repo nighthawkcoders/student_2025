{
 "cells": [
  {
   "attachments": {},
   "cell_type": "raw",
   "metadata": {
    "vscode": {
     "languageId": "raw"
    }
   },
   "source": [
    "---\n",
    "layout: post\n",
    "title: JavaScript Variables\n",
    "description: JavaScript Variables\n",
    "categories: [JavaScript]\n",
    "comments: True\n",
    "---"
   ]
  },
  {
   "cell_type": "markdown",
   "metadata": {},
   "source": [
    "\n",
    "# <span style=\"color: lavender; text-shadow: 2px 2px 5px lavender;\">Variables in JavaScript</span>\n",
    "\n",
    " Taught by Aria, Cason, and Ethan\n",
    "\n"
   ]
  },
  {
   "cell_type": "markdown",
   "metadata": {},
   "source": [
    "## <span style=\"color: lavender; text-shadow: 2px 2px 5px lavender;\">What are variables in JavaScript?</span>\n",
    "Variables in JavaScript are used to store data that can be referenced and manipulated in a program. They act as containers for values and can hold different types of data, such as numbers, strings, objects, and more.\n",
    "\n",
    "- Variables are used to simplify code\n"
   ]
  },
  {
   "cell_type": "markdown",
   "metadata": {},
   "source": [
    "The three types of keywords for a variable declaration in JavaScript are\n",
    " var, let, and const. \n",
    " \n",
    " **NOTE:** Var is an outdated keyword in Javascript. \n"
   ]
  },
  {
   "cell_type": "markdown",
   "metadata": {},
   "source": [
    "### <span style=\"color: orange; text-shadow: 2px 2px 5px orange;\">Creating variables</span>\n",
    "\n",
    "Variables can be created and assigned  values by using the assignment operator \"=\"\n",
    "\n",
    "\n",
    "### <span style=\"color: orange; text-shadow: 2px 2px 5px orange;\">Variable naming</span>\n",
    "\n",
    "- **Camel Case (camelCase):** Commonly used in JavaScript, Java, and C#. Example: `myVariableName`\n",
    "\n",
    "- **Pascal Case (PascalCase):** Often used in C#, and for class names in many languages. Example: `MyVariableName`\n",
    "\n",
    "- **Snake Case (snake_case):** Frequently used in Python and Ruby. Example: `my_variable_name`\n",
    "\n",
    "### <span style=\"color: green; text-shadow: 1px 1px 2.5px ;\">Example:</span>"
   ]
  },
  {
   "cell_type": "code",
   "execution_count": 25,
   "metadata": {
    "vscode": {
     "languageId": "javascript"
    }
   },
   "outputs": [
    {
     "data": {
      "application/javascript": "\nconst userName = \"Mario\"; \nlet favFood = \"spaghetti\";\nconst favSport = \"kart racing\";\n\nconsole.log(\"Hello! You can call me \" + userName); //This will print \"Hello! You can call me Mario\"\nconsole.log(\"I LOVE eating \" + favFood); //This will print \"I LOVE eating Spaghetti\"\nconsole.log(\"My favorite sport is \" + favSport); //This will print \"My favorite sport is kart racing\"\n",
      "text/plain": [
       "<IPython.core.display.Javascript object>"
      ]
     },
     "metadata": {},
     "output_type": "display_data"
    }
   ],
   "source": [
    "%%javascript\n",
    "\n",
    "const userName = \"Mario\"; \n",
    "let favFood = \"spaghetti\";\n",
    "const favSport = \"kart racing\";\n",
    "\n",
    "console.log(\"Hello! You can call me \" + userName); //This will print \"Hello! You can call me Mario\"\n",
    "console.log(\"I LOVE eating \" + favFood); //This will print \"I LOVE eating Spaghetti\"\n",
    "console.log(\"My favorite sport is \" + favSport); //This will print \"My favorite sport is kart racing\""
   ]
  },
  {
   "cell_type": "markdown",
   "metadata": {},
   "source": [
    "- As you can see, because this is in javascript, camelCase is being used\n",
    "\n",
    "- Once a variable is created, it may be used throughout the entire program\n",
    "\n",
    "*Here it is in use, open your console to see the output!*"
   ]
  },
  {
   "cell_type": "markdown",
   "metadata": {},
   "source": [
    "## <span style=\"color: lavender; text-shadow: 2px 2px 5px lavender;\"> Variable Types\n",
    "\n",
    "### Data Types in JavaScript:\n",
    "- Primitive Data Types:\n",
    "  - `Number` \n",
    "  - `String`\n",
    "  - `Boolean`\n",
    "  - `Null`\n",
    "  - `Undefined`\n",
    "  - `Symbol`\n",
    "- Non-primitive Data Types:\n",
    "  - `Object`\n",
    "  - `Array`\n",
    "  - `Function`"
   ]
  },
  {
   "cell_type": "markdown",
   "metadata": {},
   "source": [
    "\n",
    "### <span style=\"color: orange; text-shadow: 2px 2px 5px orange;\">Integer Variables in JavaScript</span>\n",
    "\n",
    "Integer variables in JavaScript are used to store whole numbers without any decimal points. They can be positive, negative, or zero. In JavaScript, integers are typically represented using the `number` data type.\n",
    "\n",
    "### <span style=\"color: green; text-shadow: 1px 1px 2.5px ;\">Example:</span>\n"
   ]
  },
  {
   "cell_type": "code",
   "execution_count": 36,
   "metadata": {
    "vscode": {
     "languageId": "javascript"
    }
   },
   "outputs": [
    {
     "data": {
      "application/javascript": "\nconst a = 25; //This is a number variable\nlet b = 10; //This is a number variable\nlet sum = a + b; //This is a number variable\n\nconsole.log(a); //This will print 25\nconsole.log(b); //This will print 10\nconsole.log(sum); //This will print 35\nconsole.log(a * b); //This will print 250\n",
      "text/plain": [
       "<IPython.core.display.Javascript object>"
      ]
     },
     "metadata": {},
     "output_type": "display_data"
    }
   ],
   "source": [
    "%%js\n",
    "\n",
    "const a = 25; //This is a number variable\n",
    "let b = 10; //This is a number variable\n",
    "let sum = a + b; //This is a number variable\n",
    "\n",
    "console.log(a); //This will print 25\n",
    "console.log(b); //This will print 10\n",
    "console.log(sum); //This will print 35\n",
    "console.log(a * b); //This will print 250"
   ]
  },
  {
   "cell_type": "markdown",
   "metadata": {},
   "source": [
    "### <span style=\"color: orange; text-shadow: 2px 2px 5px orange;\">Strings</span>\n",
    "\n",
    "When phrases or sentences are assigned a variable name, they can be referenced later.\n",
    "\n",
    "### <span style=\"color: green; text-shadow: 1px 1px 2.5px ;\">Example:</span>"
   ]
  },
  {
   "cell_type": "code",
   "execution_count": 3,
   "metadata": {
    "vscode": {
     "languageId": "javascript"
    }
   },
   "outputs": [
    {
     "data": {
      "text/html": [
       "\n",
       "<script>\n",
       "let question = \"How much do you like this lesson?\"; //This is a string variable\n",
       "let answer = \"a lot!\"; //This is a string variable\n",
       "\n",
       "console.log(question); //This will print \"How much do you like this lesson?\"\n",
       "(answer); //This will print \"a lot!\"\n",
       "</script>\n"
      ],
      "text/plain": [
       "<IPython.core.display.HTML object>"
      ]
     },
     "metadata": {},
     "output_type": "display_data"
    }
   ],
   "source": [
    "%%js\n",
    "\n",
    "\n",
    "let question = \"How much do you like this lesson?\"; //This is a string variable\n",
    "let answer = \"a lot!\"; //This is a string variable\n",
    "\n",
    "console.log(question); //This will print \"How much do you like this lesson?\"\n",
    "console.log(answer); //This will print \"a lot!\"\n"
   ]
  },
  {
   "cell_type": "markdown",
   "metadata": {},
   "source": [
    "## <span style=\"color: pink; text-shadow: 2px 2px 5px pink;\">Popcorn Hack #1</span>\n",
    "\n",
    "### Open the notebook with the Hacks in it, \"2024-10-29-variables_popcorn_hax.ipynb\", and complete the first popcorn hack\n",
    "\n",
    "### <span style=\"color: orange; text-shadow: 2px 2px 5px orange;\">Booleans</span>\n",
    "\n",
    "Booleans in JavaScript are a fundamental data type that can hold one of two values: true or false. They are often used in conditional statements to control the flow of a program.\n",
    "\n",
    "### <span style=\"color: green; text-shadow: 1px 1px 2.5px ;\">Example:</span>"
   ]
  },
  {
   "cell_type": "code",
   "execution_count": 40,
   "metadata": {
    "vscode": {
     "languageId": "javascript"
    }
   },
   "outputs": [
    {
     "data": {
      "application/javascript": "\nconst isCoder = true; //This is a boolean variable\nconst isDesigner = false; //This is a boolean variable\n\nconsole.log(isCoder); //This will print true\nconsole.log(isDesigner); //This will print false\n",
      "text/plain": [
       "<IPython.core.display.Javascript object>"
      ]
     },
     "metadata": {},
     "output_type": "display_data"
    }
   ],
   "source": [
    "%%js\n",
    "\n",
    "const isCoder = true; //This is a boolean variable\n",
    "const isDesigner = false; //This is a boolean variable\n",
    "\n",
    "console.log(isCoder); //This will print true\n",
    "console.log(isDesigner); //This will print false"
   ]
  },
  {
   "cell_type": "markdown",
   "metadata": {},
   "source": [
    "### <span style=\"color: orange; text-shadow: 2px 2px 5px orange;\">Nulls</span>"
   ]
  },
  {
   "cell_type": "markdown",
   "metadata": {},
   "source": [
    "The `null` value signifies the deliberate absence of any object value. It is commonly used to indicate that a variable should not hold any value.\n",
    "\n",
    "### <span style=\"color: green; text-shadow: 1px 1px 2.5px ;\">Example:</span>"
   ]
  },
  {
   "cell_type": "code",
   "execution_count": 42,
   "metadata": {
    "vscode": {
     "languageId": "javascript"
    }
   },
   "outputs": [
    {
     "data": {
      "application/javascript": "\nlet myBankBalance = null; //This is a null variable\n\nconsole.log(myBankBalance); //This will print null \n",
      "text/plain": [
       "<IPython.core.display.Javascript object>"
      ]
     },
     "metadata": {},
     "output_type": "display_data"
    }
   ],
   "source": [
    "%%js \n",
    "\n",
    "let myBankBalance = null; //This is a null variable\n",
    "\n",
    "console.log(myBankBalance); //This will print null "
   ]
  },
  {
   "cell_type": "markdown",
   "metadata": {},
   "source": [
    "### <span style=\"color: orange; text-shadow: 2px 2px 5px orange;\">Undefined</span>\n",
    "\n",
    "A variable in JavaScript that has been declared but not assigned a value will have the value `undefined`.\n",
    "\n",
    "### <span style=\"color: green; text-shadow: 1px 1px 2.5px ;\">Example:</span>"
   ]
  },
  {
   "cell_type": "code",
   "execution_count": 43,
   "metadata": {
    "vscode": {
     "languageId": "javascript"
    }
   },
   "outputs": [
    {
     "data": {
      "application/javascript": "\nlet myHeight; //This is an undefined variable\n\nconsole.log(myHeight); //This will print undefined\n",
      "text/plain": [
       "<IPython.core.display.Javascript object>"
      ]
     },
     "metadata": {},
     "output_type": "display_data"
    }
   ],
   "source": [
    "%%js\n",
    "\n",
    "let myHeight; //This is an undefined variable\n",
    "\n",
    "console.log(myHeight); //This will print undefined"
   ]
  },
  {
   "cell_type": "markdown",
   "metadata": {},
   "source": [
    "### <span style=\"color: orange; text-shadow: 2px 2px 5px orange;\">Symbol</span>\n",
    "\n",
    "Symbols are unique and immutable data types primarily used as object property keys.\n",
    "\n",
    "### <span style=\"color: green; text-shadow: 1px 1px 2.5px ;\">Example:</span>"
   ]
  },
  {
   "cell_type": "code",
   "execution_count": 48,
   "metadata": {
    "vscode": {
     "languageId": "javascript"
    }
   },
   "outputs": [
    {
     "data": {
      "application/javascript": "\nlet myRPG = Symbol(\"Pokemon\"); //This is a symbol variable\n\nconsole.log(myRPG); //This will print Symbol(Pokemon)\n",
      "text/plain": [
       "<IPython.core.display.Javascript object>"
      ]
     },
     "metadata": {},
     "output_type": "display_data"
    }
   ],
   "source": [
    "%%js \n",
    "\n",
    "let myRPG = Symbol(\"Pokemon\"); //This is a symbol variable\n",
    "\n",
    "console.log(myRPG); //This will print Symbol(Pokemon)"
   ]
  },
  {
   "cell_type": "markdown",
   "metadata": {},
   "source": [
    "## <span style=\"color: pink; text-shadow: 2px 2px 5px pink;\">Popcorn Hack #2</span>\n",
    "\n",
    "### Open the notebook with the Hacks in it, \"2024-10-29-variables_popcorn_hax.ipynb\", and complete the second popcorn hack"
   ]
  },
  {
   "cell_type": "markdown",
   "metadata": {},
   "source": [
    "### <span style=\"color: orange; text-shadow: 2px 2px 5px orange;\">Arrays and Objects</span>\n",
    "\n",
    "**Arrays**\n",
    "\n",
    "Arrays are data structures that allow you to store multiple values in a single variable. Each value in an array is called an element, and arrays can hold values of any data type.\n",
    "\n",
    "**Objects**\n",
    "\n",
    "Objects are collections of key-value pairs, where each key (also known as a property) is associated with a value. Objects are a fundamental data type in JavaScript and are similar to dictionaries in Python. They are also referred to as **JSON Objects**.\n",
    "\n",
    "**Functions**\n",
    "\n",
    " a block of code designed to perform a particular task. Functions are fundamental building blocks in JavaScript and allow you to encapsulate code for reuse, modularity, and organization\n",
    "\n",
    "### <span style=\"color: green; text-shadow: 1px 1px 2.5px ;\">Example:</span>"
   ]
  },
  {
   "cell_type": "code",
   "execution_count": 56,
   "metadata": {
    "vscode": {
     "languageId": "javascript"
    }
   },
   "outputs": [
    {
     "data": {
      "application/javascript": "//This is an array variable\nlet characterPosition = [\"1 fish\", \"2 fish\", \"red fish\", \"blue fish\"]; //This is an array variable\n console.log(characterPosition); //This will print [\"1 fish\", \"2 fish\", \"red fish\", \"blue fish\"]\n\n //This is an object variable\n let character = \n    {name: \"Mario\", \n        age: 35, \n        height: 1.55, \n        weight: 70\n    }; //This is an object variable\n    console.log(character); //This will print {name: \"Mario\", age: 35, height: 1.55, weight: 70}\n\n    //This is a function variable\n    function request(song) {\n        return \"Now playing \" + songName + \" by \" + artistName;\n    }\n\nlet songName = \"Despacito\"; //This is a string variable\nlet artistName = \"Luis Fonsi\"; //This is a string variable\n\n    console.log(request(\"Despacito\")); //This will print \"Now playing Despacito by Luis Fonsi\"\n",
      "text/plain": [
       "<IPython.core.display.Javascript object>"
      ]
     },
     "metadata": {},
     "output_type": "display_data"
    }
   ],
   "source": [
    "%%js \n",
    "//This is an array variable\n",
    "let characterPosition = [\"1 fish\", \"2 fish\", \"red fish\", \"blue fish\"]; //This is an array variable\n",
    " console.log(characterPosition); //This will print [\"1 fish\", \"2 fish\", \"red fish\", \"blue fish\"]\n",
    "\n",
    " //This is an object variable\n",
    " let character = \n",
    "    {name: \"Mario\", \n",
    "        age: 35, \n",
    "        height: 1.55, \n",
    "        weight: 70\n",
    "    }; //This is an object variable\n",
    "    console.log(character); //This will print {name: \"Mario\", age: 35, height: 1.55, weight: 70}\n",
    "\n",
    "    //This is a function variable\n",
    "    function request(song) {\n",
    "        return \"Now playing \" + songName + \" by \" + artistName;\n",
    "    }\n",
    "\n",
    "let songName = \"She\"; //This is a string variable\n",
    "let artistName = \"Tyler the Creator and Frank Ocean\"; //This is a string variable\n",
    "\n",
    "    console.log(request(\"Despacito\")); //This will print \"Now playing Despacito by Luis Fonsi\""
   ]
  }
 ],
 "metadata": {
  "kernelspec": {
   "display_name": "venv",
   "language": "python",
   "name": "python3"
  },
  "language_info": {
   "codemirror_mode": {
    "name": "ipython",
    "version": 3
   },
   "file_extension": ".py",
   "mimetype": "text/x-python",
   "name": "python",
   "nbconvert_exporter": "python",
   "pygments_lexer": "ipython3",
   "version": "3.12.3"
  }
 },
 "nbformat": 4,
 "nbformat_minor": 4
}
