{
 "cells": [
  {
   "cell_type": "markdown",
   "metadata": {},
   "source": [
    "---\n",
    "layout: post\n",
    "title: python3 Hacks\n",
    "description: python3 Notebook 📖\n",
    "permalink: /python3/\n",
    "---"
   ]
  },
  {
   "cell_type": "code",
   "execution_count": 51,
   "metadata": {},
   "outputs": [
    {
     "name": "stdout",
     "output_type": "stream",
     "text": [
      "Some of my hobbies:\n",
      "['tennis', 'badminton', 'drawing', 'reading', 'sleeping']\n"
     ]
    }
   ],
   "source": [
    "hobbiesList = [\"tennis\", \"badminton\", \"drawing\", \"reading\", \"sleeping\"]\n",
    "print (\"Some of my hobbies:\")\n",
    "print (hobbiesList)"
   ]
  },
  {
   "cell_type": "code",
   "execution_count": 52,
   "metadata": {},
   "outputs": [
    {
     "name": "stdout",
     "output_type": "stream",
     "text": [
      "This is a list of my name, age, and favorite food: ['Zoe, 16, hot pot 🍲']\n"
     ]
    }
   ],
   "source": [
    "name = \"Zoe\"\n",
    "age = 16\n",
    "fav_food = \"hot pot 🍲\"\n",
    "\n",
    "# Create a list by concatenating strings\n",
    "my_list = [name + \", \" + str(age) + \", \" + fav_food]\n",
    "\n",
    "# Print the list\n",
    "print(\"This is a list of my name, age, and favorite food: \" + str(my_list))\n"
   ]
  },
  {
   "cell_type": "code",
   "execution_count": 53,
   "metadata": {},
   "outputs": [
    {
     "name": "stdout",
     "output_type": "stream",
     "text": [
      "{'name': 'Zoe', 'age': 16, 'fav_food': 'hot pot 🍲', 'pi': 3.14}\n",
      " \n",
      "Hi Zoe. I'm 16 years old. My favourite food is hot pot 🍲. π is equal to 3.14.\n"
     ]
    }
   ],
   "source": [
    "name = \"Zoe\"\n",
    "age = 16\n",
    "fav_food = \"hot pot 🍲\"\n",
    "pi = 3.14\n",
    "\n",
    "# Fixing the dictionary by adding a comma\n",
    "dictionary = {\n",
    "    \"name\": name,\n",
    "    \"age\": age,\n",
    "    \"fav_food\": fav_food,\n",
    "    \"pi\": pi\n",
    "}\n",
    "\n",
    "print(dictionary)\n",
    "print(\" \")\n",
    "print(\"Hi \" + name + \". I'm \" + str(age) + \" years old. My favourite food is \" + fav_food + \". π is equal to \" + str(pi) + \".\")\n"
   ]
  },
  {
   "cell_type": "code",
   "execution_count": 54,
   "metadata": {},
   "outputs": [
    {
     "name": "stdout",
     "output_type": "stream",
     "text": [
      "For 3(x + 2) - 4, substitute x for these numbers:\n",
      "x = [1, 2, 3, 4, 5]\n",
      "For x = 1, the result is: 5\n",
      "For x = 2, the result is: 8\n",
      "For x = 3, the result is: 11\n",
      "For x = 4, the result is: 14\n",
      "For x = 5, the result is: 17\n"
     ]
    }
   ],
   "source": [
    "nums = [1, 2, 3, 4, 5]\n",
    "print(\"For 3(x + 2) - 4, substitute x for these numbers:\")\n",
    "print(\"x =\", nums)\n",
    "\n",
    "for num in nums:\n",
    "    result = (3 * (num + 2)) - 4\n",
    "    print(f\"For x = {num}, the result is: {result}\")\n"
   ]
  }
 ],
 "metadata": {
  "kernelspec": {
   "display_name": "venv",
   "language": "python3",
   "name": "python33"
  },
  "language_info": {
   "codemirror_mode": {
    "name": "ipython3",
    "version": 3
   },
   "file_extension": ".py",
   "mimetype": "text/x-python3",
   "name": "python3",
   "nbconvert_exporter": "python3",
   "pygments_lexer": "ipython33",
   "version": "3.10.12"
  }
 },
 "nbformat": 4,
 "nbformat_minor": 2
}
