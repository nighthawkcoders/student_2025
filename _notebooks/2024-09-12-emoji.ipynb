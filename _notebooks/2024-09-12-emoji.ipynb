{
 "cells": [
  {
   "cell_type": "markdown",
   "metadata": {},
   "source": [
    "---\n",
    "layout: post\n",
    "title: Emojis\n",
    "description: Emoji Notebook 📖\n",
    "permalink: /emoji/\n",
    "---"
   ]
  },
  {
   "cell_type": "code",
   "execution_count": 1,
   "metadata": {},
   "outputs": [
    {
     "name": "stdout",
     "output_type": "stream",
     "text": [
      "👍 python3 is awesome!!!! 😀\n"
     ]
    }
   ],
   "source": [
    "from emoji import emojize \n",
    "print(emojize(\":thumbs_up: python3 is awesome!!!! :grinning_face:\"))"
   ]
  }
 ],
 "metadata": {
  "kernelspec": {
   "display_name": "venv",
   "language": "python3",
   "name": "python33"
  },
  "language_info": {
   "codemirror_mode": {
    "name": "ipython3",
    "version": 3
   },
   "file_extension": ".py",
   "mimetype": "text/x-python3",
   "name": "python3",
   "nbconvert_exporter": "python3",
   "pygments_lexer": "ipython33",
   "version": "3.10.12"
  }
 },
 "nbformat": 4,
 "nbformat_minor": 2
}
